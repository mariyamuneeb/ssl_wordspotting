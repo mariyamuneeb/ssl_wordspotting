{
  "cells": [
    {
      "cell_type": "code",
      "source": [
        "import warnings\n",
        "warnings.simplefilter('ignore')\n",
        "import os\n",
        "!git clone https://github.com/mariyamuneeb/ssl_wordspotting\n",
        "os.chdir('/content/ssl_wordspotting')\n",
        "!pip install -qqq wandb\n",
        "\n",
        "from setup_wandb import wandb_login\n",
        "wandb_login()"
      ],
      "metadata": {
        "colab": {
          "base_uri": "https://localhost:8080/"
        },
        "id": "Ax5lAgzX8VrQ",
        "outputId": "f5fedd91-9202-48b7-e305-5c470d1289f8"
      },
      "execution_count": 2,
      "outputs": [
        {
          "output_type": "stream",
          "name": "stdout",
          "text": [
            "Cloning into 'ssl_wordspotting'...\n",
            "remote: Enumerating objects: 366, done.\u001b[K\n",
            "remote: Counting objects: 100% (85/85), done.\u001b[K\n",
            "remote: Compressing objects: 100% (66/66), done.\u001b[K\n",
            "remote: Total 366 (delta 38), reused 53 (delta 19), pack-reused 281\u001b[K\n",
            "Receiving objects: 100% (366/366), 9.27 MiB | 23.05 MiB/s, done.\n",
            "Resolving deltas: 100% (194/194), done.\n",
            "\u001b[2K     \u001b[90m━━━━━━━━━━━━━━━━━━━━━━━━━━━━━━━━━━━━━━━━\u001b[0m \u001b[32m2.0/2.0 MB\u001b[0m \u001b[31m21.5 MB/s\u001b[0m eta \u001b[36m0:00:00\u001b[0m\n",
            "\u001b[2K     \u001b[90m━━━━━━━━━━━━━━━━━━━━━━━━━━━━━━━━━━━━━━\u001b[0m \u001b[32m184.3/184.3 kB\u001b[0m \u001b[31m17.6 MB/s\u001b[0m eta \u001b[36m0:00:00\u001b[0m\n",
            "\u001b[2K     \u001b[90m━━━━━━━━━━━━━━━━━━━━━━━━━━━━━━━━━━━━━━\u001b[0m \u001b[32m203.3/203.3 kB\u001b[0m \u001b[31m18.0 MB/s\u001b[0m eta \u001b[36m0:00:00\u001b[0m\n",
            "\u001b[?25h  Preparing metadata (setup.py) ... \u001b[?25l\u001b[?25hdone\n",
            "\u001b[2K     \u001b[90m━━━━━━━━━━━━━━━━━━━━━━━━━━━━━━━━━━━━━━━━\u001b[0m \u001b[32m62.7/62.7 kB\u001b[0m \u001b[31m6.5 MB/s\u001b[0m eta \u001b[36m0:00:00\u001b[0m\n",
            "\u001b[?25h  Building wheel for pathtools (setup.py) ... \u001b[?25l\u001b[?25hdone\n",
            "/content/ssl_wordspotting\n",
            "Mounted at /content/drive\n",
            "Drive already mounted at /content/drive; to attempt to forcibly remount, call drive.mount(\"/content/drive\", force_remount=True).\n"
          ]
        },
        {
          "output_type": "stream",
          "name": "stderr",
          "text": [
            "\u001b[34m\u001b[1mwandb\u001b[0m: W&B API key is configured. Use \u001b[1m`wandb login --relogin`\u001b[0m to force relogin\n",
            "\u001b[34m\u001b[1mwandb\u001b[0m: \u001b[33mWARNING\u001b[0m If you're specifying your api key in code, ensure this code is not shared publicly.\n",
            "\u001b[34m\u001b[1mwandb\u001b[0m: \u001b[33mWARNING\u001b[0m Consider setting the WANDB_API_KEY environment variable, or running `wandb login` from the command line.\n",
            "\u001b[34m\u001b[1mwandb\u001b[0m: Appending key for api.wandb.ai to your netrc file: /root/.netrc\n"
          ]
        }
      ]
    },
    {
      "cell_type": "code",
      "source": [
        "from data_utils.utils import copy_iam_dataset_to_colab\n",
        "copy_iam_dataset_to_colab()"
      ],
      "metadata": {
        "colab": {
          "base_uri": "https://localhost:8080/"
        },
        "id": "jTXKgqgsBT7O",
        "outputId": "b278a950-f3f2-4e56-a367-e0cb3dd11be2"
      },
      "execution_count": 3,
      "outputs": [
        {
          "output_type": "stream",
          "name": "stdout",
          "text": [
            "Copying IAM Dataset from GDrive\n",
            "Drive already mounted at /content/drive; to attempt to forcibly remount, call drive.mount(\"/content/drive\", force_remount=True).\n",
            "/content/ssl_wordspotting/data/IAM_HW/words.tgz now copied\n",
            "/content/ssl_wordspotting/data/IAM_HW/xml.tgz now copied\n",
            "/content/ssl_wordspotting/data/IAM_HW/rules.zip now copied\n",
            "Copied IAM HW Files\n"
          ]
        }
      ]
    },
    {
      "cell_type": "code",
      "execution_count": 4,
      "metadata": {
        "colab": {
          "base_uri": "https://localhost:8080/",
          "height": 86
        },
        "id": "C20nZuTc55OE",
        "outputId": "d9aadb3f-f59a-4a4d-8441-b7035f58e7bc"
      },
      "outputs": [
        {
          "output_type": "stream",
          "name": "stderr",
          "text": [
            "INFO:lightning_fabric.utilities.seed:Global seed set to 42\n"
          ]
        },
        {
          "output_type": "stream",
          "name": "stdout",
          "text": [
            "Device: cpu\n",
            "Number of workers: 2\n"
          ]
        },
        {
          "output_type": "display_data",
          "data": {
            "text/plain": [
              "<Figure size 640x480 with 0 Axes>"
            ]
          },
          "metadata": {}
        }
      ],
      "source": [
        "## Standard libraries\n",
        "import os\n",
        "from copy import deepcopy\n",
        "\n",
        "## Imports for plotting\n",
        "import matplotlib.pyplot as plt\n",
        "plt.set_cmap('cividis')\n",
        "%matplotlib inline\n",
        "from IPython.display import set_matplotlib_formats\n",
        "set_matplotlib_formats('svg', 'pdf') # For export\n",
        "import matplotlib\n",
        "matplotlib.rcParams['lines.linewidth'] = 2.0\n",
        "import seaborn as sns\n",
        "sns.set()\n",
        "\n",
        "## tqdm for loading bars\n",
        "from tqdm.notebook import tqdm\n",
        "\n",
        "## PyTorch\n",
        "import torch\n",
        "import torch.nn as nn\n",
        "import torch.nn.functional as F\n",
        "import torch.utils.data as data\n",
        "import torch.optim as optim\n",
        "\n",
        "## Torchvision\n",
        "import torchvision\n",
        "from torchvision.datasets import STL10\n",
        "from torchvision import transforms\n",
        "\n",
        "# PyTorch Lightning\n",
        "try:\n",
        "    import pytorch_lightning as pl\n",
        "except ModuleNotFoundError: # Google Colab does not have PyTorch Lightning installed by default. Hence, we do it here if necessary\n",
        "    !pip install --quiet pytorch-lightning>=1.4\n",
        "    import pytorch_lightning as pl\n",
        "from pytorch_lightning.callbacks import LearningRateMonitor, ModelCheckpoint\n",
        "\n",
        "# Import tensorboard\n",
        "%load_ext tensorboard\n",
        "\n",
        "# Path to the folder where the datasets are/should be downloaded (e.g. CIFAR10)\n",
        "DATASET_PATH = \"../data\"\n",
        "# Path to the folder where the pretrained models are saved\n",
        "CHECKPOINT_PATH = \"../saved_models/tutorial17\"\n",
        "# In this notebook, we use data loaders with heavier computational processing. It is recommended to use as many\n",
        "# workers as possible in a data loader, which corresponds to the number of CPU cores\n",
        "NUM_WORKERS = os.cpu_count()\n",
        "\n",
        "# Setting the seed\n",
        "pl.seed_everything(42)\n",
        "\n",
        "# Ensure that all operations are deterministic on GPU (if used) for reproducibility\n",
        "torch.backends.cudnn.deterministic = True\n",
        "torch.backends.cudnn.benchmark = False\n",
        "\n",
        "device = torch.device(\"cuda:0\") if torch.cuda.is_available() else torch.device(\"cpu\")\n",
        "print(\"Device:\", device)\n",
        "print(\"Number of workers:\", NUM_WORKERS)"
      ]
    },
    {
      "cell_type": "code",
      "source": [],
      "metadata": {
        "id": "axZVKcFg8U2Y"
      },
      "execution_count": null,
      "outputs": []
    },
    {
      "cell_type": "markdown",
      "metadata": {
        "id": "p-0UOTza55OJ"
      },
      "source": [
        "## Loading Pretrained Resnet 18 Model"
      ]
    },
    {
      "cell_type": "code",
      "execution_count": 5,
      "metadata": {
        "colab": {
          "base_uri": "https://localhost:8080/"
        },
        "id": "uSClUcJL55OK",
        "outputId": "57588fd4-8345-4117-dc0d-e153083b5b82"
      },
      "outputs": [
        {
          "output_type": "stream",
          "name": "stdout",
          "text": [
            "Downloading https://raw.githubusercontent.com/phlippe/saved_models/main/tutorial17/SimCLR.ckpt...\n",
            "Downloading https://raw.githubusercontent.com/phlippe/saved_models/main/tutorial17/ResNet.ckpt...\n",
            "Downloading https://raw.githubusercontent.com/phlippe/saved_models/main/tutorial17/tensorboards/SimCLR/events.out.tfevents.SimCLR...\n",
            "Downloading https://raw.githubusercontent.com/phlippe/saved_models/main/tutorial17/tensorboards/classification/ResNet/events.out.tfevents.ResNet...\n",
            "Downloading https://raw.githubusercontent.com/phlippe/saved_models/main/tutorial17/LogisticRegression_10.ckpt...\n",
            "Downloading https://raw.githubusercontent.com/phlippe/saved_models/main/tutorial17/LogisticRegression_20.ckpt...\n",
            "Downloading https://raw.githubusercontent.com/phlippe/saved_models/main/tutorial17/LogisticRegression_50.ckpt...\n",
            "Downloading https://raw.githubusercontent.com/phlippe/saved_models/main/tutorial17/LogisticRegression_100.ckpt...\n",
            "Downloading https://raw.githubusercontent.com/phlippe/saved_models/main/tutorial17/LogisticRegression_200.ckpt...\n",
            "Downloading https://raw.githubusercontent.com/phlippe/saved_models/main/tutorial17/LogisticRegression_500.ckpt...\n"
          ]
        }
      ],
      "source": [
        "import urllib.request\n",
        "from urllib.error import HTTPError\n",
        "# Github URL where saved models are stored for this tutorial\n",
        "base_url = \"https://raw.githubusercontent.com/phlippe/saved_models/main/tutorial17/\"\n",
        "# Files to download\n",
        "pretrained_files = [\"SimCLR.ckpt\", \"ResNet.ckpt\",\n",
        "                    \"tensorboards/SimCLR/events.out.tfevents.SimCLR\",\n",
        "                    \"tensorboards/classification/ResNet/events.out.tfevents.ResNet\"]\n",
        "pretrained_files += [f\"LogisticRegression_{size}.ckpt\" for size in [10, 20, 50, 100, 200, 500]]\n",
        "# Create checkpoint path if it doesn't exist yet\n",
        "os.makedirs(CHECKPOINT_PATH, exist_ok=True)\n",
        "\n",
        "# For each file, check whether it already exists. If not, try downloading it.\n",
        "for file_name in pretrained_files:\n",
        "    file_path = os.path.join(CHECKPOINT_PATH, file_name)\n",
        "    if \"/\" in file_name:\n",
        "        os.makedirs(file_path.rsplit(\"/\",1)[0], exist_ok=True)\n",
        "    if not os.path.isfile(file_path):\n",
        "        file_url = base_url + file_name\n",
        "        print(f\"Downloading {file_url}...\")\n",
        "        try:\n",
        "            urllib.request.urlretrieve(file_url, file_path)\n",
        "        except HTTPError as e:\n",
        "            print(\"Something went wrong. Please try to download the file from the GDrive folder, or contact the author with the full output including the following error:\\n\", e)"
      ]
    },
    {
      "cell_type": "markdown",
      "metadata": {
        "id": "UPO1o6Za55OM"
      },
      "source": [
        "## SimCLR"
      ]
    },
    {
      "cell_type": "markdown",
      "metadata": {
        "id": "01-QUPOr55OM"
      },
      "source": [
        "### Loading Dataset & Data Augmentation for Contrastive Learning\n"
      ]
    },
    {
      "cell_type": "code",
      "execution_count": 6,
      "metadata": {
        "id": "lrnlNY_a55OO"
      },
      "outputs": [],
      "source": [
        "class ContrastiveTransformations(object):\n",
        "    \n",
        "    def __init__(self, base_transforms, n_views=2):\n",
        "        self.base_transforms = base_transforms\n",
        "        self.n_views = n_views\n",
        "        \n",
        "    def __call__(self, x):\n",
        "        return [self.base_transforms(x) for i in range(self.n_views)]"
      ]
    },
    {
      "cell_type": "code",
      "execution_count": 7,
      "metadata": {
        "id": "WJGQmChC55OS"
      },
      "outputs": [],
      "source": [
        "resize_size = (128,128)\n",
        "contrast_transforms = transforms.Compose([                                        \n",
        "                                          transforms.RandomHorizontalFlip(),\n",
        "                                          transforms.RandomResizedCrop(size=resize_size),\n",
        "                                          transforms.RandomApply([\n",
        "                                              transforms.ColorJitter(brightness=0.5, \n",
        "                                                                     contrast=0.5, \n",
        "                                                                     saturation=0.5, \n",
        "                                                                     hue=0.1)\n",
        "                                          ], p=0.8),\n",
        "                                          transforms.RandomGrayscale(p=0.2),\n",
        "                                          transforms.GaussianBlur(kernel_size=9),\n",
        "                                          transforms.ToTensor(),\n",
        "                                          transforms.Normalize((0.5,), (0.5,))\n",
        "                                         ])\n",
        "\n",
        "\n",
        "test_transform = transforms.Compose([transforms.ToTensor(),\n",
        "                                     transforms.Resize(resize_size),])"
      ]
    },
    {
      "cell_type": "code",
      "execution_count": 6,
      "metadata": {
        "colab": {
          "base_uri": "https://localhost:8080/"
        },
        "id": "q8u3af4M55OW",
        "outputId": "60ffefb5-ce71-4d4a-8a72-47b33383b75f"
      },
      "outputs": [
        {
          "output_type": "stream",
          "name": "stdout",
          "text": [
            "Downloading http://ai.stanford.edu/~acoates/stl10/stl10_binary.tar.gz to ../data/stl10_binary.tar.gz\n"
          ]
        },
        {
          "output_type": "stream",
          "name": "stderr",
          "text": [
            "100%|██████████| 2640397119/2640397119 [01:15<00:00, 34880026.19it/s]\n"
          ]
        },
        {
          "output_type": "stream",
          "name": "stdout",
          "text": [
            "Extracting ../data/stl10_binary.tar.gz to ../data\n",
            "Files already downloaded and verified\n"
          ]
        }
      ],
      "source": [
        "unlabeled_data = STL10(root=DATASET_PATH, split='unlabeled', download=True, \n",
        "                       transform=ContrastiveTransformations(contrast_transforms, n_views=2))\n",
        "train_data_contrast = STL10(root=DATASET_PATH, split='train', download=True, \n",
        "                            transform=ContrastiveTransformations(contrast_transforms, n_views=2))"
      ]
    },
    {
      "cell_type": "code",
      "source": [
        "from models.dataset import IAMDataset2,IAMDataset,IAMSubset\n",
        "from models.layers import VariationalEncoder,Decoder\n",
        "from experiment_utils.utils import train_epoch,test_epoch\n",
        "from PIL import Image\n",
        "from math import floor\n",
        "from statistics import mean"
      ],
      "metadata": {
        "id": "P1hWW9959n3l"
      },
      "execution_count": 8,
      "outputs": []
    },
    {
      "cell_type": "code",
      "source": [],
      "metadata": {
        "id": "PzG26shs9JX5"
      },
      "execution_count": 31,
      "outputs": []
    },
    {
      "cell_type": "markdown",
      "source": [],
      "metadata": {
        "id": "5rqbtVJyvRAA"
      }
    },
    {
      "cell_type": "code",
      "source": [
        "iam_train_dataset = IAMDataset2('train',transform=contrast_transforms)\n",
        "iam_test_dataset = IAMDataset2('test',transform=test_transform)"
      ],
      "metadata": {
        "id": "Mhmibu3d9ynZ"
      },
      "execution_count": 9,
      "outputs": []
    },
    {
      "cell_type": "code",
      "source": [
        "subset_iam_train_dataset = IAMSubset().subset(iam_train_dataset,0.2)\n",
        "subset_iam_test_dataset = IAMSubset().subset(iam_test_dataset,0.2)"
      ],
      "metadata": {
        "id": "wRAy2gm_9rSM"
      },
      "execution_count": 10,
      "outputs": []
    },
    {
      "cell_type": "code",
      "source": [],
      "metadata": {
        "id": "uJuo8ooUv-A3"
      },
      "execution_count": null,
      "outputs": []
    },
    {
      "cell_type": "code",
      "execution_count": 11,
      "metadata": {
        "colab": {
          "base_uri": "https://localhost:8080/",
          "height": 840
        },
        "id": "he3ZK9iz55OY",
        "outputId": "3d52f9c2-71a7-478f-c44a-17bac0d814d5"
      },
      "outputs": [
        {
          "output_type": "stream",
          "name": "stderr",
          "text": [
            "INFO:lightning_fabric.utilities.seed:Global seed set to 42\n"
          ]
        },
        {
          "output_type": "error",
          "ename": "TypeError",
          "evalue": "ignored",
          "traceback": [
            "\u001b[0;31m---------------------------------------------------------------------------\u001b[0m",
            "\u001b[0;31mTypeError\u001b[0m                                 Traceback (most recent call last)",
            "\u001b[0;32m<ipython-input-11-418ef6936256>\u001b[0m in \u001b[0;36m<cell line: 10>\u001b[0;34m()\u001b[0m\n\u001b[1;32m      8\u001b[0m \u001b[0mplt\u001b[0m\u001b[0;34m.\u001b[0m\u001b[0mfigure\u001b[0m\u001b[0;34m(\u001b[0m\u001b[0mfigsize\u001b[0m\u001b[0;34m=\u001b[0m\u001b[0;34m(\u001b[0m\u001b[0;36m10\u001b[0m\u001b[0;34m,\u001b[0m\u001b[0;36m5\u001b[0m\u001b[0;34m)\u001b[0m\u001b[0;34m)\u001b[0m\u001b[0;34m\u001b[0m\u001b[0;34m\u001b[0m\u001b[0m\n\u001b[1;32m      9\u001b[0m \u001b[0mplt\u001b[0m\u001b[0;34m.\u001b[0m\u001b[0mtitle\u001b[0m\u001b[0;34m(\u001b[0m\u001b[0;34m'Augmented image examples of the IAM HW dataset'\u001b[0m\u001b[0;34m)\u001b[0m\u001b[0;34m\u001b[0m\u001b[0;34m\u001b[0m\u001b[0m\n\u001b[0;32m---> 10\u001b[0;31m \u001b[0mplt\u001b[0m\u001b[0;34m.\u001b[0m\u001b[0mimshow\u001b[0m\u001b[0;34m(\u001b[0m\u001b[0mimg_grid\u001b[0m\u001b[0;34m)\u001b[0m\u001b[0;34m\u001b[0m\u001b[0;34m\u001b[0m\u001b[0m\n\u001b[0m\u001b[1;32m     11\u001b[0m \u001b[0mplt\u001b[0m\u001b[0;34m.\u001b[0m\u001b[0maxis\u001b[0m\u001b[0;34m(\u001b[0m\u001b[0;34m'off'\u001b[0m\u001b[0;34m)\u001b[0m\u001b[0;34m\u001b[0m\u001b[0;34m\u001b[0m\u001b[0m\n\u001b[1;32m     12\u001b[0m \u001b[0mplt\u001b[0m\u001b[0;34m.\u001b[0m\u001b[0mshow\u001b[0m\u001b[0;34m(\u001b[0m\u001b[0;34m)\u001b[0m\u001b[0;34m\u001b[0m\u001b[0;34m\u001b[0m\u001b[0m\n",
            "\u001b[0;32m/usr/local/lib/python3.10/dist-packages/matplotlib/pyplot.py\u001b[0m in \u001b[0;36mimshow\u001b[0;34m(X, cmap, norm, aspect, interpolation, alpha, vmin, vmax, origin, extent, interpolation_stage, filternorm, filterrad, resample, url, data, **kwargs)\u001b[0m\n\u001b[1;32m   2693\u001b[0m         \u001b[0minterpolation_stage\u001b[0m\u001b[0;34m=\u001b[0m\u001b[0;32mNone\u001b[0m\u001b[0;34m,\u001b[0m \u001b[0mfilternorm\u001b[0m\u001b[0;34m=\u001b[0m\u001b[0;32mTrue\u001b[0m\u001b[0;34m,\u001b[0m \u001b[0mfilterrad\u001b[0m\u001b[0;34m=\u001b[0m\u001b[0;36m4.0\u001b[0m\u001b[0;34m,\u001b[0m\u001b[0;34m\u001b[0m\u001b[0;34m\u001b[0m\u001b[0m\n\u001b[1;32m   2694\u001b[0m         resample=None, url=None, data=None, **kwargs):\n\u001b[0;32m-> 2695\u001b[0;31m     __ret = gca().imshow(\n\u001b[0m\u001b[1;32m   2696\u001b[0m         \u001b[0mX\u001b[0m\u001b[0;34m,\u001b[0m \u001b[0mcmap\u001b[0m\u001b[0;34m=\u001b[0m\u001b[0mcmap\u001b[0m\u001b[0;34m,\u001b[0m \u001b[0mnorm\u001b[0m\u001b[0;34m=\u001b[0m\u001b[0mnorm\u001b[0m\u001b[0;34m,\u001b[0m \u001b[0maspect\u001b[0m\u001b[0;34m=\u001b[0m\u001b[0maspect\u001b[0m\u001b[0;34m,\u001b[0m\u001b[0;34m\u001b[0m\u001b[0;34m\u001b[0m\u001b[0m\n\u001b[1;32m   2697\u001b[0m         \u001b[0minterpolation\u001b[0m\u001b[0;34m=\u001b[0m\u001b[0minterpolation\u001b[0m\u001b[0;34m,\u001b[0m \u001b[0malpha\u001b[0m\u001b[0;34m=\u001b[0m\u001b[0malpha\u001b[0m\u001b[0;34m,\u001b[0m \u001b[0mvmin\u001b[0m\u001b[0;34m=\u001b[0m\u001b[0mvmin\u001b[0m\u001b[0;34m,\u001b[0m\u001b[0;34m\u001b[0m\u001b[0;34m\u001b[0m\u001b[0m\n",
            "\u001b[0;32m/usr/local/lib/python3.10/dist-packages/matplotlib/__init__.py\u001b[0m in \u001b[0;36minner\u001b[0;34m(ax, data, *args, **kwargs)\u001b[0m\n\u001b[1;32m   1440\u001b[0m     \u001b[0;32mdef\u001b[0m \u001b[0minner\u001b[0m\u001b[0;34m(\u001b[0m\u001b[0max\u001b[0m\u001b[0;34m,\u001b[0m \u001b[0;34m*\u001b[0m\u001b[0margs\u001b[0m\u001b[0;34m,\u001b[0m \u001b[0mdata\u001b[0m\u001b[0;34m=\u001b[0m\u001b[0;32mNone\u001b[0m\u001b[0;34m,\u001b[0m \u001b[0;34m**\u001b[0m\u001b[0mkwargs\u001b[0m\u001b[0;34m)\u001b[0m\u001b[0;34m:\u001b[0m\u001b[0;34m\u001b[0m\u001b[0;34m\u001b[0m\u001b[0m\n\u001b[1;32m   1441\u001b[0m         \u001b[0;32mif\u001b[0m \u001b[0mdata\u001b[0m \u001b[0;32mis\u001b[0m \u001b[0;32mNone\u001b[0m\u001b[0;34m:\u001b[0m\u001b[0;34m\u001b[0m\u001b[0;34m\u001b[0m\u001b[0m\n\u001b[0;32m-> 1442\u001b[0;31m             \u001b[0;32mreturn\u001b[0m \u001b[0mfunc\u001b[0m\u001b[0;34m(\u001b[0m\u001b[0max\u001b[0m\u001b[0;34m,\u001b[0m \u001b[0;34m*\u001b[0m\u001b[0mmap\u001b[0m\u001b[0;34m(\u001b[0m\u001b[0msanitize_sequence\u001b[0m\u001b[0;34m,\u001b[0m \u001b[0margs\u001b[0m\u001b[0;34m)\u001b[0m\u001b[0;34m,\u001b[0m \u001b[0;34m**\u001b[0m\u001b[0mkwargs\u001b[0m\u001b[0;34m)\u001b[0m\u001b[0;34m\u001b[0m\u001b[0;34m\u001b[0m\u001b[0m\n\u001b[0m\u001b[1;32m   1443\u001b[0m \u001b[0;34m\u001b[0m\u001b[0m\n\u001b[1;32m   1444\u001b[0m         \u001b[0mbound\u001b[0m \u001b[0;34m=\u001b[0m \u001b[0mnew_sig\u001b[0m\u001b[0;34m.\u001b[0m\u001b[0mbind\u001b[0m\u001b[0;34m(\u001b[0m\u001b[0max\u001b[0m\u001b[0;34m,\u001b[0m \u001b[0;34m*\u001b[0m\u001b[0margs\u001b[0m\u001b[0;34m,\u001b[0m \u001b[0;34m**\u001b[0m\u001b[0mkwargs\u001b[0m\u001b[0;34m)\u001b[0m\u001b[0;34m\u001b[0m\u001b[0;34m\u001b[0m\u001b[0m\n",
            "\u001b[0;32m/usr/local/lib/python3.10/dist-packages/matplotlib/axes/_axes.py\u001b[0m in \u001b[0;36mimshow\u001b[0;34m(self, X, cmap, norm, aspect, interpolation, alpha, vmin, vmax, origin, extent, interpolation_stage, filternorm, filterrad, resample, url, **kwargs)\u001b[0m\n\u001b[1;32m   5663\u001b[0m                               **kwargs)\n\u001b[1;32m   5664\u001b[0m \u001b[0;34m\u001b[0m\u001b[0m\n\u001b[0;32m-> 5665\u001b[0;31m         \u001b[0mim\u001b[0m\u001b[0;34m.\u001b[0m\u001b[0mset_data\u001b[0m\u001b[0;34m(\u001b[0m\u001b[0mX\u001b[0m\u001b[0;34m)\u001b[0m\u001b[0;34m\u001b[0m\u001b[0;34m\u001b[0m\u001b[0m\n\u001b[0m\u001b[1;32m   5666\u001b[0m         \u001b[0mim\u001b[0m\u001b[0;34m.\u001b[0m\u001b[0mset_alpha\u001b[0m\u001b[0;34m(\u001b[0m\u001b[0malpha\u001b[0m\u001b[0;34m)\u001b[0m\u001b[0;34m\u001b[0m\u001b[0;34m\u001b[0m\u001b[0m\n\u001b[1;32m   5667\u001b[0m         \u001b[0;32mif\u001b[0m \u001b[0mim\u001b[0m\u001b[0;34m.\u001b[0m\u001b[0mget_clip_path\u001b[0m\u001b[0;34m(\u001b[0m\u001b[0;34m)\u001b[0m \u001b[0;32mis\u001b[0m \u001b[0;32mNone\u001b[0m\u001b[0;34m:\u001b[0m\u001b[0;34m\u001b[0m\u001b[0;34m\u001b[0m\u001b[0m\n",
            "\u001b[0;32m/usr/local/lib/python3.10/dist-packages/matplotlib/image.py\u001b[0m in \u001b[0;36mset_data\u001b[0;34m(self, A)\u001b[0m\n\u001b[1;32m    708\u001b[0m         if not (self._A.ndim == 2\n\u001b[1;32m    709\u001b[0m                 or self._A.ndim == 3 and self._A.shape[-1] in [3, 4]):\n\u001b[0;32m--> 710\u001b[0;31m             raise TypeError(\"Invalid shape {} for image data\"\n\u001b[0m\u001b[1;32m    711\u001b[0m                             .format(self._A.shape))\n\u001b[1;32m    712\u001b[0m \u001b[0;34m\u001b[0m\u001b[0m\n",
            "\u001b[0;31mTypeError\u001b[0m: Invalid shape (128, 128, 6) for image data"
          ]
        },
        {
          "output_type": "display_data",
          "data": {
            "text/plain": [
              "<Figure size 1000x500 with 1 Axes>"
            ],
            "image/svg+xml": "<?xml version=\"1.0\" encoding=\"utf-8\" standalone=\"no\"?>\n<!DOCTYPE svg PUBLIC \"-//W3C//DTD SVG 1.1//EN\"\n  \"http://www.w3.org/Graphics/SVG/1.1/DTD/svg11.dtd\">\n<svg xmlns:xlink=\"http://www.w3.org/1999/xlink\" width=\"335.701875pt\" height=\"326.864063pt\" viewBox=\"0 0 335.701875 326.864063\" xmlns=\"http://www.w3.org/2000/svg\" version=\"1.1\">\n <metadata>\n  <rdf:RDF xmlns:dc=\"http://purl.org/dc/elements/1.1/\" xmlns:cc=\"http://creativecommons.org/ns#\" xmlns:rdf=\"http://www.w3.org/1999/02/22-rdf-syntax-ns#\">\n   <cc:Work>\n    <dc:type rdf:resource=\"http://purl.org/dc/dcmitype/StillImage\"/>\n    <dc:date>2023-05-10T03:40:28.658386</dc:date>\n    <dc:format>image/svg+xml</dc:format>\n    <dc:creator>\n     <cc:Agent>\n      <dc:title>Matplotlib v3.7.1, https://matplotlib.org/</dc:title>\n     </cc:Agent>\n    </dc:creator>\n   </cc:Work>\n  </rdf:RDF>\n </metadata>\n <defs>\n  <style type=\"text/css\">*{stroke-linejoin: round; stroke-linecap: butt}</style>\n </defs>\n <g id=\"figure_1\">\n  <g id=\"patch_1\">\n   <path d=\"M 0 326.864063 \nL 335.701875 326.864063 \nL 335.701875 0 \nL 0 0 \nz\n\" style=\"fill: #ffffff\"/>\n  </g>\n  <g id=\"axes_1\">\n   <g id=\"patch_2\">\n    <path d=\"M 34.193438 299.518125 \nL 311.393438 299.518125 \nL 311.393438 22.318125 \nL 34.193438 22.318125 \nz\n\" style=\"fill: #eaeaf2\"/>\n   </g>\n   <g id=\"matplotlib.axis_1\">\n    <g id=\"xtick_1\">\n     <g id=\"line2d_1\">\n      <path d=\"M 34.193438 299.518125 \nL 34.193438 22.318125 \n\" clip-path=\"url(#p3340e11ce5)\" style=\"fill: none; stroke: #ffffff; stroke-linecap: round\"/>\n     </g>\n     <g id=\"text_1\">\n      <!-- 0.0 -->\n      <g style=\"fill: #262626\" transform=\"translate(25.446719 317.376406) scale(0.11 -0.11)\">\n       <defs>\n        <path id=\"DejaVuSans-30\" d=\"M 2034 4250 \nQ 1547 4250 1301 3770 \nQ 1056 3291 1056 2328 \nQ 1056 1369 1301 889 \nQ 1547 409 2034 409 \nQ 2525 409 2770 889 \nQ 3016 1369 3016 2328 \nQ 3016 3291 2770 3770 \nQ 2525 4250 2034 4250 \nz\nM 2034 4750 \nQ 2819 4750 3233 4129 \nQ 3647 3509 3647 2328 \nQ 3647 1150 3233 529 \nQ 2819 -91 2034 -91 \nQ 1250 -91 836 529 \nQ 422 1150 422 2328 \nQ 422 3509 836 4129 \nQ 1250 4750 2034 4750 \nz\n\" transform=\"scale(0.015625)\"/>\n        <path id=\"DejaVuSans-2e\" d=\"M 684 794 \nL 1344 794 \nL 1344 0 \nL 684 0 \nL 684 794 \nz\n\" transform=\"scale(0.015625)\"/>\n       </defs>\n       <use xlink:href=\"#DejaVuSans-30\"/>\n       <use xlink:href=\"#DejaVuSans-2e\" x=\"63.623047\"/>\n       <use xlink:href=\"#DejaVuSans-30\" x=\"95.410156\"/>\n      </g>\n     </g>\n    </g>\n    <g id=\"xtick_2\">\n     <g id=\"line2d_2\">\n      <path d=\"M 89.633438 299.518125 \nL 89.633438 22.318125 \n\" clip-path=\"url(#p3340e11ce5)\" style=\"fill: none; stroke: #ffffff; stroke-linecap: round\"/>\n     </g>\n     <g id=\"text_2\">\n      <!-- 0.2 -->\n      <g style=\"fill: #262626\" transform=\"translate(80.886719 317.376406) scale(0.11 -0.11)\">\n       <defs>\n        <path id=\"DejaVuSans-32\" d=\"M 1228 531 \nL 3431 531 \nL 3431 0 \nL 469 0 \nL 469 531 \nQ 828 903 1448 1529 \nQ 2069 2156 2228 2338 \nQ 2531 2678 2651 2914 \nQ 2772 3150 2772 3378 \nQ 2772 3750 2511 3984 \nQ 2250 4219 1831 4219 \nQ 1534 4219 1204 4116 \nQ 875 4013 500 3803 \nL 500 4441 \nQ 881 4594 1212 4672 \nQ 1544 4750 1819 4750 \nQ 2544 4750 2975 4387 \nQ 3406 4025 3406 3419 \nQ 3406 3131 3298 2873 \nQ 3191 2616 2906 2266 \nQ 2828 2175 2409 1742 \nQ 1991 1309 1228 531 \nz\n\" transform=\"scale(0.015625)\"/>\n       </defs>\n       <use xlink:href=\"#DejaVuSans-30\"/>\n       <use xlink:href=\"#DejaVuSans-2e\" x=\"63.623047\"/>\n       <use xlink:href=\"#DejaVuSans-32\" x=\"95.410156\"/>\n      </g>\n     </g>\n    </g>\n    <g id=\"xtick_3\">\n     <g id=\"line2d_3\">\n      <path d=\"M 145.073438 299.518125 \nL 145.073438 22.318125 \n\" clip-path=\"url(#p3340e11ce5)\" style=\"fill: none; stroke: #ffffff; stroke-linecap: round\"/>\n     </g>\n     <g id=\"text_3\">\n      <!-- 0.4 -->\n      <g style=\"fill: #262626\" transform=\"translate(136.326719 317.376406) scale(0.11 -0.11)\">\n       <defs>\n        <path id=\"DejaVuSans-34\" d=\"M 2419 4116 \nL 825 1625 \nL 2419 1625 \nL 2419 4116 \nz\nM 2253 4666 \nL 3047 4666 \nL 3047 1625 \nL 3713 1625 \nL 3713 1100 \nL 3047 1100 \nL 3047 0 \nL 2419 0 \nL 2419 1100 \nL 313 1100 \nL 313 1709 \nL 2253 4666 \nz\n\" transform=\"scale(0.015625)\"/>\n       </defs>\n       <use xlink:href=\"#DejaVuSans-30\"/>\n       <use xlink:href=\"#DejaVuSans-2e\" x=\"63.623047\"/>\n       <use xlink:href=\"#DejaVuSans-34\" x=\"95.410156\"/>\n      </g>\n     </g>\n    </g>\n    <g id=\"xtick_4\">\n     <g id=\"line2d_4\">\n      <path d=\"M 200.513438 299.518125 \nL 200.513438 22.318125 \n\" clip-path=\"url(#p3340e11ce5)\" style=\"fill: none; stroke: #ffffff; stroke-linecap: round\"/>\n     </g>\n     <g id=\"text_4\">\n      <!-- 0.6 -->\n      <g style=\"fill: #262626\" transform=\"translate(191.766719 317.376406) scale(0.11 -0.11)\">\n       <defs>\n        <path id=\"DejaVuSans-36\" d=\"M 2113 2584 \nQ 1688 2584 1439 2293 \nQ 1191 2003 1191 1497 \nQ 1191 994 1439 701 \nQ 1688 409 2113 409 \nQ 2538 409 2786 701 \nQ 3034 994 3034 1497 \nQ 3034 2003 2786 2293 \nQ 2538 2584 2113 2584 \nz\nM 3366 4563 \nL 3366 3988 \nQ 3128 4100 2886 4159 \nQ 2644 4219 2406 4219 \nQ 1781 4219 1451 3797 \nQ 1122 3375 1075 2522 \nQ 1259 2794 1537 2939 \nQ 1816 3084 2150 3084 \nQ 2853 3084 3261 2657 \nQ 3669 2231 3669 1497 \nQ 3669 778 3244 343 \nQ 2819 -91 2113 -91 \nQ 1303 -91 875 529 \nQ 447 1150 447 2328 \nQ 447 3434 972 4092 \nQ 1497 4750 2381 4750 \nQ 2619 4750 2861 4703 \nQ 3103 4656 3366 4563 \nz\n\" transform=\"scale(0.015625)\"/>\n       </defs>\n       <use xlink:href=\"#DejaVuSans-30\"/>\n       <use xlink:href=\"#DejaVuSans-2e\" x=\"63.623047\"/>\n       <use xlink:href=\"#DejaVuSans-36\" x=\"95.410156\"/>\n      </g>\n     </g>\n    </g>\n    <g id=\"xtick_5\">\n     <g id=\"line2d_5\">\n      <path d=\"M 255.953438 299.518125 \nL 255.953438 22.318125 \n\" clip-path=\"url(#p3340e11ce5)\" style=\"fill: none; stroke: #ffffff; stroke-linecap: round\"/>\n     </g>\n     <g id=\"text_5\">\n      <!-- 0.8 -->\n      <g style=\"fill: #262626\" transform=\"translate(247.206719 317.376406) scale(0.11 -0.11)\">\n       <defs>\n        <path id=\"DejaVuSans-38\" d=\"M 2034 2216 \nQ 1584 2216 1326 1975 \nQ 1069 1734 1069 1313 \nQ 1069 891 1326 650 \nQ 1584 409 2034 409 \nQ 2484 409 2743 651 \nQ 3003 894 3003 1313 \nQ 3003 1734 2745 1975 \nQ 2488 2216 2034 2216 \nz\nM 1403 2484 \nQ 997 2584 770 2862 \nQ 544 3141 544 3541 \nQ 544 4100 942 4425 \nQ 1341 4750 2034 4750 \nQ 2731 4750 3128 4425 \nQ 3525 4100 3525 3541 \nQ 3525 3141 3298 2862 \nQ 3072 2584 2669 2484 \nQ 3125 2378 3379 2068 \nQ 3634 1759 3634 1313 \nQ 3634 634 3220 271 \nQ 2806 -91 2034 -91 \nQ 1263 -91 848 271 \nQ 434 634 434 1313 \nQ 434 1759 690 2068 \nQ 947 2378 1403 2484 \nz\nM 1172 3481 \nQ 1172 3119 1398 2916 \nQ 1625 2713 2034 2713 \nQ 2441 2713 2670 2916 \nQ 2900 3119 2900 3481 \nQ 2900 3844 2670 4047 \nQ 2441 4250 2034 4250 \nQ 1625 4250 1398 4047 \nQ 1172 3844 1172 3481 \nz\n\" transform=\"scale(0.015625)\"/>\n       </defs>\n       <use xlink:href=\"#DejaVuSans-30\"/>\n       <use xlink:href=\"#DejaVuSans-2e\" x=\"63.623047\"/>\n       <use xlink:href=\"#DejaVuSans-38\" x=\"95.410156\"/>\n      </g>\n     </g>\n    </g>\n    <g id=\"xtick_6\">\n     <g id=\"line2d_6\">\n      <path d=\"M 311.393438 299.518125 \nL 311.393438 22.318125 \n\" clip-path=\"url(#p3340e11ce5)\" style=\"fill: none; stroke: #ffffff; stroke-linecap: round\"/>\n     </g>\n     <g id=\"text_6\">\n      <!-- 1.0 -->\n      <g style=\"fill: #262626\" transform=\"translate(302.646719 317.376406) scale(0.11 -0.11)\">\n       <defs>\n        <path id=\"DejaVuSans-31\" d=\"M 794 531 \nL 1825 531 \nL 1825 4091 \nL 703 3866 \nL 703 4441 \nL 1819 4666 \nL 2450 4666 \nL 2450 531 \nL 3481 531 \nL 3481 0 \nL 794 0 \nL 794 531 \nz\n\" transform=\"scale(0.015625)\"/>\n       </defs>\n       <use xlink:href=\"#DejaVuSans-31\"/>\n       <use xlink:href=\"#DejaVuSans-2e\" x=\"63.623047\"/>\n       <use xlink:href=\"#DejaVuSans-30\" x=\"95.410156\"/>\n      </g>\n     </g>\n    </g>\n   </g>\n   <g id=\"matplotlib.axis_2\">\n    <g id=\"ytick_1\">\n     <g id=\"line2d_7\">\n      <path d=\"M 34.193438 299.518125 \nL 311.393438 299.518125 \n\" clip-path=\"url(#p3340e11ce5)\" style=\"fill: none; stroke: #ffffff; stroke-linecap: round\"/>\n     </g>\n     <g id=\"text_7\">\n      <!-- 0.0 -->\n      <g style=\"fill: #262626\" transform=\"translate(7.2 303.697266) scale(0.11 -0.11)\">\n       <use xlink:href=\"#DejaVuSans-30\"/>\n       <use xlink:href=\"#DejaVuSans-2e\" x=\"63.623047\"/>\n       <use xlink:href=\"#DejaVuSans-30\" x=\"95.410156\"/>\n      </g>\n     </g>\n    </g>\n    <g id=\"ytick_2\">\n     <g id=\"line2d_8\">\n      <path d=\"M 34.193438 244.078125 \nL 311.393438 244.078125 \n\" clip-path=\"url(#p3340e11ce5)\" style=\"fill: none; stroke: #ffffff; stroke-linecap: round\"/>\n     </g>\n     <g id=\"text_8\">\n      <!-- 0.2 -->\n      <g style=\"fill: #262626\" transform=\"translate(7.2 248.257266) scale(0.11 -0.11)\">\n       <use xlink:href=\"#DejaVuSans-30\"/>\n       <use xlink:href=\"#DejaVuSans-2e\" x=\"63.623047\"/>\n       <use xlink:href=\"#DejaVuSans-32\" x=\"95.410156\"/>\n      </g>\n     </g>\n    </g>\n    <g id=\"ytick_3\">\n     <g id=\"line2d_9\">\n      <path d=\"M 34.193438 188.638125 \nL 311.393438 188.638125 \n\" clip-path=\"url(#p3340e11ce5)\" style=\"fill: none; stroke: #ffffff; stroke-linecap: round\"/>\n     </g>\n     <g id=\"text_9\">\n      <!-- 0.4 -->\n      <g style=\"fill: #262626\" transform=\"translate(7.2 192.817266) scale(0.11 -0.11)\">\n       <use xlink:href=\"#DejaVuSans-30\"/>\n       <use xlink:href=\"#DejaVuSans-2e\" x=\"63.623047\"/>\n       <use xlink:href=\"#DejaVuSans-34\" x=\"95.410156\"/>\n      </g>\n     </g>\n    </g>\n    <g id=\"ytick_4\">\n     <g id=\"line2d_10\">\n      <path d=\"M 34.193438 133.198125 \nL 311.393438 133.198125 \n\" clip-path=\"url(#p3340e11ce5)\" style=\"fill: none; stroke: #ffffff; stroke-linecap: round\"/>\n     </g>\n     <g id=\"text_10\">\n      <!-- 0.6 -->\n      <g style=\"fill: #262626\" transform=\"translate(7.2 137.377266) scale(0.11 -0.11)\">\n       <use xlink:href=\"#DejaVuSans-30\"/>\n       <use xlink:href=\"#DejaVuSans-2e\" x=\"63.623047\"/>\n       <use xlink:href=\"#DejaVuSans-36\" x=\"95.410156\"/>\n      </g>\n     </g>\n    </g>\n    <g id=\"ytick_5\">\n     <g id=\"line2d_11\">\n      <path d=\"M 34.193438 77.758125 \nL 311.393438 77.758125 \n\" clip-path=\"url(#p3340e11ce5)\" style=\"fill: none; stroke: #ffffff; stroke-linecap: round\"/>\n     </g>\n     <g id=\"text_11\">\n      <!-- 0.8 -->\n      <g style=\"fill: #262626\" transform=\"translate(7.2 81.937266) scale(0.11 -0.11)\">\n       <use xlink:href=\"#DejaVuSans-30\"/>\n       <use xlink:href=\"#DejaVuSans-2e\" x=\"63.623047\"/>\n       <use xlink:href=\"#DejaVuSans-38\" x=\"95.410156\"/>\n      </g>\n     </g>\n    </g>\n    <g id=\"ytick_6\">\n     <g id=\"line2d_12\">\n      <path d=\"M 34.193438 22.318125 \nL 311.393438 22.318125 \n\" clip-path=\"url(#p3340e11ce5)\" style=\"fill: none; stroke: #ffffff; stroke-linecap: round\"/>\n     </g>\n     <g id=\"text_12\">\n      <!-- 1.0 -->\n      <g style=\"fill: #262626\" transform=\"translate(7.2 26.497266) scale(0.11 -0.11)\">\n       <use xlink:href=\"#DejaVuSans-31\"/>\n       <use xlink:href=\"#DejaVuSans-2e\" x=\"63.623047\"/>\n       <use xlink:href=\"#DejaVuSans-30\" x=\"95.410156\"/>\n      </g>\n     </g>\n    </g>\n   </g>\n   <g id=\"patch_3\">\n    <path d=\"M 34.193438 299.518125 \nL 34.193438 22.318125 \n\" style=\"fill: none; stroke: #ffffff; stroke-width: 1.25; stroke-linejoin: miter; stroke-linecap: square\"/>\n   </g>\n   <g id=\"patch_4\">\n    <path d=\"M 311.393438 299.518125 \nL 311.393438 22.318125 \n\" style=\"fill: none; stroke: #ffffff; stroke-width: 1.25; stroke-linejoin: miter; stroke-linecap: square\"/>\n   </g>\n   <g id=\"patch_5\">\n    <path d=\"M 34.193438 299.518125 \nL 311.393438 299.518125 \n\" style=\"fill: none; stroke: #ffffff; stroke-width: 1.25; stroke-linejoin: miter; stroke-linecap: square\"/>\n   </g>\n   <g id=\"patch_6\">\n    <path d=\"M 34.193438 22.318125 \nL 311.393438 22.318125 \n\" style=\"fill: none; stroke: #ffffff; stroke-width: 1.25; stroke-linejoin: miter; stroke-linecap: square\"/>\n   </g>\n   <g id=\"text_13\">\n    <!-- Augmented image examples of the IAM HW dataset -->\n    <g style=\"fill: #262626\" transform=\"translate(17.085 16.318125) scale(0.12 -0.12)\">\n     <defs>\n      <path id=\"DejaVuSans-41\" d=\"M 2188 4044 \nL 1331 1722 \nL 3047 1722 \nL 2188 4044 \nz\nM 1831 4666 \nL 2547 4666 \nL 4325 0 \nL 3669 0 \nL 3244 1197 \nL 1141 1197 \nL 716 0 \nL 50 0 \nL 1831 4666 \nz\n\" transform=\"scale(0.015625)\"/>\n      <path id=\"DejaVuSans-75\" d=\"M 544 1381 \nL 544 3500 \nL 1119 3500 \nL 1119 1403 \nQ 1119 906 1312 657 \nQ 1506 409 1894 409 \nQ 2359 409 2629 706 \nQ 2900 1003 2900 1516 \nL 2900 3500 \nL 3475 3500 \nL 3475 0 \nL 2900 0 \nL 2900 538 \nQ 2691 219 2414 64 \nQ 2138 -91 1772 -91 \nQ 1169 -91 856 284 \nQ 544 659 544 1381 \nz\nM 1991 3584 \nL 1991 3584 \nz\n\" transform=\"scale(0.015625)\"/>\n      <path id=\"DejaVuSans-67\" d=\"M 2906 1791 \nQ 2906 2416 2648 2759 \nQ 2391 3103 1925 3103 \nQ 1463 3103 1205 2759 \nQ 947 2416 947 1791 \nQ 947 1169 1205 825 \nQ 1463 481 1925 481 \nQ 2391 481 2648 825 \nQ 2906 1169 2906 1791 \nz\nM 3481 434 \nQ 3481 -459 3084 -895 \nQ 2688 -1331 1869 -1331 \nQ 1566 -1331 1297 -1286 \nQ 1028 -1241 775 -1147 \nL 775 -588 \nQ 1028 -725 1275 -790 \nQ 1522 -856 1778 -856 \nQ 2344 -856 2625 -561 \nQ 2906 -266 2906 331 \nL 2906 616 \nQ 2728 306 2450 153 \nQ 2172 0 1784 0 \nQ 1141 0 747 490 \nQ 353 981 353 1791 \nQ 353 2603 747 3093 \nQ 1141 3584 1784 3584 \nQ 2172 3584 2450 3431 \nQ 2728 3278 2906 2969 \nL 2906 3500 \nL 3481 3500 \nL 3481 434 \nz\n\" transform=\"scale(0.015625)\"/>\n      <path id=\"DejaVuSans-6d\" d=\"M 3328 2828 \nQ 3544 3216 3844 3400 \nQ 4144 3584 4550 3584 \nQ 5097 3584 5394 3201 \nQ 5691 2819 5691 2113 \nL 5691 0 \nL 5113 0 \nL 5113 2094 \nQ 5113 2597 4934 2840 \nQ 4756 3084 4391 3084 \nQ 3944 3084 3684 2787 \nQ 3425 2491 3425 1978 \nL 3425 0 \nL 2847 0 \nL 2847 2094 \nQ 2847 2600 2669 2842 \nQ 2491 3084 2119 3084 \nQ 1678 3084 1418 2786 \nQ 1159 2488 1159 1978 \nL 1159 0 \nL 581 0 \nL 581 3500 \nL 1159 3500 \nL 1159 2956 \nQ 1356 3278 1631 3431 \nQ 1906 3584 2284 3584 \nQ 2666 3584 2933 3390 \nQ 3200 3197 3328 2828 \nz\n\" transform=\"scale(0.015625)\"/>\n      <path id=\"DejaVuSans-65\" d=\"M 3597 1894 \nL 3597 1613 \nL 953 1613 \nQ 991 1019 1311 708 \nQ 1631 397 2203 397 \nQ 2534 397 2845 478 \nQ 3156 559 3463 722 \nL 3463 178 \nQ 3153 47 2828 -22 \nQ 2503 -91 2169 -91 \nQ 1331 -91 842 396 \nQ 353 884 353 1716 \nQ 353 2575 817 3079 \nQ 1281 3584 2069 3584 \nQ 2775 3584 3186 3129 \nQ 3597 2675 3597 1894 \nz\nM 3022 2063 \nQ 3016 2534 2758 2815 \nQ 2500 3097 2075 3097 \nQ 1594 3097 1305 2825 \nQ 1016 2553 972 2059 \nL 3022 2063 \nz\n\" transform=\"scale(0.015625)\"/>\n      <path id=\"DejaVuSans-6e\" d=\"M 3513 2113 \nL 3513 0 \nL 2938 0 \nL 2938 2094 \nQ 2938 2591 2744 2837 \nQ 2550 3084 2163 3084 \nQ 1697 3084 1428 2787 \nQ 1159 2491 1159 1978 \nL 1159 0 \nL 581 0 \nL 581 3500 \nL 1159 3500 \nL 1159 2956 \nQ 1366 3272 1645 3428 \nQ 1925 3584 2291 3584 \nQ 2894 3584 3203 3211 \nQ 3513 2838 3513 2113 \nz\n\" transform=\"scale(0.015625)\"/>\n      <path id=\"DejaVuSans-74\" d=\"M 1172 4494 \nL 1172 3500 \nL 2356 3500 \nL 2356 3053 \nL 1172 3053 \nL 1172 1153 \nQ 1172 725 1289 603 \nQ 1406 481 1766 481 \nL 2356 481 \nL 2356 0 \nL 1766 0 \nQ 1100 0 847 248 \nQ 594 497 594 1153 \nL 594 3053 \nL 172 3053 \nL 172 3500 \nL 594 3500 \nL 594 4494 \nL 1172 4494 \nz\n\" transform=\"scale(0.015625)\"/>\n      <path id=\"DejaVuSans-64\" d=\"M 2906 2969 \nL 2906 4863 \nL 3481 4863 \nL 3481 0 \nL 2906 0 \nL 2906 525 \nQ 2725 213 2448 61 \nQ 2172 -91 1784 -91 \nQ 1150 -91 751 415 \nQ 353 922 353 1747 \nQ 353 2572 751 3078 \nQ 1150 3584 1784 3584 \nQ 2172 3584 2448 3432 \nQ 2725 3281 2906 2969 \nz\nM 947 1747 \nQ 947 1113 1208 752 \nQ 1469 391 1925 391 \nQ 2381 391 2643 752 \nQ 2906 1113 2906 1747 \nQ 2906 2381 2643 2742 \nQ 2381 3103 1925 3103 \nQ 1469 3103 1208 2742 \nQ 947 2381 947 1747 \nz\n\" transform=\"scale(0.015625)\"/>\n      <path id=\"DejaVuSans-20\" transform=\"scale(0.015625)\"/>\n      <path id=\"DejaVuSans-69\" d=\"M 603 3500 \nL 1178 3500 \nL 1178 0 \nL 603 0 \nL 603 3500 \nz\nM 603 4863 \nL 1178 4863 \nL 1178 4134 \nL 603 4134 \nL 603 4863 \nz\n\" transform=\"scale(0.015625)\"/>\n      <path id=\"DejaVuSans-61\" d=\"M 2194 1759 \nQ 1497 1759 1228 1600 \nQ 959 1441 959 1056 \nQ 959 750 1161 570 \nQ 1363 391 1709 391 \nQ 2188 391 2477 730 \nQ 2766 1069 2766 1631 \nL 2766 1759 \nL 2194 1759 \nz\nM 3341 1997 \nL 3341 0 \nL 2766 0 \nL 2766 531 \nQ 2569 213 2275 61 \nQ 1981 -91 1556 -91 \nQ 1019 -91 701 211 \nQ 384 513 384 1019 \nQ 384 1609 779 1909 \nQ 1175 2209 1959 2209 \nL 2766 2209 \nL 2766 2266 \nQ 2766 2663 2505 2880 \nQ 2244 3097 1772 3097 \nQ 1472 3097 1187 3025 \nQ 903 2953 641 2809 \nL 641 3341 \nQ 956 3463 1253 3523 \nQ 1550 3584 1831 3584 \nQ 2591 3584 2966 3190 \nQ 3341 2797 3341 1997 \nz\n\" transform=\"scale(0.015625)\"/>\n      <path id=\"DejaVuSans-78\" d=\"M 3513 3500 \nL 2247 1797 \nL 3578 0 \nL 2900 0 \nL 1881 1375 \nL 863 0 \nL 184 0 \nL 1544 1831 \nL 300 3500 \nL 978 3500 \nL 1906 2253 \nL 2834 3500 \nL 3513 3500 \nz\n\" transform=\"scale(0.015625)\"/>\n      <path id=\"DejaVuSans-70\" d=\"M 1159 525 \nL 1159 -1331 \nL 581 -1331 \nL 581 3500 \nL 1159 3500 \nL 1159 2969 \nQ 1341 3281 1617 3432 \nQ 1894 3584 2278 3584 \nQ 2916 3584 3314 3078 \nQ 3713 2572 3713 1747 \nQ 3713 922 3314 415 \nQ 2916 -91 2278 -91 \nQ 1894 -91 1617 61 \nQ 1341 213 1159 525 \nz\nM 3116 1747 \nQ 3116 2381 2855 2742 \nQ 2594 3103 2138 3103 \nQ 1681 3103 1420 2742 \nQ 1159 2381 1159 1747 \nQ 1159 1113 1420 752 \nQ 1681 391 2138 391 \nQ 2594 391 2855 752 \nQ 3116 1113 3116 1747 \nz\n\" transform=\"scale(0.015625)\"/>\n      <path id=\"DejaVuSans-6c\" d=\"M 603 4863 \nL 1178 4863 \nL 1178 0 \nL 603 0 \nL 603 4863 \nz\n\" transform=\"scale(0.015625)\"/>\n      <path id=\"DejaVuSans-73\" d=\"M 2834 3397 \nL 2834 2853 \nQ 2591 2978 2328 3040 \nQ 2066 3103 1784 3103 \nQ 1356 3103 1142 2972 \nQ 928 2841 928 2578 \nQ 928 2378 1081 2264 \nQ 1234 2150 1697 2047 \nL 1894 2003 \nQ 2506 1872 2764 1633 \nQ 3022 1394 3022 966 \nQ 3022 478 2636 193 \nQ 2250 -91 1575 -91 \nQ 1294 -91 989 -36 \nQ 684 19 347 128 \nL 347 722 \nQ 666 556 975 473 \nQ 1284 391 1588 391 \nQ 1994 391 2212 530 \nQ 2431 669 2431 922 \nQ 2431 1156 2273 1281 \nQ 2116 1406 1581 1522 \nL 1381 1569 \nQ 847 1681 609 1914 \nQ 372 2147 372 2553 \nQ 372 3047 722 3315 \nQ 1072 3584 1716 3584 \nQ 2034 3584 2315 3537 \nQ 2597 3491 2834 3397 \nz\n\" transform=\"scale(0.015625)\"/>\n      <path id=\"DejaVuSans-6f\" d=\"M 1959 3097 \nQ 1497 3097 1228 2736 \nQ 959 2375 959 1747 \nQ 959 1119 1226 758 \nQ 1494 397 1959 397 \nQ 2419 397 2687 759 \nQ 2956 1122 2956 1747 \nQ 2956 2369 2687 2733 \nQ 2419 3097 1959 3097 \nz\nM 1959 3584 \nQ 2709 3584 3137 3096 \nQ 3566 2609 3566 1747 \nQ 3566 888 3137 398 \nQ 2709 -91 1959 -91 \nQ 1206 -91 779 398 \nQ 353 888 353 1747 \nQ 353 2609 779 3096 \nQ 1206 3584 1959 3584 \nz\n\" transform=\"scale(0.015625)\"/>\n      <path id=\"DejaVuSans-66\" d=\"M 2375 4863 \nL 2375 4384 \nL 1825 4384 \nQ 1516 4384 1395 4259 \nQ 1275 4134 1275 3809 \nL 1275 3500 \nL 2222 3500 \nL 2222 3053 \nL 1275 3053 \nL 1275 0 \nL 697 0 \nL 697 3053 \nL 147 3053 \nL 147 3500 \nL 697 3500 \nL 697 3744 \nQ 697 4328 969 4595 \nQ 1241 4863 1831 4863 \nL 2375 4863 \nz\n\" transform=\"scale(0.015625)\"/>\n      <path id=\"DejaVuSans-68\" d=\"M 3513 2113 \nL 3513 0 \nL 2938 0 \nL 2938 2094 \nQ 2938 2591 2744 2837 \nQ 2550 3084 2163 3084 \nQ 1697 3084 1428 2787 \nQ 1159 2491 1159 1978 \nL 1159 0 \nL 581 0 \nL 581 4863 \nL 1159 4863 \nL 1159 2956 \nQ 1366 3272 1645 3428 \nQ 1925 3584 2291 3584 \nQ 2894 3584 3203 3211 \nQ 3513 2838 3513 2113 \nz\n\" transform=\"scale(0.015625)\"/>\n      <path id=\"DejaVuSans-49\" d=\"M 628 4666 \nL 1259 4666 \nL 1259 0 \nL 628 0 \nL 628 4666 \nz\n\" transform=\"scale(0.015625)\"/>\n      <path id=\"DejaVuSans-4d\" d=\"M 628 4666 \nL 1569 4666 \nL 2759 1491 \nL 3956 4666 \nL 4897 4666 \nL 4897 0 \nL 4281 0 \nL 4281 4097 \nL 3078 897 \nL 2444 897 \nL 1241 4097 \nL 1241 0 \nL 628 0 \nL 628 4666 \nz\n\" transform=\"scale(0.015625)\"/>\n      <path id=\"DejaVuSans-48\" d=\"M 628 4666 \nL 1259 4666 \nL 1259 2753 \nL 3553 2753 \nL 3553 4666 \nL 4184 4666 \nL 4184 0 \nL 3553 0 \nL 3553 2222 \nL 1259 2222 \nL 1259 0 \nL 628 0 \nL 628 4666 \nz\n\" transform=\"scale(0.015625)\"/>\n      <path id=\"DejaVuSans-57\" d=\"M 213 4666 \nL 850 4666 \nL 1831 722 \nL 2809 4666 \nL 3519 4666 \nL 4500 722 \nL 5478 4666 \nL 6119 4666 \nL 4947 0 \nL 4153 0 \nL 3169 4050 \nL 2175 0 \nL 1381 0 \nL 213 4666 \nz\n\" transform=\"scale(0.015625)\"/>\n     </defs>\n     <use xlink:href=\"#DejaVuSans-41\"/>\n     <use xlink:href=\"#DejaVuSans-75\" x=\"68.408203\"/>\n     <use xlink:href=\"#DejaVuSans-67\" x=\"131.787109\"/>\n     <use xlink:href=\"#DejaVuSans-6d\" x=\"195.263672\"/>\n     <use xlink:href=\"#DejaVuSans-65\" x=\"292.675781\"/>\n     <use xlink:href=\"#DejaVuSans-6e\" x=\"354.199219\"/>\n     <use xlink:href=\"#DejaVuSans-74\" x=\"417.578125\"/>\n     <use xlink:href=\"#DejaVuSans-65\" x=\"456.787109\"/>\n     <use xlink:href=\"#DejaVuSans-64\" x=\"518.310547\"/>\n     <use xlink:href=\"#DejaVuSans-20\" x=\"581.787109\"/>\n     <use xlink:href=\"#DejaVuSans-69\" x=\"613.574219\"/>\n     <use xlink:href=\"#DejaVuSans-6d\" x=\"641.357422\"/>\n     <use xlink:href=\"#DejaVuSans-61\" x=\"738.769531\"/>\n     <use xlink:href=\"#DejaVuSans-67\" x=\"800.048828\"/>\n     <use xlink:href=\"#DejaVuSans-65\" x=\"863.525391\"/>\n     <use xlink:href=\"#DejaVuSans-20\" x=\"925.048828\"/>\n     <use xlink:href=\"#DejaVuSans-65\" x=\"956.835938\"/>\n     <use xlink:href=\"#DejaVuSans-78\" x=\"1016.609375\"/>\n     <use xlink:href=\"#DejaVuSans-61\" x=\"1075.789062\"/>\n     <use xlink:href=\"#DejaVuSans-6d\" x=\"1137.068359\"/>\n     <use xlink:href=\"#DejaVuSans-70\" x=\"1234.480469\"/>\n     <use xlink:href=\"#DejaVuSans-6c\" x=\"1297.957031\"/>\n     <use xlink:href=\"#DejaVuSans-65\" x=\"1325.740234\"/>\n     <use xlink:href=\"#DejaVuSans-73\" x=\"1387.263672\"/>\n     <use xlink:href=\"#DejaVuSans-20\" x=\"1439.363281\"/>\n     <use xlink:href=\"#DejaVuSans-6f\" x=\"1471.150391\"/>\n     <use xlink:href=\"#DejaVuSans-66\" x=\"1532.332031\"/>\n     <use xlink:href=\"#DejaVuSans-20\" x=\"1567.537109\"/>\n     <use xlink:href=\"#DejaVuSans-74\" x=\"1599.324219\"/>\n     <use xlink:href=\"#DejaVuSans-68\" x=\"1638.533203\"/>\n     <use xlink:href=\"#DejaVuSans-65\" x=\"1701.912109\"/>\n     <use xlink:href=\"#DejaVuSans-20\" x=\"1763.435547\"/>\n     <use xlink:href=\"#DejaVuSans-49\" x=\"1795.222656\"/>\n     <use xlink:href=\"#DejaVuSans-41\" x=\"1824.714844\"/>\n     <use xlink:href=\"#DejaVuSans-4d\" x=\"1893.123047\"/>\n     <use xlink:href=\"#DejaVuSans-20\" x=\"1979.402344\"/>\n     <use xlink:href=\"#DejaVuSans-48\" x=\"2011.189453\"/>\n     <use xlink:href=\"#DejaVuSans-57\" x=\"2086.384766\"/>\n     <use xlink:href=\"#DejaVuSans-20\" x=\"2185.261719\"/>\n     <use xlink:href=\"#DejaVuSans-64\" x=\"2217.048828\"/>\n     <use xlink:href=\"#DejaVuSans-61\" x=\"2280.525391\"/>\n     <use xlink:href=\"#DejaVuSans-74\" x=\"2341.804688\"/>\n     <use xlink:href=\"#DejaVuSans-61\" x=\"2381.013672\"/>\n     <use xlink:href=\"#DejaVuSans-73\" x=\"2442.292969\"/>\n     <use xlink:href=\"#DejaVuSans-65\" x=\"2494.392578\"/>\n     <use xlink:href=\"#DejaVuSans-74\" x=\"2555.916016\"/>\n    </g>\n   </g>\n  </g>\n </g>\n <defs>\n  <clipPath id=\"p3340e11ce5\">\n   <rect x=\"34.193438\" y=\"22.318125\" width=\"277.2\" height=\"277.2\"/>\n  </clipPath>\n </defs>\n</svg>\n",
            "application/pdf": "[encoded data removed]"
          },
          "metadata": {}
        }
      ],
      "source": [
        "# Visualize some examples\n",
        "pl.seed_everything(42)\n",
        "NUM_IMAGES = 6\n",
        "imgs = torch.stack([img for idx in range(NUM_IMAGES) for img in subset_iam_train_dataset[idx][1]], dim=0)\n",
        "img_grid = torchvision.utils.make_grid(imgs, nrow=6, normalize=True, pad_value=0.9)\n",
        "img_grid = img_grid.permute(1, 2, 0)\n",
        "\n",
        "plt.figure(figsize=(10,5))\n",
        "plt.title('Augmented image examples of the IAM HW dataset')\n",
        "plt.imshow(img_grid)\n",
        "plt.axis('off')\n",
        "plt.show()\n",
        "plt.close()"
      ]
    },
    {
      "cell_type": "code",
      "source": [
        "subset_iam_train_dataset[1][1].shape"
      ],
      "metadata": {
        "id": "enAifD94v--7",
        "outputId": "c3e610c2-b73a-4c2f-a8b4-7545c8df9051",
        "colab": {
          "base_uri": "https://localhost:8080/"
        }
      },
      "execution_count": 13,
      "outputs": [
        {
          "output_type": "execute_result",
          "data": {
            "text/plain": [
              "torch.Size([1, 128, 128])"
            ]
          },
          "metadata": {},
          "execution_count": 13
        }
      ]
    },
    {
      "cell_type": "markdown",
      "metadata": {
        "id": "dbuiwO4155Ob"
      },
      "source": [
        "We see the wide variety of our data augmentation, including randomly cropping, grayscaling, gaussian blur, and color distortion. Thus, it remains a challenging task for the model to match two, independently augmented patches of the same image."
      ]
    },
    {
      "cell_type": "markdown",
      "metadata": {
        "id": "AnVVibpS55Oc"
      },
      "source": [
        "### SimCLR implementation\n",
        "\n",
        "Using the data loader pipeline above, we can now implement SimCLR. At each iteration, we get for every image $x$ two differently augmented versions, which we refer to as $\\tilde{x}_i$ and $\\tilde{x}_j$. Both of these images are encoded into a one-dimensional feature vector, between which we want to maximize similarity which minimizes it to all other images in the batch. The encoder network is split into two parts: a base encoder network $f(\\cdot)$, and a projection head $g(\\cdot)$. The base network is usually a deep CNN as we have seen in e.g. [Tutorial 5](https://uvadlc-notebooks.readthedocs.io/en/latest/tutorial_notebooks/tutorial5/Inception_ResNet_DenseNet.html) before, and is responsible for extracting a representation vector from the augmented data examples. In our experiments, we will use the common ResNet-18 architecture as $f(\\cdot)$, and refer to the output as $f(\\tilde{x}_i)=h_i$. The projection head $g(\\cdot)$ maps the representation $h$ into a space where we apply the contrastive loss, i.e., compare similarities between vectors. It is often chosen to be a small MLP with non-linearities, and for simplicity, we follow the original SimCLR paper setup by defining it as a two-layer MLP with ReLU activation in the hidden layer. Note that in the follow-up paper, [SimCLRv2](https://arxiv.org/abs/2006.10029), the authors mention that larger/wider MLPs can boost the performance considerably. This is why we apply an MLP with four times larger hidden dimensions, but deeper MLPs showed to overfit on the given dataset. The general setup is visualized below (figure credit - [Ting Chen et al.](https://arxiv.org/abs/2006.10029)):\n",
        "\n",
        "<center width=\"100%\"><img src=\"https://github.com/phlippe/uvadlc_notebooks/blob/master/docs/tutorial_notebooks/tutorial17/simclr_network_setup.svg?raw=1\" width=\"350px\"></center>\n",
        "\n",
        "After finishing the training with contrastive learning, we will remove the projection head $g(\\cdot)$, and use $f(\\cdot)$ as a pretrained feature extractor. The representations $z$ that come out of the projection head $g(\\cdot)$ have been shown to perform worse than those of the base network $f(\\cdot)$ when finetuning the network for a new task. This is likely because the representations $z$ are trained to become invariant to many features like the color that can be important for downstream tasks. Thus, $g(\\cdot)$ is only needed for the contrastive learning stage.\n",
        "\n",
        "Now that the architecture is described, let's take a closer look at how we train the model. As mentioned before, we want to maximize the similarity between the representations of the two augmented versions of the same image, i.e., $z_i$ and $z_j$ in the figure above, while minimizing it to all other examples in the batch. SimCLR thereby applies the InfoNCE loss, originally proposed by [Aaron van den Oord et al.](https://arxiv.org/abs/1807.03748) for contrastive learning. In short, the InfoNCE loss compares the similarity of $z_i$ and $z_j$ to the similarity of $z_i$ to any other representation in the batch by performing a softmax over the similarity values. The loss can be formally written as:\n",
        "\n",
        "$$\n",
        "\\ell_{i,j}=-\\log \\frac{\\exp(\\text{sim}(z_i,z_j)/\\tau)}{\\sum_{k=1}^{2N}\\mathbb{1}_{[k\\neq i]}\\exp(\\text{sim}(z_i,z_k)/\\tau)}=-\\text{sim}(z_i,z_j)/\\tau+\\log\\left[\\sum_{k=1}^{2N}\\mathbb{1}_{[k\\neq i]}\\exp(\\text{sim}(z_i,z_k)/\\tau)\\right]\n",
        "$$\n",
        "\n",
        "The function $\\text{sim}$ is a similarity metric, and the hyperparameter $\\tau$ is called temperature determining how peaked the distribution is. Since many similarity metrics are bounded, the temperature parameter allows us to balance the influence of many dissimilar image patches versus one similar patch. The similarity metric that is used in SimCLR is cosine similarity, as defined below:\n",
        "\n",
        "$$\n",
        "\\text{sim}(z_i,z_j) = \\frac{z_i^\\top \\cdot z_j}{||z_i||\\cdot||z_j||}\n",
        "$$\n",
        "\n",
        "The maximum cosine similarity possible is $1$, while the minimum is $-1$. In general, we will see that the features of two different images will converge to a cosine similarity around zero since the minimum, $-1$, would require $z_i$ and $z_j$ to be in the exact opposite direction in all feature dimensions, which does not allow for great flexibility.\n",
        "\n",
        "Finally, now that we have discussed all details, let's implement SimCLR below as a PyTorch Lightning module:"
      ]
    },
    {
      "cell_type": "code",
      "execution_count": 8,
      "metadata": {
        "id": "1lUujOnP55Oe"
      },
      "outputs": [],
      "source": [
        "class SimCLR(pl.LightningModule):\n",
        "    \n",
        "    def __init__(self, hidden_dim, lr, temperature, weight_decay, max_epochs=500):\n",
        "        super().__init__()\n",
        "        self.save_hyperparameters()\n",
        "        assert self.hparams.temperature > 0.0, 'The temperature must be a positive float!'\n",
        "        # Base model f(.)\n",
        "        self.convnet = torchvision.models.resnet18(num_classes=4*hidden_dim)  # Output of last linear layer\n",
        "        # The MLP for g(.) consists of Linear->ReLU->Linear \n",
        "        self.convnet.fc = nn.Sequential(\n",
        "            self.convnet.fc,  # Linear(ResNet output, 4*hidden_dim)\n",
        "            nn.ReLU(inplace=True),\n",
        "            nn.Linear(4*hidden_dim, hidden_dim)\n",
        "        )\n",
        "\n",
        "    def configure_optimizers(self):\n",
        "        optimizer = optim.AdamW(self.parameters(), \n",
        "                                lr=self.hparams.lr, \n",
        "                                weight_decay=self.hparams.weight_decay)\n",
        "        lr_scheduler = optim.lr_scheduler.CosineAnnealingLR(optimizer,\n",
        "                                                            T_max=self.hparams.max_epochs,\n",
        "                                                            eta_min=self.hparams.lr/50)\n",
        "        return [optimizer], [lr_scheduler]\n",
        "        \n",
        "    def info_nce_loss(self, batch, mode='train'):\n",
        "        imgs, _ = batch\n",
        "        imgs = torch.cat(imgs, dim=0)\n",
        "        \n",
        "        # Encode all images\n",
        "        feats = self.convnet(imgs)\n",
        "        # Calculate cosine similarity\n",
        "        cos_sim = F.cosine_similarity(feats[:,None,:], feats[None,:,:], dim=-1)\n",
        "        # Mask out cosine similarity to itself\n",
        "        self_mask = torch.eye(cos_sim.shape[0], dtype=torch.bool, device=cos_sim.device)\n",
        "        cos_sim.masked_fill_(self_mask, -9e15)\n",
        "        # Find positive example -> batch_size//2 away from the original example\n",
        "        pos_mask = self_mask.roll(shifts=cos_sim.shape[0]//2, dims=0)\n",
        "        # InfoNCE loss\n",
        "        cos_sim = cos_sim / self.hparams.temperature\n",
        "        nll = -cos_sim[pos_mask] + torch.logsumexp(cos_sim, dim=-1)\n",
        "        nll = nll.mean()\n",
        "        \n",
        "        # Logging loss\n",
        "        self.log(mode+'_loss', nll)\n",
        "        # Get ranking position of positive example\n",
        "        comb_sim = torch.cat([cos_sim[pos_mask][:,None],  # First position positive example\n",
        "                              cos_sim.masked_fill(pos_mask, -9e15)], \n",
        "                             dim=-1)\n",
        "        sim_argsort = comb_sim.argsort(dim=-1, descending=True).argmin(dim=-1)\n",
        "        # Logging ranking metrics\n",
        "        self.log(mode+'_acc_top1', (sim_argsort == 0).float().mean())\n",
        "        self.log(mode+'_acc_top5', (sim_argsort < 5).float().mean())\n",
        "        self.log(mode+'_acc_mean_pos', 1+sim_argsort.float().mean())\n",
        "        \n",
        "        return nll\n",
        "        \n",
        "    def training_step(self, batch, batch_idx):\n",
        "        return self.info_nce_loss(batch, mode='train')\n",
        "        \n",
        "    def validation_step(self, batch, batch_idx):\n",
        "        self.info_nce_loss(batch, mode='val')"
      ]
    },
    {
      "cell_type": "markdown",
      "metadata": {
        "id": "BH3BGC_M55Og"
      },
      "source": [
        "Alternatively to performing the validation on the contrastive learning loss as well, we could also take a simple, small downstream task, and track the performance of the base network $f(\\cdot)$ on that. However, in this tutorial, we will restrict ourselves to the STL10 dataset where we use the task of image classification on STL10 as our test task."
      ]
    },
    {
      "cell_type": "markdown",
      "metadata": {
        "id": "cByagHHS55Oh"
      },
      "source": [
        "### Training\n",
        "\n",
        "Now that we have implemented SimCLR and the data loading pipeline, we are ready to train the model. We will use the same training function setup as usual. For saving the best model checkpoint, we track the metric `val_acc_top5`, which describes how often the correct image patch is within the top-5 most similar examples in the batch. This is usually less noisy than the top-1 metric, making it a better metric to choose the best model from."
      ]
    },
    {
      "cell_type": "code",
      "execution_count": 9,
      "metadata": {
        "id": "8waehX2h55Oh"
      },
      "outputs": [],
      "source": [
        "def train_simclr(batch_size, max_epochs=500, **kwargs):\n",
        "    trainer = pl.Trainer(default_root_dir=os.path.join(CHECKPOINT_PATH, 'SimCLR'),\n",
        "                         accelerator=\"gpu\" if str(device).startswith(\"cuda\") else \"cpu\",\n",
        "                         devices=1,\n",
        "                         max_epochs=max_epochs,\n",
        "                         callbacks=[ModelCheckpoint(save_weights_only=True, mode='max', monitor='val_acc_top5'),\n",
        "                                    LearningRateMonitor('epoch')])\n",
        "    trainer.logger._default_hp_metric = None # Optional logging argument that we don't need\n",
        "\n",
        "    # Check whether pretrained model exists. If yes, load it and skip training\n",
        "    pretrained_filename = os.path.join(CHECKPOINT_PATH, 'SimCLR.ckpt')\n",
        "    if os.path.isfile(pretrained_filename):\n",
        "        print(f'Found pretrained model at {pretrained_filename}, loading...')\n",
        "        model = SimCLR.load_from_checkpoint(pretrained_filename) # Automatically loads the model with the saved hyperparameters\n",
        "    else:\n",
        "        train_loader = data.DataLoader(unlabeled_data, batch_size=batch_size, shuffle=True, \n",
        "                                       drop_last=True, pin_memory=True, num_workers=NUM_WORKERS)\n",
        "        val_loader = data.DataLoader(train_data_contrast, batch_size=batch_size, shuffle=False, \n",
        "                                     drop_last=False, pin_memory=True, num_workers=NUM_WORKERS)\n",
        "        pl.seed_everything(42) # To be reproducable\n",
        "        model = SimCLR(max_epochs=max_epochs, **kwargs)\n",
        "        trainer.fit(model, train_loader, val_loader)\n",
        "        model = SimCLR.load_from_checkpoint(trainer.checkpoint_callback.best_model_path) # Load best checkpoint after training\n",
        "\n",
        "    return model"
      ]
    },
    {
      "cell_type": "markdown",
      "metadata": {
        "id": "3X5quTQg55Oi"
      },
      "source": [
        "A common observation in contrastive learning is that the larger the batch size, the better the models perform. A larger batch size allows us to compare each image to more negative examples, leading to overall smoother loss gradients. However, in our case, we experienced that a batch size of 256 was sufficient to get good results."
      ]
    },
    {
      "cell_type": "code",
      "execution_count": 10,
      "metadata": {
        "colab": {
          "base_uri": "https://localhost:8080/",
          "height": 469
        },
        "id": "J8AuCME955Oj",
        "outputId": "7e8cd53b-b232-4dcc-f5e3-0462de1c6be7"
      },
      "outputs": [
        {
          "output_type": "stream",
          "name": "stderr",
          "text": [
            "INFO:pytorch_lightning.utilities.rank_zero:GPU available: False, used: False\n",
            "INFO:pytorch_lightning.utilities.rank_zero:TPU available: False, using: 0 TPU cores\n",
            "INFO:pytorch_lightning.utilities.rank_zero:IPU available: False, using: 0 IPUs\n",
            "INFO:pytorch_lightning.utilities.rank_zero:HPU available: False, using: 0 HPUs\n"
          ]
        },
        {
          "output_type": "stream",
          "name": "stdout",
          "text": [
            "Found pretrained model at ../saved_models/tutorial17/SimCLR.ckpt, loading...\n"
          ]
        },
        {
          "output_type": "error",
          "ename": "RuntimeError",
          "evalue": "ignored",
          "traceback": [
            "\u001b[0;31m---------------------------------------------------------------------------\u001b[0m",
            "\u001b[0;31mRuntimeError\u001b[0m                              Traceback (most recent call last)",
            "\u001b[0;32m<ipython-input-10-86f8c8aff12c>\u001b[0m in \u001b[0;36m<cell line: 1>\u001b[0;34m()\u001b[0m\n\u001b[0;32m----> 1\u001b[0;31m simclr_model = train_simclr(batch_size=256, \n\u001b[0m\u001b[1;32m      2\u001b[0m                             \u001b[0mhidden_dim\u001b[0m\u001b[0;34m=\u001b[0m\u001b[0;36m128\u001b[0m\u001b[0;34m,\u001b[0m\u001b[0;34m\u001b[0m\u001b[0;34m\u001b[0m\u001b[0m\n\u001b[1;32m      3\u001b[0m                             \u001b[0mlr\u001b[0m\u001b[0;34m=\u001b[0m\u001b[0;36m5e-4\u001b[0m\u001b[0;34m,\u001b[0m\u001b[0;34m\u001b[0m\u001b[0;34m\u001b[0m\u001b[0m\n\u001b[1;32m      4\u001b[0m                             \u001b[0mtemperature\u001b[0m\u001b[0;34m=\u001b[0m\u001b[0;36m0.07\u001b[0m\u001b[0;34m,\u001b[0m\u001b[0;34m\u001b[0m\u001b[0;34m\u001b[0m\u001b[0m\n\u001b[1;32m      5\u001b[0m                             \u001b[0mweight_decay\u001b[0m\u001b[0;34m=\u001b[0m\u001b[0;36m1e-4\u001b[0m\u001b[0;34m,\u001b[0m\u001b[0;34m\u001b[0m\u001b[0;34m\u001b[0m\u001b[0m\n",
            "\u001b[0;32m<ipython-input-9-657e3b18f2e5>\u001b[0m in \u001b[0;36mtrain_simclr\u001b[0;34m(batch_size, max_epochs, **kwargs)\u001b[0m\n\u001b[1;32m     12\u001b[0m     \u001b[0;32mif\u001b[0m \u001b[0mos\u001b[0m\u001b[0;34m.\u001b[0m\u001b[0mpath\u001b[0m\u001b[0;34m.\u001b[0m\u001b[0misfile\u001b[0m\u001b[0;34m(\u001b[0m\u001b[0mpretrained_filename\u001b[0m\u001b[0;34m)\u001b[0m\u001b[0;34m:\u001b[0m\u001b[0;34m\u001b[0m\u001b[0;34m\u001b[0m\u001b[0m\n\u001b[1;32m     13\u001b[0m         \u001b[0mprint\u001b[0m\u001b[0;34m(\u001b[0m\u001b[0;34mf'Found pretrained model at {pretrained_filename}, loading...'\u001b[0m\u001b[0;34m)\u001b[0m\u001b[0;34m\u001b[0m\u001b[0;34m\u001b[0m\u001b[0m\n\u001b[0;32m---> 14\u001b[0;31m         \u001b[0mmodel\u001b[0m \u001b[0;34m=\u001b[0m \u001b[0mSimCLR\u001b[0m\u001b[0;34m.\u001b[0m\u001b[0mload_from_checkpoint\u001b[0m\u001b[0;34m(\u001b[0m\u001b[0mpretrained_filename\u001b[0m\u001b[0;34m)\u001b[0m \u001b[0;31m# Automatically loads the model with the saved hyperparameters\u001b[0m\u001b[0;34m\u001b[0m\u001b[0;34m\u001b[0m\u001b[0m\n\u001b[0m\u001b[1;32m     15\u001b[0m     \u001b[0;32melse\u001b[0m\u001b[0;34m:\u001b[0m\u001b[0;34m\u001b[0m\u001b[0;34m\u001b[0m\u001b[0m\n\u001b[1;32m     16\u001b[0m         train_loader = data.DataLoader(unlabeled_data, batch_size=batch_size, shuffle=True, \n",
            "\u001b[0;32m/usr/local/lib/python3.10/dist-packages/pytorch_lightning/core/module.py\u001b[0m in \u001b[0;36mload_from_checkpoint\u001b[0;34m(cls, checkpoint_path, map_location, hparams_file, strict, **kwargs)\u001b[0m\n\u001b[1;32m   1529\u001b[0m             \u001b[0my_hat\u001b[0m \u001b[0;34m=\u001b[0m \u001b[0mpretrained_model\u001b[0m\u001b[0;34m(\u001b[0m\u001b[0mx\u001b[0m\u001b[0;34m)\u001b[0m\u001b[0;34m\u001b[0m\u001b[0;34m\u001b[0m\u001b[0m\n\u001b[1;32m   1530\u001b[0m         \"\"\"\n\u001b[0;32m-> 1531\u001b[0;31m         loaded = _load_from_checkpoint(\n\u001b[0m\u001b[1;32m   1532\u001b[0m             \u001b[0mcls\u001b[0m\u001b[0;34m,\u001b[0m\u001b[0;34m\u001b[0m\u001b[0;34m\u001b[0m\u001b[0m\n\u001b[1;32m   1533\u001b[0m             \u001b[0mcheckpoint_path\u001b[0m\u001b[0;34m,\u001b[0m\u001b[0;34m\u001b[0m\u001b[0;34m\u001b[0m\u001b[0m\n",
            "\u001b[0;32m/usr/local/lib/python3.10/dist-packages/pytorch_lightning/core/saving.py\u001b[0m in \u001b[0;36m_load_from_checkpoint\u001b[0;34m(cls, checkpoint_path, map_location, hparams_file, strict, **kwargs)\u001b[0m\n\u001b[1;32m     58\u001b[0m ) -> Union[\"pl.LightningModule\", \"pl.LightningDataModule\"]:\n\u001b[1;32m     59\u001b[0m     \u001b[0;32mwith\u001b[0m \u001b[0mpl_legacy_patch\u001b[0m\u001b[0;34m(\u001b[0m\u001b[0;34m)\u001b[0m\u001b[0;34m:\u001b[0m\u001b[0;34m\u001b[0m\u001b[0;34m\u001b[0m\u001b[0m\n\u001b[0;32m---> 60\u001b[0;31m         \u001b[0mcheckpoint\u001b[0m \u001b[0;34m=\u001b[0m \u001b[0mpl_load\u001b[0m\u001b[0;34m(\u001b[0m\u001b[0mcheckpoint_path\u001b[0m\u001b[0;34m,\u001b[0m \u001b[0mmap_location\u001b[0m\u001b[0;34m=\u001b[0m\u001b[0mmap_location\u001b[0m\u001b[0;34m)\u001b[0m\u001b[0;34m\u001b[0m\u001b[0;34m\u001b[0m\u001b[0m\n\u001b[0m\u001b[1;32m     61\u001b[0m \u001b[0;34m\u001b[0m\u001b[0m\n\u001b[1;32m     62\u001b[0m     \u001b[0;31m# convert legacy checkpoints to the new format\u001b[0m\u001b[0;34m\u001b[0m\u001b[0;34m\u001b[0m\u001b[0m\n",
            "\u001b[0;32m/usr/local/lib/python3.10/dist-packages/lightning_fabric/utilities/cloud_io.py\u001b[0m in \u001b[0;36m_load\u001b[0;34m(path_or_url, map_location)\u001b[0m\n\u001b[1;32m     49\u001b[0m     \u001b[0mfs\u001b[0m \u001b[0;34m=\u001b[0m \u001b[0mget_filesystem\u001b[0m\u001b[0;34m(\u001b[0m\u001b[0mpath_or_url\u001b[0m\u001b[0;34m)\u001b[0m\u001b[0;34m\u001b[0m\u001b[0;34m\u001b[0m\u001b[0m\n\u001b[1;32m     50\u001b[0m     \u001b[0;32mwith\u001b[0m \u001b[0mfs\u001b[0m\u001b[0;34m.\u001b[0m\u001b[0mopen\u001b[0m\u001b[0;34m(\u001b[0m\u001b[0mpath_or_url\u001b[0m\u001b[0;34m,\u001b[0m \u001b[0;34m\"rb\"\u001b[0m\u001b[0;34m)\u001b[0m \u001b[0;32mas\u001b[0m \u001b[0mf\u001b[0m\u001b[0;34m:\u001b[0m\u001b[0;34m\u001b[0m\u001b[0;34m\u001b[0m\u001b[0m\n\u001b[0;32m---> 51\u001b[0;31m         \u001b[0;32mreturn\u001b[0m \u001b[0mtorch\u001b[0m\u001b[0;34m.\u001b[0m\u001b[0mload\u001b[0m\u001b[0;34m(\u001b[0m\u001b[0mf\u001b[0m\u001b[0;34m,\u001b[0m \u001b[0mmap_location\u001b[0m\u001b[0;34m=\u001b[0m\u001b[0mmap_location\u001b[0m\u001b[0;34m)\u001b[0m  \u001b[0;31m# type: ignore[arg-type]\u001b[0m\u001b[0;34m\u001b[0m\u001b[0;34m\u001b[0m\u001b[0m\n\u001b[0m\u001b[1;32m     52\u001b[0m \u001b[0;34m\u001b[0m\u001b[0m\n\u001b[1;32m     53\u001b[0m \u001b[0;34m\u001b[0m\u001b[0m\n",
            "\u001b[0;32m/usr/local/lib/python3.10/dist-packages/torch/serialization.py\u001b[0m in \u001b[0;36mload\u001b[0;34m(f, map_location, pickle_module, weights_only, **pickle_load_args)\u001b[0m\n\u001b[1;32m    807\u001b[0m                     \u001b[0;32mexcept\u001b[0m \u001b[0mRuntimeError\u001b[0m \u001b[0;32mas\u001b[0m \u001b[0me\u001b[0m\u001b[0;34m:\u001b[0m\u001b[0;34m\u001b[0m\u001b[0;34m\u001b[0m\u001b[0m\n\u001b[1;32m    808\u001b[0m                         \u001b[0;32mraise\u001b[0m \u001b[0mpickle\u001b[0m\u001b[0;34m.\u001b[0m\u001b[0mUnpicklingError\u001b[0m\u001b[0;34m(\u001b[0m\u001b[0mUNSAFE_MESSAGE\u001b[0m \u001b[0;34m+\u001b[0m \u001b[0mstr\u001b[0m\u001b[0;34m(\u001b[0m\u001b[0me\u001b[0m\u001b[0;34m)\u001b[0m\u001b[0;34m)\u001b[0m \u001b[0;32mfrom\u001b[0m \u001b[0;32mNone\u001b[0m\u001b[0;34m\u001b[0m\u001b[0;34m\u001b[0m\u001b[0m\n\u001b[0;32m--> 809\u001b[0;31m                 \u001b[0;32mreturn\u001b[0m \u001b[0m_load\u001b[0m\u001b[0;34m(\u001b[0m\u001b[0mopened_zipfile\u001b[0m\u001b[0;34m,\u001b[0m \u001b[0mmap_location\u001b[0m\u001b[0;34m,\u001b[0m \u001b[0mpickle_module\u001b[0m\u001b[0;34m,\u001b[0m \u001b[0;34m**\u001b[0m\u001b[0mpickle_load_args\u001b[0m\u001b[0;34m)\u001b[0m\u001b[0;34m\u001b[0m\u001b[0;34m\u001b[0m\u001b[0m\n\u001b[0m\u001b[1;32m    810\u001b[0m         \u001b[0;32mif\u001b[0m \u001b[0mweights_only\u001b[0m\u001b[0;34m:\u001b[0m\u001b[0;34m\u001b[0m\u001b[0;34m\u001b[0m\u001b[0m\n\u001b[1;32m    811\u001b[0m             \u001b[0;32mtry\u001b[0m\u001b[0;34m:\u001b[0m\u001b[0;34m\u001b[0m\u001b[0;34m\u001b[0m\u001b[0m\n",
            "\u001b[0;32m/usr/local/lib/python3.10/dist-packages/torch/serialization.py\u001b[0m in \u001b[0;36m_load\u001b[0;34m(zip_file, map_location, pickle_module, pickle_file, **pickle_load_args)\u001b[0m\n\u001b[1;32m   1170\u001b[0m     \u001b[0munpickler\u001b[0m \u001b[0;34m=\u001b[0m \u001b[0mUnpicklerWrapper\u001b[0m\u001b[0;34m(\u001b[0m\u001b[0mdata_file\u001b[0m\u001b[0;34m,\u001b[0m \u001b[0;34m**\u001b[0m\u001b[0mpickle_load_args\u001b[0m\u001b[0;34m)\u001b[0m\u001b[0;34m\u001b[0m\u001b[0;34m\u001b[0m\u001b[0m\n\u001b[1;32m   1171\u001b[0m     \u001b[0munpickler\u001b[0m\u001b[0;34m.\u001b[0m\u001b[0mpersistent_load\u001b[0m \u001b[0;34m=\u001b[0m \u001b[0mpersistent_load\u001b[0m\u001b[0;34m\u001b[0m\u001b[0;34m\u001b[0m\u001b[0m\n\u001b[0;32m-> 1172\u001b[0;31m     \u001b[0mresult\u001b[0m \u001b[0;34m=\u001b[0m \u001b[0munpickler\u001b[0m\u001b[0;34m.\u001b[0m\u001b[0mload\u001b[0m\u001b[0;34m(\u001b[0m\u001b[0;34m)\u001b[0m\u001b[0;34m\u001b[0m\u001b[0;34m\u001b[0m\u001b[0m\n\u001b[0m\u001b[1;32m   1173\u001b[0m \u001b[0;34m\u001b[0m\u001b[0m\n\u001b[1;32m   1174\u001b[0m     \u001b[0mtorch\u001b[0m\u001b[0;34m.\u001b[0m\u001b[0m_utils\u001b[0m\u001b[0;34m.\u001b[0m\u001b[0m_validate_loaded_sparse_tensors\u001b[0m\u001b[0;34m(\u001b[0m\u001b[0;34m)\u001b[0m\u001b[0;34m\u001b[0m\u001b[0;34m\u001b[0m\u001b[0m\n",
            "\u001b[0;32m/usr/lib/python3.10/pickle.py\u001b[0m in \u001b[0;36mload\u001b[0;34m(self)\u001b[0m\n\u001b[1;32m   1211\u001b[0m                     \u001b[0;32mraise\u001b[0m \u001b[0mEOFError\u001b[0m\u001b[0;34m\u001b[0m\u001b[0;34m\u001b[0m\u001b[0m\n\u001b[1;32m   1212\u001b[0m                 \u001b[0;32massert\u001b[0m \u001b[0misinstance\u001b[0m\u001b[0;34m(\u001b[0m\u001b[0mkey\u001b[0m\u001b[0;34m,\u001b[0m \u001b[0mbytes_types\u001b[0m\u001b[0;34m)\u001b[0m\u001b[0;34m\u001b[0m\u001b[0;34m\u001b[0m\u001b[0m\n\u001b[0;32m-> 1213\u001b[0;31m                 \u001b[0mdispatch\u001b[0m\u001b[0;34m[\u001b[0m\u001b[0mkey\u001b[0m\u001b[0;34m[\u001b[0m\u001b[0;36m0\u001b[0m\u001b[0;34m]\u001b[0m\u001b[0;34m]\u001b[0m\u001b[0;34m(\u001b[0m\u001b[0mself\u001b[0m\u001b[0;34m)\u001b[0m\u001b[0;34m\u001b[0m\u001b[0;34m\u001b[0m\u001b[0m\n\u001b[0m\u001b[1;32m   1214\u001b[0m         \u001b[0;32mexcept\u001b[0m \u001b[0m_Stop\u001b[0m \u001b[0;32mas\u001b[0m \u001b[0mstopinst\u001b[0m\u001b[0;34m:\u001b[0m\u001b[0;34m\u001b[0m\u001b[0;34m\u001b[0m\u001b[0m\n\u001b[1;32m   1215\u001b[0m             \u001b[0;32mreturn\u001b[0m \u001b[0mstopinst\u001b[0m\u001b[0;34m.\u001b[0m\u001b[0mvalue\u001b[0m\u001b[0;34m\u001b[0m\u001b[0;34m\u001b[0m\u001b[0m\n",
            "\u001b[0;32m/usr/lib/python3.10/pickle.py\u001b[0m in \u001b[0;36mload_binpersid\u001b[0;34m(self)\u001b[0m\n\u001b[1;32m   1252\u001b[0m     \u001b[0;32mdef\u001b[0m \u001b[0mload_binpersid\u001b[0m\u001b[0;34m(\u001b[0m\u001b[0mself\u001b[0m\u001b[0;34m)\u001b[0m\u001b[0;34m:\u001b[0m\u001b[0;34m\u001b[0m\u001b[0;34m\u001b[0m\u001b[0m\n\u001b[1;32m   1253\u001b[0m         \u001b[0mpid\u001b[0m \u001b[0;34m=\u001b[0m \u001b[0mself\u001b[0m\u001b[0;34m.\u001b[0m\u001b[0mstack\u001b[0m\u001b[0;34m.\u001b[0m\u001b[0mpop\u001b[0m\u001b[0;34m(\u001b[0m\u001b[0;34m)\u001b[0m\u001b[0;34m\u001b[0m\u001b[0;34m\u001b[0m\u001b[0m\n\u001b[0;32m-> 1254\u001b[0;31m         \u001b[0mself\u001b[0m\u001b[0;34m.\u001b[0m\u001b[0mappend\u001b[0m\u001b[0;34m(\u001b[0m\u001b[0mself\u001b[0m\u001b[0;34m.\u001b[0m\u001b[0mpersistent_load\u001b[0m\u001b[0;34m(\u001b[0m\u001b[0mpid\u001b[0m\u001b[0;34m)\u001b[0m\u001b[0;34m)\u001b[0m\u001b[0;34m\u001b[0m\u001b[0;34m\u001b[0m\u001b[0m\n\u001b[0m\u001b[1;32m   1255\u001b[0m     \u001b[0mdispatch\u001b[0m\u001b[0;34m[\u001b[0m\u001b[0mBINPERSID\u001b[0m\u001b[0;34m[\u001b[0m\u001b[0;36m0\u001b[0m\u001b[0;34m]\u001b[0m\u001b[0;34m]\u001b[0m \u001b[0;34m=\u001b[0m \u001b[0mload_binpersid\u001b[0m\u001b[0;34m\u001b[0m\u001b[0;34m\u001b[0m\u001b[0m\n\u001b[1;32m   1256\u001b[0m \u001b[0;34m\u001b[0m\u001b[0m\n",
            "\u001b[0;32m/usr/local/lib/python3.10/dist-packages/torch/serialization.py\u001b[0m in \u001b[0;36mpersistent_load\u001b[0;34m(saved_id)\u001b[0m\n\u001b[1;32m   1140\u001b[0m         \u001b[0;32melse\u001b[0m\u001b[0;34m:\u001b[0m\u001b[0;34m\u001b[0m\u001b[0;34m\u001b[0m\u001b[0m\n\u001b[1;32m   1141\u001b[0m             \u001b[0mnbytes\u001b[0m \u001b[0;34m=\u001b[0m \u001b[0mnumel\u001b[0m \u001b[0;34m*\u001b[0m \u001b[0mtorch\u001b[0m\u001b[0;34m.\u001b[0m\u001b[0m_utils\u001b[0m\u001b[0;34m.\u001b[0m\u001b[0m_element_size\u001b[0m\u001b[0;34m(\u001b[0m\u001b[0mdtype\u001b[0m\u001b[0;34m)\u001b[0m\u001b[0;34m\u001b[0m\u001b[0;34m\u001b[0m\u001b[0m\n\u001b[0;32m-> 1142\u001b[0;31m             \u001b[0mtyped_storage\u001b[0m \u001b[0;34m=\u001b[0m \u001b[0mload_tensor\u001b[0m\u001b[0;34m(\u001b[0m\u001b[0mdtype\u001b[0m\u001b[0;34m,\u001b[0m \u001b[0mnbytes\u001b[0m\u001b[0;34m,\u001b[0m \u001b[0mkey\u001b[0m\u001b[0;34m,\u001b[0m \u001b[0m_maybe_decode_ascii\u001b[0m\u001b[0;34m(\u001b[0m\u001b[0mlocation\u001b[0m\u001b[0;34m)\u001b[0m\u001b[0;34m)\u001b[0m\u001b[0;34m\u001b[0m\u001b[0;34m\u001b[0m\u001b[0m\n\u001b[0m\u001b[1;32m   1143\u001b[0m \u001b[0;34m\u001b[0m\u001b[0m\n\u001b[1;32m   1144\u001b[0m         \u001b[0;32mreturn\u001b[0m \u001b[0mtyped_storage\u001b[0m\u001b[0;34m\u001b[0m\u001b[0;34m\u001b[0m\u001b[0m\n",
            "\u001b[0;32m/usr/local/lib/python3.10/dist-packages/torch/serialization.py\u001b[0m in \u001b[0;36mload_tensor\u001b[0;34m(dtype, numel, key, location)\u001b[0m\n\u001b[1;32m   1114\u001b[0m         \u001b[0;31m# stop wrapping with TypedStorage\u001b[0m\u001b[0;34m\u001b[0m\u001b[0;34m\u001b[0m\u001b[0m\n\u001b[1;32m   1115\u001b[0m         typed_storage = torch.storage.TypedStorage(\n\u001b[0;32m-> 1116\u001b[0;31m             \u001b[0mwrap_storage\u001b[0m\u001b[0;34m=\u001b[0m\u001b[0mrestore_location\u001b[0m\u001b[0;34m(\u001b[0m\u001b[0mstorage\u001b[0m\u001b[0;34m,\u001b[0m \u001b[0mlocation\u001b[0m\u001b[0;34m)\u001b[0m\u001b[0;34m,\u001b[0m\u001b[0;34m\u001b[0m\u001b[0;34m\u001b[0m\u001b[0m\n\u001b[0m\u001b[1;32m   1117\u001b[0m             \u001b[0mdtype\u001b[0m\u001b[0;34m=\u001b[0m\u001b[0mdtype\u001b[0m\u001b[0;34m,\u001b[0m\u001b[0;34m\u001b[0m\u001b[0;34m\u001b[0m\u001b[0m\n\u001b[1;32m   1118\u001b[0m             _internal=True)\n",
            "\u001b[0;32m/usr/local/lib/python3.10/dist-packages/torch/serialization.py\u001b[0m in \u001b[0;36mdefault_restore_location\u001b[0;34m(storage, location)\u001b[0m\n\u001b[1;32m    215\u001b[0m \u001b[0;32mdef\u001b[0m \u001b[0mdefault_restore_location\u001b[0m\u001b[0;34m(\u001b[0m\u001b[0mstorage\u001b[0m\u001b[0;34m,\u001b[0m \u001b[0mlocation\u001b[0m\u001b[0;34m)\u001b[0m\u001b[0;34m:\u001b[0m\u001b[0;34m\u001b[0m\u001b[0;34m\u001b[0m\u001b[0m\n\u001b[1;32m    216\u001b[0m     \u001b[0;32mfor\u001b[0m \u001b[0m_\u001b[0m\u001b[0;34m,\u001b[0m \u001b[0m_\u001b[0m\u001b[0;34m,\u001b[0m \u001b[0mfn\u001b[0m \u001b[0;32min\u001b[0m \u001b[0m_package_registry\u001b[0m\u001b[0;34m:\u001b[0m\u001b[0;34m\u001b[0m\u001b[0;34m\u001b[0m\u001b[0m\n\u001b[0;32m--> 217\u001b[0;31m         \u001b[0mresult\u001b[0m \u001b[0;34m=\u001b[0m \u001b[0mfn\u001b[0m\u001b[0;34m(\u001b[0m\u001b[0mstorage\u001b[0m\u001b[0;34m,\u001b[0m \u001b[0mlocation\u001b[0m\u001b[0;34m)\u001b[0m\u001b[0;34m\u001b[0m\u001b[0;34m\u001b[0m\u001b[0m\n\u001b[0m\u001b[1;32m    218\u001b[0m         \u001b[0;32mif\u001b[0m \u001b[0mresult\u001b[0m \u001b[0;32mis\u001b[0m \u001b[0;32mnot\u001b[0m \u001b[0;32mNone\u001b[0m\u001b[0;34m:\u001b[0m\u001b[0;34m\u001b[0m\u001b[0;34m\u001b[0m\u001b[0m\n\u001b[1;32m    219\u001b[0m             \u001b[0;32mreturn\u001b[0m \u001b[0mresult\u001b[0m\u001b[0;34m\u001b[0m\u001b[0;34m\u001b[0m\u001b[0m\n",
            "\u001b[0;32m/usr/local/lib/python3.10/dist-packages/torch/serialization.py\u001b[0m in \u001b[0;36m_cuda_deserialize\u001b[0;34m(obj, location)\u001b[0m\n\u001b[1;32m    180\u001b[0m \u001b[0;32mdef\u001b[0m \u001b[0m_cuda_deserialize\u001b[0m\u001b[0;34m(\u001b[0m\u001b[0mobj\u001b[0m\u001b[0;34m,\u001b[0m \u001b[0mlocation\u001b[0m\u001b[0;34m)\u001b[0m\u001b[0;34m:\u001b[0m\u001b[0;34m\u001b[0m\u001b[0;34m\u001b[0m\u001b[0m\n\u001b[1;32m    181\u001b[0m     \u001b[0;32mif\u001b[0m \u001b[0mlocation\u001b[0m\u001b[0;34m.\u001b[0m\u001b[0mstartswith\u001b[0m\u001b[0;34m(\u001b[0m\u001b[0;34m'cuda'\u001b[0m\u001b[0;34m)\u001b[0m\u001b[0;34m:\u001b[0m\u001b[0;34m\u001b[0m\u001b[0;34m\u001b[0m\u001b[0m\n\u001b[0;32m--> 182\u001b[0;31m         \u001b[0mdevice\u001b[0m \u001b[0;34m=\u001b[0m \u001b[0mvalidate_cuda_device\u001b[0m\u001b[0;34m(\u001b[0m\u001b[0mlocation\u001b[0m\u001b[0;34m)\u001b[0m\u001b[0;34m\u001b[0m\u001b[0;34m\u001b[0m\u001b[0m\n\u001b[0m\u001b[1;32m    183\u001b[0m         \u001b[0;32mif\u001b[0m \u001b[0mgetattr\u001b[0m\u001b[0;34m(\u001b[0m\u001b[0mobj\u001b[0m\u001b[0;34m,\u001b[0m \u001b[0;34m\"_torch_load_uninitialized\"\u001b[0m\u001b[0;34m,\u001b[0m \u001b[0;32mFalse\u001b[0m\u001b[0;34m)\u001b[0m\u001b[0;34m:\u001b[0m\u001b[0;34m\u001b[0m\u001b[0;34m\u001b[0m\u001b[0m\n\u001b[1;32m    184\u001b[0m             \u001b[0;32mwith\u001b[0m \u001b[0mtorch\u001b[0m\u001b[0;34m.\u001b[0m\u001b[0mcuda\u001b[0m\u001b[0;34m.\u001b[0m\u001b[0mdevice\u001b[0m\u001b[0;34m(\u001b[0m\u001b[0mdevice\u001b[0m\u001b[0;34m)\u001b[0m\u001b[0;34m:\u001b[0m\u001b[0;34m\u001b[0m\u001b[0;34m\u001b[0m\u001b[0m\n",
            "\u001b[0;32m/usr/local/lib/python3.10/dist-packages/torch/serialization.py\u001b[0m in \u001b[0;36mvalidate_cuda_device\u001b[0;34m(location)\u001b[0m\n\u001b[1;32m    164\u001b[0m \u001b[0;34m\u001b[0m\u001b[0m\n\u001b[1;32m    165\u001b[0m     \u001b[0;32mif\u001b[0m \u001b[0;32mnot\u001b[0m \u001b[0mtorch\u001b[0m\u001b[0;34m.\u001b[0m\u001b[0mcuda\u001b[0m\u001b[0;34m.\u001b[0m\u001b[0mis_available\u001b[0m\u001b[0;34m(\u001b[0m\u001b[0;34m)\u001b[0m\u001b[0;34m:\u001b[0m\u001b[0;34m\u001b[0m\u001b[0;34m\u001b[0m\u001b[0m\n\u001b[0;32m--> 166\u001b[0;31m         raise RuntimeError('Attempting to deserialize object on a CUDA '\n\u001b[0m\u001b[1;32m    167\u001b[0m                            \u001b[0;34m'device but torch.cuda.is_available() is False. '\u001b[0m\u001b[0;34m\u001b[0m\u001b[0;34m\u001b[0m\u001b[0m\n\u001b[1;32m    168\u001b[0m                            \u001b[0;34m'If you are running on a CPU-only machine, '\u001b[0m\u001b[0;34m\u001b[0m\u001b[0;34m\u001b[0m\u001b[0m\n",
            "\u001b[0;31mRuntimeError\u001b[0m: Attempting to deserialize object on a CUDA device but torch.cuda.is_available() is False. If you are running on a CPU-only machine, please use torch.load with map_location=torch.device('cpu') to map your storages to the CPU."
          ]
        }
      ],
      "source": [
        "simclr_model = train_simclr(batch_size=256, \n",
        "                            hidden_dim=128, \n",
        "                            lr=5e-4, \n",
        "                            temperature=0.07, \n",
        "                            weight_decay=1e-4, \n",
        "                            max_epochs=500)"
      ]
    },
    {
      "cell_type": "markdown",
      "metadata": {
        "id": "anVTSutX55Ok"
      },
      "source": [
        "To get an intuition of how training with contrastive learning behaves, we can take a look at the TensorBoard below:"
      ]
    },
    {
      "cell_type": "code",
      "execution_count": null,
      "metadata": {
        "id": "s6nQSnqJ55Ok"
      },
      "outputs": [],
      "source": [
        "%tensorboard --logdir ../saved_models/tutorial17/tensorboards/SimCLR/"
      ]
    },
    {
      "cell_type": "markdown",
      "metadata": {
        "id": "GqrB0McU55Ol"
      },
      "source": [
        "<center width=\"100%\"><img src=\"https://github.com/phlippe/uvadlc_notebooks/blob/master/docs/tutorial_notebooks/tutorial17/tensorboard_simclr.png?raw=1\" width=\"1200px\"></center>\n",
        "\n",
        "One thing to note is that contrastive learning benefits a lot from long training. The shown plot above is from a training that took approx. 1 day on a NVIDIA TitanRTX. Training the model for even longer might reduce its loss further, but we did not experience any gains from it for the downstream task on image classification. In general, contrastive learning can also benefit from using larger models, if sufficient unlabeled data is available."
      ]
    },
    {
      "cell_type": "markdown",
      "metadata": {
        "id": "ypN-sT-w55Ol"
      },
      "source": [
        "## Logistic Regression\n",
        "\n",
        "After we have trained our model via contrastive learning, we can deploy it on downstream tasks and see how well it performs with little data. A common setup, which also verifies whether the model has learned generalized representations, is to perform Logistic Regression on the features. In other words, we learn a single, linear layer that maps the representations to a class prediction. Since the base network $f(\\cdot)$ is not changed during the training process, the model can only perform well if the representations of $h$ describe all features that might be necessary for the task. Further, we do not have to worry too much about overfitting since we have very few parameters that are trained. Hence, we might expect that the model can perform well even with very little data.\n",
        "\n",
        "First, let's implement a simple Logistic Regression setup for which we assume that the images already have been encoded in their feature vectors. If very little data is available, it might be beneficial to dynamically encode the images during training so that we can also apply data augmentations. However, the way we implement it here is much more efficient and can be trained within a few seconds. Further, using data augmentations did not show any significant gain in this simple setup."
      ]
    },
    {
      "cell_type": "code",
      "execution_count": null,
      "metadata": {
        "id": "VffV8KPX55Om"
      },
      "outputs": [],
      "source": [
        "class LogisticRegression(pl.LightningModule):\n",
        "    \n",
        "    def __init__(self, feature_dim, num_classes, lr, weight_decay, max_epochs=100):\n",
        "        super().__init__()\n",
        "        self.save_hyperparameters()\n",
        "        # Mapping from representation h to classes\n",
        "        self.model = nn.Linear(feature_dim, num_classes)\n",
        "\n",
        "    def configure_optimizers(self):\n",
        "        optimizer = optim.AdamW(self.parameters(), \n",
        "                                lr=self.hparams.lr, \n",
        "                                weight_decay=self.hparams.weight_decay)\n",
        "        lr_scheduler = optim.lr_scheduler.MultiStepLR(optimizer, \n",
        "                                                      milestones=[int(self.hparams.max_epochs*0.6), \n",
        "                                                                  int(self.hparams.max_epochs*0.8)], \n",
        "                                                      gamma=0.1)\n",
        "        return [optimizer], [lr_scheduler]\n",
        "        \n",
        "    def _calculate_loss(self, batch, mode='train'):\n",
        "        feats, labels = batch\n",
        "        preds = self.model(feats)\n",
        "        loss = F.cross_entropy(preds, labels)\n",
        "        acc = (preds.argmax(dim=-1) == labels).float().mean()\n",
        "\n",
        "        self.log(mode + '_loss', loss)\n",
        "        self.log(mode + '_acc', acc)\n",
        "        return loss        \n",
        "        \n",
        "    def training_step(self, batch, batch_idx):\n",
        "        return self._calculate_loss(batch, mode='train')\n",
        "        \n",
        "    def validation_step(self, batch, batch_idx):\n",
        "        self._calculate_loss(batch, mode='val')\n",
        "        \n",
        "    def test_step(self, batch, batch_idx):\n",
        "        self._calculate_loss(batch, mode='test')"
      ]
    },
    {
      "cell_type": "markdown",
      "metadata": {
        "id": "AoQ3otao55On"
      },
      "source": [
        "The data we use is the training and test set of STL10. The training contains 500 images per class, while the test set has 800 images per class."
      ]
    },
    {
      "cell_type": "code",
      "execution_count": null,
      "metadata": {
        "id": "D7_Pumn055Oo",
        "outputId": "b0b81ff1-5d53-475c-8b2c-2b34dac2dbe2"
      },
      "outputs": [
        {
          "name": "stdout",
          "output_type": "stream",
          "text": [
            "Files already downloaded and verified\n",
            "Files already downloaded and verified\n",
            "Number of training examples: 5000\n",
            "Number of test examples: 8000\n"
          ]
        }
      ],
      "source": [
        "img_transforms = transforms.Compose([transforms.ToTensor(),\n",
        "                                     transforms.Normalize((0.5,), (0.5,))])\n",
        "\n",
        "train_img_data = STL10(root=DATASET_PATH, split='train', download=True,\n",
        "                       transform=img_transforms)\n",
        "test_img_data = STL10(root=DATASET_PATH, split='test', download=True,\n",
        "                      transform=img_transforms)\n",
        "\n",
        "print(\"Number of training examples:\", len(train_img_data))\n",
        "print(\"Number of test examples:\", len(test_img_data))"
      ]
    },
    {
      "cell_type": "markdown",
      "metadata": {
        "id": "B5DtBiYD55Op"
      },
      "source": [
        "Next, we implement a small function to encode all images in our datasets. The output representations are then used as inputs to the Logistic Regression model."
      ]
    },
    {
      "cell_type": "code",
      "execution_count": null,
      "metadata": {
        "id": "dipETlA955Op"
      },
      "outputs": [],
      "source": [
        "@torch.no_grad()\n",
        "def prepare_data_features(model, dataset):\n",
        "    # Prepare model\n",
        "    network = deepcopy(model.convnet)\n",
        "    network.fc = nn.Identity()  # Removing projection head g(.)\n",
        "    network.eval()\n",
        "    network.to(device)\n",
        "    \n",
        "    # Encode all images\n",
        "    data_loader = data.DataLoader(dataset, batch_size=64, num_workers=NUM_WORKERS, shuffle=False, drop_last=False)\n",
        "    feats, labels = [], []\n",
        "    for batch_imgs, batch_labels in tqdm(data_loader):\n",
        "        batch_imgs = batch_imgs.to(device)\n",
        "        batch_feats = network(batch_imgs)\n",
        "        feats.append(batch_feats.detach().cpu())\n",
        "        labels.append(batch_labels)\n",
        "    \n",
        "    feats = torch.cat(feats, dim=0)\n",
        "    labels = torch.cat(labels, dim=0)\n",
        "    \n",
        "    # Sort images by labels\n",
        "    labels, idxs = labels.sort()\n",
        "    feats = feats[idxs]\n",
        "    \n",
        "    return data.TensorDataset(feats, labels)"
      ]
    },
    {
      "cell_type": "markdown",
      "metadata": {
        "id": "hRhkvc3Z55Oq"
      },
      "source": [
        "Let's apply the function to both training and test set below."
      ]
    },
    {
      "cell_type": "code",
      "execution_count": null,
      "metadata": {
        "colab": {
          "referenced_widgets": [
            "51bfd549d76e4f9a82fcdf350de1f796",
            "158ab425a0aa4179ac7c3b449c371aa9"
          ]
        },
        "id": "G4loxBPr55Oq",
        "outputId": "d2b8e67a-b6e1-4ce4-b2c3-449ca7b35214"
      },
      "outputs": [
        {
          "data": {
            "application/vnd.jupyter.widget-view+json": {
              "model_id": "51bfd549d76e4f9a82fcdf350de1f796",
              "version_major": 2,
              "version_minor": 0
            },
            "text/plain": [
              "  0%|          | 0/79 [00:00<?, ?it/s]"
            ]
          },
          "metadata": {},
          "output_type": "display_data"
        },
        {
          "name": "stderr",
          "output_type": "stream",
          "text": [
            "/home/phillip/anaconda3/envs/dl2020/lib/python3.7/site-packages/torch/nn/functional.py:718: UserWarning: Named tensors and all their associated APIs are an experimental feature and subject to change. Please do not use them for anything important until they are released as stable. (Triggered internally at  /opt/conda/conda-bld/pytorch_1623448265233/work/c10/core/TensorImpl.h:1156.)\n",
            "  return torch.max_pool2d(input, kernel_size, stride, padding, dilation, ceil_mode)\n"
          ]
        },
        {
          "data": {
            "application/vnd.jupyter.widget-view+json": {
              "model_id": "158ab425a0aa4179ac7c3b449c371aa9",
              "version_major": 2,
              "version_minor": 0
            },
            "text/plain": [
              "  0%|          | 0/125 [00:00<?, ?it/s]"
            ]
          },
          "metadata": {},
          "output_type": "display_data"
        }
      ],
      "source": [
        "train_feats_simclr = prepare_data_features(simclr_model, train_img_data)\n",
        "test_feats_simclr = prepare_data_features(simclr_model, test_img_data)"
      ]
    },
    {
      "cell_type": "markdown",
      "metadata": {
        "id": "ZrdJEYYf55Or"
      },
      "source": [
        "Finally, we can write a training function as usual. We evaluate the model on the test set every 10 epochs to allow early stopping, but the low frequency of the validation ensures that we do not overfit too much on the test set."
      ]
    },
    {
      "cell_type": "code",
      "execution_count": null,
      "metadata": {
        "id": "KVhKPpu155Os"
      },
      "outputs": [],
      "source": [
        "def train_logreg(batch_size, train_feats_data, test_feats_data, model_suffix, max_epochs=100, **kwargs):\n",
        "    trainer = pl.Trainer(default_root_dir=os.path.join(CHECKPOINT_PATH, \"LogisticRegression\"),\n",
        "                         accelerator=\"gpu\" if str(device).startswith(\"cuda\") else \"cpu\",\n",
        "                         devices=1,\n",
        "                         max_epochs=max_epochs,\n",
        "                         callbacks=[ModelCheckpoint(save_weights_only=True, mode='max', monitor='val_acc'),\n",
        "                                    LearningRateMonitor(\"epoch\")],\n",
        "                         enable_progress_bar=False,\n",
        "                         check_val_every_n_epoch=10)\n",
        "    trainer.logger._default_hp_metric = None\n",
        "    \n",
        "    # Data loaders\n",
        "    train_loader = data.DataLoader(train_feats_data, batch_size=batch_size, shuffle=True, \n",
        "                                   drop_last=False, pin_memory=True, num_workers=0)\n",
        "    test_loader = data.DataLoader(test_feats_data, batch_size=batch_size, shuffle=False, \n",
        "                                  drop_last=False, pin_memory=True, num_workers=0)\n",
        "\n",
        "    # Check whether pretrained model exists. If yes, load it and skip training\n",
        "    pretrained_filename = os.path.join(CHECKPOINT_PATH, f\"LogisticRegression_{model_suffix}.ckpt\")\n",
        "    if os.path.isfile(pretrained_filename):\n",
        "        print(f\"Found pretrained model at {pretrained_filename}, loading...\")\n",
        "        model = LogisticRegression.load_from_checkpoint(pretrained_filename)\n",
        "    else:\n",
        "        pl.seed_everything(42)  # To be reproducable\n",
        "        model = LogisticRegression(**kwargs)\n",
        "        trainer.fit(model, train_loader, test_loader)\n",
        "        model = LogisticRegression.load_from_checkpoint(trainer.checkpoint_callback.best_model_path)\n",
        "\n",
        "    # Test best model on train and validation set\n",
        "    train_result = trainer.test(model, train_loader, verbose=False)\n",
        "    test_result = trainer.test(model, test_loader, verbose=False)\n",
        "    result = {\"train\": train_result[0][\"test_acc\"], \"test\": test_result[0][\"test_acc\"]}\n",
        "        \n",
        "    return model, result"
      ]
    },
    {
      "cell_type": "markdown",
      "metadata": {
        "id": "jTUlXnBH55Os"
      },
      "source": [
        "Despite the training dataset of STL10 already only having 500 labeled images per class, we will perform experiments with even smaller datasets. Specifically, we train a Logistic Regression model for datasets with only 10, 20, 50, 100, 200, and all 500 examples per class. This gives us an intuition on how well the representations learned by contrastive learning can be transfered to a image recognition task like this classification. First, let's define a function to create the intended sub-datasets from the full training set:"
      ]
    },
    {
      "cell_type": "code",
      "execution_count": null,
      "metadata": {
        "id": "hbcMKwQG55Ot"
      },
      "outputs": [],
      "source": [
        "def get_smaller_dataset(original_dataset, num_imgs_per_label):\n",
        "    new_dataset = data.TensorDataset(\n",
        "        *[t.unflatten(0, (10, -1))[:,:num_imgs_per_label].flatten(0, 1) for t in original_dataset.tensors]\n",
        "    )\n",
        "    return new_dataset"
      ]
    },
    {
      "cell_type": "markdown",
      "metadata": {
        "id": "pJQzyzC955Ou"
      },
      "source": [
        "Next, let's run all models. Despite us training 6 models, this cell could be run within a minute or two without the pretrained models. "
      ]
    },
    {
      "cell_type": "code",
      "execution_count": null,
      "metadata": {
        "scrolled": true,
        "id": "GKJaKgUe55Ou",
        "outputId": "61d51687-6ad9-4222-bf2c-ca90ac16f024"
      },
      "outputs": [
        {
          "name": "stderr",
          "output_type": "stream",
          "text": [
            "GPU available: True, used: True\n",
            "TPU available: False, using: 0 TPU cores\n",
            "LOCAL_RANK: 0 - CUDA_VISIBLE_DEVICES: [0,1]\n",
            "/home/phillip/anaconda3/envs/dl2020/lib/python3.7/site-packages/pytorch_lightning/utilities/distributed.py:69: UserWarning: Your test_dataloader has `shuffle=True`, it is best practice to turn this off for val/test/predict dataloaders.\n",
            "  warnings.warn(*args, **kwargs)\n",
            "/home/phillip/anaconda3/envs/dl2020/lib/python3.7/site-packages/pytorch_lightning/utilities/distributed.py:69: UserWarning: The dataloader, test dataloader 0, does not have many workers which may be a bottleneck. Consider increasing the value of the `num_workers` argument` (try 16 which is the number of cpus on this machine) in the `DataLoader` init to improve performance.\n",
            "  warnings.warn(*args, **kwargs)\n",
            "LOCAL_RANK: 0 - CUDA_VISIBLE_DEVICES: [0,1]\n",
            "GPU available: True, used: True\n",
            "TPU available: False, using: 0 TPU cores\n",
            "LOCAL_RANK: 0 - CUDA_VISIBLE_DEVICES: [0,1]\n",
            "LOCAL_RANK: 0 - CUDA_VISIBLE_DEVICES: [0,1]\n"
          ]
        },
        {
          "name": "stdout",
          "output_type": "stream",
          "text": [
            "Found pretrained model at ../saved_models/tutorial17/LogisticRegression_10.ckpt, loading...\n",
            "Found pretrained model at ../saved_models/tutorial17/LogisticRegression_20.ckpt, loading...\n"
          ]
        },
        {
          "name": "stderr",
          "output_type": "stream",
          "text": [
            "GPU available: True, used: True\n",
            "TPU available: False, using: 0 TPU cores\n",
            "LOCAL_RANK: 0 - CUDA_VISIBLE_DEVICES: [0,1]\n",
            "LOCAL_RANK: 0 - CUDA_VISIBLE_DEVICES: [0,1]\n",
            "GPU available: True, used: True\n",
            "TPU available: False, using: 0 TPU cores\n",
            "LOCAL_RANK: 0 - CUDA_VISIBLE_DEVICES: [0,1]\n",
            "LOCAL_RANK: 0 - CUDA_VISIBLE_DEVICES: [0,1]\n"
          ]
        },
        {
          "name": "stdout",
          "output_type": "stream",
          "text": [
            "Found pretrained model at ../saved_models/tutorial17/LogisticRegression_50.ckpt, loading...\n",
            "Found pretrained model at ../saved_models/tutorial17/LogisticRegression_100.ckpt, loading...\n"
          ]
        },
        {
          "name": "stderr",
          "output_type": "stream",
          "text": [
            "GPU available: True, used: True\n",
            "TPU available: False, using: 0 TPU cores\n",
            "LOCAL_RANK: 0 - CUDA_VISIBLE_DEVICES: [0,1]\n",
            "LOCAL_RANK: 0 - CUDA_VISIBLE_DEVICES: [0,1]\n",
            "GPU available: True, used: True\n",
            "TPU available: False, using: 0 TPU cores\n",
            "LOCAL_RANK: 0 - CUDA_VISIBLE_DEVICES: [0,1]\n"
          ]
        },
        {
          "name": "stdout",
          "output_type": "stream",
          "text": [
            "Found pretrained model at ../saved_models/tutorial17/LogisticRegression_200.ckpt, loading...\n",
            "Found pretrained model at ../saved_models/tutorial17/LogisticRegression_500.ckpt, loading...\n"
          ]
        },
        {
          "name": "stderr",
          "output_type": "stream",
          "text": [
            "LOCAL_RANK: 0 - CUDA_VISIBLE_DEVICES: [0,1]\n"
          ]
        }
      ],
      "source": [
        "results = {}\n",
        "for num_imgs_per_label in [10, 20, 50, 100, 200, 500]:\n",
        "    sub_train_set = get_smaller_dataset(train_feats_simclr, num_imgs_per_label)\n",
        "    _, small_set_results = train_logreg(batch_size=64,\n",
        "                                        train_feats_data=sub_train_set,\n",
        "                                        test_feats_data=test_feats_simclr,\n",
        "                                        model_suffix=num_imgs_per_label,\n",
        "                                        feature_dim=train_feats_simclr.tensors[0].shape[1],\n",
        "                                        num_classes=10,\n",
        "                                        lr=1e-3,\n",
        "                                        weight_decay=1e-3)\n",
        "    results[num_imgs_per_label] = small_set_results"
      ]
    },
    {
      "cell_type": "markdown",
      "metadata": {
        "id": "0gTjbTGv55Ov"
      },
      "source": [
        "Finally, let's plot the results."
      ]
    },
    {
      "cell_type": "code",
      "execution_count": null,
      "metadata": {
        "id": "uy0Czg4n55Ox",
        "outputId": "624fa9a5-56db-4d42-b707-1ad3f391d5c5"
      },
      "outputs": [
        {
          "data": {
            "application/pdf": "[encoded data removed]",
            "image/svg+xml": [
              "<?xml version=\"1.0\" encoding=\"utf-8\" standalone=\"no\"?>\n",
              "<!DOCTYPE svg PUBLIC \"-//W3C//DTD SVG 1.1//EN\"\n",
              "  \"http://www.w3.org/Graphics/SVG/1.1/DTD/svg11.dtd\">\n",
              "<!-- Created with matplotlib (https://matplotlib.org/) -->\n",
              "<svg height=\"282.682031pt\" version=\"1.1\" viewBox=\"0 0 401.339063 282.682031\" width=\"401.339063pt\" xmlns=\"http://www.w3.org/2000/svg\" xmlns:xlink=\"http://www.w3.org/1999/xlink\">\n",
              " <metadata>\n",
              "  <rdf:RDF xmlns:cc=\"http://creativecommons.org/ns#\" xmlns:dc=\"http://purl.org/dc/elements/1.1/\" xmlns:rdf=\"http://www.w3.org/1999/02/22-rdf-syntax-ns#\">\n",
              "   <cc:Work>\n",
              "    <dc:type rdf:resource=\"http://purl.org/dc/dcmitype/StillImage\"/>\n",
              "    <dc:date>2021-08-30T10:54:05.267743</dc:date>\n",
              "    <dc:format>image/svg+xml</dc:format>\n",
              "    <dc:creator>\n",
              "     <cc:Agent>\n",
              "      <dc:title>Matplotlib v3.3.2, https://matplotlib.org/</dc:title>\n",
              "     </cc:Agent>\n",
              "    </dc:creator>\n",
              "   </cc:Work>\n",
              "  </rdf:RDF>\n",
              " </metadata>\n",
              " <defs>\n",
              "  <style type=\"text/css\">*{stroke-linecap:butt;stroke-linejoin:round;}</style>\n",
              " </defs>\n",
              " <g id=\"figure_1\">\n",
              "  <g id=\"patch_1\">\n",
              "   <path d=\"M 0 282.682031 \n",
              "L 401.339063 282.682031 \n",
              "L 401.339063 0 \n",
              "L 0 0 \n",
              "z\n",
              "\" style=\"fill:#ffffff;\"/>\n",
              "  </g>\n",
              "  <g id=\"axes_1\">\n",
              "   <g id=\"patch_2\">\n",
              "    <path d=\"M 59.339063 240.660937 \n",
              "L 394.139063 240.660937 \n",
              "L 394.139063 23.220937 \n",
              "L 59.339063 23.220937 \n",
              "z\n",
              "\" style=\"fill:#eaeaf2;\"/>\n",
              "   </g>\n",
              "   <g id=\"matplotlib.axis_1\">\n",
              "    <g id=\"xtick_1\">\n",
              "     <g id=\"line2d_1\">\n",
              "      <path clip-path=\"url(#pa16a309c52)\" d=\"M 74.557244 240.660937 \n",
              "L 74.557244 23.220937 \n",
              "\" style=\"fill:none;stroke:#ffffff;stroke-linecap:round;\"/>\n",
              "     </g>\n",
              "     <g id=\"text_1\">\n",
              "      <!-- 10 -->\n",
              "      <g style=\"fill:#262626;\" transform=\"translate(68.440213 258.034531)scale(0.11 -0.11)\">\n",
              "       <defs>\n",
              "        <path d=\"M 37.25 0 \n",
              "L 28.46875 0 \n",
              "L 28.46875 56 \n",
              "Q 25.296875 52.984375 20.140625 49.953125 \n",
              "Q 14.984375 46.921875 10.890625 45.40625 \n",
              "L 10.890625 53.90625 \n",
              "Q 18.265625 57.375 23.78125 62.296875 \n",
              "Q 29.296875 67.234375 31.59375 71.875 \n",
              "L 37.25 71.875 \n",
              "z\n",
              "\" id=\"ArialMT-49\"/>\n",
              "        <path d=\"M 4.15625 35.296875 \n",
              "Q 4.15625 48 6.765625 55.734375 \n",
              "Q 9.375 63.484375 14.515625 67.671875 \n",
              "Q 19.671875 71.875 27.484375 71.875 \n",
              "Q 33.25 71.875 37.59375 69.546875 \n",
              "Q 41.9375 67.234375 44.765625 62.859375 \n",
              "Q 47.609375 58.5 49.21875 52.21875 \n",
              "Q 50.828125 45.953125 50.828125 35.296875 \n",
              "Q 50.828125 22.703125 48.234375 14.96875 \n",
              "Q 45.65625 7.234375 40.5 3 \n",
              "Q 35.359375 -1.21875 27.484375 -1.21875 \n",
              "Q 17.140625 -1.21875 11.234375 6.203125 \n",
              "Q 4.15625 15.140625 4.15625 35.296875 \n",
              "z\n",
              "M 13.1875 35.296875 \n",
              "Q 13.1875 17.671875 17.3125 11.828125 \n",
              "Q 21.4375 6 27.484375 6 \n",
              "Q 33.546875 6 37.671875 11.859375 \n",
              "Q 41.796875 17.71875 41.796875 35.296875 \n",
              "Q 41.796875 52.984375 37.671875 58.78125 \n",
              "Q 33.546875 64.59375 27.390625 64.59375 \n",
              "Q 21.34375 64.59375 17.71875 59.46875 \n",
              "Q 13.1875 52.9375 13.1875 35.296875 \n",
              "z\n",
              "\" id=\"ArialMT-48\"/>\n",
              "       </defs>\n",
              "       <use xlink:href=\"#ArialMT-49\"/>\n",
              "       <use x=\"55.615234\" xlink:href=\"#ArialMT-48\"/>\n",
              "      </g>\n",
              "     </g>\n",
              "    </g>\n",
              "    <g id=\"xtick_2\">\n",
              "     <g id=\"line2d_2\">\n",
              "      <path clip-path=\"url(#pa16a309c52)\" d=\"M 128.485556 240.660937 \n",
              "L 128.485556 23.220937 \n",
              "\" style=\"fill:none;stroke:#ffffff;stroke-linecap:round;\"/>\n",
              "     </g>\n",
              "     <g id=\"text_2\">\n",
              "      <!-- 20 -->\n",
              "      <g style=\"fill:#262626;\" transform=\"translate(122.368525 258.034531)scale(0.11 -0.11)\">\n",
              "       <defs>\n",
              "        <path d=\"M 50.34375 8.453125 \n",
              "L 50.34375 0 \n",
              "L 3.03125 0 \n",
              "Q 2.9375 3.171875 4.046875 6.109375 \n",
              "Q 5.859375 10.9375 9.828125 15.625 \n",
              "Q 13.8125 20.3125 21.34375 26.46875 \n",
              "Q 33.015625 36.03125 37.109375 41.625 \n",
              "Q 41.21875 47.21875 41.21875 52.203125 \n",
              "Q 41.21875 57.421875 37.46875 61 \n",
              "Q 33.734375 64.59375 27.734375 64.59375 \n",
              "Q 21.390625 64.59375 17.578125 60.78125 \n",
              "Q 13.765625 56.984375 13.71875 50.25 \n",
              "L 4.6875 51.171875 \n",
              "Q 5.609375 61.28125 11.65625 66.578125 \n",
              "Q 17.71875 71.875 27.9375 71.875 \n",
              "Q 38.234375 71.875 44.234375 66.15625 \n",
              "Q 50.25 60.453125 50.25 52 \n",
              "Q 50.25 47.703125 48.484375 43.546875 \n",
              "Q 46.734375 39.40625 42.65625 34.8125 \n",
              "Q 38.578125 30.21875 29.109375 22.21875 \n",
              "Q 21.1875 15.578125 18.9375 13.203125 \n",
              "Q 16.703125 10.84375 15.234375 8.453125 \n",
              "z\n",
              "\" id=\"ArialMT-50\"/>\n",
              "       </defs>\n",
              "       <use xlink:href=\"#ArialMT-50\"/>\n",
              "       <use x=\"55.615234\" xlink:href=\"#ArialMT-48\"/>\n",
              "      </g>\n",
              "     </g>\n",
              "    </g>\n",
              "    <g id=\"xtick_3\">\n",
              "     <g id=\"line2d_3\">\n",
              "      <path clip-path=\"url(#pa16a309c52)\" d=\"M 199.774907 240.660937 \n",
              "L 199.774907 23.220937 \n",
              "\" style=\"fill:none;stroke:#ffffff;stroke-linecap:round;\"/>\n",
              "     </g>\n",
              "     <g id=\"text_3\">\n",
              "      <!-- 50 -->\n",
              "      <g style=\"fill:#262626;\" transform=\"translate(193.657875 258.034531)scale(0.11 -0.11)\">\n",
              "       <defs>\n",
              "        <path d=\"M 4.15625 18.75 \n",
              "L 13.375 19.53125 \n",
              "Q 14.40625 12.796875 18.140625 9.390625 \n",
              "Q 21.875 6 27.15625 6 \n",
              "Q 33.5 6 37.890625 10.78125 \n",
              "Q 42.28125 15.578125 42.28125 23.484375 \n",
              "Q 42.28125 31 38.0625 35.34375 \n",
              "Q 33.84375 39.703125 27 39.703125 \n",
              "Q 22.75 39.703125 19.328125 37.765625 \n",
              "Q 15.921875 35.84375 13.96875 32.765625 \n",
              "L 5.71875 33.84375 \n",
              "L 12.640625 70.609375 \n",
              "L 48.25 70.609375 \n",
              "L 48.25 62.203125 \n",
              "L 19.671875 62.203125 \n",
              "L 15.828125 42.96875 \n",
              "Q 22.265625 47.46875 29.34375 47.46875 \n",
              "Q 38.71875 47.46875 45.15625 40.96875 \n",
              "Q 51.609375 34.46875 51.609375 24.265625 \n",
              "Q 51.609375 14.546875 45.953125 7.46875 \n",
              "Q 39.0625 -1.21875 27.15625 -1.21875 \n",
              "Q 17.390625 -1.21875 11.203125 4.25 \n",
              "Q 5.03125 9.71875 4.15625 18.75 \n",
              "z\n",
              "\" id=\"ArialMT-53\"/>\n",
              "       </defs>\n",
              "       <use xlink:href=\"#ArialMT-53\"/>\n",
              "       <use x=\"55.615234\" xlink:href=\"#ArialMT-48\"/>\n",
              "      </g>\n",
              "     </g>\n",
              "    </g>\n",
              "    <g id=\"xtick_4\">\n",
              "     <g id=\"line2d_4\">\n",
              "      <path clip-path=\"url(#pa16a309c52)\" d=\"M 253.703218 240.660937 \n",
              "L 253.703218 23.220937 \n",
              "\" style=\"fill:none;stroke:#ffffff;stroke-linecap:round;\"/>\n",
              "     </g>\n",
              "     <g id=\"text_4\">\n",
              "      <!-- 100 -->\n",
              "      <g style=\"fill:#262626;\" transform=\"translate(244.527672 258.034531)scale(0.11 -0.11)\">\n",
              "       <use xlink:href=\"#ArialMT-49\"/>\n",
              "       <use x=\"55.615234\" xlink:href=\"#ArialMT-48\"/>\n",
              "       <use x=\"111.230469\" xlink:href=\"#ArialMT-48\"/>\n",
              "      </g>\n",
              "     </g>\n",
              "    </g>\n",
              "    <g id=\"xtick_5\">\n",
              "     <g id=\"line2d_5\">\n",
              "      <path clip-path=\"url(#pa16a309c52)\" d=\"M 307.63153 240.660937 \n",
              "L 307.63153 23.220937 \n",
              "\" style=\"fill:none;stroke:#ffffff;stroke-linecap:round;\"/>\n",
              "     </g>\n",
              "     <g id=\"text_5\">\n",
              "      <!-- 200 -->\n",
              "      <g style=\"fill:#262626;\" transform=\"translate(298.455983 258.034531)scale(0.11 -0.11)\">\n",
              "       <use xlink:href=\"#ArialMT-50\"/>\n",
              "       <use x=\"55.615234\" xlink:href=\"#ArialMT-48\"/>\n",
              "       <use x=\"111.230469\" xlink:href=\"#ArialMT-48\"/>\n",
              "      </g>\n",
              "     </g>\n",
              "    </g>\n",
              "    <g id=\"xtick_6\">\n",
              "     <g id=\"line2d_6\">\n",
              "      <path clip-path=\"url(#pa16a309c52)\" d=\"M 378.920881 240.660937 \n",
              "L 378.920881 23.220937 \n",
              "\" style=\"fill:none;stroke:#ffffff;stroke-linecap:round;\"/>\n",
              "     </g>\n",
              "     <g id=\"text_6\">\n",
              "      <!-- 500 -->\n",
              "      <g style=\"fill:#262626;\" transform=\"translate(369.745334 258.034531)scale(0.11 -0.11)\">\n",
              "       <use xlink:href=\"#ArialMT-53\"/>\n",
              "       <use x=\"55.615234\" xlink:href=\"#ArialMT-48\"/>\n",
              "       <use x=\"111.230469\" xlink:href=\"#ArialMT-48\"/>\n",
              "      </g>\n",
              "     </g>\n",
              "    </g>\n",
              "    <g id=\"text_7\">\n",
              "     <!-- Number of images per class -->\n",
              "     <g style=\"fill:#262626;\" transform=\"translate(152.048438 272.956406)scale(0.12 -0.12)\">\n",
              "      <defs>\n",
              "       <path d=\"M 7.625 0 \n",
              "L 7.625 71.578125 \n",
              "L 17.328125 71.578125 \n",
              "L 54.9375 15.375 \n",
              "L 54.9375 71.578125 \n",
              "L 64.015625 71.578125 \n",
              "L 64.015625 0 \n",
              "L 54.296875 0 \n",
              "L 16.703125 56.25 \n",
              "L 16.703125 0 \n",
              "z\n",
              "\" id=\"ArialMT-78\"/>\n",
              "       <path d=\"M 40.578125 0 \n",
              "L 40.578125 7.625 \n",
              "Q 34.515625 -1.171875 24.125 -1.171875 \n",
              "Q 19.53125 -1.171875 15.546875 0.578125 \n",
              "Q 11.578125 2.34375 9.640625 5 \n",
              "Q 7.71875 7.671875 6.9375 11.53125 \n",
              "Q 6.390625 14.109375 6.390625 19.734375 \n",
              "L 6.390625 51.859375 \n",
              "L 15.1875 51.859375 \n",
              "L 15.1875 23.09375 \n",
              "Q 15.1875 16.21875 15.71875 13.8125 \n",
              "Q 16.546875 10.359375 19.234375 8.375 \n",
              "Q 21.921875 6.390625 25.875 6.390625 \n",
              "Q 29.828125 6.390625 33.296875 8.421875 \n",
              "Q 36.765625 10.453125 38.203125 13.9375 \n",
              "Q 39.65625 17.4375 39.65625 24.078125 \n",
              "L 39.65625 51.859375 \n",
              "L 48.4375 51.859375 \n",
              "L 48.4375 0 \n",
              "z\n",
              "\" id=\"ArialMT-117\"/>\n",
              "       <path d=\"M 6.59375 0 \n",
              "L 6.59375 51.859375 \n",
              "L 14.453125 51.859375 \n",
              "L 14.453125 44.578125 \n",
              "Q 16.890625 48.390625 20.9375 50.703125 \n",
              "Q 25 53.03125 30.171875 53.03125 \n",
              "Q 35.9375 53.03125 39.625 50.640625 \n",
              "Q 43.3125 48.25 44.828125 43.953125 \n",
              "Q 50.984375 53.03125 60.84375 53.03125 \n",
              "Q 68.5625 53.03125 72.703125 48.75 \n",
              "Q 76.859375 44.484375 76.859375 35.59375 \n",
              "L 76.859375 0 \n",
              "L 68.109375 0 \n",
              "L 68.109375 32.671875 \n",
              "Q 68.109375 37.9375 67.25 40.25 \n",
              "Q 66.40625 42.578125 64.15625 43.984375 \n",
              "Q 61.921875 45.40625 58.890625 45.40625 \n",
              "Q 53.421875 45.40625 49.796875 41.765625 \n",
              "Q 46.1875 38.140625 46.1875 30.125 \n",
              "L 46.1875 0 \n",
              "L 37.40625 0 \n",
              "L 37.40625 33.6875 \n",
              "Q 37.40625 39.546875 35.25 42.46875 \n",
              "Q 33.109375 45.40625 28.21875 45.40625 \n",
              "Q 24.515625 45.40625 21.359375 43.453125 \n",
              "Q 18.21875 41.5 16.796875 37.734375 \n",
              "Q 15.375 33.984375 15.375 26.90625 \n",
              "L 15.375 0 \n",
              "z\n",
              "\" id=\"ArialMT-109\"/>\n",
              "       <path d=\"M 14.703125 0 \n",
              "L 6.546875 0 \n",
              "L 6.546875 71.578125 \n",
              "L 15.328125 71.578125 \n",
              "L 15.328125 46.046875 \n",
              "Q 20.90625 53.03125 29.546875 53.03125 \n",
              "Q 34.328125 53.03125 38.59375 51.09375 \n",
              "Q 42.875 49.171875 45.625 45.671875 \n",
              "Q 48.390625 42.1875 49.953125 37.25 \n",
              "Q 51.515625 32.328125 51.515625 26.703125 \n",
              "Q 51.515625 13.375 44.921875 6.09375 \n",
              "Q 38.328125 -1.171875 29.109375 -1.171875 \n",
              "Q 19.921875 -1.171875 14.703125 6.5 \n",
              "z\n",
              "M 14.59375 26.3125 \n",
              "Q 14.59375 17 17.140625 12.84375 \n",
              "Q 21.296875 6.0625 28.375 6.0625 \n",
              "Q 34.125 6.0625 38.328125 11.0625 \n",
              "Q 42.53125 16.0625 42.53125 25.984375 \n",
              "Q 42.53125 36.140625 38.5 40.96875 \n",
              "Q 34.46875 45.796875 28.765625 45.796875 \n",
              "Q 23 45.796875 18.796875 40.796875 \n",
              "Q 14.59375 35.796875 14.59375 26.3125 \n",
              "z\n",
              "\" id=\"ArialMT-98\"/>\n",
              "       <path d=\"M 42.09375 16.703125 \n",
              "L 51.171875 15.578125 \n",
              "Q 49.03125 7.625 43.21875 3.21875 \n",
              "Q 37.40625 -1.171875 28.375 -1.171875 \n",
              "Q 17 -1.171875 10.328125 5.828125 \n",
              "Q 3.65625 12.84375 3.65625 25.484375 \n",
              "Q 3.65625 38.578125 10.390625 45.796875 \n",
              "Q 17.140625 53.03125 27.875 53.03125 \n",
              "Q 38.28125 53.03125 44.875 45.953125 \n",
              "Q 51.46875 38.875 51.46875 26.03125 \n",
              "Q 51.46875 25.25 51.421875 23.6875 \n",
              "L 12.75 23.6875 \n",
              "Q 13.234375 15.140625 17.578125 10.59375 \n",
              "Q 21.921875 6.0625 28.421875 6.0625 \n",
              "Q 33.25 6.0625 36.671875 8.59375 \n",
              "Q 40.09375 11.140625 42.09375 16.703125 \n",
              "z\n",
              "M 13.234375 30.90625 \n",
              "L 42.1875 30.90625 \n",
              "Q 41.609375 37.453125 38.875 40.71875 \n",
              "Q 34.671875 45.796875 27.984375 45.796875 \n",
              "Q 21.921875 45.796875 17.796875 41.75 \n",
              "Q 13.671875 37.703125 13.234375 30.90625 \n",
              "z\n",
              "\" id=\"ArialMT-101\"/>\n",
              "       <path d=\"M 6.5 0 \n",
              "L 6.5 51.859375 \n",
              "L 14.40625 51.859375 \n",
              "L 14.40625 44 \n",
              "Q 17.4375 49.515625 20 51.265625 \n",
              "Q 22.5625 53.03125 25.640625 53.03125 \n",
              "Q 30.078125 53.03125 34.671875 50.203125 \n",
              "L 31.640625 42.046875 \n",
              "Q 28.421875 43.953125 25.203125 43.953125 \n",
              "Q 22.3125 43.953125 20.015625 42.21875 \n",
              "Q 17.71875 40.484375 16.75 37.40625 \n",
              "Q 15.28125 32.71875 15.28125 27.15625 \n",
              "L 15.28125 0 \n",
              "z\n",
              "\" id=\"ArialMT-114\"/>\n",
              "       <path id=\"ArialMT-32\"/>\n",
              "       <path d=\"M 3.328125 25.921875 \n",
              "Q 3.328125 40.328125 11.328125 47.265625 \n",
              "Q 18.015625 53.03125 27.640625 53.03125 \n",
              "Q 38.328125 53.03125 45.109375 46.015625 \n",
              "Q 51.90625 39.015625 51.90625 26.65625 \n",
              "Q 51.90625 16.65625 48.90625 10.90625 \n",
              "Q 45.90625 5.171875 40.15625 2 \n",
              "Q 34.421875 -1.171875 27.640625 -1.171875 \n",
              "Q 16.75 -1.171875 10.03125 5.8125 \n",
              "Q 3.328125 12.796875 3.328125 25.921875 \n",
              "z\n",
              "M 12.359375 25.921875 \n",
              "Q 12.359375 15.96875 16.703125 11.015625 \n",
              "Q 21.046875 6.0625 27.640625 6.0625 \n",
              "Q 34.1875 6.0625 38.53125 11.03125 \n",
              "Q 42.875 16.015625 42.875 26.21875 \n",
              "Q 42.875 35.84375 38.5 40.796875 \n",
              "Q 34.125 45.75 27.640625 45.75 \n",
              "Q 21.046875 45.75 16.703125 40.8125 \n",
              "Q 12.359375 35.890625 12.359375 25.921875 \n",
              "z\n",
              "\" id=\"ArialMT-111\"/>\n",
              "       <path d=\"M 8.6875 0 \n",
              "L 8.6875 45.015625 \n",
              "L 0.921875 45.015625 \n",
              "L 0.921875 51.859375 \n",
              "L 8.6875 51.859375 \n",
              "L 8.6875 57.375 \n",
              "Q 8.6875 62.59375 9.625 65.140625 \n",
              "Q 10.890625 68.5625 14.078125 70.671875 \n",
              "Q 17.28125 72.796875 23.046875 72.796875 \n",
              "Q 26.765625 72.796875 31.25 71.921875 \n",
              "L 29.9375 64.265625 \n",
              "Q 27.203125 64.75 24.75 64.75 \n",
              "Q 20.75 64.75 19.09375 63.03125 \n",
              "Q 17.4375 61.328125 17.4375 56.640625 \n",
              "L 17.4375 51.859375 \n",
              "L 27.546875 51.859375 \n",
              "L 27.546875 45.015625 \n",
              "L 17.4375 45.015625 \n",
              "L 17.4375 0 \n",
              "z\n",
              "\" id=\"ArialMT-102\"/>\n",
              "       <path d=\"M 6.640625 61.46875 \n",
              "L 6.640625 71.578125 \n",
              "L 15.4375 71.578125 \n",
              "L 15.4375 61.46875 \n",
              "z\n",
              "M 6.640625 0 \n",
              "L 6.640625 51.859375 \n",
              "L 15.4375 51.859375 \n",
              "L 15.4375 0 \n",
              "z\n",
              "\" id=\"ArialMT-105\"/>\n",
              "       <path d=\"M 40.4375 6.390625 \n",
              "Q 35.546875 2.25 31.03125 0.53125 \n",
              "Q 26.515625 -1.171875 21.34375 -1.171875 \n",
              "Q 12.796875 -1.171875 8.203125 3 \n",
              "Q 3.609375 7.171875 3.609375 13.671875 \n",
              "Q 3.609375 17.484375 5.34375 20.625 \n",
              "Q 7.078125 23.78125 9.890625 25.6875 \n",
              "Q 12.703125 27.59375 16.21875 28.5625 \n",
              "Q 18.796875 29.25 24.03125 29.890625 \n",
              "Q 34.671875 31.15625 39.703125 32.90625 \n",
              "Q 39.75 34.71875 39.75 35.203125 \n",
              "Q 39.75 40.578125 37.25 42.78125 \n",
              "Q 33.890625 45.75 27.25 45.75 \n",
              "Q 21.046875 45.75 18.09375 43.578125 \n",
              "Q 15.140625 41.40625 13.71875 35.890625 \n",
              "L 5.125 37.0625 \n",
              "Q 6.296875 42.578125 8.984375 45.96875 \n",
              "Q 11.671875 49.359375 16.75 51.1875 \n",
              "Q 21.828125 53.03125 28.515625 53.03125 \n",
              "Q 35.15625 53.03125 39.296875 51.46875 \n",
              "Q 43.453125 49.90625 45.40625 47.53125 \n",
              "Q 47.359375 45.171875 48.140625 41.546875 \n",
              "Q 48.578125 39.3125 48.578125 33.453125 \n",
              "L 48.578125 21.734375 \n",
              "Q 48.578125 9.46875 49.140625 6.21875 \n",
              "Q 49.703125 2.984375 51.375 0 \n",
              "L 42.1875 0 \n",
              "Q 40.828125 2.734375 40.4375 6.390625 \n",
              "z\n",
              "M 39.703125 26.03125 \n",
              "Q 34.90625 24.078125 25.34375 22.703125 \n",
              "Q 19.921875 21.921875 17.671875 20.9375 \n",
              "Q 15.4375 19.96875 14.203125 18.09375 \n",
              "Q 12.984375 16.21875 12.984375 13.921875 \n",
              "Q 12.984375 10.40625 15.640625 8.0625 \n",
              "Q 18.3125 5.71875 23.4375 5.71875 \n",
              "Q 28.515625 5.71875 32.46875 7.9375 \n",
              "Q 36.421875 10.15625 38.28125 14.015625 \n",
              "Q 39.703125 17 39.703125 22.796875 \n",
              "z\n",
              "\" id=\"ArialMT-97\"/>\n",
              "       <path d=\"M 4.984375 -4.296875 \n",
              "L 13.53125 -5.5625 \n",
              "Q 14.0625 -9.515625 16.5 -11.328125 \n",
              "Q 19.78125 -13.765625 25.4375 -13.765625 \n",
              "Q 31.546875 -13.765625 34.859375 -11.328125 \n",
              "Q 38.1875 -8.890625 39.359375 -4.5 \n",
              "Q 40.046875 -1.8125 39.984375 6.78125 \n",
              "Q 34.234375 0 25.640625 0 \n",
              "Q 14.9375 0 9.078125 7.71875 \n",
              "Q 3.21875 15.4375 3.21875 26.21875 \n",
              "Q 3.21875 33.640625 5.90625 39.90625 \n",
              "Q 8.59375 46.1875 13.6875 49.609375 \n",
              "Q 18.796875 53.03125 25.6875 53.03125 \n",
              "Q 34.859375 53.03125 40.828125 45.609375 \n",
              "L 40.828125 51.859375 \n",
              "L 48.921875 51.859375 \n",
              "L 48.921875 7.03125 \n",
              "Q 48.921875 -5.078125 46.453125 -10.125 \n",
              "Q 44 -15.1875 38.640625 -18.109375 \n",
              "Q 33.296875 -21.046875 25.484375 -21.046875 \n",
              "Q 16.21875 -21.046875 10.5 -16.875 \n",
              "Q 4.78125 -12.703125 4.984375 -4.296875 \n",
              "z\n",
              "M 12.25 26.859375 \n",
              "Q 12.25 16.65625 16.296875 11.96875 \n",
              "Q 20.359375 7.28125 26.46875 7.28125 \n",
              "Q 32.515625 7.28125 36.609375 11.9375 \n",
              "Q 40.71875 16.609375 40.71875 26.5625 \n",
              "Q 40.71875 36.078125 36.5 40.90625 \n",
              "Q 32.28125 45.75 26.3125 45.75 \n",
              "Q 20.453125 45.75 16.34375 40.984375 \n",
              "Q 12.25 36.234375 12.25 26.859375 \n",
              "z\n",
              "\" id=\"ArialMT-103\"/>\n",
              "       <path d=\"M 3.078125 15.484375 \n",
              "L 11.765625 16.84375 \n",
              "Q 12.5 11.625 15.84375 8.84375 \n",
              "Q 19.1875 6.0625 25.203125 6.0625 \n",
              "Q 31.25 6.0625 34.171875 8.515625 \n",
              "Q 37.109375 10.984375 37.109375 14.3125 \n",
              "Q 37.109375 17.28125 34.515625 19 \n",
              "Q 32.71875 20.171875 25.53125 21.96875 \n",
              "Q 15.875 24.421875 12.140625 26.203125 \n",
              "Q 8.40625 27.984375 6.46875 31.125 \n",
              "Q 4.546875 34.28125 4.546875 38.09375 \n",
              "Q 4.546875 41.546875 6.125 44.5 \n",
              "Q 7.71875 47.46875 10.453125 49.421875 \n",
              "Q 12.5 50.921875 16.03125 51.96875 \n",
              "Q 19.578125 53.03125 23.640625 53.03125 \n",
              "Q 29.734375 53.03125 34.34375 51.265625 \n",
              "Q 38.96875 49.515625 41.15625 46.5 \n",
              "Q 43.359375 43.5 44.1875 38.484375 \n",
              "L 35.59375 37.3125 \n",
              "Q 35.015625 41.3125 32.203125 43.546875 \n",
              "Q 29.390625 45.796875 24.265625 45.796875 \n",
              "Q 18.21875 45.796875 15.625 43.796875 \n",
              "Q 13.03125 41.796875 13.03125 39.109375 \n",
              "Q 13.03125 37.40625 14.109375 36.03125 \n",
              "Q 15.1875 34.625 17.484375 33.6875 \n",
              "Q 18.796875 33.203125 25.25 31.453125 \n",
              "Q 34.578125 28.953125 38.25 27.359375 \n",
              "Q 41.9375 25.78125 44.03125 22.75 \n",
              "Q 46.140625 19.734375 46.140625 15.234375 \n",
              "Q 46.140625 10.84375 43.578125 6.953125 \n",
              "Q 41.015625 3.078125 36.171875 0.953125 \n",
              "Q 31.34375 -1.171875 25.25 -1.171875 \n",
              "Q 15.140625 -1.171875 9.84375 3.03125 \n",
              "Q 4.546875 7.234375 3.078125 15.484375 \n",
              "z\n",
              "\" id=\"ArialMT-115\"/>\n",
              "       <path d=\"M 6.59375 -19.875 \n",
              "L 6.59375 51.859375 \n",
              "L 14.59375 51.859375 \n",
              "L 14.59375 45.125 \n",
              "Q 17.4375 49.078125 21 51.046875 \n",
              "Q 24.5625 53.03125 29.640625 53.03125 \n",
              "Q 36.28125 53.03125 41.359375 49.609375 \n",
              "Q 46.4375 46.1875 49.015625 39.953125 \n",
              "Q 51.609375 33.734375 51.609375 26.3125 \n",
              "Q 51.609375 18.359375 48.75 11.984375 \n",
              "Q 45.90625 5.609375 40.453125 2.21875 \n",
              "Q 35.015625 -1.171875 29 -1.171875 \n",
              "Q 24.609375 -1.171875 21.109375 0.6875 \n",
              "Q 17.625 2.546875 15.375 5.375 \n",
              "L 15.375 -19.875 \n",
              "z\n",
              "M 14.546875 25.640625 \n",
              "Q 14.546875 15.625 18.59375 10.84375 \n",
              "Q 22.65625 6.0625 28.421875 6.0625 \n",
              "Q 34.28125 6.0625 38.453125 11.015625 \n",
              "Q 42.625 15.96875 42.625 26.375 \n",
              "Q 42.625 36.28125 38.546875 41.203125 \n",
              "Q 34.46875 46.140625 28.8125 46.140625 \n",
              "Q 23.1875 46.140625 18.859375 40.890625 \n",
              "Q 14.546875 35.640625 14.546875 25.640625 \n",
              "z\n",
              "\" id=\"ArialMT-112\"/>\n",
              "       <path d=\"M 40.4375 19 \n",
              "L 49.078125 17.875 \n",
              "Q 47.65625 8.9375 41.8125 3.875 \n",
              "Q 35.984375 -1.171875 27.484375 -1.171875 \n",
              "Q 16.84375 -1.171875 10.375 5.78125 \n",
              "Q 3.90625 12.75 3.90625 25.734375 \n",
              "Q 3.90625 34.125 6.6875 40.421875 \n",
              "Q 9.46875 46.734375 15.15625 49.875 \n",
              "Q 20.84375 53.03125 27.546875 53.03125 \n",
              "Q 35.984375 53.03125 41.359375 48.75 \n",
              "Q 46.734375 44.484375 48.25 36.625 \n",
              "L 39.703125 35.296875 \n",
              "Q 38.484375 40.53125 35.375 43.15625 \n",
              "Q 32.28125 45.796875 27.875 45.796875 \n",
              "Q 21.234375 45.796875 17.078125 41.03125 \n",
              "Q 12.9375 36.28125 12.9375 25.984375 \n",
              "Q 12.9375 15.53125 16.9375 10.796875 \n",
              "Q 20.953125 6.0625 27.390625 6.0625 \n",
              "Q 32.5625 6.0625 36.03125 9.234375 \n",
              "Q 39.5 12.40625 40.4375 19 \n",
              "z\n",
              "\" id=\"ArialMT-99\"/>\n",
              "       <path d=\"M 6.390625 0 \n",
              "L 6.390625 71.578125 \n",
              "L 15.1875 71.578125 \n",
              "L 15.1875 0 \n",
              "z\n",
              "\" id=\"ArialMT-108\"/>\n",
              "      </defs>\n",
              "      <use xlink:href=\"#ArialMT-78\"/>\n",
              "      <use x=\"72.216797\" xlink:href=\"#ArialMT-117\"/>\n",
              "      <use x=\"127.832031\" xlink:href=\"#ArialMT-109\"/>\n",
              "      <use x=\"211.132812\" xlink:href=\"#ArialMT-98\"/>\n",
              "      <use x=\"266.748047\" xlink:href=\"#ArialMT-101\"/>\n",
              "      <use x=\"322.363281\" xlink:href=\"#ArialMT-114\"/>\n",
              "      <use x=\"355.664062\" xlink:href=\"#ArialMT-32\"/>\n",
              "      <use x=\"383.447266\" xlink:href=\"#ArialMT-111\"/>\n",
              "      <use x=\"439.0625\" xlink:href=\"#ArialMT-102\"/>\n",
              "      <use x=\"466.845703\" xlink:href=\"#ArialMT-32\"/>\n",
              "      <use x=\"494.628906\" xlink:href=\"#ArialMT-105\"/>\n",
              "      <use x=\"516.845703\" xlink:href=\"#ArialMT-109\"/>\n",
              "      <use x=\"600.146484\" xlink:href=\"#ArialMT-97\"/>\n",
              "      <use x=\"655.761719\" xlink:href=\"#ArialMT-103\"/>\n",
              "      <use x=\"711.376953\" xlink:href=\"#ArialMT-101\"/>\n",
              "      <use x=\"766.992188\" xlink:href=\"#ArialMT-115\"/>\n",
              "      <use x=\"816.992188\" xlink:href=\"#ArialMT-32\"/>\n",
              "      <use x=\"844.775391\" xlink:href=\"#ArialMT-112\"/>\n",
              "      <use x=\"900.390625\" xlink:href=\"#ArialMT-101\"/>\n",
              "      <use x=\"956.005859\" xlink:href=\"#ArialMT-114\"/>\n",
              "      <use x=\"989.306641\" xlink:href=\"#ArialMT-32\"/>\n",
              "      <use x=\"1017.089844\" xlink:href=\"#ArialMT-99\"/>\n",
              "      <use x=\"1067.089844\" xlink:href=\"#ArialMT-108\"/>\n",
              "      <use x=\"1089.306641\" xlink:href=\"#ArialMT-97\"/>\n",
              "      <use x=\"1144.921875\" xlink:href=\"#ArialMT-115\"/>\n",
              "      <use x=\"1194.921875\" xlink:href=\"#ArialMT-115\"/>\n",
              "     </g>\n",
              "    </g>\n",
              "   </g>\n",
              "   <g id=\"matplotlib.axis_2\">\n",
              "    <g id=\"ytick_1\">\n",
              "     <g id=\"line2d_7\">\n",
              "      <path clip-path=\"url(#pa16a309c52)\" d=\"M 59.339063 233.842996 \n",
              "L 394.139063 233.842996 \n",
              "\" style=\"fill:none;stroke:#ffffff;stroke-linecap:round;\"/>\n",
              "     </g>\n",
              "     <g id=\"text_8\">\n",
              "      <!-- 0.625 -->\n",
              "      <g style=\"fill:#262626;\" transform=\"translate(22.315 237.779793)scale(0.11 -0.11)\">\n",
              "       <defs>\n",
              "        <path d=\"M 9.078125 0 \n",
              "L 9.078125 10.015625 \n",
              "L 19.09375 10.015625 \n",
              "L 19.09375 0 \n",
              "z\n",
              "\" id=\"ArialMT-46\"/>\n",
              "        <path d=\"M 49.75 54.046875 \n",
              "L 41.015625 53.375 \n",
              "Q 39.84375 58.546875 37.703125 60.890625 \n",
              "Q 34.125 64.65625 28.90625 64.65625 \n",
              "Q 24.703125 64.65625 21.53125 62.3125 \n",
              "Q 17.390625 59.28125 14.984375 53.46875 \n",
              "Q 12.59375 47.65625 12.5 36.921875 \n",
              "Q 15.671875 41.75 20.265625 44.09375 \n",
              "Q 24.859375 46.4375 29.890625 46.4375 \n",
              "Q 38.671875 46.4375 44.84375 39.96875 \n",
              "Q 51.03125 33.5 51.03125 23.25 \n",
              "Q 51.03125 16.5 48.125 10.71875 \n",
              "Q 45.21875 4.9375 40.140625 1.859375 \n",
              "Q 35.0625 -1.21875 28.609375 -1.21875 \n",
              "Q 17.625 -1.21875 10.6875 6.859375 \n",
              "Q 3.765625 14.9375 3.765625 33.5 \n",
              "Q 3.765625 54.25 11.421875 63.671875 \n",
              "Q 18.109375 71.875 29.4375 71.875 \n",
              "Q 37.890625 71.875 43.28125 67.140625 \n",
              "Q 48.6875 62.40625 49.75 54.046875 \n",
              "z\n",
              "M 13.875 23.1875 \n",
              "Q 13.875 18.65625 15.796875 14.5 \n",
              "Q 17.71875 10.359375 21.1875 8.171875 \n",
              "Q 24.65625 6 28.46875 6 \n",
              "Q 34.03125 6 38.03125 10.484375 \n",
              "Q 42.046875 14.984375 42.046875 22.703125 \n",
              "Q 42.046875 30.125 38.078125 34.390625 \n",
              "Q 34.125 38.671875 28.125 38.671875 \n",
              "Q 22.171875 38.671875 18.015625 34.390625 \n",
              "Q 13.875 30.125 13.875 23.1875 \n",
              "z\n",
              "\" id=\"ArialMT-54\"/>\n",
              "       </defs>\n",
              "       <use xlink:href=\"#ArialMT-48\"/>\n",
              "       <use x=\"55.615234\" xlink:href=\"#ArialMT-46\"/>\n",
              "       <use x=\"83.398438\" xlink:href=\"#ArialMT-54\"/>\n",
              "       <use x=\"139.013672\" xlink:href=\"#ArialMT-50\"/>\n",
              "       <use x=\"194.628906\" xlink:href=\"#ArialMT-53\"/>\n",
              "      </g>\n",
              "     </g>\n",
              "    </g>\n",
              "    <g id=\"ytick_2\">\n",
              "     <g id=\"line2d_8\">\n",
              "      <path clip-path=\"url(#pa16a309c52)\" d=\"M 59.339063 207.184508 \n",
              "L 394.139063 207.184508 \n",
              "\" style=\"fill:none;stroke:#ffffff;stroke-linecap:round;\"/>\n",
              "     </g>\n",
              "     <g id=\"text_9\">\n",
              "      <!-- 0.650 -->\n",
              "      <g style=\"fill:#262626;\" transform=\"translate(22.315 211.121304)scale(0.11 -0.11)\">\n",
              "       <use xlink:href=\"#ArialMT-48\"/>\n",
              "       <use x=\"55.615234\" xlink:href=\"#ArialMT-46\"/>\n",
              "       <use x=\"83.398438\" xlink:href=\"#ArialMT-54\"/>\n",
              "       <use x=\"139.013672\" xlink:href=\"#ArialMT-53\"/>\n",
              "       <use x=\"194.628906\" xlink:href=\"#ArialMT-48\"/>\n",
              "      </g>\n",
              "     </g>\n",
              "    </g>\n",
              "    <g id=\"ytick_3\">\n",
              "     <g id=\"line2d_9\">\n",
              "      <path clip-path=\"url(#pa16a309c52)\" d=\"M 59.339063 180.526019 \n",
              "L 394.139063 180.526019 \n",
              "\" style=\"fill:none;stroke:#ffffff;stroke-linecap:round;\"/>\n",
              "     </g>\n",
              "     <g id=\"text_10\">\n",
              "      <!-- 0.675 -->\n",
              "      <g style=\"fill:#262626;\" transform=\"translate(22.315 184.462816)scale(0.11 -0.11)\">\n",
              "       <defs>\n",
              "        <path d=\"M 4.734375 62.203125 \n",
              "L 4.734375 70.65625 \n",
              "L 51.078125 70.65625 \n",
              "L 51.078125 63.8125 \n",
              "Q 44.234375 56.546875 37.515625 44.484375 \n",
              "Q 30.8125 32.421875 27.15625 19.671875 \n",
              "Q 24.515625 10.6875 23.78125 0 \n",
              "L 14.75 0 \n",
              "Q 14.890625 8.453125 18.0625 20.40625 \n",
              "Q 21.234375 32.375 27.171875 43.484375 \n",
              "Q 33.109375 54.59375 39.796875 62.203125 \n",
              "z\n",
              "\" id=\"ArialMT-55\"/>\n",
              "       </defs>\n",
              "       <use xlink:href=\"#ArialMT-48\"/>\n",
              "       <use x=\"55.615234\" xlink:href=\"#ArialMT-46\"/>\n",
              "       <use x=\"83.398438\" xlink:href=\"#ArialMT-54\"/>\n",
              "       <use x=\"139.013672\" xlink:href=\"#ArialMT-55\"/>\n",
              "       <use x=\"194.628906\" xlink:href=\"#ArialMT-53\"/>\n",
              "      </g>\n",
              "     </g>\n",
              "    </g>\n",
              "    <g id=\"ytick_4\">\n",
              "     <g id=\"line2d_10\">\n",
              "      <path clip-path=\"url(#pa16a309c52)\" d=\"M 59.339063 153.867531 \n",
              "L 394.139063 153.867531 \n",
              "\" style=\"fill:none;stroke:#ffffff;stroke-linecap:round;\"/>\n",
              "     </g>\n",
              "     <g id=\"text_11\">\n",
              "      <!-- 0.700 -->\n",
              "      <g style=\"fill:#262626;\" transform=\"translate(22.315 157.804328)scale(0.11 -0.11)\">\n",
              "       <use xlink:href=\"#ArialMT-48\"/>\n",
              "       <use x=\"55.615234\" xlink:href=\"#ArialMT-46\"/>\n",
              "       <use x=\"83.398438\" xlink:href=\"#ArialMT-55\"/>\n",
              "       <use x=\"139.013672\" xlink:href=\"#ArialMT-48\"/>\n",
              "       <use x=\"194.628906\" xlink:href=\"#ArialMT-48\"/>\n",
              "      </g>\n",
              "     </g>\n",
              "    </g>\n",
              "    <g id=\"ytick_5\">\n",
              "     <g id=\"line2d_11\">\n",
              "      <path clip-path=\"url(#pa16a309c52)\" d=\"M 59.339063 127.209043 \n",
              "L 394.139063 127.209043 \n",
              "\" style=\"fill:none;stroke:#ffffff;stroke-linecap:round;\"/>\n",
              "     </g>\n",
              "     <g id=\"text_12\">\n",
              "      <!-- 0.725 -->\n",
              "      <g style=\"fill:#262626;\" transform=\"translate(22.315 131.14584)scale(0.11 -0.11)\">\n",
              "       <use xlink:href=\"#ArialMT-48\"/>\n",
              "       <use x=\"55.615234\" xlink:href=\"#ArialMT-46\"/>\n",
              "       <use x=\"83.398438\" xlink:href=\"#ArialMT-55\"/>\n",
              "       <use x=\"139.013672\" xlink:href=\"#ArialMT-50\"/>\n",
              "       <use x=\"194.628906\" xlink:href=\"#ArialMT-53\"/>\n",
              "      </g>\n",
              "     </g>\n",
              "    </g>\n",
              "    <g id=\"ytick_6\">\n",
              "     <g id=\"line2d_12\">\n",
              "      <path clip-path=\"url(#pa16a309c52)\" d=\"M 59.339063 100.550555 \n",
              "L 394.139063 100.550555 \n",
              "\" style=\"fill:none;stroke:#ffffff;stroke-linecap:round;\"/>\n",
              "     </g>\n",
              "     <g id=\"text_13\">\n",
              "      <!-- 0.750 -->\n",
              "      <g style=\"fill:#262626;\" transform=\"translate(22.315 104.487352)scale(0.11 -0.11)\">\n",
              "       <use xlink:href=\"#ArialMT-48\"/>\n",
              "       <use x=\"55.615234\" xlink:href=\"#ArialMT-46\"/>\n",
              "       <use x=\"83.398438\" xlink:href=\"#ArialMT-55\"/>\n",
              "       <use x=\"139.013672\" xlink:href=\"#ArialMT-53\"/>\n",
              "       <use x=\"194.628906\" xlink:href=\"#ArialMT-48\"/>\n",
              "      </g>\n",
              "     </g>\n",
              "    </g>\n",
              "    <g id=\"ytick_7\">\n",
              "     <g id=\"line2d_13\">\n",
              "      <path clip-path=\"url(#pa16a309c52)\" d=\"M 59.339063 73.892066 \n",
              "L 394.139063 73.892066 \n",
              "\" style=\"fill:none;stroke:#ffffff;stroke-linecap:round;\"/>\n",
              "     </g>\n",
              "     <g id=\"text_14\">\n",
              "      <!-- 0.775 -->\n",
              "      <g style=\"fill:#262626;\" transform=\"translate(22.315 77.828863)scale(0.11 -0.11)\">\n",
              "       <use xlink:href=\"#ArialMT-48\"/>\n",
              "       <use x=\"55.615234\" xlink:href=\"#ArialMT-46\"/>\n",
              "       <use x=\"83.398438\" xlink:href=\"#ArialMT-55\"/>\n",
              "       <use x=\"139.013672\" xlink:href=\"#ArialMT-55\"/>\n",
              "       <use x=\"194.628906\" xlink:href=\"#ArialMT-53\"/>\n",
              "      </g>\n",
              "     </g>\n",
              "    </g>\n",
              "    <g id=\"ytick_8\">\n",
              "     <g id=\"line2d_14\">\n",
              "      <path clip-path=\"url(#pa16a309c52)\" d=\"M 59.339063 47.233578 \n",
              "L 394.139063 47.233578 \n",
              "\" style=\"fill:none;stroke:#ffffff;stroke-linecap:round;\"/>\n",
              "     </g>\n",
              "     <g id=\"text_15\">\n",
              "      <!-- 0.800 -->\n",
              "      <g style=\"fill:#262626;\" transform=\"translate(22.315 51.170375)scale(0.11 -0.11)\">\n",
              "       <defs>\n",
              "        <path d=\"M 17.671875 38.8125 \n",
              "Q 12.203125 40.828125 9.5625 44.53125 \n",
              "Q 6.9375 48.25 6.9375 53.421875 \n",
              "Q 6.9375 61.234375 12.546875 66.546875 \n",
              "Q 18.171875 71.875 27.484375 71.875 \n",
              "Q 36.859375 71.875 42.578125 66.421875 \n",
              "Q 48.296875 60.984375 48.296875 53.171875 \n",
              "Q 48.296875 48.1875 45.671875 44.5 \n",
              "Q 43.0625 40.828125 37.75 38.8125 \n",
              "Q 44.34375 36.671875 47.78125 31.875 \n",
              "Q 51.21875 27.09375 51.21875 20.453125 \n",
              "Q 51.21875 11.28125 44.71875 5.03125 \n",
              "Q 38.234375 -1.21875 27.640625 -1.21875 \n",
              "Q 17.046875 -1.21875 10.546875 5.046875 \n",
              "Q 4.046875 11.328125 4.046875 20.703125 \n",
              "Q 4.046875 27.6875 7.59375 32.390625 \n",
              "Q 11.140625 37.109375 17.671875 38.8125 \n",
              "z\n",
              "M 15.921875 53.71875 \n",
              "Q 15.921875 48.640625 19.1875 45.40625 \n",
              "Q 22.46875 42.1875 27.6875 42.1875 \n",
              "Q 32.765625 42.1875 36.015625 45.375 \n",
              "Q 39.265625 48.578125 39.265625 53.21875 \n",
              "Q 39.265625 58.0625 35.90625 61.359375 \n",
              "Q 32.5625 64.65625 27.59375 64.65625 \n",
              "Q 22.5625 64.65625 19.234375 61.421875 \n",
              "Q 15.921875 58.203125 15.921875 53.71875 \n",
              "z\n",
              "M 13.09375 20.65625 \n",
              "Q 13.09375 16.890625 14.875 13.375 \n",
              "Q 16.65625 9.859375 20.171875 7.921875 \n",
              "Q 23.6875 6 27.734375 6 \n",
              "Q 34.03125 6 38.125 10.046875 \n",
              "Q 42.234375 14.109375 42.234375 20.359375 \n",
              "Q 42.234375 26.703125 38.015625 30.859375 \n",
              "Q 33.796875 35.015625 27.4375 35.015625 \n",
              "Q 21.234375 35.015625 17.15625 30.90625 \n",
              "Q 13.09375 26.8125 13.09375 20.65625 \n",
              "z\n",
              "\" id=\"ArialMT-56\"/>\n",
              "       </defs>\n",
              "       <use xlink:href=\"#ArialMT-48\"/>\n",
              "       <use x=\"55.615234\" xlink:href=\"#ArialMT-46\"/>\n",
              "       <use x=\"83.398438\" xlink:href=\"#ArialMT-56\"/>\n",
              "       <use x=\"139.013672\" xlink:href=\"#ArialMT-48\"/>\n",
              "       <use x=\"194.628906\" xlink:href=\"#ArialMT-48\"/>\n",
              "      </g>\n",
              "     </g>\n",
              "    </g>\n",
              "    <g id=\"text_16\">\n",
              "     <!-- Test accuracy -->\n",
              "     <g style=\"fill:#262626;\" transform=\"translate(15.789375 168.615937)rotate(-90)scale(0.12 -0.12)\">\n",
              "      <defs>\n",
              "       <path d=\"M 25.921875 0 \n",
              "L 25.921875 63.140625 \n",
              "L 2.34375 63.140625 \n",
              "L 2.34375 71.578125 \n",
              "L 59.078125 71.578125 \n",
              "L 59.078125 63.140625 \n",
              "L 35.40625 63.140625 \n",
              "L 35.40625 0 \n",
              "z\n",
              "\" id=\"ArialMT-84\"/>\n",
              "       <path d=\"M 25.78125 7.859375 \n",
              "L 27.046875 0.09375 \n",
              "Q 23.34375 -0.6875 20.40625 -0.6875 \n",
              "Q 15.625 -0.6875 12.984375 0.828125 \n",
              "Q 10.359375 2.34375 9.28125 4.8125 \n",
              "Q 8.203125 7.28125 8.203125 15.1875 \n",
              "L 8.203125 45.015625 \n",
              "L 1.765625 45.015625 \n",
              "L 1.765625 51.859375 \n",
              "L 8.203125 51.859375 \n",
              "L 8.203125 64.703125 \n",
              "L 16.9375 69.96875 \n",
              "L 16.9375 51.859375 \n",
              "L 25.78125 51.859375 \n",
              "L 25.78125 45.015625 \n",
              "L 16.9375 45.015625 \n",
              "L 16.9375 14.703125 \n",
              "Q 16.9375 10.9375 17.40625 9.859375 \n",
              "Q 17.875 8.796875 18.921875 8.15625 \n",
              "Q 19.96875 7.515625 21.921875 7.515625 \n",
              "Q 23.390625 7.515625 25.78125 7.859375 \n",
              "z\n",
              "\" id=\"ArialMT-116\"/>\n",
              "       <path d=\"M 6.203125 -19.96875 \n",
              "L 5.21875 -11.71875 \n",
              "Q 8.109375 -12.5 10.25 -12.5 \n",
              "Q 13.1875 -12.5 14.9375 -11.515625 \n",
              "Q 16.703125 -10.546875 17.828125 -8.796875 \n",
              "Q 18.65625 -7.46875 20.515625 -2.25 \n",
              "Q 20.75 -1.515625 21.296875 -0.09375 \n",
              "L 1.609375 51.859375 \n",
              "L 11.078125 51.859375 \n",
              "L 21.875 21.828125 \n",
              "Q 23.96875 16.109375 25.640625 9.8125 \n",
              "Q 27.15625 15.875 29.25 21.625 \n",
              "L 40.328125 51.859375 \n",
              "L 49.125 51.859375 \n",
              "L 29.390625 -0.875 \n",
              "Q 26.21875 -9.421875 24.46875 -12.640625 \n",
              "Q 22.125 -17 19.09375 -19.015625 \n",
              "Q 16.0625 -21.046875 11.859375 -21.046875 \n",
              "Q 9.328125 -21.046875 6.203125 -19.96875 \n",
              "z\n",
              "\" id=\"ArialMT-121\"/>\n",
              "      </defs>\n",
              "      <use xlink:href=\"#ArialMT-84\"/>\n",
              "      <use x=\"49.958984\" xlink:href=\"#ArialMT-101\"/>\n",
              "      <use x=\"105.574219\" xlink:href=\"#ArialMT-115\"/>\n",
              "      <use x=\"155.574219\" xlink:href=\"#ArialMT-116\"/>\n",
              "      <use x=\"183.357422\" xlink:href=\"#ArialMT-32\"/>\n",
              "      <use x=\"211.140625\" xlink:href=\"#ArialMT-97\"/>\n",
              "      <use x=\"266.755859\" xlink:href=\"#ArialMT-99\"/>\n",
              "      <use x=\"316.755859\" xlink:href=\"#ArialMT-99\"/>\n",
              "      <use x=\"366.755859\" xlink:href=\"#ArialMT-117\"/>\n",
              "      <use x=\"422.371094\" xlink:href=\"#ArialMT-114\"/>\n",
              "      <use x=\"455.671875\" xlink:href=\"#ArialMT-97\"/>\n",
              "      <use x=\"511.287109\" xlink:href=\"#ArialMT-99\"/>\n",
              "      <use x=\"561.287109\" xlink:href=\"#ArialMT-121\"/>\n",
              "     </g>\n",
              "    </g>\n",
              "   </g>\n",
              "   <g id=\"line2d_15\">\n",
              "    <path clip-path=\"url(#pa16a309c52)\" d=\"M 74.557244 230.777301 \n",
              "L 128.485556 168.796296 \n",
              "L 199.774907 106.548725 \n",
              "L 253.703218 77.091069 \n",
              "L 307.63153 57.230537 \n",
              "L 378.920881 33.104574 \n",
              "\" style=\"fill:none;stroke:#000000;stroke-dasharray:5.55,2.4;stroke-dashoffset:0;stroke-width:1.5;\"/>\n",
              "    <defs>\n",
              "     <path d=\"M 0 -8 \n",
              "L -1.796112 -2.472136 \n",
              "L -7.608452 -2.472136 \n",
              "L -2.90617 0.944272 \n",
              "L -4.702282 6.472136 \n",
              "L -0 3.055728 \n",
              "L 4.702282 6.472136 \n",
              "L 2.90617 0.944272 \n",
              "L 7.608452 -2.472136 \n",
              "L 1.796112 -2.472136 \n",
              "z\n",
              "\" id=\"mb4224096f5\" style=\"stroke:#000000;stroke-linejoin:bevel;\"/>\n",
              "    </defs>\n",
              "    <g clip-path=\"url(#pa16a309c52)\">\n",
              "     <use style=\"fill:#ccb974;stroke:#000000;stroke-linejoin:bevel;\" x=\"74.557244\" xlink:href=\"#mb4224096f5\" y=\"230.777301\"/>\n",
              "     <use style=\"fill:#ccb974;stroke:#000000;stroke-linejoin:bevel;\" x=\"128.485556\" xlink:href=\"#mb4224096f5\" y=\"168.796296\"/>\n",
              "     <use style=\"fill:#ccb974;stroke:#000000;stroke-linejoin:bevel;\" x=\"199.774907\" xlink:href=\"#mb4224096f5\" y=\"106.548725\"/>\n",
              "     <use style=\"fill:#ccb974;stroke:#000000;stroke-linejoin:bevel;\" x=\"253.703218\" xlink:href=\"#mb4224096f5\" y=\"77.091069\"/>\n",
              "     <use style=\"fill:#ccb974;stroke:#000000;stroke-linejoin:bevel;\" x=\"307.63153\" xlink:href=\"#mb4224096f5\" y=\"57.230537\"/>\n",
              "     <use style=\"fill:#ccb974;stroke:#000000;stroke-linejoin:bevel;\" x=\"378.920881\" xlink:href=\"#mb4224096f5\" y=\"33.104574\"/>\n",
              "    </g>\n",
              "   </g>\n",
              "   <g id=\"patch_3\">\n",
              "    <path d=\"M 59.339063 240.660937 \n",
              "L 59.339063 23.220937 \n",
              "\" style=\"fill:none;stroke:#ffffff;stroke-linecap:square;stroke-linejoin:miter;stroke-width:1.25;\"/>\n",
              "   </g>\n",
              "   <g id=\"patch_4\">\n",
              "    <path d=\"M 394.139063 240.660937 \n",
              "L 394.139063 23.220937 \n",
              "\" style=\"fill:none;stroke:#ffffff;stroke-linecap:square;stroke-linejoin:miter;stroke-width:1.25;\"/>\n",
              "   </g>\n",
              "   <g id=\"patch_5\">\n",
              "    <path d=\"M 59.339063 240.660937 \n",
              "L 394.139063 240.660937 \n",
              "\" style=\"fill:none;stroke:#ffffff;stroke-linecap:square;stroke-linejoin:miter;stroke-width:1.25;\"/>\n",
              "   </g>\n",
              "   <g id=\"patch_6\">\n",
              "    <path d=\"M 59.339063 23.220937 \n",
              "L 394.139063 23.220937 \n",
              "\" style=\"fill:none;stroke:#ffffff;stroke-linecap:square;stroke-linejoin:miter;stroke-width:1.25;\"/>\n",
              "   </g>\n",
              "   <g id=\"text_17\">\n",
              "    <!-- STL10 classification over dataset size -->\n",
              "    <g style=\"fill:#262626;\" transform=\"translate(109.632344 17.220937)scale(0.14 -0.14)\">\n",
              "     <defs>\n",
              "      <path d=\"M 4.5 23 \n",
              "L 13.421875 23.78125 \n",
              "Q 14.0625 18.40625 16.375 14.96875 \n",
              "Q 18.703125 11.53125 23.578125 9.40625 \n",
              "Q 28.46875 7.28125 34.578125 7.28125 \n",
              "Q 39.984375 7.28125 44.140625 8.890625 \n",
              "Q 48.296875 10.5 50.3125 13.296875 \n",
              "Q 52.34375 16.109375 52.34375 19.4375 \n",
              "Q 52.34375 22.796875 50.390625 25.3125 \n",
              "Q 48.4375 27.828125 43.953125 29.546875 \n",
              "Q 41.0625 30.671875 31.203125 33.03125 \n",
              "Q 21.34375 35.40625 17.390625 37.5 \n",
              "Q 12.25 40.1875 9.734375 44.15625 \n",
              "Q 7.234375 48.140625 7.234375 53.078125 \n",
              "Q 7.234375 58.5 10.296875 63.203125 \n",
              "Q 13.375 67.921875 19.28125 70.359375 \n",
              "Q 25.203125 72.796875 32.421875 72.796875 \n",
              "Q 40.375 72.796875 46.453125 70.234375 \n",
              "Q 52.546875 67.671875 55.8125 62.6875 \n",
              "Q 59.078125 57.71875 59.328125 51.421875 \n",
              "L 50.25 50.734375 \n",
              "Q 49.515625 57.515625 45.28125 60.984375 \n",
              "Q 41.0625 64.453125 32.8125 64.453125 \n",
              "Q 24.21875 64.453125 20.28125 61.296875 \n",
              "Q 16.359375 58.15625 16.359375 53.71875 \n",
              "Q 16.359375 49.859375 19.140625 47.359375 \n",
              "Q 21.875 44.875 33.421875 42.265625 \n",
              "Q 44.96875 39.65625 49.265625 37.703125 \n",
              "Q 55.515625 34.8125 58.484375 30.390625 \n",
              "Q 61.46875 25.984375 61.46875 20.21875 \n",
              "Q 61.46875 14.5 58.203125 9.4375 \n",
              "Q 54.9375 4.390625 48.796875 1.578125 \n",
              "Q 42.671875 -1.21875 35.015625 -1.21875 \n",
              "Q 25.296875 -1.21875 18.71875 1.609375 \n",
              "Q 12.15625 4.4375 8.421875 10.125 \n",
              "Q 4.6875 15.828125 4.5 23 \n",
              "z\n",
              "\" id=\"ArialMT-83\"/>\n",
              "      <path d=\"M 7.328125 0 \n",
              "L 7.328125 71.578125 \n",
              "L 16.796875 71.578125 \n",
              "L 16.796875 8.453125 \n",
              "L 52.046875 8.453125 \n",
              "L 52.046875 0 \n",
              "z\n",
              "\" id=\"ArialMT-76\"/>\n",
              "      <path d=\"M 6.59375 0 \n",
              "L 6.59375 51.859375 \n",
              "L 14.5 51.859375 \n",
              "L 14.5 44.484375 \n",
              "Q 20.21875 53.03125 31 53.03125 \n",
              "Q 35.6875 53.03125 39.625 51.34375 \n",
              "Q 43.5625 49.65625 45.515625 46.921875 \n",
              "Q 47.46875 44.1875 48.25 40.4375 \n",
              "Q 48.734375 37.984375 48.734375 31.890625 \n",
              "L 48.734375 0 \n",
              "L 39.9375 0 \n",
              "L 39.9375 31.546875 \n",
              "Q 39.9375 36.921875 38.90625 39.578125 \n",
              "Q 37.890625 42.234375 35.28125 43.8125 \n",
              "Q 32.671875 45.40625 29.15625 45.40625 \n",
              "Q 23.53125 45.40625 19.453125 41.84375 \n",
              "Q 15.375 38.28125 15.375 28.328125 \n",
              "L 15.375 0 \n",
              "z\n",
              "\" id=\"ArialMT-110\"/>\n",
              "      <path d=\"M 21 0 \n",
              "L 1.265625 51.859375 \n",
              "L 10.546875 51.859375 \n",
              "L 21.6875 20.796875 \n",
              "Q 23.484375 15.765625 25 10.359375 \n",
              "Q 26.171875 14.453125 28.265625 20.21875 \n",
              "L 39.796875 51.859375 \n",
              "L 48.828125 51.859375 \n",
              "L 29.203125 0 \n",
              "z\n",
              "\" id=\"ArialMT-118\"/>\n",
              "      <path d=\"M 40.234375 0 \n",
              "L 40.234375 6.546875 \n",
              "Q 35.296875 -1.171875 25.734375 -1.171875 \n",
              "Q 19.53125 -1.171875 14.328125 2.25 \n",
              "Q 9.125 5.671875 6.265625 11.796875 \n",
              "Q 3.421875 17.921875 3.421875 25.875 \n",
              "Q 3.421875 33.640625 6 39.96875 \n",
              "Q 8.59375 46.296875 13.765625 49.65625 \n",
              "Q 18.953125 53.03125 25.34375 53.03125 \n",
              "Q 30.03125 53.03125 33.6875 51.046875 \n",
              "Q 37.359375 49.078125 39.65625 45.90625 \n",
              "L 39.65625 71.578125 \n",
              "L 48.390625 71.578125 \n",
              "L 48.390625 0 \n",
              "z\n",
              "M 12.453125 25.875 \n",
              "Q 12.453125 15.921875 16.640625 10.984375 \n",
              "Q 20.84375 6.0625 26.5625 6.0625 \n",
              "Q 32.328125 6.0625 36.34375 10.765625 \n",
              "Q 40.375 15.484375 40.375 25.140625 \n",
              "Q 40.375 35.796875 36.265625 40.765625 \n",
              "Q 32.171875 45.75 26.171875 45.75 \n",
              "Q 20.3125 45.75 16.375 40.96875 \n",
              "Q 12.453125 36.1875 12.453125 25.875 \n",
              "z\n",
              "\" id=\"ArialMT-100\"/>\n",
              "      <path d=\"M 1.953125 0 \n",
              "L 1.953125 7.125 \n",
              "L 34.96875 45.015625 \n",
              "Q 29.34375 44.734375 25.046875 44.734375 \n",
              "L 3.90625 44.734375 \n",
              "L 3.90625 51.859375 \n",
              "L 46.296875 51.859375 \n",
              "L 46.296875 46.046875 \n",
              "L 18.21875 13.140625 \n",
              "L 12.796875 7.125 \n",
              "Q 18.703125 7.5625 23.875 7.5625 \n",
              "L 47.859375 7.5625 \n",
              "L 47.859375 0 \n",
              "z\n",
              "\" id=\"ArialMT-122\"/>\n",
              "     </defs>\n",
              "     <use xlink:href=\"#ArialMT-83\"/>\n",
              "     <use x=\"66.699219\" xlink:href=\"#ArialMT-84\"/>\n",
              "     <use x=\"127.783203\" xlink:href=\"#ArialMT-76\"/>\n",
              "     <use x=\"183.398438\" xlink:href=\"#ArialMT-49\"/>\n",
              "     <use x=\"239.013672\" xlink:href=\"#ArialMT-48\"/>\n",
              "     <use x=\"294.628906\" xlink:href=\"#ArialMT-32\"/>\n",
              "     <use x=\"322.412109\" xlink:href=\"#ArialMT-99\"/>\n",
              "     <use x=\"372.412109\" xlink:href=\"#ArialMT-108\"/>\n",
              "     <use x=\"394.628906\" xlink:href=\"#ArialMT-97\"/>\n",
              "     <use x=\"450.244141\" xlink:href=\"#ArialMT-115\"/>\n",
              "     <use x=\"500.244141\" xlink:href=\"#ArialMT-115\"/>\n",
              "     <use x=\"550.244141\" xlink:href=\"#ArialMT-105\"/>\n",
              "     <use x=\"572.460938\" xlink:href=\"#ArialMT-102\"/>\n",
              "     <use x=\"600.244141\" xlink:href=\"#ArialMT-105\"/>\n",
              "     <use x=\"622.460938\" xlink:href=\"#ArialMT-99\"/>\n",
              "     <use x=\"672.460938\" xlink:href=\"#ArialMT-97\"/>\n",
              "     <use x=\"728.076172\" xlink:href=\"#ArialMT-116\"/>\n",
              "     <use x=\"755.859375\" xlink:href=\"#ArialMT-105\"/>\n",
              "     <use x=\"778.076172\" xlink:href=\"#ArialMT-111\"/>\n",
              "     <use x=\"833.691406\" xlink:href=\"#ArialMT-110\"/>\n",
              "     <use x=\"889.306641\" xlink:href=\"#ArialMT-32\"/>\n",
              "     <use x=\"917.089844\" xlink:href=\"#ArialMT-111\"/>\n",
              "     <use x=\"972.705078\" xlink:href=\"#ArialMT-118\"/>\n",
              "     <use x=\"1022.705078\" xlink:href=\"#ArialMT-101\"/>\n",
              "     <use x=\"1078.320312\" xlink:href=\"#ArialMT-114\"/>\n",
              "     <use x=\"1111.621094\" xlink:href=\"#ArialMT-32\"/>\n",
              "     <use x=\"1139.404297\" xlink:href=\"#ArialMT-100\"/>\n",
              "     <use x=\"1195.019531\" xlink:href=\"#ArialMT-97\"/>\n",
              "     <use x=\"1250.634766\" xlink:href=\"#ArialMT-116\"/>\n",
              "     <use x=\"1278.417969\" xlink:href=\"#ArialMT-97\"/>\n",
              "     <use x=\"1334.033203\" xlink:href=\"#ArialMT-115\"/>\n",
              "     <use x=\"1384.033203\" xlink:href=\"#ArialMT-101\"/>\n",
              "     <use x=\"1439.648438\" xlink:href=\"#ArialMT-116\"/>\n",
              "     <use x=\"1467.431641\" xlink:href=\"#ArialMT-32\"/>\n",
              "     <use x=\"1495.214844\" xlink:href=\"#ArialMT-115\"/>\n",
              "     <use x=\"1545.214844\" xlink:href=\"#ArialMT-105\"/>\n",
              "     <use x=\"1567.431641\" xlink:href=\"#ArialMT-122\"/>\n",
              "     <use x=\"1617.431641\" xlink:href=\"#ArialMT-101\"/>\n",
              "    </g>\n",
              "   </g>\n",
              "  </g>\n",
              " </g>\n",
              " <defs>\n",
              "  <clipPath id=\"pa16a309c52\">\n",
              "   <rect height=\"217.44\" width=\"334.8\" x=\"59.339063\" y=\"23.220937\"/>\n",
              "  </clipPath>\n",
              " </defs>\n",
              "</svg>\n"
            ],
            "text/plain": [
              "<Figure size 432x288 with 1 Axes>"
            ]
          },
          "metadata": {},
          "output_type": "display_data"
        },
        {
          "name": "stdout",
          "output_type": "stream",
          "text": [
            "Test accuracy for  10 images per label: 62.79%\n",
            "Test accuracy for  20 images per label: 68.60%\n",
            "Test accuracy for  50 images per label: 74.44%\n",
            "Test accuracy for 100 images per label: 77.20%\n",
            "Test accuracy for 200 images per label: 79.06%\n",
            "Test accuracy for 500 images per label: 81.33%\n"
          ]
        }
      ],
      "source": [
        "dataset_sizes = sorted([k for k in results])\n",
        "test_scores = [results[k][\"test\"] for k in dataset_sizes]\n",
        "\n",
        "fig = plt.figure(figsize=(6,4))\n",
        "plt.plot(dataset_sizes, test_scores, '--', color=\"#000\", marker=\"*\", markeredgecolor=\"#000\", markerfacecolor=\"y\", markersize=16)\n",
        "plt.xscale(\"log\")\n",
        "plt.xticks(dataset_sizes, labels=dataset_sizes)\n",
        "plt.title(\"STL10 classification over dataset size\", fontsize=14)\n",
        "plt.xlabel(\"Number of images per class\")\n",
        "plt.ylabel(\"Test accuracy\")\n",
        "plt.minorticks_off()\n",
        "plt.show()\n",
        "\n",
        "for k, score in zip(dataset_sizes, test_scores):\n",
        "    print(f'Test accuracy for {k:3d} images per label: {100*score:4.2f}%')"
      ]
    },
    {
      "cell_type": "markdown",
      "metadata": {
        "id": "oe5Ywt4L55Oy"
      },
      "source": [
        "As one would expect, the classification performance improves the more data we have. However, with only 10 images per class, we can already classify more than 60% of the images correctly. This is quite impressive, considering that the images are also higher dimensional than e.g. CIFAR10. With the full dataset, we achieve an accuracy of 81%. The increase between 50 to 500 images per class might suggest a linear increase in performance with an exponentially larger dataset. However, with even more data, we could also finetune $f(\\cdot)$ in the training process, allowing for the representations to adapt more to the specific classification task given.\n",
        "\n",
        "To set the results above into perspective, we will train the base network, a ResNet-18, on the classification task from scratch."
      ]
    },
    {
      "cell_type": "markdown",
      "metadata": {
        "id": "6dWTOPGT55Oz"
      },
      "source": [
        "## Baseline\n",
        "\n",
        "As a baseline to our results above, we will train a standard ResNet-18 with random initialization on the labeled training set of STL10. The results will give us an indication of the advantages that contrastive learning on unlabeled data has compared to using only supervised training. The implementation of the model is straightforward since the ResNet architecture is provided in the torchvision library."
      ]
    },
    {
      "cell_type": "code",
      "execution_count": null,
      "metadata": {
        "id": "-zg-gpCa55Oz"
      },
      "outputs": [],
      "source": [
        "class ResNet(pl.LightningModule):\n",
        "\n",
        "    def __init__(self, num_classes, lr, weight_decay, max_epochs=100):\n",
        "        super().__init__()\n",
        "        self.save_hyperparameters()\n",
        "        self.model = torchvision.models.resnet18(num_classes=num_classes)\n",
        "\n",
        "    def configure_optimizers(self):\n",
        "        optimizer = optim.AdamW(self.parameters(), \n",
        "                                lr=self.hparams.lr, \n",
        "                                weight_decay=self.hparams.weight_decay)\n",
        "        lr_scheduler = optim.lr_scheduler.MultiStepLR(optimizer, \n",
        "                                                      milestones=[int(self.hparams.max_epochs*0.7), \n",
        "                                                                  int(self.hparams.max_epochs*0.9)], \n",
        "                                                      gamma=0.1)\n",
        "        return [optimizer], [lr_scheduler]\n",
        "\n",
        "    def _calculate_loss(self, batch, mode='train'):\n",
        "        imgs, labels = batch\n",
        "        preds = self.model(imgs)\n",
        "        loss = F.cross_entropy(preds, labels)\n",
        "        acc = (preds.argmax(dim=-1) == labels).float().mean()\n",
        "\n",
        "        self.log(mode + '_loss', loss)\n",
        "        self.log(mode + '_acc', acc)\n",
        "        return loss\n",
        "\n",
        "    def training_step(self, batch, batch_idx):\n",
        "        return self._calculate_loss(batch, mode='train')\n",
        "\n",
        "    def validation_step(self, batch, batch_idx):\n",
        "        self._calculate_loss(batch, mode='val')\n",
        "\n",
        "    def test_step(self, batch, batch_idx):\n",
        "        self._calculate_loss(batch, mode='test')"
      ]
    },
    {
      "cell_type": "markdown",
      "metadata": {
        "id": "18SCIdUW55O0"
      },
      "source": [
        "It is clear that the ResNet easily overfits on the training data since its parameter count is more than 1000 times larger than the dataset size. To make the comparison to the contrastive learning models fair, we apply data augmentations similar to the ones we used before: horizontal flip, crop-and-resize, grayscale, and gaussian blur. Color distortions as before are not used because the color distribution of an image showed to be an important feature for the classification. Hence, we observed no noticeable performance gains when adding color distortions to the set of augmentations. Similarly, we restrict the resizing operation before cropping to the max. 125% of its original resolution, instead of 1250% as done in SimCLR. This is because, for classification, the model needs to recognize the full object, while in contrastive learning, we only want to check whether two patches belong to the same image/object. Hence, the chosen augmentations below are overall weaker than in the contrastive learning case."
      ]
    },
    {
      "cell_type": "code",
      "execution_count": null,
      "metadata": {
        "id": "d_JQDg6r55O1",
        "outputId": "e3a21417-c6ef-418f-cbb4-0ec2e14e3f9e"
      },
      "outputs": [
        {
          "name": "stdout",
          "output_type": "stream",
          "text": [
            "Files already downloaded and verified\n"
          ]
        }
      ],
      "source": [
        "train_transforms = transforms.Compose([transforms.RandomHorizontalFlip(),\n",
        "                                       transforms.RandomResizedCrop(size=96, scale=(0.8, 1.0)),\n",
        "                                       transforms.RandomGrayscale(p=0.2),\n",
        "                                       transforms.GaussianBlur(kernel_size=9, sigma=(0.1, 0.5)),\n",
        "                                       transforms.ToTensor(),\n",
        "                                       transforms.Normalize((0.5,), (0.5,))\n",
        "                                       ])\n",
        "\n",
        "train_img_aug_data = STL10(root=DATASET_PATH, split='train', download=True,\n",
        "                           transform=train_transforms)"
      ]
    },
    {
      "cell_type": "markdown",
      "metadata": {
        "id": "2EWKFREZ55O3"
      },
      "source": [
        "The training function for the ResNet is almost identical to the Logistic Regression setup. Note that we allow the ResNet to perform validation every 2 epochs to also check whether the model overfits strongly in the first iterations or not."
      ]
    },
    {
      "cell_type": "code",
      "execution_count": null,
      "metadata": {
        "id": "-ylIYSaE55O3"
      },
      "outputs": [],
      "source": [
        "def train_resnet(batch_size, max_epochs=100, **kwargs):\n",
        "    trainer = pl.Trainer(default_root_dir=os.path.join(CHECKPOINT_PATH, \"ResNet\"),\n",
        "                         accelerator=\"gpu\" if str(device).startswith(\"cuda\") else \"cpu\",\n",
        "                         devices=1,\n",
        "                         max_epochs=max_epochs,\n",
        "                         callbacks=[ModelCheckpoint(save_weights_only=True, mode=\"max\", monitor=\"val_acc\"),\n",
        "                                    LearningRateMonitor(\"epoch\")],\n",
        "                         check_val_every_n_epoch=2)\n",
        "    trainer.logger._default_hp_metric = None\n",
        "    \n",
        "    # Data loaders\n",
        "    train_loader = data.DataLoader(train_img_aug_data, batch_size=batch_size, shuffle=True, \n",
        "                                   drop_last=True, pin_memory=True, num_workers=NUM_WORKERS)\n",
        "    test_loader = data.DataLoader(test_img_data, batch_size=batch_size, shuffle=False, \n",
        "                                  drop_last=False, pin_memory=True, num_workers=NUM_WORKERS)\n",
        "\n",
        "    # Check whether pretrained model exists. If yes, load it and skip training\n",
        "    pretrained_filename = os.path.join(CHECKPOINT_PATH, \"ResNet.ckpt\")\n",
        "    if os.path.isfile(pretrained_filename):\n",
        "        print(\"Found pretrained model at %s, loading...\" % pretrained_filename)\n",
        "        model = ResNet.load_from_checkpoint(pretrained_filename)\n",
        "    else:\n",
        "        pl.seed_everything(42) # To be reproducable\n",
        "        model = ResNet(**kwargs)\n",
        "        trainer.fit(model, train_loader, test_loader)\n",
        "        model = ResNet.load_from_checkpoint(trainer.checkpoint_callback.best_model_path)\n",
        "\n",
        "    # Test best model on validation set\n",
        "    train_result = trainer.test(model, train_loader, verbose=False)\n",
        "    val_result = trainer.test(model, test_loader, verbose=False)\n",
        "    result = {\"train\": train_result[0][\"test_acc\"], \"test\": val_result[0][\"test_acc\"]}\n",
        "        \n",
        "    return model, result"
      ]
    },
    {
      "cell_type": "markdown",
      "metadata": {
        "id": "EPcStcVt55O5"
      },
      "source": [
        "Finally, let's train the model and check its results:"
      ]
    },
    {
      "cell_type": "code",
      "execution_count": null,
      "metadata": {
        "colab": {
          "referenced_widgets": [
            "31a39a2ecb3342f298f31b6e08bf102a",
            "8fcdce7bf86c4c9780e7c9e01a894e94"
          ]
        },
        "id": "HI4q2zIR55O6",
        "outputId": "e0a37d29-c242-449b-cd2f-85c19afa8ff0"
      },
      "outputs": [
        {
          "name": "stderr",
          "output_type": "stream",
          "text": [
            "GPU available: True, used: True\n",
            "TPU available: False, using: 0 TPU cores\n",
            "LOCAL_RANK: 0 - CUDA_VISIBLE_DEVICES: [0,1]\n"
          ]
        },
        {
          "name": "stdout",
          "output_type": "stream",
          "text": [
            "Found pretrained model at ../saved_models/tutorial17/ResNet.ckpt, loading...\n"
          ]
        },
        {
          "name": "stderr",
          "output_type": "stream",
          "text": [
            "/home/phillip/anaconda3/envs/dl2020/lib/python3.7/site-packages/pytorch_lightning/utilities/distributed.py:69: UserWarning: Your test_dataloader has `shuffle=True`, it is best practice to turn this off for val/test/predict dataloaders.\n",
            "  warnings.warn(*args, **kwargs)\n"
          ]
        },
        {
          "data": {
            "application/vnd.jupyter.widget-view+json": {
              "model_id": "31a39a2ecb3342f298f31b6e08bf102a",
              "version_major": 2,
              "version_minor": 0
            },
            "text/plain": [
              "Testing: 0it [00:00, ?it/s]"
            ]
          },
          "metadata": {},
          "output_type": "display_data"
        },
        {
          "name": "stderr",
          "output_type": "stream",
          "text": [
            "LOCAL_RANK: 0 - CUDA_VISIBLE_DEVICES: [0,1]\n"
          ]
        },
        {
          "data": {
            "application/vnd.jupyter.widget-view+json": {
              "model_id": "8fcdce7bf86c4c9780e7c9e01a894e94",
              "version_major": 2,
              "version_minor": 0
            },
            "text/plain": [
              "Testing: 0it [00:00, ?it/s]"
            ]
          },
          "metadata": {},
          "output_type": "display_data"
        },
        {
          "name": "stdout",
          "output_type": "stream",
          "text": [
            "Accuracy on training set: 99.76%\n",
            "Accuracy on test set: 73.31%\n"
          ]
        }
      ],
      "source": [
        "resnet_model, resnet_result = train_resnet(batch_size=64,\n",
        "                                           num_classes=10,\n",
        "                                           lr=1e-3,\n",
        "                                           weight_decay=2e-4,\n",
        "                                           max_epochs=100)\n",
        "print(f\"Accuracy on training set: {100*resnet_result['train']:4.2f}%\")\n",
        "print(f\"Accuracy on test set: {100*resnet_result['test']:4.2f}%\")"
      ]
    },
    {
      "cell_type": "markdown",
      "metadata": {
        "id": "Xc6c36RZ55O7"
      },
      "source": [
        "The ResNet trained from scratch achieves 73.31% on the test set. This is almost 8% less than the contrastive learning model, and even slightly less than SimCLR achieves with 1/10 of the data. This shows that self-supervised, contrastive learning provides considerable performance gains by leveraging large amounts of unlabeled data when little labeled data is available."
      ]
    },
    {
      "cell_type": "markdown",
      "metadata": {
        "id": "Six3Kwsm55O8"
      },
      "source": [
        "## Conclusion\n",
        "\n",
        "In this tutorial, we have discussed self-supervised contrastive learning and implemented SimCLR as an example method. We have applied it to the STL10 dataset and showed that it can learn generalizable representations that we can use to train simple classification models. With 500 images per label, it achieved an 8% higher accuracy than a similar model solely trained from supervision and performs on par with it when only using a tenth of the labeled data. Our experimental results are limited to a single dataset, but recent works such as [Ting Chen et al.](https://arxiv.org/abs/2006.10029) showed similar trends for larger datasets like ImageNet. Besides the discussed hyperparameters, the size of the model seems to be important in contrastive learning as well. If a lot of unlabeled data is available, larger models can achieve much stronger results and come close to their supervised baselines. Further, there are also approaches for combining contrastive and supervised learning, leading to performance gains beyond supervision (see [Khosla et al.](https://arxiv.org/abs/2004.11362)). Moreover, contrastive learning is not the only approach to self-supervised learning that has come up in the last two years and showed great results. Other methods include distillation-based methods like [BYOL](https://arxiv.org/abs/2006.07733) and redundancy reduction techniques like [Barlow Twins](https://arxiv.org/abs/2103.03230). There is a lot more to explore in the self-supervised domain, and more, impressive steps ahead are to be expected.\n",
        "\n",
        "### References\n",
        "\n",
        "[1] Chen, T., Kornblith, S., Norouzi, M., and Hinton, G. (2020). A simple framework for contrastive learning of visual representations. In International Conference on Machine Learning (ICML 2020). PMLR. ([link](https://arxiv.org/abs/2002.05709))\n",
        "\n",
        "[2] Chen, T., Kornblith, S., Swersky, K., Norouzi, M., and Hinton, G. (2020). Big self-supervised models are strong semi-supervised learners. NeurIPS 2021 ([link](https://arxiv.org/abs/2006.10029)).\n",
        "\n",
        "[3] Oord, A. V. D., Li, Y., and Vinyals, O. (2018). Representation learning with contrastive predictive coding. arXiv preprint arXiv:1807.03748. ([link](https://arxiv.org/abs/1807.03748))\n",
        "\n",
        "[4] Grill, J.B., Strub, F., Altché, F., Tallec, C., Richemond, P.H., Buchatskaya, E., Doersch, C., Pires, B.A., Guo, Z.D., Azar, M.G. and Piot, B. (2020). Bootstrap your own latent: A new approach to self-supervised learning. NeurIPS 2020 ([link](https://arxiv.org/abs/2006.07733))\n",
        "\n",
        "[5] Khosla, P., Teterwak, P., Wang, C., Sarna, A., Tian, Y., Isola, P., Maschinot, A., Liu, C. and Krishnan, D. (2020). Supervised contrastive learning. NeurIPS 2020 ([link](https://arxiv.org/abs/2004.11362))\n",
        "\n",
        "[6] Zbontar, J., Jing, L., Misra, I., LeCun, Y. and Deny, S. (2021). Barlow twins: Self-supervised learning via redundancy reduction. In International Conference on Machine Learning (ICML 2021). ([link](https://arxiv.org/abs/2103.03230))"
      ]
    },
    {
      "cell_type": "markdown",
      "metadata": {
        "id": "Q9eDeTDf55O9"
      },
      "source": [
        "---\n",
        "\n",
        "[![Star our repository](https://img.shields.io/static/v1.svg?logo=star&label=⭐&message=Star%20Our%20Repository&color=yellow)](https://github.com/phlippe/uvadlc_notebooks/)  If you found this tutorial helpful, consider ⭐-ing our repository.    \n",
        "[![Ask questions](https://img.shields.io/static/v1.svg?logo=star&label=❔&message=Ask%20Questions&color=9cf)](https://github.com/phlippe/uvadlc_notebooks/issues)  For any questions, typos, or bugs that you found, please raise an issue on GitHub. \n",
        "\n",
        "---"
      ]
    }
  ],
  "metadata": {
    "kernelspec": {
      "display_name": "Python 3",
      "language": "python",
      "name": "python3"
    },
    "language_info": {
      "codemirror_mode": {
        "name": "ipython",
        "version": 3
      },
      "file_extension": ".py",
      "mimetype": "text/x-python",
      "name": "python",
      "nbconvert_exporter": "python",
      "pygments_lexer": "ipython3",
      "version": "3.7.9"
    },
    "colab": {
      "provenance": []
    }
  },
  "nbformat": 4,
  "nbformat_minor": 0
}
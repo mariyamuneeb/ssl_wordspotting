{
  "cells": [
    {
      "cell_type": "code",
      "source": [
        "import warnings\n",
        "warnings.simplefilter('ignore')\n",
        "import os\n",
        "!git clone https://github.com/mariyamuneeb/ssl_wordspotting\n",
        "os.chdir('/content/ssl_wordspotting')\n",
        "!pip install -qqq wandb\n",
        "\n",
        "from setup_wandb import wandb_login\n",
        "wandb_login()"
      ],
      "metadata": {
        "colab": {
          "base_uri": "https://localhost:8080/"
        },
        "id": "Ax5lAgzX8VrQ",
        "outputId": "f5fedd91-9202-48b7-e305-5c470d1289f8"
      },
      "execution_count": 2,
      "outputs": [
        {
          "output_type": "stream",
          "name": "stdout",
          "text": [
            "Cloning into 'ssl_wordspotting'...\n",
            "remote: Enumerating objects: 366, done.\u001b[K\n",
            "remote: Counting objects: 100% (85/85), done.\u001b[K\n",
            "remote: Compressing objects: 100% (66/66), done.\u001b[K\n",
            "remote: Total 366 (delta 38), reused 53 (delta 19), pack-reused 281\u001b[K\n",
            "Receiving objects: 100% (366/366), 9.27 MiB | 23.05 MiB/s, done.\n",
            "Resolving deltas: 100% (194/194), done.\n",
            "\u001b[2K     \u001b[90m━━━━━━━━━━━━━━━━━━━━━━━━━━━━━━━━━━━━━━━━\u001b[0m \u001b[32m2.0/2.0 MB\u001b[0m \u001b[31m21.5 MB/s\u001b[0m eta \u001b[36m0:00:00\u001b[0m\n",
            "\u001b[2K     \u001b[90m━━━━━━━━━━━━━━━━━━━━━━━━━━━━━━━━━━━━━━\u001b[0m \u001b[32m184.3/184.3 kB\u001b[0m \u001b[31m17.6 MB/s\u001b[0m eta \u001b[36m0:00:00\u001b[0m\n",
            "\u001b[2K     \u001b[90m━━━━━━━━━━━━━━━━━━━━━━━━━━━━━━━━━━━━━━\u001b[0m \u001b[32m203.3/203.3 kB\u001b[0m \u001b[31m18.0 MB/s\u001b[0m eta \u001b[36m0:00:00\u001b[0m\n",
            "\u001b[?25h  Preparing metadata (setup.py) ... \u001b[?25l\u001b[?25hdone\n",
            "\u001b[2K     \u001b[90m━━━━━━━━━━━━━━━━━━━━━━━━━━━━━━━━━━━━━━━━\u001b[0m \u001b[32m62.7/62.7 kB\u001b[0m \u001b[31m6.5 MB/s\u001b[0m eta \u001b[36m0:00:00\u001b[0m\n",
            "\u001b[?25h  Building wheel for pathtools (setup.py) ... \u001b[?25l\u001b[?25hdone\n",
            "/content/ssl_wordspotting\n",
            "Mounted at /content/drive\n",
            "Drive already mounted at /content/drive; to attempt to forcibly remount, call drive.mount(\"/content/drive\", force_remount=True).\n"
          ]
        },
        {
          "output_type": "stream",
          "name": "stderr",
          "text": [
            "\u001b[34m\u001b[1mwandb\u001b[0m: W&B API key is configured. Use \u001b[1m`wandb login --relogin`\u001b[0m to force relogin\n",
            "\u001b[34m\u001b[1mwandb\u001b[0m: \u001b[33mWARNING\u001b[0m If you're specifying your api key in code, ensure this code is not shared publicly.\n",
            "\u001b[34m\u001b[1mwandb\u001b[0m: \u001b[33mWARNING\u001b[0m Consider setting the WANDB_API_KEY environment variable, or running `wandb login` from the command line.\n",
            "\u001b[34m\u001b[1mwandb\u001b[0m: Appending key for api.wandb.ai to your netrc file: /root/.netrc\n"
          ]
        }
      ]
    },
    {
      "cell_type": "code",
      "source": [
        "from data_utils.utils import copy_iam_dataset_to_colab\n",
        "copy_iam_dataset_to_colab()"
      ],
      "metadata": {
        "colab": {
          "base_uri": "https://localhost:8080/"
        },
        "id": "jTXKgqgsBT7O",
        "outputId": "b278a950-f3f2-4e56-a367-e0cb3dd11be2"
      },
      "execution_count": 3,
      "outputs": [
        {
          "output_type": "stream",
          "name": "stdout",
          "text": [
            "Copying IAM Dataset from GDrive\n",
            "Drive already mounted at /content/drive; to attempt to forcibly remount, call drive.mount(\"/content/drive\", force_remount=True).\n",
            "/content/ssl_wordspotting/data/IAM_HW/words.tgz now copied\n",
            "/content/ssl_wordspotting/data/IAM_HW/xml.tgz now copied\n",
            "/content/ssl_wordspotting/data/IAM_HW/rules.zip now copied\n",
            "Copied IAM HW Files\n"
          ]
        }
      ]
    },
    {
      "cell_type": "code",
      "execution_count": 4,
      "metadata": {
        "colab": {
          "base_uri": "https://localhost:8080/",
          "height": 86
        },
        "id": "C20nZuTc55OE",
        "outputId": "d9aadb3f-f59a-4a4d-8441-b7035f58e7bc"
      },
      "outputs": [
        {
          "output_type": "stream",
          "name": "stderr",
          "text": [
            "INFO:lightning_fabric.utilities.seed:Global seed set to 42\n"
          ]
        },
        {
          "output_type": "stream",
          "name": "stdout",
          "text": [
            "Device: cpu\n",
            "Number of workers: 2\n"
          ]
        },
        {
          "output_type": "display_data",
          "data": {
            "text/plain": [
              "<Figure size 640x480 with 0 Axes>"
            ]
          },
          "metadata": {}
        }
      ],
      "source": [
        "## Standard libraries\n",
        "import os\n",
        "from copy import deepcopy\n",
        "\n",
        "## Imports for plotting\n",
        "import matplotlib.pyplot as plt\n",
        "plt.set_cmap('cividis')\n",
        "%matplotlib inline\n",
        "from IPython.display import set_matplotlib_formats\n",
        "set_matplotlib_formats('svg', 'pdf') # For export\n",
        "import matplotlib\n",
        "matplotlib.rcParams['lines.linewidth'] = 2.0\n",
        "import seaborn as sns\n",
        "sns.set()\n",
        "\n",
        "## tqdm for loading bars\n",
        "from tqdm.notebook import tqdm\n",
        "\n",
        "## PyTorch\n",
        "import torch\n",
        "import torch.nn as nn\n",
        "import torch.nn.functional as F\n",
        "import torch.utils.data as data\n",
        "import torch.optim as optim\n",
        "\n",
        "## Torchvision\n",
        "import torchvision\n",
        "from torchvision.datasets import STL10\n",
        "from torchvision import transforms\n",
        "\n",
        "# PyTorch Lightning\n",
        "try:\n",
        "    import pytorch_lightning as pl\n",
        "except ModuleNotFoundError: # Google Colab does not have PyTorch Lightning installed by default. Hence, we do it here if necessary\n",
        "    !pip install --quiet pytorch-lightning>=1.4\n",
        "    import pytorch_lightning as pl\n",
        "from pytorch_lightning.callbacks import LearningRateMonitor, ModelCheckpoint\n",
        "\n",
        "# Import tensorboard\n",
        "%load_ext tensorboard\n",
        "\n",
        "# Path to the folder where the datasets are/should be downloaded (e.g. CIFAR10)\n",
        "DATASET_PATH = \"../data\"\n",
        "# Path to the folder where the pretrained models are saved\n",
        "CHECKPOINT_PATH = \"../saved_models/tutorial17\"\n",
        "# In this notebook, we use data loaders with heavier computational processing. It is recommended to use as many\n",
        "# workers as possible in a data loader, which corresponds to the number of CPU cores\n",
        "NUM_WORKERS = os.cpu_count()\n",
        "\n",
        "# Setting the seed\n",
        "pl.seed_everything(42)\n",
        "\n",
        "# Ensure that all operations are deterministic on GPU (if used) for reproducibility\n",
        "torch.backends.cudnn.deterministic = True\n",
        "torch.backends.cudnn.benchmark = False\n",
        "\n",
        "device = torch.device(\"cuda:0\") if torch.cuda.is_available() else torch.device(\"cpu\")\n",
        "print(\"Device:\", device)\n",
        "print(\"Number of workers:\", NUM_WORKERS)"
      ]
    },
    {
      "cell_type": "code",
      "source": [],
      "metadata": {
        "id": "axZVKcFg8U2Y"
      },
      "execution_count": null,
      "outputs": []
    },
    {
      "cell_type": "markdown",
      "metadata": {
        "id": "p-0UOTza55OJ"
      },
      "source": [
        "## Loading Pretrained Resnet 18 Model"
      ]
    },
    {
      "cell_type": "code",
      "execution_count": 5,
      "metadata": {
        "colab": {
          "base_uri": "https://localhost:8080/"
        },
        "id": "uSClUcJL55OK",
        "outputId": "57588fd4-8345-4117-dc0d-e153083b5b82"
      },
      "outputs": [
        {
          "output_type": "stream",
          "name": "stdout",
          "text": [
            "Downloading https://raw.githubusercontent.com/phlippe/saved_models/main/tutorial17/SimCLR.ckpt...\n",
            "Downloading https://raw.githubusercontent.com/phlippe/saved_models/main/tutorial17/ResNet.ckpt...\n",
            "Downloading https://raw.githubusercontent.com/phlippe/saved_models/main/tutorial17/tensorboards/SimCLR/events.out.tfevents.SimCLR...\n",
            "Downloading https://raw.githubusercontent.com/phlippe/saved_models/main/tutorial17/tensorboards/classification/ResNet/events.out.tfevents.ResNet...\n",
            "Downloading https://raw.githubusercontent.com/phlippe/saved_models/main/tutorial17/LogisticRegression_10.ckpt...\n",
            "Downloading https://raw.githubusercontent.com/phlippe/saved_models/main/tutorial17/LogisticRegression_20.ckpt...\n",
            "Downloading https://raw.githubusercontent.com/phlippe/saved_models/main/tutorial17/LogisticRegression_50.ckpt...\n",
            "Downloading https://raw.githubusercontent.com/phlippe/saved_models/main/tutorial17/LogisticRegression_100.ckpt...\n",
            "Downloading https://raw.githubusercontent.com/phlippe/saved_models/main/tutorial17/LogisticRegression_200.ckpt...\n",
            "Downloading https://raw.githubusercontent.com/phlippe/saved_models/main/tutorial17/LogisticRegression_500.ckpt...\n"
          ]
        }
      ],
      "source": [
        "import urllib.request\n",
        "from urllib.error import HTTPError\n",
        "# Github URL where saved models are stored for this tutorial\n",
        "base_url = \"https://raw.githubusercontent.com/phlippe/saved_models/main/tutorial17/\"\n",
        "# Files to download\n",
        "pretrained_files = [\"SimCLR.ckpt\", \"ResNet.ckpt\",\n",
        "                    \"tensorboards/SimCLR/events.out.tfevents.SimCLR\",\n",
        "                    \"tensorboards/classification/ResNet/events.out.tfevents.ResNet\"]\n",
        "pretrained_files += [f\"LogisticRegression_{size}.ckpt\" for size in [10, 20, 50, 100, 200, 500]]\n",
        "# Create checkpoint path if it doesn't exist yet\n",
        "os.makedirs(CHECKPOINT_PATH, exist_ok=True)\n",
        "\n",
        "# For each file, check whether it already exists. If not, try downloading it.\n",
        "for file_name in pretrained_files:\n",
        "    file_path = os.path.join(CHECKPOINT_PATH, file_name)\n",
        "    if \"/\" in file_name:\n",
        "        os.makedirs(file_path.rsplit(\"/\",1)[0], exist_ok=True)\n",
        "    if not os.path.isfile(file_path):\n",
        "        file_url = base_url + file_name\n",
        "        print(f\"Downloading {file_url}...\")\n",
        "        try:\n",
        "            urllib.request.urlretrieve(file_url, file_path)\n",
        "        except HTTPError as e:\n",
        "            print(\"Something went wrong. Please try to download the file from the GDrive folder, or contact the author with the full output including the following error:\\n\", e)"
      ]
    },
    {
      "cell_type": "markdown",
      "metadata": {
        "id": "UPO1o6Za55OM"
      },
      "source": [
        "## SimCLR"
      ]
    },
    {
      "cell_type": "markdown",
      "metadata": {
        "id": "01-QUPOr55OM"
      },
      "source": [
        "### Loading Dataset & Data Augmentation for Contrastive Learning\n"
      ]
    },
    {
      "cell_type": "code",
      "execution_count": 6,
      "metadata": {
        "id": "lrnlNY_a55OO"
      },
      "outputs": [],
      "source": [
        "class ContrastiveTransformations(object):\n",
        "    \n",
        "    def __init__(self, base_transforms, n_views=2):\n",
        "        self.base_transforms = base_transforms\n",
        "        self.n_views = n_views\n",
        "        \n",
        "    def __call__(self, x):\n",
        "        return [self.base_transforms(x) for i in range(self.n_views)]"
      ]
    },
    {
      "cell_type": "code",
      "execution_count": 7,
      "metadata": {
        "id": "WJGQmChC55OS"
      },
      "outputs": [],
      "source": [
        "resize_size = (128,128)\n",
        "contrast_transforms = transforms.Compose([                                        \n",
        "                                          transforms.RandomHorizontalFlip(),\n",
        "                                          transforms.RandomResizedCrop(size=resize_size),\n",
        "                                          transforms.RandomApply([\n",
        "                                          transforms.ColorJitter(brightness=0.5, \n",
        "                                                                     contrast=0.5, \n",
        "                                                                     saturation=0.5, \n",
        "                                                                     hue=0.1)\n",
        "                                          ], p=0.8),\n",
        "                                          \n",
        "                                          transforms.GaussianBlur(kernel_size=9),\n",
        "                                          transforms.ToTensor(),\n",
        "                                          transforms.Normalize((0.5,), (0.5,))\n",
        "                                         ])\n",
        "\n",
        "\n",
        "test_transform = transforms.Compose([transforms.ToTensor(),\n",
        "                                     transforms.Resize(resize_size),])"
      ]
    },
    {
      "cell_type": "code",
      "execution_count": 6,
      "metadata": {
        "colab": {
          "base_uri": "https://localhost:8080/"
        },
        "id": "q8u3af4M55OW",
        "outputId": "60ffefb5-ce71-4d4a-8a72-47b33383b75f"
      },
      "outputs": [
        {
          "output_type": "stream",
          "name": "stdout",
          "text": [
            "Downloading http://ai.stanford.edu/~acoates/stl10/stl10_binary.tar.gz to ../data/stl10_binary.tar.gz\n"
          ]
        },
        {
          "output_type": "stream",
          "name": "stderr",
          "text": [
            "100%|██████████| 2640397119/2640397119 [01:15<00:00, 34880026.19it/s]\n"
          ]
        },
        {
          "output_type": "stream",
          "name": "stdout",
          "text": [
            "Extracting ../data/stl10_binary.tar.gz to ../data\n",
            "Files already downloaded and verified\n"
          ]
        }
      ],
      "source": [
        "unlabeled_data = STL10(root=DATASET_PATH, split='unlabeled', download=True, \n",
        "                       transform=ContrastiveTransformations(contrast_transforms, n_views=2))\n",
        "train_data_contrast = STL10(root=DATASET_PATH, split='train', download=True, \n",
        "                            transform=ContrastiveTransformations(contrast_transforms, n_views=2))"
      ]
    },
    {
      "cell_type": "code",
      "source": [
        "from models.dataset import IAMDataset2,IAMDataset,IAMSubset\n",
        "from models.layers import VariationalEncoder,Decoder\n",
        "from experiment_utils.utils import train_epoch,test_epoch\n",
        "from PIL import Image\n",
        "from math import floor\n",
        "from statistics import mean"
      ],
      "metadata": {
        "id": "P1hWW9959n3l"
      },
      "execution_count": 8,
      "outputs": []
    },
    {
      "cell_type": "code",
      "source": [],
      "metadata": {
        "id": "PzG26shs9JX5"
      },
      "execution_count": 31,
      "outputs": []
    },
    {
      "cell_type": "markdown",
      "source": [],
      "metadata": {
        "id": "5rqbtVJyvRAA"
      }
    },
    {
      "cell_type": "code",
      "source": [
        "iam_train_dataset = IAMDataset2('train',transform=contrast_transforms)\n",
        "iam_test_dataset = IAMDataset2('test',transform=test_transform)"
      ],
      "metadata": {
        "id": "Mhmibu3d9ynZ"
      },
      "execution_count": 9,
      "outputs": []
    },
    {
      "cell_type": "code",
      "source": [
        "subset_iam_train_dataset = IAMSubset().subset(iam_train_dataset,0.2)\n",
        "subset_iam_test_dataset = IAMSubset().subset(iam_test_dataset,0.2)"
      ],
      "metadata": {
        "id": "wRAy2gm_9rSM"
      },
      "execution_count": 10,
      "outputs": []
    },
    {
      "cell_type": "code",
      "source": [],
      "metadata": {
        "id": "uJuo8ooUv-A3"
      },
      "execution_count": null,
      "outputs": []
    },
    {
      "cell_type": "code",
      "execution_count": 19,
      "metadata": {
        "colab": {
          "base_uri": "https://localhost:8080/",
          "height": 204
        },
        "id": "he3ZK9iz55OY",
        "outputId": "6f63c593-6353-49da-e9c4-1a69b2ecedb2"
      },
      "outputs": [
        {
          "output_type": "stream",
          "name": "stderr",
          "text": [
            "INFO:lightning_fabric.utilities.seed:Global seed set to 42\n"
          ]
        },
        {
          "output_type": "display_data",
          "data": {
            "text/plain": [
              "<Figure size 1000x500 with 1 Axes>"
            ],
            "image/svg+xml": "<?xml version=\"1.0\" encoding=\"utf-8\" standalone=\"no\"?>\n<!DOCTYPE svg PUBLIC \"-//W3C//DTD SVG 1.1//EN\"\n  \"http://www.w3.org/Graphics/SVG/1.1/DTD/svg11.dtd\">\n<svg xmlns:xlink=\"http://www.w3.org/1999/xlink\" width=\"572.4pt\" height=\"123.707383pt\" viewBox=\"0 0 572.4 123.707383\" xmlns=\"http://www.w3.org/2000/svg\" version=\"1.1\">\n <metadata>\n  <rdf:RDF xmlns:dc=\"http://purl.org/dc/elements/1.1/\" xmlns:cc=\"http://creativecommons.org/ns#\" xmlns:rdf=\"http://www.w3.org/1999/02/22-rdf-syntax-ns#\">\n   <cc:Work>\n    <dc:type rdf:resource=\"http://purl.org/dc/dcmitype/StillImage\"/>\n    <dc:date>2023-05-10T04:31:28.027686</dc:date>\n    <dc:format>image/svg+xml</dc:format>\n    <dc:creator>\n     <cc:Agent>\n      <dc:title>Matplotlib v3.7.1, https://matplotlib.org/</dc:title>\n     </cc:Agent>\n    </dc:creator>\n   </cc:Work>\n  </rdf:RDF>\n </metadata>\n <defs>\n  <style type=\"text/css\">*{stroke-linejoin: round; stroke-linecap: butt}</style>\n </defs>\n <g id=\"figure_1\">\n  <g id=\"patch_1\">\n   <path d=\"M 0 123.707383 \nL 572.4 123.707383 \nL 572.4 0 \nL 0 0 \nz\n\" style=\"fill: #ffffff\"/>\n  </g>\n  <g id=\"axes_1\">\n   <g clip-path=\"url(#p41140f877e)\">\n    <image xlink:href=\"data:image/png;base64,\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\" id=\"image9c43c23b46\" transform=\"scale(1 -1) translate(0 -94.32)\" x=\"7.2\" y=\"-22.187383\" width=\"558\" height=\"94.32\"/>\n   </g>\n   <g id=\"text_1\">\n    <!-- Augmented image examples of the IAM HW dataset -->\n    <g style=\"fill: #262626\" transform=\"translate(130.491562 16.318125) scale(0.12 -0.12)\">\n     <defs>\n      <path id=\"DejaVuSans-41\" d=\"M 2188 4044 \nL 1331 1722 \nL 3047 1722 \nL 2188 4044 \nz\nM 1831 4666 \nL 2547 4666 \nL 4325 0 \nL 3669 0 \nL 3244 1197 \nL 1141 1197 \nL 716 0 \nL 50 0 \nL 1831 4666 \nz\n\" transform=\"scale(0.015625)\"/>\n      <path id=\"DejaVuSans-75\" d=\"M 544 1381 \nL 544 3500 \nL 1119 3500 \nL 1119 1403 \nQ 1119 906 1312 657 \nQ 1506 409 1894 409 \nQ 2359 409 2629 706 \nQ 2900 1003 2900 1516 \nL 2900 3500 \nL 3475 3500 \nL 3475 0 \nL 2900 0 \nL 2900 538 \nQ 2691 219 2414 64 \nQ 2138 -91 1772 -91 \nQ 1169 -91 856 284 \nQ 544 659 544 1381 \nz\nM 1991 3584 \nL 1991 3584 \nz\n\" transform=\"scale(0.015625)\"/>\n      <path id=\"DejaVuSans-67\" d=\"M 2906 1791 \nQ 2906 2416 2648 2759 \nQ 2391 3103 1925 3103 \nQ 1463 3103 1205 2759 \nQ 947 2416 947 1791 \nQ 947 1169 1205 825 \nQ 1463 481 1925 481 \nQ 2391 481 2648 825 \nQ 2906 1169 2906 1791 \nz\nM 3481 434 \nQ 3481 -459 3084 -895 \nQ 2688 -1331 1869 -1331 \nQ 1566 -1331 1297 -1286 \nQ 1028 -1241 775 -1147 \nL 775 -588 \nQ 1028 -725 1275 -790 \nQ 1522 -856 1778 -856 \nQ 2344 -856 2625 -561 \nQ 2906 -266 2906 331 \nL 2906 616 \nQ 2728 306 2450 153 \nQ 2172 0 1784 0 \nQ 1141 0 747 490 \nQ 353 981 353 1791 \nQ 353 2603 747 3093 \nQ 1141 3584 1784 3584 \nQ 2172 3584 2450 3431 \nQ 2728 3278 2906 2969 \nL 2906 3500 \nL 3481 3500 \nL 3481 434 \nz\n\" transform=\"scale(0.015625)\"/>\n      <path id=\"DejaVuSans-6d\" d=\"M 3328 2828 \nQ 3544 3216 3844 3400 \nQ 4144 3584 4550 3584 \nQ 5097 3584 5394 3201 \nQ 5691 2819 5691 2113 \nL 5691 0 \nL 5113 0 \nL 5113 2094 \nQ 5113 2597 4934 2840 \nQ 4756 3084 4391 3084 \nQ 3944 3084 3684 2787 \nQ 3425 2491 3425 1978 \nL 3425 0 \nL 2847 0 \nL 2847 2094 \nQ 2847 2600 2669 2842 \nQ 2491 3084 2119 3084 \nQ 1678 3084 1418 2786 \nQ 1159 2488 1159 1978 \nL 1159 0 \nL 581 0 \nL 581 3500 \nL 1159 3500 \nL 1159 2956 \nQ 1356 3278 1631 3431 \nQ 1906 3584 2284 3584 \nQ 2666 3584 2933 3390 \nQ 3200 3197 3328 2828 \nz\n\" transform=\"scale(0.015625)\"/>\n      <path id=\"DejaVuSans-65\" d=\"M 3597 1894 \nL 3597 1613 \nL 953 1613 \nQ 991 1019 1311 708 \nQ 1631 397 2203 397 \nQ 2534 397 2845 478 \nQ 3156 559 3463 722 \nL 3463 178 \nQ 3153 47 2828 -22 \nQ 2503 -91 2169 -91 \nQ 1331 -91 842 396 \nQ 353 884 353 1716 \nQ 353 2575 817 3079 \nQ 1281 3584 2069 3584 \nQ 2775 3584 3186 3129 \nQ 3597 2675 3597 1894 \nz\nM 3022 2063 \nQ 3016 2534 2758 2815 \nQ 2500 3097 2075 3097 \nQ 1594 3097 1305 2825 \nQ 1016 2553 972 2059 \nL 3022 2063 \nz\n\" transform=\"scale(0.015625)\"/>\n      <path id=\"DejaVuSans-6e\" d=\"M 3513 2113 \nL 3513 0 \nL 2938 0 \nL 2938 2094 \nQ 2938 2591 2744 2837 \nQ 2550 3084 2163 3084 \nQ 1697 3084 1428 2787 \nQ 1159 2491 1159 1978 \nL 1159 0 \nL 581 0 \nL 581 3500 \nL 1159 3500 \nL 1159 2956 \nQ 1366 3272 1645 3428 \nQ 1925 3584 2291 3584 \nQ 2894 3584 3203 3211 \nQ 3513 2838 3513 2113 \nz\n\" transform=\"scale(0.015625)\"/>\n      <path id=\"DejaVuSans-74\" d=\"M 1172 4494 \nL 1172 3500 \nL 2356 3500 \nL 2356 3053 \nL 1172 3053 \nL 1172 1153 \nQ 1172 725 1289 603 \nQ 1406 481 1766 481 \nL 2356 481 \nL 2356 0 \nL 1766 0 \nQ 1100 0 847 248 \nQ 594 497 594 1153 \nL 594 3053 \nL 172 3053 \nL 172 3500 \nL 594 3500 \nL 594 4494 \nL 1172 4494 \nz\n\" transform=\"scale(0.015625)\"/>\n      <path id=\"DejaVuSans-64\" d=\"M 2906 2969 \nL 2906 4863 \nL 3481 4863 \nL 3481 0 \nL 2906 0 \nL 2906 525 \nQ 2725 213 2448 61 \nQ 2172 -91 1784 -91 \nQ 1150 -91 751 415 \nQ 353 922 353 1747 \nQ 353 2572 751 3078 \nQ 1150 3584 1784 3584 \nQ 2172 3584 2448 3432 \nQ 2725 3281 2906 2969 \nz\nM 947 1747 \nQ 947 1113 1208 752 \nQ 1469 391 1925 391 \nQ 2381 391 2643 752 \nQ 2906 1113 2906 1747 \nQ 2906 2381 2643 2742 \nQ 2381 3103 1925 3103 \nQ 1469 3103 1208 2742 \nQ 947 2381 947 1747 \nz\n\" transform=\"scale(0.015625)\"/>\n      <path id=\"DejaVuSans-20\" transform=\"scale(0.015625)\"/>\n      <path id=\"DejaVuSans-69\" d=\"M 603 3500 \nL 1178 3500 \nL 1178 0 \nL 603 0 \nL 603 3500 \nz\nM 603 4863 \nL 1178 4863 \nL 1178 4134 \nL 603 4134 \nL 603 4863 \nz\n\" transform=\"scale(0.015625)\"/>\n      <path id=\"DejaVuSans-61\" d=\"M 2194 1759 \nQ 1497 1759 1228 1600 \nQ 959 1441 959 1056 \nQ 959 750 1161 570 \nQ 1363 391 1709 391 \nQ 2188 391 2477 730 \nQ 2766 1069 2766 1631 \nL 2766 1759 \nL 2194 1759 \nz\nM 3341 1997 \nL 3341 0 \nL 2766 0 \nL 2766 531 \nQ 2569 213 2275 61 \nQ 1981 -91 1556 -91 \nQ 1019 -91 701 211 \nQ 384 513 384 1019 \nQ 384 1609 779 1909 \nQ 1175 2209 1959 2209 \nL 2766 2209 \nL 2766 2266 \nQ 2766 2663 2505 2880 \nQ 2244 3097 1772 3097 \nQ 1472 3097 1187 3025 \nQ 903 2953 641 2809 \nL 641 3341 \nQ 956 3463 1253 3523 \nQ 1550 3584 1831 3584 \nQ 2591 3584 2966 3190 \nQ 3341 2797 3341 1997 \nz\n\" transform=\"scale(0.015625)\"/>\n      <path id=\"DejaVuSans-78\" d=\"M 3513 3500 \nL 2247 1797 \nL 3578 0 \nL 2900 0 \nL 1881 1375 \nL 863 0 \nL 184 0 \nL 1544 1831 \nL 300 3500 \nL 978 3500 \nL 1906 2253 \nL 2834 3500 \nL 3513 3500 \nz\n\" transform=\"scale(0.015625)\"/>\n      <path id=\"DejaVuSans-70\" d=\"M 1159 525 \nL 1159 -1331 \nL 581 -1331 \nL 581 3500 \nL 1159 3500 \nL 1159 2969 \nQ 1341 3281 1617 3432 \nQ 1894 3584 2278 3584 \nQ 2916 3584 3314 3078 \nQ 3713 2572 3713 1747 \nQ 3713 922 3314 415 \nQ 2916 -91 2278 -91 \nQ 1894 -91 1617 61 \nQ 1341 213 1159 525 \nz\nM 3116 1747 \nQ 3116 2381 2855 2742 \nQ 2594 3103 2138 3103 \nQ 1681 3103 1420 2742 \nQ 1159 2381 1159 1747 \nQ 1159 1113 1420 752 \nQ 1681 391 2138 391 \nQ 2594 391 2855 752 \nQ 3116 1113 3116 1747 \nz\n\" transform=\"scale(0.015625)\"/>\n      <path id=\"DejaVuSans-6c\" d=\"M 603 4863 \nL 1178 4863 \nL 1178 0 \nL 603 0 \nL 603 4863 \nz\n\" transform=\"scale(0.015625)\"/>\n      <path id=\"DejaVuSans-73\" d=\"M 2834 3397 \nL 2834 2853 \nQ 2591 2978 2328 3040 \nQ 2066 3103 1784 3103 \nQ 1356 3103 1142 2972 \nQ 928 2841 928 2578 \nQ 928 2378 1081 2264 \nQ 1234 2150 1697 2047 \nL 1894 2003 \nQ 2506 1872 2764 1633 \nQ 3022 1394 3022 966 \nQ 3022 478 2636 193 \nQ 2250 -91 1575 -91 \nQ 1294 -91 989 -36 \nQ 684 19 347 128 \nL 347 722 \nQ 666 556 975 473 \nQ 1284 391 1588 391 \nQ 1994 391 2212 530 \nQ 2431 669 2431 922 \nQ 2431 1156 2273 1281 \nQ 2116 1406 1581 1522 \nL 1381 1569 \nQ 847 1681 609 1914 \nQ 372 2147 372 2553 \nQ 372 3047 722 3315 \nQ 1072 3584 1716 3584 \nQ 2034 3584 2315 3537 \nQ 2597 3491 2834 3397 \nz\n\" transform=\"scale(0.015625)\"/>\n      <path id=\"DejaVuSans-6f\" d=\"M 1959 3097 \nQ 1497 3097 1228 2736 \nQ 959 2375 959 1747 \nQ 959 1119 1226 758 \nQ 1494 397 1959 397 \nQ 2419 397 2687 759 \nQ 2956 1122 2956 1747 \nQ 2956 2369 2687 2733 \nQ 2419 3097 1959 3097 \nz\nM 1959 3584 \nQ 2709 3584 3137 3096 \nQ 3566 2609 3566 1747 \nQ 3566 888 3137 398 \nQ 2709 -91 1959 -91 \nQ 1206 -91 779 398 \nQ 353 888 353 1747 \nQ 353 2609 779 3096 \nQ 1206 3584 1959 3584 \nz\n\" transform=\"scale(0.015625)\"/>\n      <path id=\"DejaVuSans-66\" d=\"M 2375 4863 \nL 2375 4384 \nL 1825 4384 \nQ 1516 4384 1395 4259 \nQ 1275 4134 1275 3809 \nL 1275 3500 \nL 2222 3500 \nL 2222 3053 \nL 1275 3053 \nL 1275 0 \nL 697 0 \nL 697 3053 \nL 147 3053 \nL 147 3500 \nL 697 3500 \nL 697 3744 \nQ 697 4328 969 4595 \nQ 1241 4863 1831 4863 \nL 2375 4863 \nz\n\" transform=\"scale(0.015625)\"/>\n      <path id=\"DejaVuSans-68\" d=\"M 3513 2113 \nL 3513 0 \nL 2938 0 \nL 2938 2094 \nQ 2938 2591 2744 2837 \nQ 2550 3084 2163 3084 \nQ 1697 3084 1428 2787 \nQ 1159 2491 1159 1978 \nL 1159 0 \nL 581 0 \nL 581 4863 \nL 1159 4863 \nL 1159 2956 \nQ 1366 3272 1645 3428 \nQ 1925 3584 2291 3584 \nQ 2894 3584 3203 3211 \nQ 3513 2838 3513 2113 \nz\n\" transform=\"scale(0.015625)\"/>\n      <path id=\"DejaVuSans-49\" d=\"M 628 4666 \nL 1259 4666 \nL 1259 0 \nL 628 0 \nL 628 4666 \nz\n\" transform=\"scale(0.015625)\"/>\n      <path id=\"DejaVuSans-4d\" d=\"M 628 4666 \nL 1569 4666 \nL 2759 1491 \nL 3956 4666 \nL 4897 4666 \nL 4897 0 \nL 4281 0 \nL 4281 4097 \nL 3078 897 \nL 2444 897 \nL 1241 4097 \nL 1241 0 \nL 628 0 \nL 628 4666 \nz\n\" transform=\"scale(0.015625)\"/>\n      <path id=\"DejaVuSans-48\" d=\"M 628 4666 \nL 1259 4666 \nL 1259 2753 \nL 3553 2753 \nL 3553 4666 \nL 4184 4666 \nL 4184 0 \nL 3553 0 \nL 3553 2222 \nL 1259 2222 \nL 1259 0 \nL 628 0 \nL 628 4666 \nz\n\" transform=\"scale(0.015625)\"/>\n      <path id=\"DejaVuSans-57\" d=\"M 213 4666 \nL 850 4666 \nL 1831 722 \nL 2809 4666 \nL 3519 4666 \nL 4500 722 \nL 5478 4666 \nL 6119 4666 \nL 4947 0 \nL 4153 0 \nL 3169 4050 \nL 2175 0 \nL 1381 0 \nL 213 4666 \nz\n\" transform=\"scale(0.015625)\"/>\n     </defs>\n     <use xlink:href=\"#DejaVuSans-41\"/>\n     <use xlink:href=\"#DejaVuSans-75\" x=\"68.408203\"/>\n     <use xlink:href=\"#DejaVuSans-67\" x=\"131.787109\"/>\n     <use xlink:href=\"#DejaVuSans-6d\" x=\"195.263672\"/>\n     <use xlink:href=\"#DejaVuSans-65\" x=\"292.675781\"/>\n     <use xlink:href=\"#DejaVuSans-6e\" x=\"354.199219\"/>\n     <use xlink:href=\"#DejaVuSans-74\" x=\"417.578125\"/>\n     <use xlink:href=\"#DejaVuSans-65\" x=\"456.787109\"/>\n     <use xlink:href=\"#DejaVuSans-64\" x=\"518.310547\"/>\n     <use xlink:href=\"#DejaVuSans-20\" x=\"581.787109\"/>\n     <use xlink:href=\"#DejaVuSans-69\" x=\"613.574219\"/>\n     <use xlink:href=\"#DejaVuSans-6d\" x=\"641.357422\"/>\n     <use xlink:href=\"#DejaVuSans-61\" x=\"738.769531\"/>\n     <use xlink:href=\"#DejaVuSans-67\" x=\"800.048828\"/>\n     <use xlink:href=\"#DejaVuSans-65\" x=\"863.525391\"/>\n     <use xlink:href=\"#DejaVuSans-20\" x=\"925.048828\"/>\n     <use xlink:href=\"#DejaVuSans-65\" x=\"956.835938\"/>\n     <use xlink:href=\"#DejaVuSans-78\" x=\"1016.609375\"/>\n     <use xlink:href=\"#DejaVuSans-61\" x=\"1075.789062\"/>\n     <use xlink:href=\"#DejaVuSans-6d\" x=\"1137.068359\"/>\n     <use xlink:href=\"#DejaVuSans-70\" x=\"1234.480469\"/>\n     <use xlink:href=\"#DejaVuSans-6c\" x=\"1297.957031\"/>\n     <use xlink:href=\"#DejaVuSans-65\" x=\"1325.740234\"/>\n     <use xlink:href=\"#DejaVuSans-73\" x=\"1387.263672\"/>\n     <use xlink:href=\"#DejaVuSans-20\" x=\"1439.363281\"/>\n     <use xlink:href=\"#DejaVuSans-6f\" x=\"1471.150391\"/>\n     <use xlink:href=\"#DejaVuSans-66\" x=\"1532.332031\"/>\n     <use xlink:href=\"#DejaVuSans-20\" x=\"1567.537109\"/>\n     <use xlink:href=\"#DejaVuSans-74\" x=\"1599.324219\"/>\n     <use xlink:href=\"#DejaVuSans-68\" x=\"1638.533203\"/>\n     <use xlink:href=\"#DejaVuSans-65\" x=\"1701.912109\"/>\n     <use xlink:href=\"#DejaVuSans-20\" x=\"1763.435547\"/>\n     <use xlink:href=\"#DejaVuSans-49\" x=\"1795.222656\"/>\n     <use xlink:href=\"#DejaVuSans-41\" x=\"1824.714844\"/>\n     <use xlink:href=\"#DejaVuSans-4d\" x=\"1893.123047\"/>\n     <use xlink:href=\"#DejaVuSans-20\" x=\"1979.402344\"/>\n     <use xlink:href=\"#DejaVuSans-48\" x=\"2011.189453\"/>\n     <use xlink:href=\"#DejaVuSans-57\" x=\"2086.384766\"/>\n     <use xlink:href=\"#DejaVuSans-20\" x=\"2185.261719\"/>\n     <use xlink:href=\"#DejaVuSans-64\" x=\"2217.048828\"/>\n     <use xlink:href=\"#DejaVuSans-61\" x=\"2280.525391\"/>\n     <use xlink:href=\"#DejaVuSans-74\" x=\"2341.804688\"/>\n     <use xlink:href=\"#DejaVuSans-61\" x=\"2381.013672\"/>\n     <use xlink:href=\"#DejaVuSans-73\" x=\"2442.292969\"/>\n     <use xlink:href=\"#DejaVuSans-65\" x=\"2494.392578\"/>\n     <use xlink:href=\"#DejaVuSans-74\" x=\"2555.916016\"/>\n    </g>\n   </g>\n  </g>\n </g>\n <defs>\n  <clipPath id=\"p41140f877e\">\n   <rect x=\"7.2\" y=\"22.318125\" width=\"558\" height=\"94.189258\"/>\n  </clipPath>\n </defs>\n</svg>\n",
            "application/pdf": "[encoded data removed]"
          },
          "metadata": {}
        }
      ],
      "source": [
        "# Visualize some examples\n",
        "pl.seed_everything(42)\n",
        "NUM_IMAGES = 6\n",
        "imgs = [img for idx in range(NUM_IMAGES) for img in torch.unsqueeze(subset_iam_train_dataset[idx][1],dim=0)]\n",
        "img_grid = torchvision.utils.make_grid(imgs, nrow=6, normalize=True, pad_value=0.9)\n",
        "img_grid = img_grid.permute(1, 2, 0)\n",
        "\n",
        "plt.figure(figsize=(10,5))\n",
        "plt.title('Augmented image examples of the IAM HW dataset')\n",
        "plt.imshow(img_grid)\n",
        "plt.axis('off')\n",
        "plt.show()\n",
        "plt.close()"
      ]
    },
    {
      "cell_type": "code",
      "source": [
        "imgs[0].shape"
      ],
      "metadata": {
        "colab": {
          "base_uri": "https://localhost:8080/"
        },
        "id": "mCcPVFaA0eFP",
        "outputId": "86b53d54-5f94-4e59-d916-9f38d1677574"
      },
      "execution_count": 18,
      "outputs": [
        {
          "output_type": "execute_result",
          "data": {
            "text/plain": [
              "torch.Size([128, 128])"
            ]
          },
          "metadata": {},
          "execution_count": 18
        }
      ]
    },
    {
      "cell_type": "code",
      "source": [
        "subset_iam_train_dataset[1][1].shape"
      ],
      "metadata": {
        "colab": {
          "base_uri": "https://localhost:8080/"
        },
        "id": "enAifD94v--7",
        "outputId": "c3e610c2-b73a-4c2f-a8b4-7545c8df9051"
      },
      "execution_count": 13,
      "outputs": [
        {
          "output_type": "execute_result",
          "data": {
            "text/plain": [
              "torch.Size([1, 128, 128])"
            ]
          },
          "metadata": {},
          "execution_count": 13
        }
      ]
    },
    {
      "cell_type": "markdown",
      "metadata": {
        "id": "dbuiwO4155Ob"
      },
      "source": [
        "We see the wide variety of our data augmentation, including randomly cropping, grayscaling, gaussian blur, and color distortion. Thus, it remains a challenging task for the model to match two, independently augmented patches of the same image."
      ]
    },
    {
      "cell_type": "markdown",
      "metadata": {
        "id": "AnVVibpS55Oc"
      },
      "source": [
        "### SimCLR implementation\n",
        "\n",
        "Using the data loader pipeline above, we can now implement SimCLR. At each iteration, we get for every image $x$ two differently augmented versions, which we refer to as $\\tilde{x}_i$ and $\\tilde{x}_j$. Both of these images are encoded into a one-dimensional feature vector, between which we want to maximize similarity which minimizes it to all other images in the batch. The encoder network is split into two parts: a base encoder network $f(\\cdot)$, and a projection head $g(\\cdot)$. The base network is usually a deep CNN as we have seen in e.g. [Tutorial 5](https://uvadlc-notebooks.readthedocs.io/en/latest/tutorial_notebooks/tutorial5/Inception_ResNet_DenseNet.html) before, and is responsible for extracting a representation vector from the augmented data examples. In our experiments, we will use the common ResNet-18 architecture as $f(\\cdot)$, and refer to the output as $f(\\tilde{x}_i)=h_i$. The projection head $g(\\cdot)$ maps the representation $h$ into a space where we apply the contrastive loss, i.e., compare similarities between vectors. It is often chosen to be a small MLP with non-linearities, and for simplicity, we follow the original SimCLR paper setup by defining it as a two-layer MLP with ReLU activation in the hidden layer. Note that in the follow-up paper, [SimCLRv2](https://arxiv.org/abs/2006.10029), the authors mention that larger/wider MLPs can boost the performance considerably. This is why we apply an MLP with four times larger hidden dimensions, but deeper MLPs showed to overfit on the given dataset. The general setup is visualized below (figure credit - [Ting Chen et al.](https://arxiv.org/abs/2006.10029)):\n",
        "\n",
        "<center width=\"100%\"><img src=\"https://github.com/phlippe/uvadlc_notebooks/blob/master/docs/tutorial_notebooks/tutorial17/simclr_network_setup.svg?raw=1\" width=\"350px\"></center>\n",
        "\n",
        "After finishing the training with contrastive learning, we will remove the projection head $g(\\cdot)$, and use $f(\\cdot)$ as a pretrained feature extractor. The representations $z$ that come out of the projection head $g(\\cdot)$ have been shown to perform worse than those of the base network $f(\\cdot)$ when finetuning the network for a new task. This is likely because the representations $z$ are trained to become invariant to many features like the color that can be important for downstream tasks. Thus, $g(\\cdot)$ is only needed for the contrastive learning stage.\n",
        "\n",
        "Now that the architecture is described, let's take a closer look at how we train the model. As mentioned before, we want to maximize the similarity between the representations of the two augmented versions of the same image, i.e., $z_i$ and $z_j$ in the figure above, while minimizing it to all other examples in the batch. SimCLR thereby applies the InfoNCE loss, originally proposed by [Aaron van den Oord et al.](https://arxiv.org/abs/1807.03748) for contrastive learning. In short, the InfoNCE loss compares the similarity of $z_i$ and $z_j$ to the similarity of $z_i$ to any other representation in the batch by performing a softmax over the similarity values. The loss can be formally written as:\n",
        "\n",
        "$$\n",
        "\\ell_{i,j}=-\\log \\frac{\\exp(\\text{sim}(z_i,z_j)/\\tau)}{\\sum_{k=1}^{2N}\\mathbb{1}_{[k\\neq i]}\\exp(\\text{sim}(z_i,z_k)/\\tau)}=-\\text{sim}(z_i,z_j)/\\tau+\\log\\left[\\sum_{k=1}^{2N}\\mathbb{1}_{[k\\neq i]}\\exp(\\text{sim}(z_i,z_k)/\\tau)\\right]\n",
        "$$\n",
        "\n",
        "The function $\\text{sim}$ is a similarity metric, and the hyperparameter $\\tau$ is called temperature determining how peaked the distribution is. Since many similarity metrics are bounded, the temperature parameter allows us to balance the influence of many dissimilar image patches versus one similar patch. The similarity metric that is used in SimCLR is cosine similarity, as defined below:\n",
        "\n",
        "$$\n",
        "\\text{sim}(z_i,z_j) = \\frac{z_i^\\top \\cdot z_j}{||z_i||\\cdot||z_j||}\n",
        "$$\n",
        "\n",
        "The maximum cosine similarity possible is $1$, while the minimum is $-1$. In general, we will see that the features of two different images will converge to a cosine similarity around zero since the minimum, $-1$, would require $z_i$ and $z_j$ to be in the exact opposite direction in all feature dimensions, which does not allow for great flexibility.\n",
        "\n",
        "Finally, now that we have discussed all details, let's implement SimCLR below as a PyTorch Lightning module:"
      ]
    },
    {
      "cell_type": "code",
      "execution_count": 8,
      "metadata": {
        "id": "1lUujOnP55Oe"
      },
      "outputs": [],
      "source": [
        "class SimCLR(pl.LightningModule):\n",
        "    \n",
        "    def __init__(self, hidden_dim, lr, temperature, weight_decay, max_epochs=500):\n",
        "        super().__init__()\n",
        "        self.save_hyperparameters()\n",
        "        assert self.hparams.temperature > 0.0, 'The temperature must be a positive float!'\n",
        "        # Base model f(.)\n",
        "        self.convnet = torchvision.models.resnet18(num_classes=4*hidden_dim)  # Output of last linear layer\n",
        "        # The MLP for g(.) consists of Linear->ReLU->Linear \n",
        "        self.convnet.fc = nn.Sequential(\n",
        "            self.convnet.fc,  # Linear(ResNet output, 4*hidden_dim)\n",
        "            nn.ReLU(inplace=True),\n",
        "            nn.Linear(4*hidden_dim, hidden_dim)\n",
        "        )\n",
        "\n",
        "    def configure_optimizers(self):\n",
        "        optimizer = optim.AdamW(self.parameters(), \n",
        "                                lr=self.hparams.lr, \n",
        "                                weight_decay=self.hparams.weight_decay)\n",
        "        lr_scheduler = optim.lr_scheduler.CosineAnnealingLR(optimizer,\n",
        "                                                            T_max=self.hparams.max_epochs,\n",
        "                                                            eta_min=self.hparams.lr/50)\n",
        "        return [optimizer], [lr_scheduler]\n",
        "        \n",
        "    def info_nce_loss(self, batch, mode='train'):\n",
        "        imgs, _ = batch\n",
        "        imgs = torch.cat(imgs, dim=0)\n",
        "        \n",
        "        # Encode all images\n",
        "        feats = self.convnet(imgs)\n",
        "        # Calculate cosine similarity\n",
        "        cos_sim = F.cosine_similarity(feats[:,None,:], feats[None,:,:], dim=-1)\n",
        "        # Mask out cosine similarity to itself\n",
        "        self_mask = torch.eye(cos_sim.shape[0], dtype=torch.bool, device=cos_sim.device)\n",
        "        cos_sim.masked_fill_(self_mask, -9e15)\n",
        "        # Find positive example -> batch_size//2 away from the original example\n",
        "        pos_mask = self_mask.roll(shifts=cos_sim.shape[0]//2, dims=0)\n",
        "        # InfoNCE loss\n",
        "        cos_sim = cos_sim / self.hparams.temperature\n",
        "        nll = -cos_sim[pos_mask] + torch.logsumexp(cos_sim, dim=-1)\n",
        "        nll = nll.mean()\n",
        "        \n",
        "        # Logging loss\n",
        "        self.log(mode+'_loss', nll)\n",
        "        # Get ranking position of positive example\n",
        "        comb_sim = torch.cat([cos_sim[pos_mask][:,None],  # First position positive example\n",
        "                              cos_sim.masked_fill(pos_mask, -9e15)], \n",
        "                             dim=-1)\n",
        "        sim_argsort = comb_sim.argsort(dim=-1, descending=True).argmin(dim=-1)\n",
        "        # Logging ranking metrics\n",
        "        self.log(mode+'_acc_top1', (sim_argsort == 0).float().mean())\n",
        "        self.log(mode+'_acc_top5', (sim_argsort < 5).float().mean())\n",
        "        self.log(mode+'_acc_mean_pos', 1+sim_argsort.float().mean())\n",
        "        \n",
        "        return nll\n",
        "        \n",
        "    def training_step(self, batch, batch_idx):\n",
        "        return self.info_nce_loss(batch, mode='train')\n",
        "        \n",
        "    def validation_step(self, batch, batch_idx):\n",
        "        self.info_nce_loss(batch, mode='val')"
      ]
    },
    {
      "cell_type": "markdown",
      "metadata": {
        "id": "BH3BGC_M55Og"
      },
      "source": [
        "Alternatively to performing the validation on the contrastive learning loss as well, we could also take a simple, small downstream task, and track the performance of the base network $f(\\cdot)$ on that. However, in this tutorial, we will restrict ourselves to the STL10 dataset where we use the task of image classification on STL10 as our test task."
      ]
    },
    {
      "cell_type": "markdown",
      "metadata": {
        "id": "cByagHHS55Oh"
      },
      "source": [
        "### Training\n",
        "\n",
        "Now that we have implemented SimCLR and the data loading pipeline, we are ready to train the model. We will use the same training function setup as usual. For saving the best model checkpoint, we track the metric `val_acc_top5`, which describes how often the correct image patch is within the top-5 most similar examples in the batch. This is usually less noisy than the top-1 metric, making it a better metric to choose the best model from."
      ]
    },
    {
      "cell_type": "code",
      "execution_count": 9,
      "metadata": {
        "id": "8waehX2h55Oh"
      },
      "outputs": [],
      "source": [
        "def train_simclr(batch_size, max_epochs=500, **kwargs):\n",
        "    trainer = pl.Trainer(default_root_dir=os.path.join(CHECKPOINT_PATH, 'SimCLR'),\n",
        "                         accelerator=\"gpu\" if str(device).startswith(\"cuda\") else \"cpu\",\n",
        "                         devices=1,\n",
        "                         max_epochs=max_epochs,\n",
        "                         callbacks=[ModelCheckpoint(save_weights_only=True, mode='max', monitor='val_acc_top5'),\n",
        "                                    LearningRateMonitor('epoch')])\n",
        "    trainer.logger._default_hp_metric = None # Optional logging argument that we don't need\n",
        "\n",
        "    # Check whether pretrained model exists. If yes, load it and skip training\n",
        "    pretrained_filename = os.path.join(CHECKPOINT_PATH, 'SimCLR.ckpt')\n",
        "    if os.path.isfile(pretrained_filename):\n",
        "        print(f'Found pretrained model at {pretrained_filename}, loading...')\n",
        "        model = SimCLR.load_from_checkpoint(pretrained_filename) # Automatically loads the model with the saved hyperparameters\n",
        "    else:\n",
        "        train_loader = data.DataLoader(unlabeled_data, batch_size=batch_size, shuffle=True, \n",
        "                                       drop_last=True, pin_memory=True, num_workers=NUM_WORKERS)\n",
        "        val_loader = data.DataLoader(train_data_contrast, batch_size=batch_size, shuffle=False, \n",
        "                                     drop_last=False, pin_memory=True, num_workers=NUM_WORKERS)\n",
        "        pl.seed_everything(42) # To be reproducable\n",
        "        model = SimCLR(max_epochs=max_epochs, **kwargs)\n",
        "        trainer.fit(model, train_loader, val_loader)\n",
        "        model = SimCLR.load_from_checkpoint(trainer.checkpoint_callback.best_model_path) # Load best checkpoint after training\n",
        "\n",
        "    return model"
      ]
    },
    {
      "cell_type": "markdown",
      "metadata": {
        "id": "3X5quTQg55Oi"
      },
      "source": [
        "A common observation in contrastive learning is that the larger the batch size, the better the models perform. A larger batch size allows us to compare each image to more negative examples, leading to overall smoother loss gradients. However, in our case, we experienced that a batch size of 256 was sufficient to get good results."
      ]
    },
    {
      "cell_type": "code",
      "execution_count": 10,
      "metadata": {
        "colab": {
          "base_uri": "https://localhost:8080/",
          "height": 469
        },
        "id": "J8AuCME955Oj",
        "outputId": "7e8cd53b-b232-4dcc-f5e3-0462de1c6be7"
      },
      "outputs": [
        {
          "output_type": "stream",
          "name": "stderr",
          "text": [
            "INFO:pytorch_lightning.utilities.rank_zero:GPU available: False, used: False\n",
            "INFO:pytorch_lightning.utilities.rank_zero:TPU available: False, using: 0 TPU cores\n",
            "INFO:pytorch_lightning.utilities.rank_zero:IPU available: False, using: 0 IPUs\n",
            "INFO:pytorch_lightning.utilities.rank_zero:HPU available: False, using: 0 HPUs\n"
          ]
        },
        {
          "output_type": "stream",
          "name": "stdout",
          "text": [
            "Found pretrained model at ../saved_models/tutorial17/SimCLR.ckpt, loading...\n"
          ]
        },
        {
          "output_type": "error",
          "ename": "RuntimeError",
          "evalue": "ignored",
          "traceback": [
            "\u001b[0;31m---------------------------------------------------------------------------\u001b[0m",
            "\u001b[0;31mRuntimeError\u001b[0m                              Traceback (most recent call last)",
            "\u001b[0;32m<ipython-input-10-86f8c8aff12c>\u001b[0m in \u001b[0;36m<cell line: 1>\u001b[0;34m()\u001b[0m\n\u001b[0;32m----> 1\u001b[0;31m simclr_model = train_simclr(batch_size=256, \n\u001b[0m\u001b[1;32m      2\u001b[0m                             \u001b[0mhidden_dim\u001b[0m\u001b[0;34m=\u001b[0m\u001b[0;36m128\u001b[0m\u001b[0;34m,\u001b[0m\u001b[0;34m\u001b[0m\u001b[0;34m\u001b[0m\u001b[0m\n\u001b[1;32m      3\u001b[0m                             \u001b[0mlr\u001b[0m\u001b[0;34m=\u001b[0m\u001b[0;36m5e-4\u001b[0m\u001b[0;34m,\u001b[0m\u001b[0;34m\u001b[0m\u001b[0;34m\u001b[0m\u001b[0m\n\u001b[1;32m      4\u001b[0m                             \u001b[0mtemperature\u001b[0m\u001b[0;34m=\u001b[0m\u001b[0;36m0.07\u001b[0m\u001b[0;34m,\u001b[0m\u001b[0;34m\u001b[0m\u001b[0;34m\u001b[0m\u001b[0m\n\u001b[1;32m      5\u001b[0m                             \u001b[0mweight_decay\u001b[0m\u001b[0;34m=\u001b[0m\u001b[0;36m1e-4\u001b[0m\u001b[0;34m,\u001b[0m\u001b[0;34m\u001b[0m\u001b[0;34m\u001b[0m\u001b[0m\n",
            "\u001b[0;32m<ipython-input-9-657e3b18f2e5>\u001b[0m in \u001b[0;36mtrain_simclr\u001b[0;34m(batch_size, max_epochs, **kwargs)\u001b[0m\n\u001b[1;32m     12\u001b[0m     \u001b[0;32mif\u001b[0m \u001b[0mos\u001b[0m\u001b[0;34m.\u001b[0m\u001b[0mpath\u001b[0m\u001b[0;34m.\u001b[0m\u001b[0misfile\u001b[0m\u001b[0;34m(\u001b[0m\u001b[0mpretrained_filename\u001b[0m\u001b[0;34m)\u001b[0m\u001b[0;34m:\u001b[0m\u001b[0;34m\u001b[0m\u001b[0;34m\u001b[0m\u001b[0m\n\u001b[1;32m     13\u001b[0m         \u001b[0mprint\u001b[0m\u001b[0;34m(\u001b[0m\u001b[0;34mf'Found pretrained model at {pretrained_filename}, loading...'\u001b[0m\u001b[0;34m)\u001b[0m\u001b[0;34m\u001b[0m\u001b[0;34m\u001b[0m\u001b[0m\n\u001b[0;32m---> 14\u001b[0;31m         \u001b[0mmodel\u001b[0m \u001b[0;34m=\u001b[0m \u001b[0mSimCLR\u001b[0m\u001b[0;34m.\u001b[0m\u001b[0mload_from_checkpoint\u001b[0m\u001b[0;34m(\u001b[0m\u001b[0mpretrained_filename\u001b[0m\u001b[0;34m)\u001b[0m \u001b[0;31m# Automatically loads the model with the saved hyperparameters\u001b[0m\u001b[0;34m\u001b[0m\u001b[0;34m\u001b[0m\u001b[0m\n\u001b[0m\u001b[1;32m     15\u001b[0m     \u001b[0;32melse\u001b[0m\u001b[0;34m:\u001b[0m\u001b[0;34m\u001b[0m\u001b[0;34m\u001b[0m\u001b[0m\n\u001b[1;32m     16\u001b[0m         train_loader = data.DataLoader(unlabeled_data, batch_size=batch_size, shuffle=True, \n",
            "\u001b[0;32m/usr/local/lib/python3.10/dist-packages/pytorch_lightning/core/module.py\u001b[0m in \u001b[0;36mload_from_checkpoint\u001b[0;34m(cls, checkpoint_path, map_location, hparams_file, strict, **kwargs)\u001b[0m\n\u001b[1;32m   1529\u001b[0m             \u001b[0my_hat\u001b[0m \u001b[0;34m=\u001b[0m \u001b[0mpretrained_model\u001b[0m\u001b[0;34m(\u001b[0m\u001b[0mx\u001b[0m\u001b[0;34m)\u001b[0m\u001b[0;34m\u001b[0m\u001b[0;34m\u001b[0m\u001b[0m\n\u001b[1;32m   1530\u001b[0m         \"\"\"\n\u001b[0;32m-> 1531\u001b[0;31m         loaded = _load_from_checkpoint(\n\u001b[0m\u001b[1;32m   1532\u001b[0m             \u001b[0mcls\u001b[0m\u001b[0;34m,\u001b[0m\u001b[0;34m\u001b[0m\u001b[0;34m\u001b[0m\u001b[0m\n\u001b[1;32m   1533\u001b[0m             \u001b[0mcheckpoint_path\u001b[0m\u001b[0;34m,\u001b[0m\u001b[0;34m\u001b[0m\u001b[0;34m\u001b[0m\u001b[0m\n",
            "\u001b[0;32m/usr/local/lib/python3.10/dist-packages/pytorch_lightning/core/saving.py\u001b[0m in \u001b[0;36m_load_from_checkpoint\u001b[0;34m(cls, checkpoint_path, map_location, hparams_file, strict, **kwargs)\u001b[0m\n\u001b[1;32m     58\u001b[0m ) -> Union[\"pl.LightningModule\", \"pl.LightningDataModule\"]:\n\u001b[1;32m     59\u001b[0m     \u001b[0;32mwith\u001b[0m \u001b[0mpl_legacy_patch\u001b[0m\u001b[0;34m(\u001b[0m\u001b[0;34m)\u001b[0m\u001b[0;34m:\u001b[0m\u001b[0;34m\u001b[0m\u001b[0;34m\u001b[0m\u001b[0m\n\u001b[0;32m---> 60\u001b[0;31m         \u001b[0mcheckpoint\u001b[0m \u001b[0;34m=\u001b[0m \u001b[0mpl_load\u001b[0m\u001b[0;34m(\u001b[0m\u001b[0mcheckpoint_path\u001b[0m\u001b[0;34m,\u001b[0m \u001b[0mmap_location\u001b[0m\u001b[0;34m=\u001b[0m\u001b[0mmap_location\u001b[0m\u001b[0;34m)\u001b[0m\u001b[0;34m\u001b[0m\u001b[0;34m\u001b[0m\u001b[0m\n\u001b[0m\u001b[1;32m     61\u001b[0m \u001b[0;34m\u001b[0m\u001b[0m\n\u001b[1;32m     62\u001b[0m     \u001b[0;31m# convert legacy checkpoints to the new format\u001b[0m\u001b[0;34m\u001b[0m\u001b[0;34m\u001b[0m\u001b[0m\n",
            "\u001b[0;32m/usr/local/lib/python3.10/dist-packages/lightning_fabric/utilities/cloud_io.py\u001b[0m in \u001b[0;36m_load\u001b[0;34m(path_or_url, map_location)\u001b[0m\n\u001b[1;32m     49\u001b[0m     \u001b[0mfs\u001b[0m \u001b[0;34m=\u001b[0m \u001b[0mget_filesystem\u001b[0m\u001b[0;34m(\u001b[0m\u001b[0mpath_or_url\u001b[0m\u001b[0;34m)\u001b[0m\u001b[0;34m\u001b[0m\u001b[0;34m\u001b[0m\u001b[0m\n\u001b[1;32m     50\u001b[0m     \u001b[0;32mwith\u001b[0m \u001b[0mfs\u001b[0m\u001b[0;34m.\u001b[0m\u001b[0mopen\u001b[0m\u001b[0;34m(\u001b[0m\u001b[0mpath_or_url\u001b[0m\u001b[0;34m,\u001b[0m \u001b[0;34m\"rb\"\u001b[0m\u001b[0;34m)\u001b[0m \u001b[0;32mas\u001b[0m \u001b[0mf\u001b[0m\u001b[0;34m:\u001b[0m\u001b[0;34m\u001b[0m\u001b[0;34m\u001b[0m\u001b[0m\n\u001b[0;32m---> 51\u001b[0;31m         \u001b[0;32mreturn\u001b[0m \u001b[0mtorch\u001b[0m\u001b[0;34m.\u001b[0m\u001b[0mload\u001b[0m\u001b[0;34m(\u001b[0m\u001b[0mf\u001b[0m\u001b[0;34m,\u001b[0m \u001b[0mmap_location\u001b[0m\u001b[0;34m=\u001b[0m\u001b[0mmap_location\u001b[0m\u001b[0;34m)\u001b[0m  \u001b[0;31m# type: ignore[arg-type]\u001b[0m\u001b[0;34m\u001b[0m\u001b[0;34m\u001b[0m\u001b[0m\n\u001b[0m\u001b[1;32m     52\u001b[0m \u001b[0;34m\u001b[0m\u001b[0m\n\u001b[1;32m     53\u001b[0m \u001b[0;34m\u001b[0m\u001b[0m\n",
            "\u001b[0;32m/usr/local/lib/python3.10/dist-packages/torch/serialization.py\u001b[0m in \u001b[0;36mload\u001b[0;34m(f, map_location, pickle_module, weights_only, **pickle_load_args)\u001b[0m\n\u001b[1;32m    807\u001b[0m                     \u001b[0;32mexcept\u001b[0m \u001b[0mRuntimeError\u001b[0m \u001b[0;32mas\u001b[0m \u001b[0me\u001b[0m\u001b[0;34m:\u001b[0m\u001b[0;34m\u001b[0m\u001b[0;34m\u001b[0m\u001b[0m\n\u001b[1;32m    808\u001b[0m                         \u001b[0;32mraise\u001b[0m \u001b[0mpickle\u001b[0m\u001b[0;34m.\u001b[0m\u001b[0mUnpicklingError\u001b[0m\u001b[0;34m(\u001b[0m\u001b[0mUNSAFE_MESSAGE\u001b[0m \u001b[0;34m+\u001b[0m \u001b[0mstr\u001b[0m\u001b[0;34m(\u001b[0m\u001b[0me\u001b[0m\u001b[0;34m)\u001b[0m\u001b[0;34m)\u001b[0m \u001b[0;32mfrom\u001b[0m \u001b[0;32mNone\u001b[0m\u001b[0;34m\u001b[0m\u001b[0;34m\u001b[0m\u001b[0m\n\u001b[0;32m--> 809\u001b[0;31m                 \u001b[0;32mreturn\u001b[0m \u001b[0m_load\u001b[0m\u001b[0;34m(\u001b[0m\u001b[0mopened_zipfile\u001b[0m\u001b[0;34m,\u001b[0m \u001b[0mmap_location\u001b[0m\u001b[0;34m,\u001b[0m \u001b[0mpickle_module\u001b[0m\u001b[0;34m,\u001b[0m \u001b[0;34m**\u001b[0m\u001b[0mpickle_load_args\u001b[0m\u001b[0;34m)\u001b[0m\u001b[0;34m\u001b[0m\u001b[0;34m\u001b[0m\u001b[0m\n\u001b[0m\u001b[1;32m    810\u001b[0m         \u001b[0;32mif\u001b[0m \u001b[0mweights_only\u001b[0m\u001b[0;34m:\u001b[0m\u001b[0;34m\u001b[0m\u001b[0;34m\u001b[0m\u001b[0m\n\u001b[1;32m    811\u001b[0m             \u001b[0;32mtry\u001b[0m\u001b[0;34m:\u001b[0m\u001b[0;34m\u001b[0m\u001b[0;34m\u001b[0m\u001b[0m\n",
            "\u001b[0;32m/usr/local/lib/python3.10/dist-packages/torch/serialization.py\u001b[0m in \u001b[0;36m_load\u001b[0;34m(zip_file, map_location, pickle_module, pickle_file, **pickle_load_args)\u001b[0m\n\u001b[1;32m   1170\u001b[0m     \u001b[0munpickler\u001b[0m \u001b[0;34m=\u001b[0m \u001b[0mUnpicklerWrapper\u001b[0m\u001b[0;34m(\u001b[0m\u001b[0mdata_file\u001b[0m\u001b[0;34m,\u001b[0m \u001b[0;34m**\u001b[0m\u001b[0mpickle_load_args\u001b[0m\u001b[0;34m)\u001b[0m\u001b[0;34m\u001b[0m\u001b[0;34m\u001b[0m\u001b[0m\n\u001b[1;32m   1171\u001b[0m     \u001b[0munpickler\u001b[0m\u001b[0;34m.\u001b[0m\u001b[0mpersistent_load\u001b[0m \u001b[0;34m=\u001b[0m \u001b[0mpersistent_load\u001b[0m\u001b[0;34m\u001b[0m\u001b[0;34m\u001b[0m\u001b[0m\n\u001b[0;32m-> 1172\u001b[0;31m     \u001b[0mresult\u001b[0m \u001b[0;34m=\u001b[0m \u001b[0munpickler\u001b[0m\u001b[0;34m.\u001b[0m\u001b[0mload\u001b[0m\u001b[0;34m(\u001b[0m\u001b[0;34m)\u001b[0m\u001b[0;34m\u001b[0m\u001b[0;34m\u001b[0m\u001b[0m\n\u001b[0m\u001b[1;32m   1173\u001b[0m \u001b[0;34m\u001b[0m\u001b[0m\n\u001b[1;32m   1174\u001b[0m     \u001b[0mtorch\u001b[0m\u001b[0;34m.\u001b[0m\u001b[0m_utils\u001b[0m\u001b[0;34m.\u001b[0m\u001b[0m_validate_loaded_sparse_tensors\u001b[0m\u001b[0;34m(\u001b[0m\u001b[0;34m)\u001b[0m\u001b[0;34m\u001b[0m\u001b[0;34m\u001b[0m\u001b[0m\n",
            "\u001b[0;32m/usr/lib/python3.10/pickle.py\u001b[0m in \u001b[0;36mload\u001b[0;34m(self)\u001b[0m\n\u001b[1;32m   1211\u001b[0m                     \u001b[0;32mraise\u001b[0m \u001b[0mEOFError\u001b[0m\u001b[0;34m\u001b[0m\u001b[0;34m\u001b[0m\u001b[0m\n\u001b[1;32m   1212\u001b[0m                 \u001b[0;32massert\u001b[0m \u001b[0misinstance\u001b[0m\u001b[0;34m(\u001b[0m\u001b[0mkey\u001b[0m\u001b[0;34m,\u001b[0m \u001b[0mbytes_types\u001b[0m\u001b[0;34m)\u001b[0m\u001b[0;34m\u001b[0m\u001b[0;34m\u001b[0m\u001b[0m\n\u001b[0;32m-> 1213\u001b[0;31m                 \u001b[0mdispatch\u001b[0m\u001b[0;34m[\u001b[0m\u001b[0mkey\u001b[0m\u001b[0;34m[\u001b[0m\u001b[0;36m0\u001b[0m\u001b[0;34m]\u001b[0m\u001b[0;34m]\u001b[0m\u001b[0;34m(\u001b[0m\u001b[0mself\u001b[0m\u001b[0;34m)\u001b[0m\u001b[0;34m\u001b[0m\u001b[0;34m\u001b[0m\u001b[0m\n\u001b[0m\u001b[1;32m   1214\u001b[0m         \u001b[0;32mexcept\u001b[0m \u001b[0m_Stop\u001b[0m \u001b[0;32mas\u001b[0m \u001b[0mstopinst\u001b[0m\u001b[0;34m:\u001b[0m\u001b[0;34m\u001b[0m\u001b[0;34m\u001b[0m\u001b[0m\n\u001b[1;32m   1215\u001b[0m             \u001b[0;32mreturn\u001b[0m \u001b[0mstopinst\u001b[0m\u001b[0;34m.\u001b[0m\u001b[0mvalue\u001b[0m\u001b[0;34m\u001b[0m\u001b[0;34m\u001b[0m\u001b[0m\n",
            "\u001b[0;32m/usr/lib/python3.10/pickle.py\u001b[0m in \u001b[0;36mload_binpersid\u001b[0;34m(self)\u001b[0m\n\u001b[1;32m   1252\u001b[0m     \u001b[0;32mdef\u001b[0m \u001b[0mload_binpersid\u001b[0m\u001b[0;34m(\u001b[0m\u001b[0mself\u001b[0m\u001b[0;34m)\u001b[0m\u001b[0;34m:\u001b[0m\u001b[0;34m\u001b[0m\u001b[0;34m\u001b[0m\u001b[0m\n\u001b[1;32m   1253\u001b[0m         \u001b[0mpid\u001b[0m \u001b[0;34m=\u001b[0m \u001b[0mself\u001b[0m\u001b[0;34m.\u001b[0m\u001b[0mstack\u001b[0m\u001b[0;34m.\u001b[0m\u001b[0mpop\u001b[0m\u001b[0;34m(\u001b[0m\u001b[0;34m)\u001b[0m\u001b[0;34m\u001b[0m\u001b[0;34m\u001b[0m\u001b[0m\n\u001b[0;32m-> 1254\u001b[0;31m         \u001b[0mself\u001b[0m\u001b[0;34m.\u001b[0m\u001b[0mappend\u001b[0m\u001b[0;34m(\u001b[0m\u001b[0mself\u001b[0m\u001b[0;34m.\u001b[0m\u001b[0mpersistent_load\u001b[0m\u001b[0;34m(\u001b[0m\u001b[0mpid\u001b[0m\u001b[0;34m)\u001b[0m\u001b[0;34m)\u001b[0m\u001b[0;34m\u001b[0m\u001b[0;34m\u001b[0m\u001b[0m\n\u001b[0m\u001b[1;32m   1255\u001b[0m     \u001b[0mdispatch\u001b[0m\u001b[0;34m[\u001b[0m\u001b[0mBINPERSID\u001b[0m\u001b[0;34m[\u001b[0m\u001b[0;36m0\u001b[0m\u001b[0;34m]\u001b[0m\u001b[0;34m]\u001b[0m \u001b[0;34m=\u001b[0m \u001b[0mload_binpersid\u001b[0m\u001b[0;34m\u001b[0m\u001b[0;34m\u001b[0m\u001b[0m\n\u001b[1;32m   1256\u001b[0m \u001b[0;34m\u001b[0m\u001b[0m\n",
            "\u001b[0;32m/usr/local/lib/python3.10/dist-packages/torch/serialization.py\u001b[0m in \u001b[0;36mpersistent_load\u001b[0;34m(saved_id)\u001b[0m\n\u001b[1;32m   1140\u001b[0m         \u001b[0;32melse\u001b[0m\u001b[0;34m:\u001b[0m\u001b[0;34m\u001b[0m\u001b[0;34m\u001b[0m\u001b[0m\n\u001b[1;32m   1141\u001b[0m             \u001b[0mnbytes\u001b[0m \u001b[0;34m=\u001b[0m \u001b[0mnumel\u001b[0m \u001b[0;34m*\u001b[0m \u001b[0mtorch\u001b[0m\u001b[0;34m.\u001b[0m\u001b[0m_utils\u001b[0m\u001b[0;34m.\u001b[0m\u001b[0m_element_size\u001b[0m\u001b[0;34m(\u001b[0m\u001b[0mdtype\u001b[0m\u001b[0;34m)\u001b[0m\u001b[0;34m\u001b[0m\u001b[0;34m\u001b[0m\u001b[0m\n\u001b[0;32m-> 1142\u001b[0;31m             \u001b[0mtyped_storage\u001b[0m \u001b[0;34m=\u001b[0m \u001b[0mload_tensor\u001b[0m\u001b[0;34m(\u001b[0m\u001b[0mdtype\u001b[0m\u001b[0;34m,\u001b[0m \u001b[0mnbytes\u001b[0m\u001b[0;34m,\u001b[0m \u001b[0mkey\u001b[0m\u001b[0;34m,\u001b[0m \u001b[0m_maybe_decode_ascii\u001b[0m\u001b[0;34m(\u001b[0m\u001b[0mlocation\u001b[0m\u001b[0;34m)\u001b[0m\u001b[0;34m)\u001b[0m\u001b[0;34m\u001b[0m\u001b[0;34m\u001b[0m\u001b[0m\n\u001b[0m\u001b[1;32m   1143\u001b[0m \u001b[0;34m\u001b[0m\u001b[0m\n\u001b[1;32m   1144\u001b[0m         \u001b[0;32mreturn\u001b[0m \u001b[0mtyped_storage\u001b[0m\u001b[0;34m\u001b[0m\u001b[0;34m\u001b[0m\u001b[0m\n",
            "\u001b[0;32m/usr/local/lib/python3.10/dist-packages/torch/serialization.py\u001b[0m in \u001b[0;36mload_tensor\u001b[0;34m(dtype, numel, key, location)\u001b[0m\n\u001b[1;32m   1114\u001b[0m         \u001b[0;31m# stop wrapping with TypedStorage\u001b[0m\u001b[0;34m\u001b[0m\u001b[0;34m\u001b[0m\u001b[0m\n\u001b[1;32m   1115\u001b[0m         typed_storage = torch.storage.TypedStorage(\n\u001b[0;32m-> 1116\u001b[0;31m             \u001b[0mwrap_storage\u001b[0m\u001b[0;34m=\u001b[0m\u001b[0mrestore_location\u001b[0m\u001b[0;34m(\u001b[0m\u001b[0mstorage\u001b[0m\u001b[0;34m,\u001b[0m \u001b[0mlocation\u001b[0m\u001b[0;34m)\u001b[0m\u001b[0;34m,\u001b[0m\u001b[0;34m\u001b[0m\u001b[0;34m\u001b[0m\u001b[0m\n\u001b[0m\u001b[1;32m   1117\u001b[0m             \u001b[0mdtype\u001b[0m\u001b[0;34m=\u001b[0m\u001b[0mdtype\u001b[0m\u001b[0;34m,\u001b[0m\u001b[0;34m\u001b[0m\u001b[0;34m\u001b[0m\u001b[0m\n\u001b[1;32m   1118\u001b[0m             _internal=True)\n",
            "\u001b[0;32m/usr/local/lib/python3.10/dist-packages/torch/serialization.py\u001b[0m in \u001b[0;36mdefault_restore_location\u001b[0;34m(storage, location)\u001b[0m\n\u001b[1;32m    215\u001b[0m \u001b[0;32mdef\u001b[0m \u001b[0mdefault_restore_location\u001b[0m\u001b[0;34m(\u001b[0m\u001b[0mstorage\u001b[0m\u001b[0;34m,\u001b[0m \u001b[0mlocation\u001b[0m\u001b[0;34m)\u001b[0m\u001b[0;34m:\u001b[0m\u001b[0;34m\u001b[0m\u001b[0;34m\u001b[0m\u001b[0m\n\u001b[1;32m    216\u001b[0m     \u001b[0;32mfor\u001b[0m \u001b[0m_\u001b[0m\u001b[0;34m,\u001b[0m \u001b[0m_\u001b[0m\u001b[0;34m,\u001b[0m \u001b[0mfn\u001b[0m \u001b[0;32min\u001b[0m \u001b[0m_package_registry\u001b[0m\u001b[0;34m:\u001b[0m\u001b[0;34m\u001b[0m\u001b[0;34m\u001b[0m\u001b[0m\n\u001b[0;32m--> 217\u001b[0;31m         \u001b[0mresult\u001b[0m \u001b[0;34m=\u001b[0m \u001b[0mfn\u001b[0m\u001b[0;34m(\u001b[0m\u001b[0mstorage\u001b[0m\u001b[0;34m,\u001b[0m \u001b[0mlocation\u001b[0m\u001b[0;34m)\u001b[0m\u001b[0;34m\u001b[0m\u001b[0;34m\u001b[0m\u001b[0m\n\u001b[0m\u001b[1;32m    218\u001b[0m         \u001b[0;32mif\u001b[0m \u001b[0mresult\u001b[0m \u001b[0;32mis\u001b[0m \u001b[0;32mnot\u001b[0m \u001b[0;32mNone\u001b[0m\u001b[0;34m:\u001b[0m\u001b[0;34m\u001b[0m\u001b[0;34m\u001b[0m\u001b[0m\n\u001b[1;32m    219\u001b[0m             \u001b[0;32mreturn\u001b[0m \u001b[0mresult\u001b[0m\u001b[0;34m\u001b[0m\u001b[0;34m\u001b[0m\u001b[0m\n",
            "\u001b[0;32m/usr/local/lib/python3.10/dist-packages/torch/serialization.py\u001b[0m in \u001b[0;36m_cuda_deserialize\u001b[0;34m(obj, location)\u001b[0m\n\u001b[1;32m    180\u001b[0m \u001b[0;32mdef\u001b[0m \u001b[0m_cuda_deserialize\u001b[0m\u001b[0;34m(\u001b[0m\u001b[0mobj\u001b[0m\u001b[0;34m,\u001b[0m \u001b[0mlocation\u001b[0m\u001b[0;34m)\u001b[0m\u001b[0;34m:\u001b[0m\u001b[0;34m\u001b[0m\u001b[0;34m\u001b[0m\u001b[0m\n\u001b[1;32m    181\u001b[0m     \u001b[0;32mif\u001b[0m \u001b[0mlocation\u001b[0m\u001b[0;34m.\u001b[0m\u001b[0mstartswith\u001b[0m\u001b[0;34m(\u001b[0m\u001b[0;34m'cuda'\u001b[0m\u001b[0;34m)\u001b[0m\u001b[0;34m:\u001b[0m\u001b[0;34m\u001b[0m\u001b[0;34m\u001b[0m\u001b[0m\n\u001b[0;32m--> 182\u001b[0;31m         \u001b[0mdevice\u001b[0m \u001b[0;34m=\u001b[0m \u001b[0mvalidate_cuda_device\u001b[0m\u001b[0;34m(\u001b[0m\u001b[0mlocation\u001b[0m\u001b[0;34m)\u001b[0m\u001b[0;34m\u001b[0m\u001b[0;34m\u001b[0m\u001b[0m\n\u001b[0m\u001b[1;32m    183\u001b[0m         \u001b[0;32mif\u001b[0m \u001b[0mgetattr\u001b[0m\u001b[0;34m(\u001b[0m\u001b[0mobj\u001b[0m\u001b[0;34m,\u001b[0m \u001b[0;34m\"_torch_load_uninitialized\"\u001b[0m\u001b[0;34m,\u001b[0m \u001b[0;32mFalse\u001b[0m\u001b[0;34m)\u001b[0m\u001b[0;34m:\u001b[0m\u001b[0;34m\u001b[0m\u001b[0;34m\u001b[0m\u001b[0m\n\u001b[1;32m    184\u001b[0m             \u001b[0;32mwith\u001b[0m \u001b[0mtorch\u001b[0m\u001b[0;34m.\u001b[0m\u001b[0mcuda\u001b[0m\u001b[0;34m.\u001b[0m\u001b[0mdevice\u001b[0m\u001b[0;34m(\u001b[0m\u001b[0mdevice\u001b[0m\u001b[0;34m)\u001b[0m\u001b[0;34m:\u001b[0m\u001b[0;34m\u001b[0m\u001b[0;34m\u001b[0m\u001b[0m\n",
            "\u001b[0;32m/usr/local/lib/python3.10/dist-packages/torch/serialization.py\u001b[0m in \u001b[0;36mvalidate_cuda_device\u001b[0;34m(location)\u001b[0m\n\u001b[1;32m    164\u001b[0m \u001b[0;34m\u001b[0m\u001b[0m\n\u001b[1;32m    165\u001b[0m     \u001b[0;32mif\u001b[0m \u001b[0;32mnot\u001b[0m \u001b[0mtorch\u001b[0m\u001b[0;34m.\u001b[0m\u001b[0mcuda\u001b[0m\u001b[0;34m.\u001b[0m\u001b[0mis_available\u001b[0m\u001b[0;34m(\u001b[0m\u001b[0;34m)\u001b[0m\u001b[0;34m:\u001b[0m\u001b[0;34m\u001b[0m\u001b[0;34m\u001b[0m\u001b[0m\n\u001b[0;32m--> 166\u001b[0;31m         raise RuntimeError('Attempting to deserialize object on a CUDA '\n\u001b[0m\u001b[1;32m    167\u001b[0m                            \u001b[0;34m'device but torch.cuda.is_available() is False. '\u001b[0m\u001b[0;34m\u001b[0m\u001b[0;34m\u001b[0m\u001b[0m\n\u001b[1;32m    168\u001b[0m                            \u001b[0;34m'If you are running on a CPU-only machine, '\u001b[0m\u001b[0;34m\u001b[0m\u001b[0;34m\u001b[0m\u001b[0m\n",
            "\u001b[0;31mRuntimeError\u001b[0m: Attempting to deserialize object on a CUDA device but torch.cuda.is_available() is False. If you are running on a CPU-only machine, please use torch.load with map_location=torch.device('cpu') to map your storages to the CPU."
          ]
        }
      ],
      "source": [
        "simclr_model = train_simclr(batch_size=256, \n",
        "                            hidden_dim=128, \n",
        "                            lr=5e-4, \n",
        "                            temperature=0.07, \n",
        "                            weight_decay=1e-4, \n",
        "                            max_epochs=500)"
      ]
    },
    {
      "cell_type": "markdown",
      "metadata": {
        "id": "anVTSutX55Ok"
      },
      "source": [
        "To get an intuition of how training with contrastive learning behaves, we can take a look at the TensorBoard below:"
      ]
    },
    {
      "cell_type": "code",
      "execution_count": null,
      "metadata": {
        "id": "s6nQSnqJ55Ok"
      },
      "outputs": [],
      "source": [
        "%tensorboard --logdir ../saved_models/tutorial17/tensorboards/SimCLR/"
      ]
    },
    {
      "cell_type": "markdown",
      "metadata": {
        "id": "GqrB0McU55Ol"
      },
      "source": [
        "<center width=\"100%\"><img src=\"https://github.com/phlippe/uvadlc_notebooks/blob/master/docs/tutorial_notebooks/tutorial17/tensorboard_simclr.png?raw=1\" width=\"1200px\"></center>\n",
        "\n",
        "One thing to note is that contrastive learning benefits a lot from long training. The shown plot above is from a training that took approx. 1 day on a NVIDIA TitanRTX. Training the model for even longer might reduce its loss further, but we did not experience any gains from it for the downstream task on image classification. In general, contrastive learning can also benefit from using larger models, if sufficient unlabeled data is available."
      ]
    },
    {
      "cell_type": "markdown",
      "metadata": {
        "id": "ypN-sT-w55Ol"
      },
      "source": [
        "## Logistic Regression\n",
        "\n",
        "After we have trained our model via contrastive learning, we can deploy it on downstream tasks and see how well it performs with little data. A common setup, which also verifies whether the model has learned generalized representations, is to perform Logistic Regression on the features. In other words, we learn a single, linear layer that maps the representations to a class prediction. Since the base network $f(\\cdot)$ is not changed during the training process, the model can only perform well if the representations of $h$ describe all features that might be necessary for the task. Further, we do not have to worry too much about overfitting since we have very few parameters that are trained. Hence, we might expect that the model can perform well even with very little data.\n",
        "\n",
        "First, let's implement a simple Logistic Regression setup for which we assume that the images already have been encoded in their feature vectors. If very little data is available, it might be beneficial to dynamically encode the images during training so that we can also apply data augmentations. However, the way we implement it here is much more efficient and can be trained within a few seconds. Further, using data augmentations did not show any significant gain in this simple setup."
      ]
    },
    {
      "cell_type": "code",
      "execution_count": null,
      "metadata": {
        "id": "VffV8KPX55Om"
      },
      "outputs": [],
      "source": [
        "class LogisticRegression(pl.LightningModule):\n",
        "    \n",
        "    def __init__(self, feature_dim, num_classes, lr, weight_decay, max_epochs=100):\n",
        "        super().__init__()\n",
        "        self.save_hyperparameters()\n",
        "        # Mapping from representation h to classes\n",
        "        self.model = nn.Linear(feature_dim, num_classes)\n",
        "\n",
        "    def configure_optimizers(self):\n",
        "        optimizer = optim.AdamW(self.parameters(), \n",
        "                                lr=self.hparams.lr, \n",
        "                                weight_decay=self.hparams.weight_decay)\n",
        "        lr_scheduler = optim.lr_scheduler.MultiStepLR(optimizer, \n",
        "                                                      milestones=[int(self.hparams.max_epochs*0.6), \n",
        "                                                                  int(self.hparams.max_epochs*0.8)], \n",
        "                                                      gamma=0.1)\n",
        "        return [optimizer], [lr_scheduler]\n",
        "        \n",
        "    def _calculate_loss(self, batch, mode='train'):\n",
        "        feats, labels = batch\n",
        "        preds = self.model(feats)\n",
        "        loss = F.cross_entropy(preds, labels)\n",
        "        acc = (preds.argmax(dim=-1) == labels).float().mean()\n",
        "\n",
        "        self.log(mode + '_loss', loss)\n",
        "        self.log(mode + '_acc', acc)\n",
        "        return loss        \n",
        "        \n",
        "    def training_step(self, batch, batch_idx):\n",
        "        return self._calculate_loss(batch, mode='train')\n",
        "        \n",
        "    def validation_step(self, batch, batch_idx):\n",
        "        self._calculate_loss(batch, mode='val')\n",
        "        \n",
        "    def test_step(self, batch, batch_idx):\n",
        "        self._calculate_loss(batch, mode='test')"
      ]
    },
    {
      "cell_type": "markdown",
      "metadata": {
        "id": "AoQ3otao55On"
      },
      "source": [
        "The data we use is the training and test set of STL10. The training contains 500 images per class, while the test set has 800 images per class."
      ]
    },
    {
      "cell_type": "code",
      "execution_count": null,
      "metadata": {
        "id": "D7_Pumn055Oo",
        "outputId": "b0b81ff1-5d53-475c-8b2c-2b34dac2dbe2"
      },
      "outputs": [
        {
          "name": "stdout",
          "output_type": "stream",
          "text": [
            "Files already downloaded and verified\n",
            "Files already downloaded and verified\n",
            "Number of training examples: 5000\n",
            "Number of test examples: 8000\n"
          ]
        }
      ],
      "source": [
        "img_transforms = transforms.Compose([transforms.ToTensor(),\n",
        "                                     transforms.Normalize((0.5,), (0.5,))])\n",
        "\n",
        "train_img_data = STL10(root=DATASET_PATH, split='train', download=True,\n",
        "                       transform=img_transforms)\n",
        "test_img_data = STL10(root=DATASET_PATH, split='test', download=True,\n",
        "                      transform=img_transforms)\n",
        "\n",
        "print(\"Number of training examples:\", len(train_img_data))\n",
        "print(\"Number of test examples:\", len(test_img_data))"
      ]
    },
    {
      "cell_type": "markdown",
      "metadata": {
        "id": "B5DtBiYD55Op"
      },
      "source": [
        "Next, we implement a small function to encode all images in our datasets. The output representations are then used as inputs to the Logistic Regression model."
      ]
    },
    {
      "cell_type": "code",
      "execution_count": null,
      "metadata": {
        "id": "dipETlA955Op"
      },
      "outputs": [],
      "source": [
        "@torch.no_grad()\n",
        "def prepare_data_features(model, dataset):\n",
        "    # Prepare model\n",
        "    network = deepcopy(model.convnet)\n",
        "    network.fc = nn.Identity()  # Removing projection head g(.)\n",
        "    network.eval()\n",
        "    network.to(device)\n",
        "    \n",
        "    # Encode all images\n",
        "    data_loader = data.DataLoader(dataset, batch_size=64, num_workers=NUM_WORKERS, shuffle=False, drop_last=False)\n",
        "    feats, labels = [], []\n",
        "    for batch_imgs, batch_labels in tqdm(data_loader):\n",
        "        batch_imgs = batch_imgs.to(device)\n",
        "        batch_feats = network(batch_imgs)\n",
        "        feats.append(batch_feats.detach().cpu())\n",
        "        labels.append(batch_labels)\n",
        "    \n",
        "    feats = torch.cat(feats, dim=0)\n",
        "    labels = torch.cat(labels, dim=0)\n",
        "    \n",
        "    # Sort images by labels\n",
        "    labels, idxs = labels.sort()\n",
        "    feats = feats[idxs]\n",
        "    \n",
        "    return data.TensorDataset(feats, labels)"
      ]
    },
    {
      "cell_type": "markdown",
      "metadata": {
        "id": "hRhkvc3Z55Oq"
      },
      "source": [
        "Let's apply the function to both training and test set below."
      ]
    },
    {
      "cell_type": "code",
      "execution_count": null,
      "metadata": {
        "colab": {
          "referenced_widgets": [
            "51bfd549d76e4f9a82fcdf350de1f796",
            "158ab425a0aa4179ac7c3b449c371aa9"
          ]
        },
        "id": "G4loxBPr55Oq",
        "outputId": "d2b8e67a-b6e1-4ce4-b2c3-449ca7b35214"
      },
      "outputs": [
        {
          "data": {
            "application/vnd.jupyter.widget-view+json": {
              "model_id": "51bfd549d76e4f9a82fcdf350de1f796",
              "version_major": 2,
              "version_minor": 0
            },
            "text/plain": [
              "  0%|          | 0/79 [00:00<?, ?it/s]"
            ]
          },
          "metadata": {},
          "output_type": "display_data"
        },
        {
          "name": "stderr",
          "output_type": "stream",
          "text": [
            "/home/phillip/anaconda3/envs/dl2020/lib/python3.7/site-packages/torch/nn/functional.py:718: UserWarning: Named tensors and all their associated APIs are an experimental feature and subject to change. Please do not use them for anything important until they are released as stable. (Triggered internally at  /opt/conda/conda-bld/pytorch_1623448265233/work/c10/core/TensorImpl.h:1156.)\n",
            "  return torch.max_pool2d(input, kernel_size, stride, padding, dilation, ceil_mode)\n"
          ]
        },
        {
          "data": {
            "application/vnd.jupyter.widget-view+json": {
              "model_id": "158ab425a0aa4179ac7c3b449c371aa9",
              "version_major": 2,
              "version_minor": 0
            },
            "text/plain": [
              "  0%|          | 0/125 [00:00<?, ?it/s]"
            ]
          },
          "metadata": {},
          "output_type": "display_data"
        }
      ],
      "source": [
        "train_feats_simclr = prepare_data_features(simclr_model, train_img_data)\n",
        "test_feats_simclr = prepare_data_features(simclr_model, test_img_data)"
      ]
    },
    {
      "cell_type": "markdown",
      "metadata": {
        "id": "ZrdJEYYf55Or"
      },
      "source": [
        "Finally, we can write a training function as usual. We evaluate the model on the test set every 10 epochs to allow early stopping, but the low frequency of the validation ensures that we do not overfit too much on the test set."
      ]
    },
    {
      "cell_type": "code",
      "execution_count": null,
      "metadata": {
        "id": "KVhKPpu155Os"
      },
      "outputs": [],
      "source": [
        "def train_logreg(batch_size, train_feats_data, test_feats_data, model_suffix, max_epochs=100, **kwargs):\n",
        "    trainer = pl.Trainer(default_root_dir=os.path.join(CHECKPOINT_PATH, \"LogisticRegression\"),\n",
        "                         accelerator=\"gpu\" if str(device).startswith(\"cuda\") else \"cpu\",\n",
        "                         devices=1,\n",
        "                         max_epochs=max_epochs,\n",
        "                         callbacks=[ModelCheckpoint(save_weights_only=True, mode='max', monitor='val_acc'),\n",
        "                                    LearningRateMonitor(\"epoch\")],\n",
        "                         enable_progress_bar=False,\n",
        "                         check_val_every_n_epoch=10)\n",
        "    trainer.logger._default_hp_metric = None\n",
        "    \n",
        "    # Data loaders\n",
        "    train_loader = data.DataLoader(train_feats_data, batch_size=batch_size, shuffle=True, \n",
        "                                   drop_last=False, pin_memory=True, num_workers=0)\n",
        "    test_loader = data.DataLoader(test_feats_data, batch_size=batch_size, shuffle=False, \n",
        "                                  drop_last=False, pin_memory=True, num_workers=0)\n",
        "\n",
        "    # Check whether pretrained model exists. If yes, load it and skip training\n",
        "    pretrained_filename = os.path.join(CHECKPOINT_PATH, f\"LogisticRegression_{model_suffix}.ckpt\")\n",
        "    if os.path.isfile(pretrained_filename):\n",
        "        print(f\"Found pretrained model at {pretrained_filename}, loading...\")\n",
        "        model = LogisticRegression.load_from_checkpoint(pretrained_filename)\n",
        "    else:\n",
        "        pl.seed_everything(42)  # To be reproducable\n",
        "        model = LogisticRegression(**kwargs)\n",
        "        trainer.fit(model, train_loader, test_loader)\n",
        "        model = LogisticRegression.load_from_checkpoint(trainer.checkpoint_callback.best_model_path)\n",
        "\n",
        "    # Test best model on train and validation set\n",
        "    train_result = trainer.test(model, train_loader, verbose=False)\n",
        "    test_result = trainer.test(model, test_loader, verbose=False)\n",
        "    result = {\"train\": train_result[0][\"test_acc\"], \"test\": test_result[0][\"test_acc\"]}\n",
        "        \n",
        "    return model, result"
      ]
    },
    {
      "cell_type": "markdown",
      "metadata": {
        "id": "jTUlXnBH55Os"
      },
      "source": [
        "Despite the training dataset of STL10 already only having 500 labeled images per class, we will perform experiments with even smaller datasets. Specifically, we train a Logistic Regression model for datasets with only 10, 20, 50, 100, 200, and all 500 examples per class. This gives us an intuition on how well the representations learned by contrastive learning can be transfered to a image recognition task like this classification. First, let's define a function to create the intended sub-datasets from the full training set:"
      ]
    },
    {
      "cell_type": "code",
      "execution_count": null,
      "metadata": {
        "id": "hbcMKwQG55Ot"
      },
      "outputs": [],
      "source": [
        "def get_smaller_dataset(original_dataset, num_imgs_per_label):\n",
        "    new_dataset = data.TensorDataset(\n",
        "        *[t.unflatten(0, (10, -1))[:,:num_imgs_per_label].flatten(0, 1) for t in original_dataset.tensors]\n",
        "    )\n",
        "    return new_dataset"
      ]
    },
    {
      "cell_type": "markdown",
      "metadata": {
        "id": "pJQzyzC955Ou"
      },
      "source": [
        "Next, let's run all models. Despite us training 6 models, this cell could be run within a minute or two without the pretrained models. "
      ]
    },
    {
      "cell_type": "code",
      "execution_count": null,
      "metadata": {
        "scrolled": true,
        "id": "GKJaKgUe55Ou",
        "outputId": "61d51687-6ad9-4222-bf2c-ca90ac16f024"
      },
      "outputs": [
        {
          "name": "stderr",
          "output_type": "stream",
          "text": [
            "GPU available: True, used: True\n",
            "TPU available: False, using: 0 TPU cores\n",
            "LOCAL_RANK: 0 - CUDA_VISIBLE_DEVICES: [0,1]\n",
            "/home/phillip/anaconda3/envs/dl2020/lib/python3.7/site-packages/pytorch_lightning/utilities/distributed.py:69: UserWarning: Your test_dataloader has `shuffle=True`, it is best practice to turn this off for val/test/predict dataloaders.\n",
            "  warnings.warn(*args, **kwargs)\n",
            "/home/phillip/anaconda3/envs/dl2020/lib/python3.7/site-packages/pytorch_lightning/utilities/distributed.py:69: UserWarning: The dataloader, test dataloader 0, does not have many workers which may be a bottleneck. Consider increasing the value of the `num_workers` argument` (try 16 which is the number of cpus on this machine) in the `DataLoader` init to improve performance.\n",
            "  warnings.warn(*args, **kwargs)\n",
            "LOCAL_RANK: 0 - CUDA_VISIBLE_DEVICES: [0,1]\n",
            "GPU available: True, used: True\n",
            "TPU available: False, using: 0 TPU cores\n",
            "LOCAL_RANK: 0 - CUDA_VISIBLE_DEVICES: [0,1]\n",
            "LOCAL_RANK: 0 - CUDA_VISIBLE_DEVICES: [0,1]\n"
          ]
        },
        {
          "name": "stdout",
          "output_type": "stream",
          "text": [
            "Found pretrained model at ../saved_models/tutorial17/LogisticRegression_10.ckpt, loading...\n",
            "Found pretrained model at ../saved_models/tutorial17/LogisticRegression_20.ckpt, loading...\n"
          ]
        },
        {
          "name": "stderr",
          "output_type": "stream",
          "text": [
            "GPU available: True, used: True\n",
            "TPU available: False, using: 0 TPU cores\n",
            "LOCAL_RANK: 0 - CUDA_VISIBLE_DEVICES: [0,1]\n",
            "LOCAL_RANK: 0 - CUDA_VISIBLE_DEVICES: [0,1]\n",
            "GPU available: True, used: True\n",
            "TPU available: False, using: 0 TPU cores\n",
            "LOCAL_RANK: 0 - CUDA_VISIBLE_DEVICES: [0,1]\n",
            "LOCAL_RANK: 0 - CUDA_VISIBLE_DEVICES: [0,1]\n"
          ]
        },
        {
          "name": "stdout",
          "output_type": "stream",
          "text": [
            "Found pretrained model at ../saved_models/tutorial17/LogisticRegression_50.ckpt, loading...\n",
            "Found pretrained model at ../saved_models/tutorial17/LogisticRegression_100.ckpt, loading...\n"
          ]
        },
        {
          "name": "stderr",
          "output_type": "stream",
          "text": [
            "GPU available: True, used: True\n",
            "TPU available: False, using: 0 TPU cores\n",
            "LOCAL_RANK: 0 - CUDA_VISIBLE_DEVICES: [0,1]\n",
            "LOCAL_RANK: 0 - CUDA_VISIBLE_DEVICES: [0,1]\n",
            "GPU available: True, used: True\n",
            "TPU available: False, using: 0 TPU cores\n",
            "LOCAL_RANK: 0 - CUDA_VISIBLE_DEVICES: [0,1]\n"
          ]
        },
        {
          "name": "stdout",
          "output_type": "stream",
          "text": [
            "Found pretrained model at ../saved_models/tutorial17/LogisticRegression_200.ckpt, loading...\n",
            "Found pretrained model at ../saved_models/tutorial17/LogisticRegression_500.ckpt, loading...\n"
          ]
        },
        {
          "name": "stderr",
          "output_type": "stream",
          "text": [
            "LOCAL_RANK: 0 - CUDA_VISIBLE_DEVICES: [0,1]\n"
          ]
        }
      ],
      "source": [
        "results = {}\n",
        "for num_imgs_per_label in [10, 20, 50, 100, 200, 500]:\n",
        "    sub_train_set = get_smaller_dataset(train_feats_simclr, num_imgs_per_label)\n",
        "    _, small_set_results = train_logreg(batch_size=64,\n",
        "                                        train_feats_data=sub_train_set,\n",
        "                                        test_feats_data=test_feats_simclr,\n",
        "                                        model_suffix=num_imgs_per_label,\n",
        "                                        feature_dim=train_feats_simclr.tensors[0].shape[1],\n",
        "                                        num_classes=10,\n",
        "                                        lr=1e-3,\n",
        "                                        weight_decay=1e-3)\n",
        "    results[num_imgs_per_label] = small_set_results"
      ]
    },
    {
      "cell_type": "markdown",
      "metadata": {
        "id": "0gTjbTGv55Ov"
      },
      "source": [
        "Finally, let's plot the results."
      ]
    },
    {
      "cell_type": "code",
      "execution_count": null,
      "metadata": {
        "id": "uy0Czg4n55Ox",
        "outputId": "624fa9a5-56db-4d42-b707-1ad3f391d5c5"
      },
      "outputs": [
        {
          "data": {
            "application/pdf": "[encoded data removed]",
            "image/svg+xml": [
              "<?xml version=\"1.0\" encoding=\"utf-8\" standalone=\"no\"?>\n",
              "<!DOCTYPE svg PUBLIC \"-//W3C//DTD SVG 1.1//EN\"\n",
              "  \"http://www.w3.org/Graphics/SVG/1.1/DTD/svg11.dtd\">\n",
              "<!-- Created with matplotlib (https://matplotlib.org/) -->\n",
              "<svg height=\"282.682031pt\" version=\"1.1\" viewBox=\"0 0 401.339063 282.682031\" width=\"401.339063pt\" xmlns=\"http://www.w3.org/2000/svg\" xmlns:xlink=\"http://www.w3.org/1999/xlink\">\n",
              " <metadata>\n",
              "  <rdf:RDF xmlns:cc=\"http://creativecommons.org/ns#\" xmlns:dc=\"http://purl.org/dc/elements/1.1/\" xmlns:rdf=\"http://www.w3.org/1999/02/22-rdf-syntax-ns#\">\n",
              "   <cc:Work>\n",
              "    <dc:type rdf:resource=\"http://purl.org/dc/dcmitype/StillImage\"/>\n",
              "    <dc:date>2021-08-30T10:54:05.267743</dc:date>\n",
              "    <dc:format>image/svg+xml</dc:format>\n",
              "    <dc:creator>\n",
              "     <cc:Agent>\n",
              "      <dc:title>Matplotlib v3.3.2, https://matplotlib.org/</dc:title>\n",
              "     </cc:Agent>\n",
              "    </dc:creator>\n",
              "   </cc:Work>\n",
              "  </rdf:RDF>\n",
              " </metadata>\n",
              " <defs>\n",
              "  <style type=\"text/css\">*{stroke-linecap:butt;stroke-linejoin:round;}</style>\n",
              " </defs>\n",
              " <g id=\"figure_1\">\n",
              "  <g id=\"patch_1\">\n",
              "   <path d=\"M 0 282.682031 \n",
              "L 401.339063 282.682031 \n",
              "L 401.339063 0 \n",
              "L 0 0 \n",
              "z\n",
              "\" style=\"fill:#ffffff;\"/>\n",
              "  </g>\n",
              "  <g id=\"axes_1\">\n",
              "   <g id=\"patch_2\">\n",
              "    <path d=\"M 59.339063 240.660937 \n",
              "L 394.139063 240.660937 \n",
              "L 394.139063 23.220937 \n",
              "L 59.339063 23.220937 \n",
              "z\n",
              "\" style=\"fill:#eaeaf2;\"/>\n",
              "   </g>\n",
              "   <g id=\"matplotlib.axis_1\">\n",
              "    <g id=\"xtick_1\">\n",
              "     <g id=\"line2d_1\">\n",
              "      <path clip-path=\"url(#pa16a309c52)\" d=\"M 74.557244 240.660937 \n",
              "L 74.557244 23.220937 \n",
              "\" style=\"fill:none;stroke:#ffffff;stroke-linecap:round;\"/>\n",
              "     </g>\n",
              "     <g id=\"text_1\">\n",
              "      <!-- 10 -->\n",
              "      <g style=\"fill:#262626;\" transform=\"translate(68.440213 258.034531)scale(0.11 -0.11)\">\n",
              "       <defs>\n",
              "        <path d=\"M 37.25 0 \n",
              "L 28.46875 0 \n",
              "L 28.46875 56 \n",
              "Q 25.296875 52.984375 20.140625 49.953125 \n",
              "Q 14.984375 46.921875 10.890625 45.40625 \n",
              "L 10.890625 53.90625 \n",
              "Q 18.265625 57.375 23.78125 62.296875 \n",
              "Q 29.296875 67.234375 31.59375 71.875 \n",
              "L 37.25 71.875 \n",
              "z\n",
              "\" id=\"ArialMT-49\"/>\n",
              "        <path d=\"M 4.15625 35.296875 \n",
              "Q 4.15625 48 6.765625 55.734375 \n",
              "Q 9.375 63.484375 14.515625 67.671875 \n",
              "Q 19.671875 71.875 27.484375 71.875 \n",
              "Q 33.25 71.875 37.59375 69.546875 \n",
              "Q 41.9375 67.234375 44.765625 62.859375 \n",
              "Q 47.609375 58.5 49.21875 52.21875 \n",
              "Q 50.828125 45.953125 50.828125 35.296875 \n",
              "Q 50.828125 22.703125 48.234375 14.96875 \n",
              "Q 45.65625 7.234375 40.5 3 \n",
              "Q 35.359375 -1.21875 27.484375 -1.21875 \n",
              "Q 17.140625 -1.21875 11.234375 6.203125 \n",
              "Q 4.15625 15.140625 4.15625 35.296875 \n",
              "z\n",
              "M 13.1875 35.296875 \n",
              "Q 13.1875 17.671875 17.3125 11.828125 \n",
              "Q 21.4375 6 27.484375 6 \n",
              "Q 33.546875 6 37.671875 11.859375 \n",
              "Q 41.796875 17.71875 41.796875 35.296875 \n",
              "Q 41.796875 52.984375 37.671875 58.78125 \n",
              "Q 33.546875 64.59375 27.390625 64.59375 \n",
              "Q 21.34375 64.59375 17.71875 59.46875 \n",
              "Q 13.1875 52.9375 13.1875 35.296875 \n",
              "z\n",
              "\" id=\"ArialMT-48\"/>\n",
              "       </defs>\n",
              "       <use xlink:href=\"#ArialMT-49\"/>\n",
              "       <use x=\"55.615234\" xlink:href=\"#ArialMT-48\"/>\n",
              "      </g>\n",
              "     </g>\n",
              "    </g>\n",
              "    <g id=\"xtick_2\">\n",
              "     <g id=\"line2d_2\">\n",
              "      <path clip-path=\"url(#pa16a309c52)\" d=\"M 128.485556 240.660937 \n",
              "L 128.485556 23.220937 \n",
              "\" style=\"fill:none;stroke:#ffffff;stroke-linecap:round;\"/>\n",
              "     </g>\n",
              "     <g id=\"text_2\">\n",
              "      <!-- 20 -->\n",
              "      <g style=\"fill:#262626;\" transform=\"translate(122.368525 258.034531)scale(0.11 -0.11)\">\n",
              "       <defs>\n",
              "        <path d=\"M 50.34375 8.453125 \n",
              "L 50.34375 0 \n",
              "L 3.03125 0 \n",
              "Q 2.9375 3.171875 4.046875 6.109375 \n",
              "Q 5.859375 10.9375 9.828125 15.625 \n",
              "Q 13.8125 20.3125 21.34375 26.46875 \n",
              "Q 33.015625 36.03125 37.109375 41.625 \n",
              "Q 41.21875 47.21875 41.21875 52.203125 \n",
              "Q 41.21875 57.421875 37.46875 61 \n",
              "Q 33.734375 64.59375 27.734375 64.59375 \n",
              "Q 21.390625 64.59375 17.578125 60.78125 \n",
              "Q 13.765625 56.984375 13.71875 50.25 \n",
              "L 4.6875 51.171875 \n",
              "Q 5.609375 61.28125 11.65625 66.578125 \n",
              "Q 17.71875 71.875 27.9375 71.875 \n",
              "Q 38.234375 71.875 44.234375 66.15625 \n",
              "Q 50.25 60.453125 50.25 52 \n",
              "Q 50.25 47.703125 48.484375 43.546875 \n",
              "Q 46.734375 39.40625 42.65625 34.8125 \n",
              "Q 38.578125 30.21875 29.109375 22.21875 \n",
              "Q 21.1875 15.578125 18.9375 13.203125 \n",
              "Q 16.703125 10.84375 15.234375 8.453125 \n",
              "z\n",
              "\" id=\"ArialMT-50\"/>\n",
              "       </defs>\n",
              "       <use xlink:href=\"#ArialMT-50\"/>\n",
              "       <use x=\"55.615234\" xlink:href=\"#ArialMT-48\"/>\n",
              "      </g>\n",
              "     </g>\n",
              "    </g>\n",
              "    <g id=\"xtick_3\">\n",
              "     <g id=\"line2d_3\">\n",
              "      <path clip-path=\"url(#pa16a309c52)\" d=\"M 199.774907 240.660937 \n",
              "L 199.774907 23.220937 \n",
              "\" style=\"fill:none;stroke:#ffffff;stroke-linecap:round;\"/>\n",
              "     </g>\n",
              "     <g id=\"text_3\">\n",
              "      <!-- 50 -->\n",
              "      <g style=\"fill:#262626;\" transform=\"translate(193.657875 258.034531)scale(0.11 -0.11)\">\n",
              "       <defs>\n",
              "        <path d=\"M 4.15625 18.75 \n",
              "L 13.375 19.53125 \n",
              "Q 14.40625 12.796875 18.140625 9.390625 \n",
              "Q 21.875 6 27.15625 6 \n",
              "Q 33.5 6 37.890625 10.78125 \n",
              "Q 42.28125 15.578125 42.28125 23.484375 \n",
              "Q 42.28125 31 38.0625 35.34375 \n",
              "Q 33.84375 39.703125 27 39.703125 \n",
              "Q 22.75 39.703125 19.328125 37.765625 \n",
              "Q 15.921875 35.84375 13.96875 32.765625 \n",
              "L 5.71875 33.84375 \n",
              "L 12.640625 70.609375 \n",
              "L 48.25 70.609375 \n",
              "L 48.25 62.203125 \n",
              "L 19.671875 62.203125 \n",
              "L 15.828125 42.96875 \n",
              "Q 22.265625 47.46875 29.34375 47.46875 \n",
              "Q 38.71875 47.46875 45.15625 40.96875 \n",
              "Q 51.609375 34.46875 51.609375 24.265625 \n",
              "Q 51.609375 14.546875 45.953125 7.46875 \n",
              "Q 39.0625 -1.21875 27.15625 -1.21875 \n",
              "Q 17.390625 -1.21875 11.203125 4.25 \n",
              "Q 5.03125 9.71875 4.15625 18.75 \n",
              "z\n",
              "\" id=\"ArialMT-53\"/>\n",
              "       </defs>\n",
              "       <use xlink:href=\"#ArialMT-53\"/>\n",
              "       <use x=\"55.615234\" xlink:href=\"#ArialMT-48\"/>\n",
              "      </g>\n",
              "     </g>\n",
              "    </g>\n",
              "    <g id=\"xtick_4\">\n",
              "     <g id=\"line2d_4\">\n",
              "      <path clip-path=\"url(#pa16a309c52)\" d=\"M 253.703218 240.660937 \n",
              "L 253.703218 23.220937 \n",
              "\" style=\"fill:none;stroke:#ffffff;stroke-linecap:round;\"/>\n",
              "     </g>\n",
              "     <g id=\"text_4\">\n",
              "      <!-- 100 -->\n",
              "      <g style=\"fill:#262626;\" transform=\"translate(244.527672 258.034531)scale(0.11 -0.11)\">\n",
              "       <use xlink:href=\"#ArialMT-49\"/>\n",
              "       <use x=\"55.615234\" xlink:href=\"#ArialMT-48\"/>\n",
              "       <use x=\"111.230469\" xlink:href=\"#ArialMT-48\"/>\n",
              "      </g>\n",
              "     </g>\n",
              "    </g>\n",
              "    <g id=\"xtick_5\">\n",
              "     <g id=\"line2d_5\">\n",
              "      <path clip-path=\"url(#pa16a309c52)\" d=\"M 307.63153 240.660937 \n",
              "L 307.63153 23.220937 \n",
              "\" style=\"fill:none;stroke:#ffffff;stroke-linecap:round;\"/>\n",
              "     </g>\n",
              "     <g id=\"text_5\">\n",
              "      <!-- 200 -->\n",
              "      <g style=\"fill:#262626;\" transform=\"translate(298.455983 258.034531)scale(0.11 -0.11)\">\n",
              "       <use xlink:href=\"#ArialMT-50\"/>\n",
              "       <use x=\"55.615234\" xlink:href=\"#ArialMT-48\"/>\n",
              "       <use x=\"111.230469\" xlink:href=\"#ArialMT-48\"/>\n",
              "      </g>\n",
              "     </g>\n",
              "    </g>\n",
              "    <g id=\"xtick_6\">\n",
              "     <g id=\"line2d_6\">\n",
              "      <path clip-path=\"url(#pa16a309c52)\" d=\"M 378.920881 240.660937 \n",
              "L 378.920881 23.220937 \n",
              "\" style=\"fill:none;stroke:#ffffff;stroke-linecap:round;\"/>\n",
              "     </g>\n",
              "     <g id=\"text_6\">\n",
              "      <!-- 500 -->\n",
              "      <g style=\"fill:#262626;\" transform=\"translate(369.745334 258.034531)scale(0.11 -0.11)\">\n",
              "       <use xlink:href=\"#ArialMT-53\"/>\n",
              "       <use x=\"55.615234\" xlink:href=\"#ArialMT-48\"/>\n",
              "       <use x=\"111.230469\" xlink:href=\"#ArialMT-48\"/>\n",
              "      </g>\n",
              "     </g>\n",
              "    </g>\n",
              "    <g id=\"text_7\">\n",
              "     <!-- Number of images per class -->\n",
              "     <g style=\"fill:#262626;\" transform=\"translate(152.048438 272.956406)scale(0.12 -0.12)\">\n",
              "      <defs>\n",
              "       <path d=\"M 7.625 0 \n",
              "L 7.625 71.578125 \n",
              "L 17.328125 71.578125 \n",
              "L 54.9375 15.375 \n",
              "L 54.9375 71.578125 \n",
              "L 64.015625 71.578125 \n",
              "L 64.015625 0 \n",
              "L 54.296875 0 \n",
              "L 16.703125 56.25 \n",
              "L 16.703125 0 \n",
              "z\n",
              "\" id=\"ArialMT-78\"/>\n",
              "       <path d=\"M 40.578125 0 \n",
              "L 40.578125 7.625 \n",
              "Q 34.515625 -1.171875 24.125 -1.171875 \n",
              "Q 19.53125 -1.171875 15.546875 0.578125 \n",
              "Q 11.578125 2.34375 9.640625 5 \n",
              "Q 7.71875 7.671875 6.9375 11.53125 \n",
              "Q 6.390625 14.109375 6.390625 19.734375 \n",
              "L 6.390625 51.859375 \n",
              "L 15.1875 51.859375 \n",
              "L 15.1875 23.09375 \n",
              "Q 15.1875 16.21875 15.71875 13.8125 \n",
              "Q 16.546875 10.359375 19.234375 8.375 \n",
              "Q 21.921875 6.390625 25.875 6.390625 \n",
              "Q 29.828125 6.390625 33.296875 8.421875 \n",
              "Q 36.765625 10.453125 38.203125 13.9375 \n",
              "Q 39.65625 17.4375 39.65625 24.078125 \n",
              "L 39.65625 51.859375 \n",
              "L 48.4375 51.859375 \n",
              "L 48.4375 0 \n",
              "z\n",
              "\" id=\"ArialMT-117\"/>\n",
              "       <path d=\"M 6.59375 0 \n",
              "L 6.59375 51.859375 \n",
              "L 14.453125 51.859375 \n",
              "L 14.453125 44.578125 \n",
              "Q 16.890625 48.390625 20.9375 50.703125 \n",
              "Q 25 53.03125 30.171875 53.03125 \n",
              "Q 35.9375 53.03125 39.625 50.640625 \n",
              "Q 43.3125 48.25 44.828125 43.953125 \n",
              "Q 50.984375 53.03125 60.84375 53.03125 \n",
              "Q 68.5625 53.03125 72.703125 48.75 \n",
              "Q 76.859375 44.484375 76.859375 35.59375 \n",
              "L 76.859375 0 \n",
              "L 68.109375 0 \n",
              "L 68.109375 32.671875 \n",
              "Q 68.109375 37.9375 67.25 40.25 \n",
              "Q 66.40625 42.578125 64.15625 43.984375 \n",
              "Q 61.921875 45.40625 58.890625 45.40625 \n",
              "Q 53.421875 45.40625 49.796875 41.765625 \n",
              "Q 46.1875 38.140625 46.1875 30.125 \n",
              "L 46.1875 0 \n",
              "L 37.40625 0 \n",
              "L 37.40625 33.6875 \n",
              "Q 37.40625 39.546875 35.25 42.46875 \n",
              "Q 33.109375 45.40625 28.21875 45.40625 \n",
              "Q 24.515625 45.40625 21.359375 43.453125 \n",
              "Q 18.21875 41.5 16.796875 37.734375 \n",
              "Q 15.375 33.984375 15.375 26.90625 \n",
              "L 15.375 0 \n",
              "z\n",
              "\" id=\"ArialMT-109\"/>\n",
              "       <path d=\"M 14.703125 0 \n",
              "L 6.546875 0 \n",
              "L 6.546875 71.578125 \n",
              "L 15.328125 71.578125 \n",
              "L 15.328125 46.046875 \n",
              "Q 20.90625 53.03125 29.546875 53.03125 \n",
              "Q 34.328125 53.03125 38.59375 51.09375 \n",
              "Q 42.875 49.171875 45.625 45.671875 \n",
              "Q 48.390625 42.1875 49.953125 37.25 \n",
              "Q 51.515625 32.328125 51.515625 26.703125 \n",
              "Q 51.515625 13.375 44.921875 6.09375 \n",
              "Q 38.328125 -1.171875 29.109375 -1.171875 \n",
              "Q 19.921875 -1.171875 14.703125 6.5 \n",
              "z\n",
              "M 14.59375 26.3125 \n",
              "Q 14.59375 17 17.140625 12.84375 \n",
              "Q 21.296875 6.0625 28.375 6.0625 \n",
              "Q 34.125 6.0625 38.328125 11.0625 \n",
              "Q 42.53125 16.0625 42.53125 25.984375 \n",
              "Q 42.53125 36.140625 38.5 40.96875 \n",
              "Q 34.46875 45.796875 28.765625 45.796875 \n",
              "Q 23 45.796875 18.796875 40.796875 \n",
              "Q 14.59375 35.796875 14.59375 26.3125 \n",
              "z\n",
              "\" id=\"ArialMT-98\"/>\n",
              "       <path d=\"M 42.09375 16.703125 \n",
              "L 51.171875 15.578125 \n",
              "Q 49.03125 7.625 43.21875 3.21875 \n",
              "Q 37.40625 -1.171875 28.375 -1.171875 \n",
              "Q 17 -1.171875 10.328125 5.828125 \n",
              "Q 3.65625 12.84375 3.65625 25.484375 \n",
              "Q 3.65625 38.578125 10.390625 45.796875 \n",
              "Q 17.140625 53.03125 27.875 53.03125 \n",
              "Q 38.28125 53.03125 44.875 45.953125 \n",
              "Q 51.46875 38.875 51.46875 26.03125 \n",
              "Q 51.46875 25.25 51.421875 23.6875 \n",
              "L 12.75 23.6875 \n",
              "Q 13.234375 15.140625 17.578125 10.59375 \n",
              "Q 21.921875 6.0625 28.421875 6.0625 \n",
              "Q 33.25 6.0625 36.671875 8.59375 \n",
              "Q 40.09375 11.140625 42.09375 16.703125 \n",
              "z\n",
              "M 13.234375 30.90625 \n",
              "L 42.1875 30.90625 \n",
              "Q 41.609375 37.453125 38.875 40.71875 \n",
              "Q 34.671875 45.796875 27.984375 45.796875 \n",
              "Q 21.921875 45.796875 17.796875 41.75 \n",
              "Q 13.671875 37.703125 13.234375 30.90625 \n",
              "z\n",
              "\" id=\"ArialMT-101\"/>\n",
              "       <path d=\"M 6.5 0 \n",
              "L 6.5 51.859375 \n",
              "L 14.40625 51.859375 \n",
              "L 14.40625 44 \n",
              "Q 17.4375 49.515625 20 51.265625 \n",
              "Q 22.5625 53.03125 25.640625 53.03125 \n",
              "Q 30.078125 53.03125 34.671875 50.203125 \n",
              "L 31.640625 42.046875 \n",
              "Q 28.421875 43.953125 25.203125 43.953125 \n",
              "Q 22.3125 43.953125 20.015625 42.21875 \n",
              "Q 17.71875 40.484375 16.75 37.40625 \n",
              "Q 15.28125 32.71875 15.28125 27.15625 \n",
              "L 15.28125 0 \n",
              "z\n",
              "\" id=\"ArialMT-114\"/>\n",
              "       <path id=\"ArialMT-32\"/>\n",
              "       <path d=\"M 3.328125 25.921875 \n",
              "Q 3.328125 40.328125 11.328125 47.265625 \n",
              "Q 18.015625 53.03125 27.640625 53.03125 \n",
              "Q 38.328125 53.03125 45.109375 46.015625 \n",
              "Q 51.90625 39.015625 51.90625 26.65625 \n",
              "Q 51.90625 16.65625 48.90625 10.90625 \n",
              "Q 45.90625 5.171875 40.15625 2 \n",
              "Q 34.421875 -1.171875 27.640625 -1.171875 \n",
              "Q 16.75 -1.171875 10.03125 5.8125 \n",
              "Q 3.328125 12.796875 3.328125 25.921875 \n",
              "z\n",
              "M 12.359375 25.921875 \n",
              "Q 12.359375 15.96875 16.703125 11.015625 \n",
              "Q 21.046875 6.0625 27.640625 6.0625 \n",
              "Q 34.1875 6.0625 38.53125 11.03125 \n",
              "Q 42.875 16.015625 42.875 26.21875 \n",
              "Q 42.875 35.84375 38.5 40.796875 \n",
              "Q 34.125 45.75 27.640625 45.75 \n",
              "Q 21.046875 45.75 16.703125 40.8125 \n",
              "Q 12.359375 35.890625 12.359375 25.921875 \n",
              "z\n",
              "\" id=\"ArialMT-111\"/>\n",
              "       <path d=\"M 8.6875 0 \n",
              "L 8.6875 45.015625 \n",
              "L 0.921875 45.015625 \n",
              "L 0.921875 51.859375 \n",
              "L 8.6875 51.859375 \n",
              "L 8.6875 57.375 \n",
              "Q 8.6875 62.59375 9.625 65.140625 \n",
              "Q 10.890625 68.5625 14.078125 70.671875 \n",
              "Q 17.28125 72.796875 23.046875 72.796875 \n",
              "Q 26.765625 72.796875 31.25 71.921875 \n",
              "L 29.9375 64.265625 \n",
              "Q 27.203125 64.75 24.75 64.75 \n",
              "Q 20.75 64.75 19.09375 63.03125 \n",
              "Q 17.4375 61.328125 17.4375 56.640625 \n",
              "L 17.4375 51.859375 \n",
              "L 27.546875 51.859375 \n",
              "L 27.546875 45.015625 \n",
              "L 17.4375 45.015625 \n",
              "L 17.4375 0 \n",
              "z\n",
              "\" id=\"ArialMT-102\"/>\n",
              "       <path d=\"M 6.640625 61.46875 \n",
              "L 6.640625 71.578125 \n",
              "L 15.4375 71.578125 \n",
              "L 15.4375 61.46875 \n",
              "z\n",
              "M 6.640625 0 \n",
              "L 6.640625 51.859375 \n",
              "L 15.4375 51.859375 \n",
              "L 15.4375 0 \n",
              "z\n",
              "\" id=\"ArialMT-105\"/>\n",
              "       <path d=\"M 40.4375 6.390625 \n",
              "Q 35.546875 2.25 31.03125 0.53125 \n",
              "Q 26.515625 -1.171875 21.34375 -1.171875 \n",
              "Q 12.796875 -1.171875 8.203125 3 \n",
              "Q 3.609375 7.171875 3.609375 13.671875 \n",
              "Q 3.609375 17.484375 5.34375 20.625 \n",
              "Q 7.078125 23.78125 9.890625 25.6875 \n",
              "Q 12.703125 27.59375 16.21875 28.5625 \n",
              "Q 18.796875 29.25 24.03125 29.890625 \n",
              "Q 34.671875 31.15625 39.703125 32.90625 \n",
              "Q 39.75 34.71875 39.75 35.203125 \n",
              "Q 39.75 40.578125 37.25 42.78125 \n",
              "Q 33.890625 45.75 27.25 45.75 \n",
              "Q 21.046875 45.75 18.09375 43.578125 \n",
              "Q 15.140625 41.40625 13.71875 35.890625 \n",
              "L 5.125 37.0625 \n",
              "Q 6.296875 42.578125 8.984375 45.96875 \n",
              "Q 11.671875 49.359375 16.75 51.1875 \n",
              "Q 21.828125 53.03125 28.515625 53.03125 \n",
              "Q 35.15625 53.03125 39.296875 51.46875 \n",
              "Q 43.453125 49.90625 45.40625 47.53125 \n",
              "Q 47.359375 45.171875 48.140625 41.546875 \n",
              "Q 48.578125 39.3125 48.578125 33.453125 \n",
              "L 48.578125 21.734375 \n",
              "Q 48.578125 9.46875 49.140625 6.21875 \n",
              "Q 49.703125 2.984375 51.375 0 \n",
              "L 42.1875 0 \n",
              "Q 40.828125 2.734375 40.4375 6.390625 \n",
              "z\n",
              "M 39.703125 26.03125 \n",
              "Q 34.90625 24.078125 25.34375 22.703125 \n",
              "Q 19.921875 21.921875 17.671875 20.9375 \n",
              "Q 15.4375 19.96875 14.203125 18.09375 \n",
              "Q 12.984375 16.21875 12.984375 13.921875 \n",
              "Q 12.984375 10.40625 15.640625 8.0625 \n",
              "Q 18.3125 5.71875 23.4375 5.71875 \n",
              "Q 28.515625 5.71875 32.46875 7.9375 \n",
              "Q 36.421875 10.15625 38.28125 14.015625 \n",
              "Q 39.703125 17 39.703125 22.796875 \n",
              "z\n",
              "\" id=\"ArialMT-97\"/>\n",
              "       <path d=\"M 4.984375 -4.296875 \n",
              "L 13.53125 -5.5625 \n",
              "Q 14.0625 -9.515625 16.5 -11.328125 \n",
              "Q 19.78125 -13.765625 25.4375 -13.765625 \n",
              "Q 31.546875 -13.765625 34.859375 -11.328125 \n",
              "Q 38.1875 -8.890625 39.359375 -4.5 \n",
              "Q 40.046875 -1.8125 39.984375 6.78125 \n",
              "Q 34.234375 0 25.640625 0 \n",
              "Q 14.9375 0 9.078125 7.71875 \n",
              "Q 3.21875 15.4375 3.21875 26.21875 \n",
              "Q 3.21875 33.640625 5.90625 39.90625 \n",
              "Q 8.59375 46.1875 13.6875 49.609375 \n",
              "Q 18.796875 53.03125 25.6875 53.03125 \n",
              "Q 34.859375 53.03125 40.828125 45.609375 \n",
              "L 40.828125 51.859375 \n",
              "L 48.921875 51.859375 \n",
              "L 48.921875 7.03125 \n",
              "Q 48.921875 -5.078125 46.453125 -10.125 \n",
              "Q 44 -15.1875 38.640625 -18.109375 \n",
              "Q 33.296875 -21.046875 25.484375 -21.046875 \n",
              "Q 16.21875 -21.046875 10.5 -16.875 \n",
              "Q 4.78125 -12.703125 4.984375 -4.296875 \n",
              "z\n",
              "M 12.25 26.859375 \n",
              "Q 12.25 16.65625 16.296875 11.96875 \n",
              "Q 20.359375 7.28125 26.46875 7.28125 \n",
              "Q 32.515625 7.28125 36.609375 11.9375 \n",
              "Q 40.71875 16.609375 40.71875 26.5625 \n",
              "Q 40.71875 36.078125 36.5 40.90625 \n",
              "Q 32.28125 45.75 26.3125 45.75 \n",
              "Q 20.453125 45.75 16.34375 40.984375 \n",
              "Q 12.25 36.234375 12.25 26.859375 \n",
              "z\n",
              "\" id=\"ArialMT-103\"/>\n",
              "       <path d=\"M 3.078125 15.484375 \n",
              "L 11.765625 16.84375 \n",
              "Q 12.5 11.625 15.84375 8.84375 \n",
              "Q 19.1875 6.0625 25.203125 6.0625 \n",
              "Q 31.25 6.0625 34.171875 8.515625 \n",
              "Q 37.109375 10.984375 37.109375 14.3125 \n",
              "Q 37.109375 17.28125 34.515625 19 \n",
              "Q 32.71875 20.171875 25.53125 21.96875 \n",
              "Q 15.875 24.421875 12.140625 26.203125 \n",
              "Q 8.40625 27.984375 6.46875 31.125 \n",
              "Q 4.546875 34.28125 4.546875 38.09375 \n",
              "Q 4.546875 41.546875 6.125 44.5 \n",
              "Q 7.71875 47.46875 10.453125 49.421875 \n",
              "Q 12.5 50.921875 16.03125 51.96875 \n",
              "Q 19.578125 53.03125 23.640625 53.03125 \n",
              "Q 29.734375 53.03125 34.34375 51.265625 \n",
              "Q 38.96875 49.515625 41.15625 46.5 \n",
              "Q 43.359375 43.5 44.1875 38.484375 \n",
              "L 35.59375 37.3125 \n",
              "Q 35.015625 41.3125 32.203125 43.546875 \n",
              "Q 29.390625 45.796875 24.265625 45.796875 \n",
              "Q 18.21875 45.796875 15.625 43.796875 \n",
              "Q 13.03125 41.796875 13.03125 39.109375 \n",
              "Q 13.03125 37.40625 14.109375 36.03125 \n",
              "Q 15.1875 34.625 17.484375 33.6875 \n",
              "Q 18.796875 33.203125 25.25 31.453125 \n",
              "Q 34.578125 28.953125 38.25 27.359375 \n",
              "Q 41.9375 25.78125 44.03125 22.75 \n",
              "Q 46.140625 19.734375 46.140625 15.234375 \n",
              "Q 46.140625 10.84375 43.578125 6.953125 \n",
              "Q 41.015625 3.078125 36.171875 0.953125 \n",
              "Q 31.34375 -1.171875 25.25 -1.171875 \n",
              "Q 15.140625 -1.171875 9.84375 3.03125 \n",
              "Q 4.546875 7.234375 3.078125 15.484375 \n",
              "z\n",
              "\" id=\"ArialMT-115\"/>\n",
              "       <path d=\"M 6.59375 -19.875 \n",
              "L 6.59375 51.859375 \n",
              "L 14.59375 51.859375 \n",
              "L 14.59375 45.125 \n",
              "Q 17.4375 49.078125 21 51.046875 \n",
              "Q 24.5625 53.03125 29.640625 53.03125 \n",
              "Q 36.28125 53.03125 41.359375 49.609375 \n",
              "Q 46.4375 46.1875 49.015625 39.953125 \n",
              "Q 51.609375 33.734375 51.609375 26.3125 \n",
              "Q 51.609375 18.359375 48.75 11.984375 \n",
              "Q 45.90625 5.609375 40.453125 2.21875 \n",
              "Q 35.015625 -1.171875 29 -1.171875 \n",
              "Q 24.609375 -1.171875 21.109375 0.6875 \n",
              "Q 17.625 2.546875 15.375 5.375 \n",
              "L 15.375 -19.875 \n",
              "z\n",
              "M 14.546875 25.640625 \n",
              "Q 14.546875 15.625 18.59375 10.84375 \n",
              "Q 22.65625 6.0625 28.421875 6.0625 \n",
              "Q 34.28125 6.0625 38.453125 11.015625 \n",
              "Q 42.625 15.96875 42.625 26.375 \n",
              "Q 42.625 36.28125 38.546875 41.203125 \n",
              "Q 34.46875 46.140625 28.8125 46.140625 \n",
              "Q 23.1875 46.140625 18.859375 40.890625 \n",
              "Q 14.546875 35.640625 14.546875 25.640625 \n",
              "z\n",
              "\" id=\"ArialMT-112\"/>\n",
              "       <path d=\"M 40.4375 19 \n",
              "L 49.078125 17.875 \n",
              "Q 47.65625 8.9375 41.8125 3.875 \n",
              "Q 35.984375 -1.171875 27.484375 -1.171875 \n",
              "Q 16.84375 -1.171875 10.375 5.78125 \n",
              "Q 3.90625 12.75 3.90625 25.734375 \n",
              "Q 3.90625 34.125 6.6875 40.421875 \n",
              "Q 9.46875 46.734375 15.15625 49.875 \n",
              "Q 20.84375 53.03125 27.546875 53.03125 \n",
              "Q 35.984375 53.03125 41.359375 48.75 \n",
              "Q 46.734375 44.484375 48.25 36.625 \n",
              "L 39.703125 35.296875 \n",
              "Q 38.484375 40.53125 35.375 43.15625 \n",
              "Q 32.28125 45.796875 27.875 45.796875 \n",
              "Q 21.234375 45.796875 17.078125 41.03125 \n",
              "Q 12.9375 36.28125 12.9375 25.984375 \n",
              "Q 12.9375 15.53125 16.9375 10.796875 \n",
              "Q 20.953125 6.0625 27.390625 6.0625 \n",
              "Q 32.5625 6.0625 36.03125 9.234375 \n",
              "Q 39.5 12.40625 40.4375 19 \n",
              "z\n",
              "\" id=\"ArialMT-99\"/>\n",
              "       <path d=\"M 6.390625 0 \n",
              "L 6.390625 71.578125 \n",
              "L 15.1875 71.578125 \n",
              "L 15.1875 0 \n",
              "z\n",
              "\" id=\"ArialMT-108\"/>\n",
              "      </defs>\n",
              "      <use xlink:href=\"#ArialMT-78\"/>\n",
              "      <use x=\"72.216797\" xlink:href=\"#ArialMT-117\"/>\n",
              "      <use x=\"127.832031\" xlink:href=\"#ArialMT-109\"/>\n",
              "      <use x=\"211.132812\" xlink:href=\"#ArialMT-98\"/>\n",
              "      <use x=\"266.748047\" xlink:href=\"#ArialMT-101\"/>\n",
              "      <use x=\"322.363281\" xlink:href=\"#ArialMT-114\"/>\n",
              "      <use x=\"355.664062\" xlink:href=\"#ArialMT-32\"/>\n",
              "      <use x=\"383.447266\" xlink:href=\"#ArialMT-111\"/>\n",
              "      <use x=\"439.0625\" xlink:href=\"#ArialMT-102\"/>\n",
              "      <use x=\"466.845703\" xlink:href=\"#ArialMT-32\"/>\n",
              "      <use x=\"494.628906\" xlink:href=\"#ArialMT-105\"/>\n",
              "      <use x=\"516.845703\" xlink:href=\"#ArialMT-109\"/>\n",
              "      <use x=\"600.146484\" xlink:href=\"#ArialMT-97\"/>\n",
              "      <use x=\"655.761719\" xlink:href=\"#ArialMT-103\"/>\n",
              "      <use x=\"711.376953\" xlink:href=\"#ArialMT-101\"/>\n",
              "      <use x=\"766.992188\" xlink:href=\"#ArialMT-115\"/>\n",
              "      <use x=\"816.992188\" xlink:href=\"#ArialMT-32\"/>\n",
              "      <use x=\"844.775391\" xlink:href=\"#ArialMT-112\"/>\n",
              "      <use x=\"900.390625\" xlink:href=\"#ArialMT-101\"/>\n",
              "      <use x=\"956.005859\" xlink:href=\"#ArialMT-114\"/>\n",
              "      <use x=\"989.306641\" xlink:href=\"#ArialMT-32\"/>\n",
              "      <use x=\"1017.089844\" xlink:href=\"#ArialMT-99\"/>\n",
              "      <use x=\"1067.089844\" xlink:href=\"#ArialMT-108\"/>\n",
              "      <use x=\"1089.306641\" xlink:href=\"#ArialMT-97\"/>\n",
              "      <use x=\"1144.921875\" xlink:href=\"#ArialMT-115\"/>\n",
              "      <use x=\"1194.921875\" xlink:href=\"#ArialMT-115\"/>\n",
              "     </g>\n",
              "    </g>\n",
              "   </g>\n",
              "   <g id=\"matplotlib.axis_2\">\n",
              "    <g id=\"ytick_1\">\n",
              "     <g id=\"line2d_7\">\n",
              "      <path clip-path=\"url(#pa16a309c52)\" d=\"M 59.339063 233.842996 \n",
              "L 394.139063 233.842996 \n",
              "\" style=\"fill:none;stroke:#ffffff;stroke-linecap:round;\"/>\n",
              "     </g>\n",
              "     <g id=\"text_8\">\n",
              "      <!-- 0.625 -->\n",
              "      <g style=\"fill:#262626;\" transform=\"translate(22.315 237.779793)scale(0.11 -0.11)\">\n",
              "       <defs>\n",
              "        <path d=\"M 9.078125 0 \n",
              "L 9.078125 10.015625 \n",
              "L 19.09375 10.015625 \n",
              "L 19.09375 0 \n",
              "z\n",
              "\" id=\"ArialMT-46\"/>\n",
              "        <path d=\"M 49.75 54.046875 \n",
              "L 41.015625 53.375 \n",
              "Q 39.84375 58.546875 37.703125 60.890625 \n",
              "Q 34.125 64.65625 28.90625 64.65625 \n",
              "Q 24.703125 64.65625 21.53125 62.3125 \n",
              "Q 17.390625 59.28125 14.984375 53.46875 \n",
              "Q 12.59375 47.65625 12.5 36.921875 \n",
              "Q 15.671875 41.75 20.265625 44.09375 \n",
              "Q 24.859375 46.4375 29.890625 46.4375 \n",
              "Q 38.671875 46.4375 44.84375 39.96875 \n",
              "Q 51.03125 33.5 51.03125 23.25 \n",
              "Q 51.03125 16.5 48.125 10.71875 \n",
              "Q 45.21875 4.9375 40.140625 1.859375 \n",
              "Q 35.0625 -1.21875 28.609375 -1.21875 \n",
              "Q 17.625 -1.21875 10.6875 6.859375 \n",
              "Q 3.765625 14.9375 3.765625 33.5 \n",
              "Q 3.765625 54.25 11.421875 63.671875 \n",
              "Q 18.109375 71.875 29.4375 71.875 \n",
              "Q 37.890625 71.875 43.28125 67.140625 \n",
              "Q 48.6875 62.40625 49.75 54.046875 \n",
              "z\n",
              "M 13.875 23.1875 \n",
              "Q 13.875 18.65625 15.796875 14.5 \n",
              "Q 17.71875 10.359375 21.1875 8.171875 \n",
              "Q 24.65625 6 28.46875 6 \n",
              "Q 34.03125 6 38.03125 10.484375 \n",
              "Q 42.046875 14.984375 42.046875 22.703125 \n",
              "Q 42.046875 30.125 38.078125 34.390625 \n",
              "Q 34.125 38.671875 28.125 38.671875 \n",
              "Q 22.171875 38.671875 18.015625 34.390625 \n",
              "Q 13.875 30.125 13.875 23.1875 \n",
              "z\n",
              "\" id=\"ArialMT-54\"/>\n",
              "       </defs>\n",
              "       <use xlink:href=\"#ArialMT-48\"/>\n",
              "       <use x=\"55.615234\" xlink:href=\"#ArialMT-46\"/>\n",
              "       <use x=\"83.398438\" xlink:href=\"#ArialMT-54\"/>\n",
              "       <use x=\"139.013672\" xlink:href=\"#ArialMT-50\"/>\n",
              "       <use x=\"194.628906\" xlink:href=\"#ArialMT-53\"/>\n",
              "      </g>\n",
              "     </g>\n",
              "    </g>\n",
              "    <g id=\"ytick_2\">\n",
              "     <g id=\"line2d_8\">\n",
              "      <path clip-path=\"url(#pa16a309c52)\" d=\"M 59.339063 207.184508 \n",
              "L 394.139063 207.184508 \n",
              "\" style=\"fill:none;stroke:#ffffff;stroke-linecap:round;\"/>\n",
              "     </g>\n",
              "     <g id=\"text_9\">\n",
              "      <!-- 0.650 -->\n",
              "      <g style=\"fill:#262626;\" transform=\"translate(22.315 211.121304)scale(0.11 -0.11)\">\n",
              "       <use xlink:href=\"#ArialMT-48\"/>\n",
              "       <use x=\"55.615234\" xlink:href=\"#ArialMT-46\"/>\n",
              "       <use x=\"83.398438\" xlink:href=\"#ArialMT-54\"/>\n",
              "       <use x=\"139.013672\" xlink:href=\"#ArialMT-53\"/>\n",
              "       <use x=\"194.628906\" xlink:href=\"#ArialMT-48\"/>\n",
              "      </g>\n",
              "     </g>\n",
              "    </g>\n",
              "    <g id=\"ytick_3\">\n",
              "     <g id=\"line2d_9\">\n",
              "      <path clip-path=\"url(#pa16a309c52)\" d=\"M 59.339063 180.526019 \n",
              "L 394.139063 180.526019 \n",
              "\" style=\"fill:none;stroke:#ffffff;stroke-linecap:round;\"/>\n",
              "     </g>\n",
              "     <g id=\"text_10\">\n",
              "      <!-- 0.675 -->\n",
              "      <g style=\"fill:#262626;\" transform=\"translate(22.315 184.462816)scale(0.11 -0.11)\">\n",
              "       <defs>\n",
              "        <path d=\"M 4.734375 62.203125 \n",
              "L 4.734375 70.65625 \n",
              "L 51.078125 70.65625 \n",
              "L 51.078125 63.8125 \n",
              "Q 44.234375 56.546875 37.515625 44.484375 \n",
              "Q 30.8125 32.421875 27.15625 19.671875 \n",
              "Q 24.515625 10.6875 23.78125 0 \n",
              "L 14.75 0 \n",
              "Q 14.890625 8.453125 18.0625 20.40625 \n",
              "Q 21.234375 32.375 27.171875 43.484375 \n",
              "Q 33.109375 54.59375 39.796875 62.203125 \n",
              "z\n",
              "\" id=\"ArialMT-55\"/>\n",
              "       </defs>\n",
              "       <use xlink:href=\"#ArialMT-48\"/>\n",
              "       <use x=\"55.615234\" xlink:href=\"#ArialMT-46\"/>\n",
              "       <use x=\"83.398438\" xlink:href=\"#ArialMT-54\"/>\n",
              "       <use x=\"139.013672\" xlink:href=\"#ArialMT-55\"/>\n",
              "       <use x=\"194.628906\" xlink:href=\"#ArialMT-53\"/>\n",
              "      </g>\n",
              "     </g>\n",
              "    </g>\n",
              "    <g id=\"ytick_4\">\n",
              "     <g id=\"line2d_10\">\n",
              "      <path clip-path=\"url(#pa16a309c52)\" d=\"M 59.339063 153.867531 \n",
              "L 394.139063 153.867531 \n",
              "\" style=\"fill:none;stroke:#ffffff;stroke-linecap:round;\"/>\n",
              "     </g>\n",
              "     <g id=\"text_11\">\n",
              "      <!-- 0.700 -->\n",
              "      <g style=\"fill:#262626;\" transform=\"translate(22.315 157.804328)scale(0.11 -0.11)\">\n",
              "       <use xlink:href=\"#ArialMT-48\"/>\n",
              "       <use x=\"55.615234\" xlink:href=\"#ArialMT-46\"/>\n",
              "       <use x=\"83.398438\" xlink:href=\"#ArialMT-55\"/>\n",
              "       <use x=\"139.013672\" xlink:href=\"#ArialMT-48\"/>\n",
              "       <use x=\"194.628906\" xlink:href=\"#ArialMT-48\"/>\n",
              "      </g>\n",
              "     </g>\n",
              "    </g>\n",
              "    <g id=\"ytick_5\">\n",
              "     <g id=\"line2d_11\">\n",
              "      <path clip-path=\"url(#pa16a309c52)\" d=\"M 59.339063 127.209043 \n",
              "L 394.139063 127.209043 \n",
              "\" style=\"fill:none;stroke:#ffffff;stroke-linecap:round;\"/>\n",
              "     </g>\n",
              "     <g id=\"text_12\">\n",
              "      <!-- 0.725 -->\n",
              "      <g style=\"fill:#262626;\" transform=\"translate(22.315 131.14584)scale(0.11 -0.11)\">\n",
              "       <use xlink:href=\"#ArialMT-48\"/>\n",
              "       <use x=\"55.615234\" xlink:href=\"#ArialMT-46\"/>\n",
              "       <use x=\"83.398438\" xlink:href=\"#ArialMT-55\"/>\n",
              "       <use x=\"139.013672\" xlink:href=\"#ArialMT-50\"/>\n",
              "       <use x=\"194.628906\" xlink:href=\"#ArialMT-53\"/>\n",
              "      </g>\n",
              "     </g>\n",
              "    </g>\n",
              "    <g id=\"ytick_6\">\n",
              "     <g id=\"line2d_12\">\n",
              "      <path clip-path=\"url(#pa16a309c52)\" d=\"M 59.339063 100.550555 \n",
              "L 394.139063 100.550555 \n",
              "\" style=\"fill:none;stroke:#ffffff;stroke-linecap:round;\"/>\n",
              "     </g>\n",
              "     <g id=\"text_13\">\n",
              "      <!-- 0.750 -->\n",
              "      <g style=\"fill:#262626;\" transform=\"translate(22.315 104.487352)scale(0.11 -0.11)\">\n",
              "       <use xlink:href=\"#ArialMT-48\"/>\n",
              "       <use x=\"55.615234\" xlink:href=\"#ArialMT-46\"/>\n",
              "       <use x=\"83.398438\" xlink:href=\"#ArialMT-55\"/>\n",
              "       <use x=\"139.013672\" xlink:href=\"#ArialMT-53\"/>\n",
              "       <use x=\"194.628906\" xlink:href=\"#ArialMT-48\"/>\n",
              "      </g>\n",
              "     </g>\n",
              "    </g>\n",
              "    <g id=\"ytick_7\">\n",
              "     <g id=\"line2d_13\">\n",
              "      <path clip-path=\"url(#pa16a309c52)\" d=\"M 59.339063 73.892066 \n",
              "L 394.139063 73.892066 \n",
              "\" style=\"fill:none;stroke:#ffffff;stroke-linecap:round;\"/>\n",
              "     </g>\n",
              "     <g id=\"text_14\">\n",
              "      <!-- 0.775 -->\n",
              "      <g style=\"fill:#262626;\" transform=\"translate(22.315 77.828863)scale(0.11 -0.11)\">\n",
              "       <use xlink:href=\"#ArialMT-48\"/>\n",
              "       <use x=\"55.615234\" xlink:href=\"#ArialMT-46\"/>\n",
              "       <use x=\"83.398438\" xlink:href=\"#ArialMT-55\"/>\n",
              "       <use x=\"139.013672\" xlink:href=\"#ArialMT-55\"/>\n",
              "       <use x=\"194.628906\" xlink:href=\"#ArialMT-53\"/>\n",
              "      </g>\n",
              "     </g>\n",
              "    </g>\n",
              "    <g id=\"ytick_8\">\n",
              "     <g id=\"line2d_14\">\n",
              "      <path clip-path=\"url(#pa16a309c52)\" d=\"M 59.339063 47.233578 \n",
              "L 394.139063 47.233578 \n",
              "\" style=\"fill:none;stroke:#ffffff;stroke-linecap:round;\"/>\n",
              "     </g>\n",
              "     <g id=\"text_15\">\n",
              "      <!-- 0.800 -->\n",
              "      <g style=\"fill:#262626;\" transform=\"translate(22.315 51.170375)scale(0.11 -0.11)\">\n",
              "       <defs>\n",
              "        <path d=\"M 17.671875 38.8125 \n",
              "Q 12.203125 40.828125 9.5625 44.53125 \n",
              "Q 6.9375 48.25 6.9375 53.421875 \n",
              "Q 6.9375 61.234375 12.546875 66.546875 \n",
              "Q 18.171875 71.875 27.484375 71.875 \n",
              "Q 36.859375 71.875 42.578125 66.421875 \n",
              "Q 48.296875 60.984375 48.296875 53.171875 \n",
              "Q 48.296875 48.1875 45.671875 44.5 \n",
              "Q 43.0625 40.828125 37.75 38.8125 \n",
              "Q 44.34375 36.671875 47.78125 31.875 \n",
              "Q 51.21875 27.09375 51.21875 20.453125 \n",
              "Q 51.21875 11.28125 44.71875 5.03125 \n",
              "Q 38.234375 -1.21875 27.640625 -1.21875 \n",
              "Q 17.046875 -1.21875 10.546875 5.046875 \n",
              "Q 4.046875 11.328125 4.046875 20.703125 \n",
              "Q 4.046875 27.6875 7.59375 32.390625 \n",
              "Q 11.140625 37.109375 17.671875 38.8125 \n",
              "z\n",
              "M 15.921875 53.71875 \n",
              "Q 15.921875 48.640625 19.1875 45.40625 \n",
              "Q 22.46875 42.1875 27.6875 42.1875 \n",
              "Q 32.765625 42.1875 36.015625 45.375 \n",
              "Q 39.265625 48.578125 39.265625 53.21875 \n",
              "Q 39.265625 58.0625 35.90625 61.359375 \n",
              "Q 32.5625 64.65625 27.59375 64.65625 \n",
              "Q 22.5625 64.65625 19.234375 61.421875 \n",
              "Q 15.921875 58.203125 15.921875 53.71875 \n",
              "z\n",
              "M 13.09375 20.65625 \n",
              "Q 13.09375 16.890625 14.875 13.375 \n",
              "Q 16.65625 9.859375 20.171875 7.921875 \n",
              "Q 23.6875 6 27.734375 6 \n",
              "Q 34.03125 6 38.125 10.046875 \n",
              "Q 42.234375 14.109375 42.234375 20.359375 \n",
              "Q 42.234375 26.703125 38.015625 30.859375 \n",
              "Q 33.796875 35.015625 27.4375 35.015625 \n",
              "Q 21.234375 35.015625 17.15625 30.90625 \n",
              "Q 13.09375 26.8125 13.09375 20.65625 \n",
              "z\n",
              "\" id=\"ArialMT-56\"/>\n",
              "       </defs>\n",
              "       <use xlink:href=\"#ArialMT-48\"/>\n",
              "       <use x=\"55.615234\" xlink:href=\"#ArialMT-46\"/>\n",
              "       <use x=\"83.398438\" xlink:href=\"#ArialMT-56\"/>\n",
              "       <use x=\"139.013672\" xlink:href=\"#ArialMT-48\"/>\n",
              "       <use x=\"194.628906\" xlink:href=\"#ArialMT-48\"/>\n",
              "      </g>\n",
              "     </g>\n",
              "    </g>\n",
              "    <g id=\"text_16\">\n",
              "     <!-- Test accuracy -->\n",
              "     <g style=\"fill:#262626;\" transform=\"translate(15.789375 168.615937)rotate(-90)scale(0.12 -0.12)\">\n",
              "      <defs>\n",
              "       <path d=\"M 25.921875 0 \n",
              "L 25.921875 63.140625 \n",
              "L 2.34375 63.140625 \n",
              "L 2.34375 71.578125 \n",
              "L 59.078125 71.578125 \n",
              "L 59.078125 63.140625 \n",
              "L 35.40625 63.140625 \n",
              "L 35.40625 0 \n",
              "z\n",
              "\" id=\"ArialMT-84\"/>\n",
              "       <path d=\"M 25.78125 7.859375 \n",
              "L 27.046875 0.09375 \n",
              "Q 23.34375 -0.6875 20.40625 -0.6875 \n",
              "Q 15.625 -0.6875 12.984375 0.828125 \n",
              "Q 10.359375 2.34375 9.28125 4.8125 \n",
              "Q 8.203125 7.28125 8.203125 15.1875 \n",
              "L 8.203125 45.015625 \n",
              "L 1.765625 45.015625 \n",
              "L 1.765625 51.859375 \n",
              "L 8.203125 51.859375 \n",
              "L 8.203125 64.703125 \n",
              "L 16.9375 69.96875 \n",
              "L 16.9375 51.859375 \n",
              "L 25.78125 51.859375 \n",
              "L 25.78125 45.015625 \n",
              "L 16.9375 45.015625 \n",
              "L 16.9375 14.703125 \n",
              "Q 16.9375 10.9375 17.40625 9.859375 \n",
              "Q 17.875 8.796875 18.921875 8.15625 \n",
              "Q 19.96875 7.515625 21.921875 7.515625 \n",
              "Q 23.390625 7.515625 25.78125 7.859375 \n",
              "z\n",
              "\" id=\"ArialMT-116\"/>\n",
              "       <path d=\"M 6.203125 -19.96875 \n",
              "L 5.21875 -11.71875 \n",
              "Q 8.109375 -12.5 10.25 -12.5 \n",
              "Q 13.1875 -12.5 14.9375 -11.515625 \n",
              "Q 16.703125 -10.546875 17.828125 -8.796875 \n",
              "Q 18.65625 -7.46875 20.515625 -2.25 \n",
              "Q 20.75 -1.515625 21.296875 -0.09375 \n",
              "L 1.609375 51.859375 \n",
              "L 11.078125 51.859375 \n",
              "L 21.875 21.828125 \n",
              "Q 23.96875 16.109375 25.640625 9.8125 \n",
              "Q 27.15625 15.875 29.25 21.625 \n",
              "L 40.328125 51.859375 \n",
              "L 49.125 51.859375 \n",
              "L 29.390625 -0.875 \n",
              "Q 26.21875 -9.421875 24.46875 -12.640625 \n",
              "Q 22.125 -17 19.09375 -19.015625 \n",
              "Q 16.0625 -21.046875 11.859375 -21.046875 \n",
              "Q 9.328125 -21.046875 6.203125 -19.96875 \n",
              "z\n",
              "\" id=\"ArialMT-121\"/>\n",
              "      </defs>\n",
              "      <use xlink:href=\"#ArialMT-84\"/>\n",
              "      <use x=\"49.958984\" xlink:href=\"#ArialMT-101\"/>\n",
              "      <use x=\"105.574219\" xlink:href=\"#ArialMT-115\"/>\n",
              "      <use x=\"155.574219\" xlink:href=\"#ArialMT-116\"/>\n",
              "      <use x=\"183.357422\" xlink:href=\"#ArialMT-32\"/>\n",
              "      <use x=\"211.140625\" xlink:href=\"#ArialMT-97\"/>\n",
              "      <use x=\"266.755859\" xlink:href=\"#ArialMT-99\"/>\n",
              "      <use x=\"316.755859\" xlink:href=\"#ArialMT-99\"/>\n",
              "      <use x=\"366.755859\" xlink:href=\"#ArialMT-117\"/>\n",
              "      <use x=\"422.371094\" xlink:href=\"#ArialMT-114\"/>\n",
              "      <use x=\"455.671875\" xlink:href=\"#ArialMT-97\"/>\n",
              "      <use x=\"511.287109\" xlink:href=\"#ArialMT-99\"/>\n",
              "      <use x=\"561.287109\" xlink:href=\"#ArialMT-121\"/>\n",
              "     </g>\n",
              "    </g>\n",
              "   </g>\n",
              "   <g id=\"line2d_15\">\n",
              "    <path clip-path=\"url(#pa16a309c52)\" d=\"M 74.557244 230.777301 \n",
              "L 128.485556 168.796296 \n",
              "L 199.774907 106.548725 \n",
              "L 253.703218 77.091069 \n",
              "L 307.63153 57.230537 \n",
              "L 378.920881 33.104574 \n",
              "\" style=\"fill:none;stroke:#000000;stroke-dasharray:5.55,2.4;stroke-dashoffset:0;stroke-width:1.5;\"/>\n",
              "    <defs>\n",
              "     <path d=\"M 0 -8 \n",
              "L -1.796112 -2.472136 \n",
              "L -7.608452 -2.472136 \n",
              "L -2.90617 0.944272 \n",
              "L -4.702282 6.472136 \n",
              "L -0 3.055728 \n",
              "L 4.702282 6.472136 \n",
              "L 2.90617 0.944272 \n",
              "L 7.608452 -2.472136 \n",
              "L 1.796112 -2.472136 \n",
              "z\n",
              "\" id=\"mb4224096f5\" style=\"stroke:#000000;stroke-linejoin:bevel;\"/>\n",
              "    </defs>\n",
              "    <g clip-path=\"url(#pa16a309c52)\">\n",
              "     <use style=\"fill:#ccb974;stroke:#000000;stroke-linejoin:bevel;\" x=\"74.557244\" xlink:href=\"#mb4224096f5\" y=\"230.777301\"/>\n",
              "     <use style=\"fill:#ccb974;stroke:#000000;stroke-linejoin:bevel;\" x=\"128.485556\" xlink:href=\"#mb4224096f5\" y=\"168.796296\"/>\n",
              "     <use style=\"fill:#ccb974;stroke:#000000;stroke-linejoin:bevel;\" x=\"199.774907\" xlink:href=\"#mb4224096f5\" y=\"106.548725\"/>\n",
              "     <use style=\"fill:#ccb974;stroke:#000000;stroke-linejoin:bevel;\" x=\"253.703218\" xlink:href=\"#mb4224096f5\" y=\"77.091069\"/>\n",
              "     <use style=\"fill:#ccb974;stroke:#000000;stroke-linejoin:bevel;\" x=\"307.63153\" xlink:href=\"#mb4224096f5\" y=\"57.230537\"/>\n",
              "     <use style=\"fill:#ccb974;stroke:#000000;stroke-linejoin:bevel;\" x=\"378.920881\" xlink:href=\"#mb4224096f5\" y=\"33.104574\"/>\n",
              "    </g>\n",
              "   </g>\n",
              "   <g id=\"patch_3\">\n",
              "    <path d=\"M 59.339063 240.660937 \n",
              "L 59.339063 23.220937 \n",
              "\" style=\"fill:none;stroke:#ffffff;stroke-linecap:square;stroke-linejoin:miter;stroke-width:1.25;\"/>\n",
              "   </g>\n",
              "   <g id=\"patch_4\">\n",
              "    <path d=\"M 394.139063 240.660937 \n",
              "L 394.139063 23.220937 \n",
              "\" style=\"fill:none;stroke:#ffffff;stroke-linecap:square;stroke-linejoin:miter;stroke-width:1.25;\"/>\n",
              "   </g>\n",
              "   <g id=\"patch_5\">\n",
              "    <path d=\"M 59.339063 240.660937 \n",
              "L 394.139063 240.660937 \n",
              "\" style=\"fill:none;stroke:#ffffff;stroke-linecap:square;stroke-linejoin:miter;stroke-width:1.25;\"/>\n",
              "   </g>\n",
              "   <g id=\"patch_6\">\n",
              "    <path d=\"M 59.339063 23.220937 \n",
              "L 394.139063 23.220937 \n",
              "\" style=\"fill:none;stroke:#ffffff;stroke-linecap:square;stroke-linejoin:miter;stroke-width:1.25;\"/>\n",
              "   </g>\n",
              "   <g id=\"text_17\">\n",
              "    <!-- STL10 classification over dataset size -->\n",
              "    <g style=\"fill:#262626;\" transform=\"translate(109.632344 17.220937)scale(0.14 -0.14)\">\n",
              "     <defs>\n",
              "      <path d=\"M 4.5 23 \n",
              "L 13.421875 23.78125 \n",
              "Q 14.0625 18.40625 16.375 14.96875 \n",
              "Q 18.703125 11.53125 23.578125 9.40625 \n",
              "Q 28.46875 7.28125 34.578125 7.28125 \n",
              "Q 39.984375 7.28125 44.140625 8.890625 \n",
              "Q 48.296875 10.5 50.3125 13.296875 \n",
              "Q 52.34375 16.109375 52.34375 19.4375 \n",
              "Q 52.34375 22.796875 50.390625 25.3125 \n",
              "Q 48.4375 27.828125 43.953125 29.546875 \n",
              "Q 41.0625 30.671875 31.203125 33.03125 \n",
              "Q 21.34375 35.40625 17.390625 37.5 \n",
              "Q 12.25 40.1875 9.734375 44.15625 \n",
              "Q 7.234375 48.140625 7.234375 53.078125 \n",
              "Q 7.234375 58.5 10.296875 63.203125 \n",
              "Q 13.375 67.921875 19.28125 70.359375 \n",
              "Q 25.203125 72.796875 32.421875 72.796875 \n",
              "Q 40.375 72.796875 46.453125 70.234375 \n",
              "Q 52.546875 67.671875 55.8125 62.6875 \n",
              "Q 59.078125 57.71875 59.328125 51.421875 \n",
              "L 50.25 50.734375 \n",
              "Q 49.515625 57.515625 45.28125 60.984375 \n",
              "Q 41.0625 64.453125 32.8125 64.453125 \n",
              "Q 24.21875 64.453125 20.28125 61.296875 \n",
              "Q 16.359375 58.15625 16.359375 53.71875 \n",
              "Q 16.359375 49.859375 19.140625 47.359375 \n",
              "Q 21.875 44.875 33.421875 42.265625 \n",
              "Q 44.96875 39.65625 49.265625 37.703125 \n",
              "Q 55.515625 34.8125 58.484375 30.390625 \n",
              "Q 61.46875 25.984375 61.46875 20.21875 \n",
              "Q 61.46875 14.5 58.203125 9.4375 \n",
              "Q 54.9375 4.390625 48.796875 1.578125 \n",
              "Q 42.671875 -1.21875 35.015625 -1.21875 \n",
              "Q 25.296875 -1.21875 18.71875 1.609375 \n",
              "Q 12.15625 4.4375 8.421875 10.125 \n",
              "Q 4.6875 15.828125 4.5 23 \n",
              "z\n",
              "\" id=\"ArialMT-83\"/>\n",
              "      <path d=\"M 7.328125 0 \n",
              "L 7.328125 71.578125 \n",
              "L 16.796875 71.578125 \n",
              "L 16.796875 8.453125 \n",
              "L 52.046875 8.453125 \n",
              "L 52.046875 0 \n",
              "z\n",
              "\" id=\"ArialMT-76\"/>\n",
              "      <path d=\"M 6.59375 0 \n",
              "L 6.59375 51.859375 \n",
              "L 14.5 51.859375 \n",
              "L 14.5 44.484375 \n",
              "Q 20.21875 53.03125 31 53.03125 \n",
              "Q 35.6875 53.03125 39.625 51.34375 \n",
              "Q 43.5625 49.65625 45.515625 46.921875 \n",
              "Q 47.46875 44.1875 48.25 40.4375 \n",
              "Q 48.734375 37.984375 48.734375 31.890625 \n",
              "L 48.734375 0 \n",
              "L 39.9375 0 \n",
              "L 39.9375 31.546875 \n",
              "Q 39.9375 36.921875 38.90625 39.578125 \n",
              "Q 37.890625 42.234375 35.28125 43.8125 \n",
              "Q 32.671875 45.40625 29.15625 45.40625 \n",
              "Q 23.53125 45.40625 19.453125 41.84375 \n",
              "Q 15.375 38.28125 15.375 28.328125 \n",
              "L 15.375 0 \n",
              "z\n",
              "\" id=\"ArialMT-110\"/>\n",
              "      <path d=\"M 21 0 \n",
              "L 1.265625 51.859375 \n",
              "L 10.546875 51.859375 \n",
              "L 21.6875 20.796875 \n",
              "Q 23.484375 15.765625 25 10.359375 \n",
              "Q 26.171875 14.453125 28.265625 20.21875 \n",
              "L 39.796875 51.859375 \n",
              "L 48.828125 51.859375 \n",
              "L 29.203125 0 \n",
              "z\n",
              "\" id=\"ArialMT-118\"/>\n",
              "      <path d=\"M 40.234375 0 \n",
              "L 40.234375 6.546875 \n",
              "Q 35.296875 -1.171875 25.734375 -1.171875 \n",
              "Q 19.53125 -1.171875 14.328125 2.25 \n",
              "Q 9.125 5.671875 6.265625 11.796875 \n",
              "Q 3.421875 17.921875 3.421875 25.875 \n",
              "Q 3.421875 33.640625 6 39.96875 \n",
              "Q 8.59375 46.296875 13.765625 49.65625 \n",
              "Q 18.953125 53.03125 25.34375 53.03125 \n",
              "Q 30.03125 53.03125 33.6875 51.046875 \n",
              "Q 37.359375 49.078125 39.65625 45.90625 \n",
              "L 39.65625 71.578125 \n",
              "L 48.390625 71.578125 \n",
              "L 48.390625 0 \n",
              "z\n",
              "M 12.453125 25.875 \n",
              "Q 12.453125 15.921875 16.640625 10.984375 \n",
              "Q 20.84375 6.0625 26.5625 6.0625 \n",
              "Q 32.328125 6.0625 36.34375 10.765625 \n",
              "Q 40.375 15.484375 40.375 25.140625 \n",
              "Q 40.375 35.796875 36.265625 40.765625 \n",
              "Q 32.171875 45.75 26.171875 45.75 \n",
              "Q 20.3125 45.75 16.375 40.96875 \n",
              "Q 12.453125 36.1875 12.453125 25.875 \n",
              "z\n",
              "\" id=\"ArialMT-100\"/>\n",
              "      <path d=\"M 1.953125 0 \n",
              "L 1.953125 7.125 \n",
              "L 34.96875 45.015625 \n",
              "Q 29.34375 44.734375 25.046875 44.734375 \n",
              "L 3.90625 44.734375 \n",
              "L 3.90625 51.859375 \n",
              "L 46.296875 51.859375 \n",
              "L 46.296875 46.046875 \n",
              "L 18.21875 13.140625 \n",
              "L 12.796875 7.125 \n",
              "Q 18.703125 7.5625 23.875 7.5625 \n",
              "L 47.859375 7.5625 \n",
              "L 47.859375 0 \n",
              "z\n",
              "\" id=\"ArialMT-122\"/>\n",
              "     </defs>\n",
              "     <use xlink:href=\"#ArialMT-83\"/>\n",
              "     <use x=\"66.699219\" xlink:href=\"#ArialMT-84\"/>\n",
              "     <use x=\"127.783203\" xlink:href=\"#ArialMT-76\"/>\n",
              "     <use x=\"183.398438\" xlink:href=\"#ArialMT-49\"/>\n",
              "     <use x=\"239.013672\" xlink:href=\"#ArialMT-48\"/>\n",
              "     <use x=\"294.628906\" xlink:href=\"#ArialMT-32\"/>\n",
              "     <use x=\"322.412109\" xlink:href=\"#ArialMT-99\"/>\n",
              "     <use x=\"372.412109\" xlink:href=\"#ArialMT-108\"/>\n",
              "     <use x=\"394.628906\" xlink:href=\"#ArialMT-97\"/>\n",
              "     <use x=\"450.244141\" xlink:href=\"#ArialMT-115\"/>\n",
              "     <use x=\"500.244141\" xlink:href=\"#ArialMT-115\"/>\n",
              "     <use x=\"550.244141\" xlink:href=\"#ArialMT-105\"/>\n",
              "     <use x=\"572.460938\" xlink:href=\"#ArialMT-102\"/>\n",
              "     <use x=\"600.244141\" xlink:href=\"#ArialMT-105\"/>\n",
              "     <use x=\"622.460938\" xlink:href=\"#ArialMT-99\"/>\n",
              "     <use x=\"672.460938\" xlink:href=\"#ArialMT-97\"/>\n",
              "     <use x=\"728.076172\" xlink:href=\"#ArialMT-116\"/>\n",
              "     <use x=\"755.859375\" xlink:href=\"#ArialMT-105\"/>\n",
              "     <use x=\"778.076172\" xlink:href=\"#ArialMT-111\"/>\n",
              "     <use x=\"833.691406\" xlink:href=\"#ArialMT-110\"/>\n",
              "     <use x=\"889.306641\" xlink:href=\"#ArialMT-32\"/>\n",
              "     <use x=\"917.089844\" xlink:href=\"#ArialMT-111\"/>\n",
              "     <use x=\"972.705078\" xlink:href=\"#ArialMT-118\"/>\n",
              "     <use x=\"1022.705078\" xlink:href=\"#ArialMT-101\"/>\n",
              "     <use x=\"1078.320312\" xlink:href=\"#ArialMT-114\"/>\n",
              "     <use x=\"1111.621094\" xlink:href=\"#ArialMT-32\"/>\n",
              "     <use x=\"1139.404297\" xlink:href=\"#ArialMT-100\"/>\n",
              "     <use x=\"1195.019531\" xlink:href=\"#ArialMT-97\"/>\n",
              "     <use x=\"1250.634766\" xlink:href=\"#ArialMT-116\"/>\n",
              "     <use x=\"1278.417969\" xlink:href=\"#ArialMT-97\"/>\n",
              "     <use x=\"1334.033203\" xlink:href=\"#ArialMT-115\"/>\n",
              "     <use x=\"1384.033203\" xlink:href=\"#ArialMT-101\"/>\n",
              "     <use x=\"1439.648438\" xlink:href=\"#ArialMT-116\"/>\n",
              "     <use x=\"1467.431641\" xlink:href=\"#ArialMT-32\"/>\n",
              "     <use x=\"1495.214844\" xlink:href=\"#ArialMT-115\"/>\n",
              "     <use x=\"1545.214844\" xlink:href=\"#ArialMT-105\"/>\n",
              "     <use x=\"1567.431641\" xlink:href=\"#ArialMT-122\"/>\n",
              "     <use x=\"1617.431641\" xlink:href=\"#ArialMT-101\"/>\n",
              "    </g>\n",
              "   </g>\n",
              "  </g>\n",
              " </g>\n",
              " <defs>\n",
              "  <clipPath id=\"pa16a309c52\">\n",
              "   <rect height=\"217.44\" width=\"334.8\" x=\"59.339063\" y=\"23.220937\"/>\n",
              "  </clipPath>\n",
              " </defs>\n",
              "</svg>\n"
            ],
            "text/plain": [
              "<Figure size 432x288 with 1 Axes>"
            ]
          },
          "metadata": {},
          "output_type": "display_data"
        },
        {
          "name": "stdout",
          "output_type": "stream",
          "text": [
            "Test accuracy for  10 images per label: 62.79%\n",
            "Test accuracy for  20 images per label: 68.60%\n",
            "Test accuracy for  50 images per label: 74.44%\n",
            "Test accuracy for 100 images per label: 77.20%\n",
            "Test accuracy for 200 images per label: 79.06%\n",
            "Test accuracy for 500 images per label: 81.33%\n"
          ]
        }
      ],
      "source": [
        "dataset_sizes = sorted([k for k in results])\n",
        "test_scores = [results[k][\"test\"] for k in dataset_sizes]\n",
        "\n",
        "fig = plt.figure(figsize=(6,4))\n",
        "plt.plot(dataset_sizes, test_scores, '--', color=\"#000\", marker=\"*\", markeredgecolor=\"#000\", markerfacecolor=\"y\", markersize=16)\n",
        "plt.xscale(\"log\")\n",
        "plt.xticks(dataset_sizes, labels=dataset_sizes)\n",
        "plt.title(\"STL10 classification over dataset size\", fontsize=14)\n",
        "plt.xlabel(\"Number of images per class\")\n",
        "plt.ylabel(\"Test accuracy\")\n",
        "plt.minorticks_off()\n",
        "plt.show()\n",
        "\n",
        "for k, score in zip(dataset_sizes, test_scores):\n",
        "    print(f'Test accuracy for {k:3d} images per label: {100*score:4.2f}%')"
      ]
    },
    {
      "cell_type": "markdown",
      "metadata": {
        "id": "oe5Ywt4L55Oy"
      },
      "source": [
        "As one would expect, the classification performance improves the more data we have. However, with only 10 images per class, we can already classify more than 60% of the images correctly. This is quite impressive, considering that the images are also higher dimensional than e.g. CIFAR10. With the full dataset, we achieve an accuracy of 81%. The increase between 50 to 500 images per class might suggest a linear increase in performance with an exponentially larger dataset. However, with even more data, we could also finetune $f(\\cdot)$ in the training process, allowing for the representations to adapt more to the specific classification task given.\n",
        "\n",
        "To set the results above into perspective, we will train the base network, a ResNet-18, on the classification task from scratch."
      ]
    },
    {
      "cell_type": "markdown",
      "metadata": {
        "id": "6dWTOPGT55Oz"
      },
      "source": [
        "## Baseline\n",
        "\n",
        "As a baseline to our results above, we will train a standard ResNet-18 with random initialization on the labeled training set of STL10. The results will give us an indication of the advantages that contrastive learning on unlabeled data has compared to using only supervised training. The implementation of the model is straightforward since the ResNet architecture is provided in the torchvision library."
      ]
    },
    {
      "cell_type": "code",
      "execution_count": null,
      "metadata": {
        "id": "-zg-gpCa55Oz"
      },
      "outputs": [],
      "source": [
        "class ResNet(pl.LightningModule):\n",
        "\n",
        "    def __init__(self, num_classes, lr, weight_decay, max_epochs=100):\n",
        "        super().__init__()\n",
        "        self.save_hyperparameters()\n",
        "        self.model = torchvision.models.resnet18(num_classes=num_classes)\n",
        "\n",
        "    def configure_optimizers(self):\n",
        "        optimizer = optim.AdamW(self.parameters(), \n",
        "                                lr=self.hparams.lr, \n",
        "                                weight_decay=self.hparams.weight_decay)\n",
        "        lr_scheduler = optim.lr_scheduler.MultiStepLR(optimizer, \n",
        "                                                      milestones=[int(self.hparams.max_epochs*0.7), \n",
        "                                                                  int(self.hparams.max_epochs*0.9)], \n",
        "                                                      gamma=0.1)\n",
        "        return [optimizer], [lr_scheduler]\n",
        "\n",
        "    def _calculate_loss(self, batch, mode='train'):\n",
        "        imgs, labels = batch\n",
        "        preds = self.model(imgs)\n",
        "        loss = F.cross_entropy(preds, labels)\n",
        "        acc = (preds.argmax(dim=-1) == labels).float().mean()\n",
        "\n",
        "        self.log(mode + '_loss', loss)\n",
        "        self.log(mode + '_acc', acc)\n",
        "        return loss\n",
        "\n",
        "    def training_step(self, batch, batch_idx):\n",
        "        return self._calculate_loss(batch, mode='train')\n",
        "\n",
        "    def validation_step(self, batch, batch_idx):\n",
        "        self._calculate_loss(batch, mode='val')\n",
        "\n",
        "    def test_step(self, batch, batch_idx):\n",
        "        self._calculate_loss(batch, mode='test')"
      ]
    },
    {
      "cell_type": "markdown",
      "metadata": {
        "id": "18SCIdUW55O0"
      },
      "source": [
        "It is clear that the ResNet easily overfits on the training data since its parameter count is more than 1000 times larger than the dataset size. To make the comparison to the contrastive learning models fair, we apply data augmentations similar to the ones we used before: horizontal flip, crop-and-resize, grayscale, and gaussian blur. Color distortions as before are not used because the color distribution of an image showed to be an important feature for the classification. Hence, we observed no noticeable performance gains when adding color distortions to the set of augmentations. Similarly, we restrict the resizing operation before cropping to the max. 125% of its original resolution, instead of 1250% as done in SimCLR. This is because, for classification, the model needs to recognize the full object, while in contrastive learning, we only want to check whether two patches belong to the same image/object. Hence, the chosen augmentations below are overall weaker than in the contrastive learning case."
      ]
    },
    {
      "cell_type": "code",
      "execution_count": null,
      "metadata": {
        "id": "d_JQDg6r55O1",
        "outputId": "e3a21417-c6ef-418f-cbb4-0ec2e14e3f9e"
      },
      "outputs": [
        {
          "name": "stdout",
          "output_type": "stream",
          "text": [
            "Files already downloaded and verified\n"
          ]
        }
      ],
      "source": [
        "train_transforms = transforms.Compose([transforms.RandomHorizontalFlip(),\n",
        "                                       transforms.RandomResizedCrop(size=96, scale=(0.8, 1.0)),\n",
        "                                       transforms.RandomGrayscale(p=0.2),\n",
        "                                       transforms.GaussianBlur(kernel_size=9, sigma=(0.1, 0.5)),\n",
        "                                       transforms.ToTensor(),\n",
        "                                       transforms.Normalize((0.5,), (0.5,))\n",
        "                                       ])\n",
        "\n",
        "train_img_aug_data = STL10(root=DATASET_PATH, split='train', download=True,\n",
        "                           transform=train_transforms)"
      ]
    },
    {
      "cell_type": "markdown",
      "metadata": {
        "id": "2EWKFREZ55O3"
      },
      "source": [
        "The training function for the ResNet is almost identical to the Logistic Regression setup. Note that we allow the ResNet to perform validation every 2 epochs to also check whether the model overfits strongly in the first iterations or not."
      ]
    },
    {
      "cell_type": "code",
      "execution_count": null,
      "metadata": {
        "id": "-ylIYSaE55O3"
      },
      "outputs": [],
      "source": [
        "def train_resnet(batch_size, max_epochs=100, **kwargs):\n",
        "    trainer = pl.Trainer(default_root_dir=os.path.join(CHECKPOINT_PATH, \"ResNet\"),\n",
        "                         accelerator=\"gpu\" if str(device).startswith(\"cuda\") else \"cpu\",\n",
        "                         devices=1,\n",
        "                         max_epochs=max_epochs,\n",
        "                         callbacks=[ModelCheckpoint(save_weights_only=True, mode=\"max\", monitor=\"val_acc\"),\n",
        "                                    LearningRateMonitor(\"epoch\")],\n",
        "                         check_val_every_n_epoch=2)\n",
        "    trainer.logger._default_hp_metric = None\n",
        "    \n",
        "    # Data loaders\n",
        "    train_loader = data.DataLoader(train_img_aug_data, batch_size=batch_size, shuffle=True, \n",
        "                                   drop_last=True, pin_memory=True, num_workers=NUM_WORKERS)\n",
        "    test_loader = data.DataLoader(test_img_data, batch_size=batch_size, shuffle=False, \n",
        "                                  drop_last=False, pin_memory=True, num_workers=NUM_WORKERS)\n",
        "\n",
        "    # Check whether pretrained model exists. If yes, load it and skip training\n",
        "    pretrained_filename = os.path.join(CHECKPOINT_PATH, \"ResNet.ckpt\")\n",
        "    if os.path.isfile(pretrained_filename):\n",
        "        print(\"Found pretrained model at %s, loading...\" % pretrained_filename)\n",
        "        model = ResNet.load_from_checkpoint(pretrained_filename)\n",
        "    else:\n",
        "        pl.seed_everything(42) # To be reproducable\n",
        "        model = ResNet(**kwargs)\n",
        "        trainer.fit(model, train_loader, test_loader)\n",
        "        model = ResNet.load_from_checkpoint(trainer.checkpoint_callback.best_model_path)\n",
        "\n",
        "    # Test best model on validation set\n",
        "    train_result = trainer.test(model, train_loader, verbose=False)\n",
        "    val_result = trainer.test(model, test_loader, verbose=False)\n",
        "    result = {\"train\": train_result[0][\"test_acc\"], \"test\": val_result[0][\"test_acc\"]}\n",
        "        \n",
        "    return model, result"
      ]
    },
    {
      "cell_type": "markdown",
      "metadata": {
        "id": "EPcStcVt55O5"
      },
      "source": [
        "Finally, let's train the model and check its results:"
      ]
    },
    {
      "cell_type": "code",
      "execution_count": null,
      "metadata": {
        "colab": {
          "referenced_widgets": [
            "31a39a2ecb3342f298f31b6e08bf102a",
            "8fcdce7bf86c4c9780e7c9e01a894e94"
          ]
        },
        "id": "HI4q2zIR55O6",
        "outputId": "e0a37d29-c242-449b-cd2f-85c19afa8ff0"
      },
      "outputs": [
        {
          "name": "stderr",
          "output_type": "stream",
          "text": [
            "GPU available: True, used: True\n",
            "TPU available: False, using: 0 TPU cores\n",
            "LOCAL_RANK: 0 - CUDA_VISIBLE_DEVICES: [0,1]\n"
          ]
        },
        {
          "name": "stdout",
          "output_type": "stream",
          "text": [
            "Found pretrained model at ../saved_models/tutorial17/ResNet.ckpt, loading...\n"
          ]
        },
        {
          "name": "stderr",
          "output_type": "stream",
          "text": [
            "/home/phillip/anaconda3/envs/dl2020/lib/python3.7/site-packages/pytorch_lightning/utilities/distributed.py:69: UserWarning: Your test_dataloader has `shuffle=True`, it is best practice to turn this off for val/test/predict dataloaders.\n",
            "  warnings.warn(*args, **kwargs)\n"
          ]
        },
        {
          "data": {
            "application/vnd.jupyter.widget-view+json": {
              "model_id": "31a39a2ecb3342f298f31b6e08bf102a",
              "version_major": 2,
              "version_minor": 0
            },
            "text/plain": [
              "Testing: 0it [00:00, ?it/s]"
            ]
          },
          "metadata": {},
          "output_type": "display_data"
        },
        {
          "name": "stderr",
          "output_type": "stream",
          "text": [
            "LOCAL_RANK: 0 - CUDA_VISIBLE_DEVICES: [0,1]\n"
          ]
        },
        {
          "data": {
            "application/vnd.jupyter.widget-view+json": {
              "model_id": "8fcdce7bf86c4c9780e7c9e01a894e94",
              "version_major": 2,
              "version_minor": 0
            },
            "text/plain": [
              "Testing: 0it [00:00, ?it/s]"
            ]
          },
          "metadata": {},
          "output_type": "display_data"
        },
        {
          "name": "stdout",
          "output_type": "stream",
          "text": [
            "Accuracy on training set: 99.76%\n",
            "Accuracy on test set: 73.31%\n"
          ]
        }
      ],
      "source": [
        "resnet_model, resnet_result = train_resnet(batch_size=64,\n",
        "                                           num_classes=10,\n",
        "                                           lr=1e-3,\n",
        "                                           weight_decay=2e-4,\n",
        "                                           max_epochs=100)\n",
        "print(f\"Accuracy on training set: {100*resnet_result['train']:4.2f}%\")\n",
        "print(f\"Accuracy on test set: {100*resnet_result['test']:4.2f}%\")"
      ]
    },
    {
      "cell_type": "markdown",
      "metadata": {
        "id": "Xc6c36RZ55O7"
      },
      "source": [
        "The ResNet trained from scratch achieves 73.31% on the test set. This is almost 8% less than the contrastive learning model, and even slightly less than SimCLR achieves with 1/10 of the data. This shows that self-supervised, contrastive learning provides considerable performance gains by leveraging large amounts of unlabeled data when little labeled data is available."
      ]
    },
    {
      "cell_type": "markdown",
      "metadata": {
        "id": "Six3Kwsm55O8"
      },
      "source": [
        "## Conclusion\n",
        "\n",
        "In this tutorial, we have discussed self-supervised contrastive learning and implemented SimCLR as an example method. We have applied it to the STL10 dataset and showed that it can learn generalizable representations that we can use to train simple classification models. With 500 images per label, it achieved an 8% higher accuracy than a similar model solely trained from supervision and performs on par with it when only using a tenth of the labeled data. Our experimental results are limited to a single dataset, but recent works such as [Ting Chen et al.](https://arxiv.org/abs/2006.10029) showed similar trends for larger datasets like ImageNet. Besides the discussed hyperparameters, the size of the model seems to be important in contrastive learning as well. If a lot of unlabeled data is available, larger models can achieve much stronger results and come close to their supervised baselines. Further, there are also approaches for combining contrastive and supervised learning, leading to performance gains beyond supervision (see [Khosla et al.](https://arxiv.org/abs/2004.11362)). Moreover, contrastive learning is not the only approach to self-supervised learning that has come up in the last two years and showed great results. Other methods include distillation-based methods like [BYOL](https://arxiv.org/abs/2006.07733) and redundancy reduction techniques like [Barlow Twins](https://arxiv.org/abs/2103.03230). There is a lot more to explore in the self-supervised domain, and more, impressive steps ahead are to be expected.\n",
        "\n",
        "### References\n",
        "\n",
        "[1] Chen, T., Kornblith, S., Norouzi, M., and Hinton, G. (2020). A simple framework for contrastive learning of visual representations. In International Conference on Machine Learning (ICML 2020). PMLR. ([link](https://arxiv.org/abs/2002.05709))\n",
        "\n",
        "[2] Chen, T., Kornblith, S., Swersky, K., Norouzi, M., and Hinton, G. (2020). Big self-supervised models are strong semi-supervised learners. NeurIPS 2021 ([link](https://arxiv.org/abs/2006.10029)).\n",
        "\n",
        "[3] Oord, A. V. D., Li, Y., and Vinyals, O. (2018). Representation learning with contrastive predictive coding. arXiv preprint arXiv:1807.03748. ([link](https://arxiv.org/abs/1807.03748))\n",
        "\n",
        "[4] Grill, J.B., Strub, F., Altché, F., Tallec, C., Richemond, P.H., Buchatskaya, E., Doersch, C., Pires, B.A., Guo, Z.D., Azar, M.G. and Piot, B. (2020). Bootstrap your own latent: A new approach to self-supervised learning. NeurIPS 2020 ([link](https://arxiv.org/abs/2006.07733))\n",
        "\n",
        "[5] Khosla, P., Teterwak, P., Wang, C., Sarna, A., Tian, Y., Isola, P., Maschinot, A., Liu, C. and Krishnan, D. (2020). Supervised contrastive learning. NeurIPS 2020 ([link](https://arxiv.org/abs/2004.11362))\n",
        "\n",
        "[6] Zbontar, J., Jing, L., Misra, I., LeCun, Y. and Deny, S. (2021). Barlow twins: Self-supervised learning via redundancy reduction. In International Conference on Machine Learning (ICML 2021). ([link](https://arxiv.org/abs/2103.03230))"
      ]
    },
    {
      "cell_type": "markdown",
      "metadata": {
        "id": "Q9eDeTDf55O9"
      },
      "source": [
        "---\n",
        "\n",
        "[![Star our repository](https://img.shields.io/static/v1.svg?logo=star&label=⭐&message=Star%20Our%20Repository&color=yellow)](https://github.com/phlippe/uvadlc_notebooks/)  If you found this tutorial helpful, consider ⭐-ing our repository.    \n",
        "[![Ask questions](https://img.shields.io/static/v1.svg?logo=star&label=❔&message=Ask%20Questions&color=9cf)](https://github.com/phlippe/uvadlc_notebooks/issues)  For any questions, typos, or bugs that you found, please raise an issue on GitHub. \n",
        "\n",
        "---"
      ]
    }
  ],
  "metadata": {
    "kernelspec": {
      "display_name": "Python 3",
      "language": "python",
      "name": "python3"
    },
    "language_info": {
      "codemirror_mode": {
        "name": "ipython",
        "version": 3
      },
      "file_extension": ".py",
      "mimetype": "text/x-python",
      "name": "python",
      "nbconvert_exporter": "python",
      "pygments_lexer": "ipython3",
      "version": "3.7.9"
    },
    "colab": {
      "provenance": []
    }
  },
  "nbformat": 4,
  "nbformat_minor": 0
}
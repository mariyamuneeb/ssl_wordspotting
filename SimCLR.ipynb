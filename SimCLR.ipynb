{
  "cells": [
    {
      "cell_type": "markdown",
      "source": [
        "[![Open in Colab](https://colab.research.google.com/assets/colab-badge.svg)](https://colab.research.google.com/github/mariyamuneeb/ssl_wordspotting/blob/main/SimCLR.ipynb)"
      ],
      "metadata": {
        "id": "WTo2r5AV3JkJ"
      }
    },
    {
      "cell_type": "code",
      "source": [
        "import warnings\n",
        "warnings.simplefilter('ignore')\n",
        "import os\n",
        "!git clone https://github.com/mariyamuneeb/ssl_wordspotting\n",
        "os.chdir('/content/ssl_wordspotting')\n",
        "!pip install -qqq wandb\n",
        "\n",
        "from setup_wandb import wandb_login\n",
        "wandb_login()"
      ],
      "metadata": {
        "id": "Ax5lAgzX8VrQ",
        "colab": {
          "base_uri": "https://localhost:8080/"
        },
        "outputId": "210392b1-e9f0-4ff9-cafc-cadc4b456084"
      },
      "execution_count": 1,
      "outputs": [
        {
          "output_type": "stream",
          "name": "stdout",
          "text": [
            "Cloning into 'ssl_wordspotting'...\n",
            "remote: Enumerating objects: 384, done.\u001b[K\n",
            "remote: Counting objects: 100% (103/103), done.\u001b[K\n",
            "remote: Compressing objects: 100% (79/79), done.\u001b[K\n",
            "remote: Total 384 (delta 45), reused 52 (delta 18), pack-reused 281\u001b[K\n",
            "Receiving objects: 100% (384/384), 9.40 MiB | 12.01 MiB/s, done.\n",
            "Resolving deltas: 100% (201/201), done.\n",
            "\u001b[2K     \u001b[90m━━━━━━━━━━━━━━━━━━━━━━━━━━━━━━━━━━━━━━━━\u001b[0m \u001b[32m2.0/2.0 MB\u001b[0m \u001b[31m54.5 MB/s\u001b[0m eta \u001b[36m0:00:00\u001b[0m\n",
            "\u001b[2K     \u001b[90m━━━━━━━━━━━━━━━━━━━━━━━━━━━━━━━━━━━━━━\u001b[0m \u001b[32m184.3/184.3 kB\u001b[0m \u001b[31m19.9 MB/s\u001b[0m eta \u001b[36m0:00:00\u001b[0m\n",
            "\u001b[2K     \u001b[90m━━━━━━━━━━━━━━━━━━━━━━━━━━━━━━━━━━━━━━\u001b[0m \u001b[32m203.3/203.3 kB\u001b[0m \u001b[31m18.4 MB/s\u001b[0m eta \u001b[36m0:00:00\u001b[0m\n",
            "\u001b[?25h  Preparing metadata (setup.py) ... \u001b[?25l\u001b[?25hdone\n",
            "\u001b[2K     \u001b[90m━━━━━━━━━━━━━━━━━━━━━━━━━━━━━━━━━━━━━━━━\u001b[0m \u001b[32m62.7/62.7 kB\u001b[0m \u001b[31m8.2 MB/s\u001b[0m eta \u001b[36m0:00:00\u001b[0m\n",
            "\u001b[?25h  Building wheel for pathtools (setup.py) ... \u001b[?25l\u001b[?25hdone\n",
            "/content/ssl_wordspotting\n",
            "Mounted at /content/drive\n",
            "Drive already mounted at /content/drive; to attempt to forcibly remount, call drive.mount(\"/content/drive\", force_remount=True).\n"
          ]
        },
        {
          "output_type": "stream",
          "name": "stderr",
          "text": [
            "\u001b[34m\u001b[1mwandb\u001b[0m: W&B API key is configured. Use \u001b[1m`wandb login --relogin`\u001b[0m to force relogin\n",
            "\u001b[34m\u001b[1mwandb\u001b[0m: \u001b[33mWARNING\u001b[0m If you're specifying your api key in code, ensure this code is not shared publicly.\n",
            "\u001b[34m\u001b[1mwandb\u001b[0m: \u001b[33mWARNING\u001b[0m Consider setting the WANDB_API_KEY environment variable, or running `wandb login` from the command line.\n",
            "\u001b[34m\u001b[1mwandb\u001b[0m: Appending key for api.wandb.ai to your netrc file: /root/.netrc\n"
          ]
        }
      ]
    },
    {
      "cell_type": "code",
      "source": [
        "from data_utils.utils import copy_iam_dataset_to_colab\n",
        "copy_iam_dataset_to_colab()"
      ],
      "metadata": {
        "id": "jTXKgqgsBT7O",
        "colab": {
          "base_uri": "https://localhost:8080/"
        },
        "outputId": "5a4485d6-2105-4989-d923-cf03cceaf3c3"
      },
      "execution_count": 2,
      "outputs": [
        {
          "output_type": "stream",
          "name": "stdout",
          "text": [
            "Copying IAM Dataset from GDrive\n",
            "Drive already mounted at /content/drive; to attempt to forcibly remount, call drive.mount(\"/content/drive\", force_remount=True).\n",
            "/content/ssl_wordspotting/data/IAM_HW/words.tgz now copied\n",
            "/content/ssl_wordspotting/data/IAM_HW/xml.tgz now copied\n",
            "/content/ssl_wordspotting/data/IAM_HW/rules.zip now copied\n",
            "Copied IAM HW Files\n"
          ]
        }
      ]
    },
    {
      "cell_type": "code",
      "execution_count": 20,
      "metadata": {
        "id": "C20nZuTc55OE",
        "colab": {
          "base_uri": "https://localhost:8080/",
          "height": 124
        },
        "outputId": "896218d1-15f9-42f1-9806-f7adee7f0462"
      },
      "outputs": [
        {
          "output_type": "stream",
          "name": "stderr",
          "text": [
            "INFO:lightning_fabric.utilities.seed:Global seed set to 42\n"
          ]
        },
        {
          "output_type": "stream",
          "name": "stdout",
          "text": [
            "The tensorboard extension is already loaded. To reload it, use:\n",
            "  %reload_ext tensorboard\n",
            "Device: cpu\n",
            "Number of workers: 2\n"
          ]
        },
        {
          "output_type": "display_data",
          "data": {
            "text/plain": [
              "<Figure size 640x480 with 0 Axes>"
            ]
          },
          "metadata": {}
        }
      ],
      "source": [
        "## Standard libraries\n",
        "import os\n",
        "from copy import deepcopy\n",
        "\n",
        "## Imports for plotting\n",
        "import matplotlib.pyplot as plt\n",
        "plt.set_cmap('cividis')\n",
        "%matplotlib inline\n",
        "from IPython.display import set_matplotlib_formats\n",
        "set_matplotlib_formats('svg', 'pdf') # For export\n",
        "import matplotlib\n",
        "matplotlib.rcParams['lines.linewidth'] = 2.0\n",
        "import seaborn as sns\n",
        "sns.set()\n",
        "\n",
        "## tqdm for loading bars\n",
        "from tqdm.notebook import tqdm\n",
        "\n",
        "## PyTorch\n",
        "import torch\n",
        "import torch.nn as nn\n",
        "import torch.nn.functional as F\n",
        "import torch.utils.data as data\n",
        "import torch.optim as optim\n",
        "\n",
        "## Torchvision\n",
        "import torchvision\n",
        "from torchvision.datasets import STL10\n",
        "from torchvision import transforms\n",
        "\n",
        "# PyTorch Lightning\n",
        "try:\n",
        "    import pytorch_lightning as pl\n",
        "except ModuleNotFoundError: # Google Colab does not have PyTorch Lightning installed by default. Hence, we do it here if necessary\n",
        "    !pip install --quiet pytorch-lightning>=1.4\n",
        "    import pytorch_lightning as pl\n",
        "from pytorch_lightning.callbacks import LearningRateMonitor, ModelCheckpoint\n",
        "\n",
        "# Import tensorboard\n",
        "%load_ext tensorboard\n",
        "\n",
        "# Path to the folder where the datasets are/should be downloaded (e.g. CIFAR10)\n",
        "DATASET_PATH = \"../data\"\n",
        "# Path to the folder where the pretrained models are saved\n",
        "CHECKPOINT_PATH = \"../saved_models/tutorial17\"\n",
        "# In this notebook, we use data loaders with heavier computational processing. It is recommended to use as many\n",
        "# workers as possible in a data loader, which corresponds to the number of CPU cores\n",
        "NUM_WORKERS = os.cpu_count()\n",
        "\n",
        "# Setting the seed\n",
        "pl.seed_everything(42)\n",
        "\n",
        "# Ensure that all operations are deterministic on GPU (if used) for reproducibility\n",
        "torch.backends.cudnn.deterministic = True\n",
        "torch.backends.cudnn.benchmark = False\n",
        "\n",
        "device = torch.device(\"cuda:0\") if torch.cuda.is_available() else torch.device(\"cpu\")\n",
        "print(\"Device:\", device)\n",
        "print(\"Number of workers:\", NUM_WORKERS)"
      ]
    },
    {
      "cell_type": "code",
      "source": [],
      "metadata": {
        "id": "axZVKcFg8U2Y"
      },
      "execution_count": null,
      "outputs": []
    },
    {
      "cell_type": "markdown",
      "metadata": {
        "id": "p-0UOTza55OJ"
      },
      "source": [
        "## Loading Pretrained Resnet 18 Model"
      ]
    },
    {
      "cell_type": "code",
      "execution_count": 21,
      "metadata": {
        "id": "uSClUcJL55OK"
      },
      "outputs": [],
      "source": [
        "import urllib.request\n",
        "from urllib.error import HTTPError\n",
        "# Github URL where saved models are stored for this tutorial\n",
        "base_url = \"https://raw.githubusercontent.com/phlippe/saved_models/main/tutorial17/\"\n",
        "# Files to download\n",
        "pretrained_files = [\"SimCLR.ckpt\", \"ResNet.ckpt\",\n",
        "                    \"tensorboards/SimCLR/events.out.tfevents.SimCLR\",\n",
        "                    \"tensorboards/classification/ResNet/events.out.tfevents.ResNet\"]\n",
        "pretrained_files += [f\"LogisticRegression_{size}.ckpt\" for size in [10, 20, 50, 100, 200, 500]]\n",
        "# Create checkpoint path if it doesn't exist yet\n",
        "os.makedirs(CHECKPOINT_PATH, exist_ok=True)\n",
        "\n",
        "# For each file, check whether it already exists. If not, try downloading it.\n",
        "for file_name in pretrained_files:\n",
        "    file_path = os.path.join(CHECKPOINT_PATH, file_name)\n",
        "    if \"/\" in file_name:\n",
        "        os.makedirs(file_path.rsplit(\"/\",1)[0], exist_ok=True)\n",
        "    if not os.path.isfile(file_path):\n",
        "        file_url = base_url + file_name\n",
        "        print(f\"Downloading {file_url}...\")\n",
        "        try:\n",
        "            urllib.request.urlretrieve(file_url, file_path)\n",
        "        except HTTPError as e:\n",
        "            print(\"Something went wrong. Please try to download the file from the GDrive folder, or contact the author with the full output including the following error:\\n\", e)"
      ]
    },
    {
      "cell_type": "markdown",
      "metadata": {
        "id": "UPO1o6Za55OM"
      },
      "source": [
        "## SimCLR"
      ]
    },
    {
      "cell_type": "markdown",
      "metadata": {
        "id": "01-QUPOr55OM"
      },
      "source": [
        "### Loading Dataset & Data Augmentation for Contrastive Learning\n"
      ]
    },
    {
      "cell_type": "code",
      "execution_count": 22,
      "metadata": {
        "id": "lrnlNY_a55OO"
      },
      "outputs": [],
      "source": [
        "class ContrastiveTransformations(object):\n",
        "    \n",
        "    def __init__(self, base_transforms, n_views=2):\n",
        "        self.base_transforms = base_transforms\n",
        "        self.n_views = n_views\n",
        "        \n",
        "    def __call__(self, x):\n",
        "        return [self.base_transforms(x) for i in range(self.n_views)]"
      ]
    },
    {
      "cell_type": "code",
      "execution_count": 46,
      "metadata": {
        "id": "WJGQmChC55OS"
      },
      "outputs": [],
      "source": [
        "resize_size = (128,128)\n",
        "contrast_transforms = transforms.Compose([                                        \n",
        "                                        #   transforms.RandomHorizontalFlip(),\n",
        "                                        #   transforms.RandomResizedCrop(scale=(0.8, 1.0),size=resize_size),\n",
        "                                            transforms.Resize(resize_size),\n",
        "                                          transforms.RandomApply([\n",
        "                                          transforms.ColorJitter(brightness=0.5, \n",
        "                                                                     contrast=0.5, \n",
        "                                                                     saturation=0.5, \n",
        "                                                                     hue=0.1)\n",
        "                                          ], p=0.8),\n",
        "                                          \n",
        "                                          transforms.GaussianBlur(kernel_size=9),\n",
        "                                          transforms.ToTensor(),\n",
        "                                          transforms.Normalize((0.5,), (0.5,))\n",
        "                                         ])\n",
        "\n",
        "\n",
        "test_transform = transforms.Compose([transforms.ToTensor(),\n",
        "                                     transforms.Resize(resize_size),])"
      ]
    },
    {
      "cell_type": "code",
      "execution_count": null,
      "metadata": {
        "id": "q8u3af4M55OW"
      },
      "outputs": [],
      "source": [
        "unlabeled_data = STL10(root=DATASET_PATH, split='unlabeled', download=True, \n",
        "                       transform=ContrastiveTransformations(contrast_transforms, n_views=2))\n",
        "train_data_contrast = STL10(root=DATASET_PATH, split='train', download=True, \n",
        "                            transform=ContrastiveTransformations(contrast_transforms, n_views=2))"
      ]
    },
    {
      "cell_type": "code",
      "source": [
        "from models.dataset import IAMDataset2,IAMDataset,IAMSubset\n",
        "from models.layers import VariationalEncoder,Decoder\n",
        "from experiment_utils.utils import train_epoch,test_epoch\n",
        "from PIL import Image\n",
        "from math import floor\n",
        "from statistics import mean"
      ],
      "metadata": {
        "id": "P1hWW9959n3l"
      },
      "execution_count": 24,
      "outputs": []
    },
    {
      "cell_type": "code",
      "source": [],
      "metadata": {
        "id": "PzG26shs9JX5"
      },
      "execution_count": null,
      "outputs": []
    },
    {
      "cell_type": "markdown",
      "source": [],
      "metadata": {
        "id": "5rqbtVJyvRAA"
      }
    },
    {
      "cell_type": "code",
      "source": [
        "iam_train_dataset = IAMDataset2('train')\n",
        "iam_test_dataset = IAMDataset2('test')"
      ],
      "metadata": {
        "id": "Mhmibu3d9ynZ"
      },
      "execution_count": 25,
      "outputs": []
    },
    {
      "cell_type": "code",
      "source": [
        "cc = ContrastiveTransformations(contrast_transforms, n_views=2)\n",
        "cc(1)"
      ],
      "metadata": {
        "colab": {
          "base_uri": "https://localhost:8080/",
          "height": 336
        },
        "id": "UtZcs1edDXdw",
        "outputId": "e466def7-1b14-4c7e-f1ca-18436507a834"
      },
      "execution_count": 26,
      "outputs": [
        {
          "output_type": "error",
          "ename": "TypeError",
          "evalue": "ignored",
          "traceback": [
            "\u001b[0;31m---------------------------------------------------------------------------\u001b[0m",
            "\u001b[0;31mTypeError\u001b[0m                                 Traceback (most recent call last)",
            "\u001b[0;32m<ipython-input-26-c5d28ba4b9e2>\u001b[0m in \u001b[0;36m<cell line: 2>\u001b[0;34m()\u001b[0m\n\u001b[1;32m      1\u001b[0m \u001b[0mcc\u001b[0m \u001b[0;34m=\u001b[0m \u001b[0mContrastiveTransformations\u001b[0m\u001b[0;34m(\u001b[0m\u001b[0mcontrast_transforms\u001b[0m\u001b[0;34m,\u001b[0m \u001b[0mn_views\u001b[0m\u001b[0;34m=\u001b[0m\u001b[0;36m2\u001b[0m\u001b[0;34m)\u001b[0m\u001b[0;34m\u001b[0m\u001b[0;34m\u001b[0m\u001b[0m\n\u001b[0;32m----> 2\u001b[0;31m \u001b[0mcc\u001b[0m\u001b[0;34m(\u001b[0m\u001b[0;36m1\u001b[0m\u001b[0;34m)\u001b[0m\u001b[0;34m\u001b[0m\u001b[0;34m\u001b[0m\u001b[0m\n\u001b[0m",
            "\u001b[0;32m<ipython-input-22-270c058a1f09>\u001b[0m in \u001b[0;36m__call__\u001b[0;34m(self, x)\u001b[0m\n\u001b[1;32m      6\u001b[0m \u001b[0;34m\u001b[0m\u001b[0m\n\u001b[1;32m      7\u001b[0m     \u001b[0;32mdef\u001b[0m \u001b[0m__call__\u001b[0m\u001b[0;34m(\u001b[0m\u001b[0mself\u001b[0m\u001b[0;34m,\u001b[0m \u001b[0mx\u001b[0m\u001b[0;34m)\u001b[0m\u001b[0;34m:\u001b[0m\u001b[0;34m\u001b[0m\u001b[0;34m\u001b[0m\u001b[0m\n\u001b[0;32m----> 8\u001b[0;31m         \u001b[0;32mreturn\u001b[0m \u001b[0;34m[\u001b[0m\u001b[0mself\u001b[0m\u001b[0;34m.\u001b[0m\u001b[0mbase_transforms\u001b[0m\u001b[0;34m(\u001b[0m\u001b[0mx\u001b[0m\u001b[0;34m)\u001b[0m \u001b[0;32mfor\u001b[0m \u001b[0mi\u001b[0m \u001b[0;32min\u001b[0m \u001b[0mrange\u001b[0m\u001b[0;34m(\u001b[0m\u001b[0mself\u001b[0m\u001b[0;34m.\u001b[0m\u001b[0mn_views\u001b[0m\u001b[0;34m)\u001b[0m\u001b[0;34m]\u001b[0m\u001b[0;34m\u001b[0m\u001b[0;34m\u001b[0m\u001b[0m\n\u001b[0m",
            "\u001b[0;32m<ipython-input-22-270c058a1f09>\u001b[0m in \u001b[0;36m<listcomp>\u001b[0;34m(.0)\u001b[0m\n\u001b[1;32m      6\u001b[0m \u001b[0;34m\u001b[0m\u001b[0m\n\u001b[1;32m      7\u001b[0m     \u001b[0;32mdef\u001b[0m \u001b[0m__call__\u001b[0m\u001b[0;34m(\u001b[0m\u001b[0mself\u001b[0m\u001b[0;34m,\u001b[0m \u001b[0mx\u001b[0m\u001b[0;34m)\u001b[0m\u001b[0;34m:\u001b[0m\u001b[0;34m\u001b[0m\u001b[0;34m\u001b[0m\u001b[0m\n\u001b[0;32m----> 8\u001b[0;31m         \u001b[0;32mreturn\u001b[0m \u001b[0;34m[\u001b[0m\u001b[0mself\u001b[0m\u001b[0;34m.\u001b[0m\u001b[0mbase_transforms\u001b[0m\u001b[0;34m(\u001b[0m\u001b[0mx\u001b[0m\u001b[0;34m)\u001b[0m \u001b[0;32mfor\u001b[0m \u001b[0mi\u001b[0m \u001b[0;32min\u001b[0m \u001b[0mrange\u001b[0m\u001b[0;34m(\u001b[0m\u001b[0mself\u001b[0m\u001b[0;34m.\u001b[0m\u001b[0mn_views\u001b[0m\u001b[0;34m)\u001b[0m\u001b[0;34m]\u001b[0m\u001b[0;34m\u001b[0m\u001b[0;34m\u001b[0m\u001b[0m\n\u001b[0m",
            "\u001b[0;32m/usr/local/lib/python3.10/dist-packages/torchvision/transforms/transforms.py\u001b[0m in \u001b[0;36m__call__\u001b[0;34m(self, img)\u001b[0m\n\u001b[1;32m     93\u001b[0m     \u001b[0;32mdef\u001b[0m \u001b[0m__call__\u001b[0m\u001b[0;34m(\u001b[0m\u001b[0mself\u001b[0m\u001b[0;34m,\u001b[0m \u001b[0mimg\u001b[0m\u001b[0;34m)\u001b[0m\u001b[0;34m:\u001b[0m\u001b[0;34m\u001b[0m\u001b[0;34m\u001b[0m\u001b[0m\n\u001b[1;32m     94\u001b[0m         \u001b[0;32mfor\u001b[0m \u001b[0mt\u001b[0m \u001b[0;32min\u001b[0m \u001b[0mself\u001b[0m\u001b[0;34m.\u001b[0m\u001b[0mtransforms\u001b[0m\u001b[0;34m:\u001b[0m\u001b[0;34m\u001b[0m\u001b[0;34m\u001b[0m\u001b[0m\n\u001b[0;32m---> 95\u001b[0;31m             \u001b[0mimg\u001b[0m \u001b[0;34m=\u001b[0m \u001b[0mt\u001b[0m\u001b[0;34m(\u001b[0m\u001b[0mimg\u001b[0m\u001b[0;34m)\u001b[0m\u001b[0;34m\u001b[0m\u001b[0;34m\u001b[0m\u001b[0m\n\u001b[0m\u001b[1;32m     96\u001b[0m         \u001b[0;32mreturn\u001b[0m \u001b[0mimg\u001b[0m\u001b[0;34m\u001b[0m\u001b[0;34m\u001b[0m\u001b[0m\n\u001b[1;32m     97\u001b[0m \u001b[0;34m\u001b[0m\u001b[0m\n",
            "\u001b[0;32m/usr/local/lib/python3.10/dist-packages/torch/nn/modules/module.py\u001b[0m in \u001b[0;36m_call_impl\u001b[0;34m(self, *args, **kwargs)\u001b[0m\n\u001b[1;32m   1499\u001b[0m                 \u001b[0;32mor\u001b[0m \u001b[0m_global_backward_pre_hooks\u001b[0m \u001b[0;32mor\u001b[0m \u001b[0m_global_backward_hooks\u001b[0m\u001b[0;34m\u001b[0m\u001b[0;34m\u001b[0m\u001b[0m\n\u001b[1;32m   1500\u001b[0m                 or _global_forward_hooks or _global_forward_pre_hooks):\n\u001b[0;32m-> 1501\u001b[0;31m             \u001b[0;32mreturn\u001b[0m \u001b[0mforward_call\u001b[0m\u001b[0;34m(\u001b[0m\u001b[0;34m*\u001b[0m\u001b[0margs\u001b[0m\u001b[0;34m,\u001b[0m \u001b[0;34m**\u001b[0m\u001b[0mkwargs\u001b[0m\u001b[0;34m)\u001b[0m\u001b[0;34m\u001b[0m\u001b[0;34m\u001b[0m\u001b[0m\n\u001b[0m\u001b[1;32m   1502\u001b[0m         \u001b[0;31m# Do not call functions when jit is used\u001b[0m\u001b[0;34m\u001b[0m\u001b[0;34m\u001b[0m\u001b[0m\n\u001b[1;32m   1503\u001b[0m         \u001b[0mfull_backward_hooks\u001b[0m\u001b[0;34m,\u001b[0m \u001b[0mnon_full_backward_hooks\u001b[0m \u001b[0;34m=\u001b[0m \u001b[0;34m[\u001b[0m\u001b[0;34m]\u001b[0m\u001b[0;34m,\u001b[0m \u001b[0;34m[\u001b[0m\u001b[0;34m]\u001b[0m\u001b[0;34m\u001b[0m\u001b[0;34m\u001b[0m\u001b[0m\n",
            "\u001b[0;32m/usr/local/lib/python3.10/dist-packages/torchvision/transforms/transforms.py\u001b[0m in \u001b[0;36mforward\u001b[0;34m(self, img)\u001b[0m\n\u001b[1;32m    977\u001b[0m             \u001b[0mPIL\u001b[0m \u001b[0mImage\u001b[0m \u001b[0;32mor\u001b[0m \u001b[0mTensor\u001b[0m\u001b[0;34m:\u001b[0m \u001b[0mRandomly\u001b[0m \u001b[0mcropped\u001b[0m \u001b[0;32mand\u001b[0m \u001b[0mresized\u001b[0m \u001b[0mimage\u001b[0m\u001b[0;34m.\u001b[0m\u001b[0;34m\u001b[0m\u001b[0;34m\u001b[0m\u001b[0m\n\u001b[1;32m    978\u001b[0m         \"\"\"\n\u001b[0;32m--> 979\u001b[0;31m         \u001b[0mi\u001b[0m\u001b[0;34m,\u001b[0m \u001b[0mj\u001b[0m\u001b[0;34m,\u001b[0m \u001b[0mh\u001b[0m\u001b[0;34m,\u001b[0m \u001b[0mw\u001b[0m \u001b[0;34m=\u001b[0m \u001b[0mself\u001b[0m\u001b[0;34m.\u001b[0m\u001b[0mget_params\u001b[0m\u001b[0;34m(\u001b[0m\u001b[0mimg\u001b[0m\u001b[0;34m,\u001b[0m \u001b[0mself\u001b[0m\u001b[0;34m.\u001b[0m\u001b[0mscale\u001b[0m\u001b[0;34m,\u001b[0m \u001b[0mself\u001b[0m\u001b[0;34m.\u001b[0m\u001b[0mratio\u001b[0m\u001b[0;34m)\u001b[0m\u001b[0;34m\u001b[0m\u001b[0;34m\u001b[0m\u001b[0m\n\u001b[0m\u001b[1;32m    980\u001b[0m         \u001b[0;32mreturn\u001b[0m \u001b[0mF\u001b[0m\u001b[0;34m.\u001b[0m\u001b[0mresized_crop\u001b[0m\u001b[0;34m(\u001b[0m\u001b[0mimg\u001b[0m\u001b[0;34m,\u001b[0m \u001b[0mi\u001b[0m\u001b[0;34m,\u001b[0m \u001b[0mj\u001b[0m\u001b[0;34m,\u001b[0m \u001b[0mh\u001b[0m\u001b[0;34m,\u001b[0m \u001b[0mw\u001b[0m\u001b[0;34m,\u001b[0m \u001b[0mself\u001b[0m\u001b[0;34m.\u001b[0m\u001b[0msize\u001b[0m\u001b[0;34m,\u001b[0m \u001b[0mself\u001b[0m\u001b[0;34m.\u001b[0m\u001b[0minterpolation\u001b[0m\u001b[0;34m,\u001b[0m \u001b[0mantialias\u001b[0m\u001b[0;34m=\u001b[0m\u001b[0mself\u001b[0m\u001b[0;34m.\u001b[0m\u001b[0mantialias\u001b[0m\u001b[0;34m)\u001b[0m\u001b[0;34m\u001b[0m\u001b[0;34m\u001b[0m\u001b[0m\n\u001b[1;32m    981\u001b[0m \u001b[0;34m\u001b[0m\u001b[0m\n",
            "\u001b[0;32m/usr/local/lib/python3.10/dist-packages/torchvision/transforms/transforms.py\u001b[0m in \u001b[0;36mget_params\u001b[0;34m(img, scale, ratio)\u001b[0m\n\u001b[1;32m    938\u001b[0m             \u001b[0msized\u001b[0m \u001b[0mcrop\u001b[0m\u001b[0;34m.\u001b[0m\u001b[0;34m\u001b[0m\u001b[0;34m\u001b[0m\u001b[0m\n\u001b[1;32m    939\u001b[0m         \"\"\"\n\u001b[0;32m--> 940\u001b[0;31m         \u001b[0m_\u001b[0m\u001b[0;34m,\u001b[0m \u001b[0mheight\u001b[0m\u001b[0;34m,\u001b[0m \u001b[0mwidth\u001b[0m \u001b[0;34m=\u001b[0m \u001b[0mF\u001b[0m\u001b[0;34m.\u001b[0m\u001b[0mget_dimensions\u001b[0m\u001b[0;34m(\u001b[0m\u001b[0mimg\u001b[0m\u001b[0;34m)\u001b[0m\u001b[0;34m\u001b[0m\u001b[0;34m\u001b[0m\u001b[0m\n\u001b[0m\u001b[1;32m    941\u001b[0m         \u001b[0marea\u001b[0m \u001b[0;34m=\u001b[0m \u001b[0mheight\u001b[0m \u001b[0;34m*\u001b[0m \u001b[0mwidth\u001b[0m\u001b[0;34m\u001b[0m\u001b[0;34m\u001b[0m\u001b[0m\n\u001b[1;32m    942\u001b[0m \u001b[0;34m\u001b[0m\u001b[0m\n",
            "\u001b[0;32m/usr/local/lib/python3.10/dist-packages/torchvision/transforms/functional.py\u001b[0m in \u001b[0;36mget_dimensions\u001b[0;34m(img)\u001b[0m\n\u001b[1;32m     76\u001b[0m         \u001b[0;32mreturn\u001b[0m \u001b[0mF_t\u001b[0m\u001b[0;34m.\u001b[0m\u001b[0mget_dimensions\u001b[0m\u001b[0;34m(\u001b[0m\u001b[0mimg\u001b[0m\u001b[0;34m)\u001b[0m\u001b[0;34m\u001b[0m\u001b[0;34m\u001b[0m\u001b[0m\n\u001b[1;32m     77\u001b[0m \u001b[0;34m\u001b[0m\u001b[0m\n\u001b[0;32m---> 78\u001b[0;31m     \u001b[0;32mreturn\u001b[0m \u001b[0mF_pil\u001b[0m\u001b[0;34m.\u001b[0m\u001b[0mget_dimensions\u001b[0m\u001b[0;34m(\u001b[0m\u001b[0mimg\u001b[0m\u001b[0;34m)\u001b[0m\u001b[0;34m\u001b[0m\u001b[0;34m\u001b[0m\u001b[0m\n\u001b[0m\u001b[1;32m     79\u001b[0m \u001b[0;34m\u001b[0m\u001b[0m\n\u001b[1;32m     80\u001b[0m \u001b[0;34m\u001b[0m\u001b[0m\n",
            "\u001b[0;32m/usr/local/lib/python3.10/dist-packages/torchvision/transforms/_functional_pil.py\u001b[0m in \u001b[0;36mget_dimensions\u001b[0;34m(img)\u001b[0m\n\u001b[1;32m     29\u001b[0m         \u001b[0mwidth\u001b[0m\u001b[0;34m,\u001b[0m \u001b[0mheight\u001b[0m \u001b[0;34m=\u001b[0m \u001b[0mimg\u001b[0m\u001b[0;34m.\u001b[0m\u001b[0msize\u001b[0m\u001b[0;34m\u001b[0m\u001b[0;34m\u001b[0m\u001b[0m\n\u001b[1;32m     30\u001b[0m         \u001b[0;32mreturn\u001b[0m \u001b[0;34m[\u001b[0m\u001b[0mchannels\u001b[0m\u001b[0;34m,\u001b[0m \u001b[0mheight\u001b[0m\u001b[0;34m,\u001b[0m \u001b[0mwidth\u001b[0m\u001b[0;34m]\u001b[0m\u001b[0;34m\u001b[0m\u001b[0;34m\u001b[0m\u001b[0m\n\u001b[0;32m---> 31\u001b[0;31m     \u001b[0;32mraise\u001b[0m \u001b[0mTypeError\u001b[0m\u001b[0;34m(\u001b[0m\u001b[0;34mf\"Unexpected type {type(img)}\"\u001b[0m\u001b[0;34m)\u001b[0m\u001b[0;34m\u001b[0m\u001b[0;34m\u001b[0m\u001b[0m\n\u001b[0m\u001b[1;32m     32\u001b[0m \u001b[0;34m\u001b[0m\u001b[0m\n\u001b[1;32m     33\u001b[0m \u001b[0;34m\u001b[0m\u001b[0m\n",
            "\u001b[0;31mTypeError\u001b[0m: Unexpected type <class 'int'>"
          ]
        }
      ]
    },
    {
      "cell_type": "code",
      "source": [
        "iam_train_dataset.transform = ContrastiveTransformations(contrast_transforms, n_views=2)\n",
        "iam_test_dataset.transform =  ContrastiveTransformations(contrast_transforms, n_views=2)"
      ],
      "metadata": {
        "id": "fAjKN0-r2OkU"
      },
      "execution_count": 40,
      "outputs": []
    },
    {
      "cell_type": "code",
      "source": [
        "subset_iam_train_dataset = IAMSubset().subset(iam_train_dataset,0.2)\n",
        "subset_iam_test_dataset = IAMSubset().subset(iam_test_dataset,0.2)"
      ],
      "metadata": {
        "id": "wRAy2gm_9rSM"
      },
      "execution_count": 48,
      "outputs": []
    },
    {
      "cell_type": "code",
      "source": [
        "# subset_iam_train_dataset.transform = ContrastiveTransformations(contrast_transforms, n_views=2)\n",
        "# subset_iam_test_dataset = ContrastiveTransformations(contrast_transforms, n_views=2)"
      ],
      "metadata": {
        "id": "zWJ4NK7O1naH"
      },
      "execution_count": null,
      "outputs": []
    },
    {
      "cell_type": "code",
      "source": [
        "subset_iam_train_dataset[1][1]"
      ],
      "metadata": {
        "id": "uJuo8ooUv-A3",
        "colab": {
          "base_uri": "https://localhost:8080/"
        },
        "outputId": "46d918b8-16fd-419e-8105-784728907fe4"
      },
      "execution_count": 42,
      "outputs": [
        {
          "output_type": "execute_result",
          "data": {
            "text/plain": [
              "[tensor([[[1., 1., 1.,  ..., 1., 1., 1.],\n",
              "          [1., 1., 1.,  ..., 1., 1., 1.],\n",
              "          [1., 1., 1.,  ..., 1., 1., 1.],\n",
              "          ...,\n",
              "          [1., 1., 1.,  ..., 1., 1., 1.],\n",
              "          [1., 1., 1.,  ..., 1., 1., 1.],\n",
              "          [1., 1., 1.,  ..., 1., 1., 1.]]]),\n",
              " tensor([[[1., 1., 1.,  ..., 1., 1., 1.],\n",
              "          [1., 1., 1.,  ..., 1., 1., 1.],\n",
              "          [1., 1., 1.,  ..., 1., 1., 1.],\n",
              "          ...,\n",
              "          [1., 1., 1.,  ..., 1., 1., 1.],\n",
              "          [1., 1., 1.,  ..., 1., 1., 1.],\n",
              "          [1., 1., 1.,  ..., 1., 1., 1.]]])]"
            ]
          },
          "metadata": {},
          "execution_count": 42
        }
      ]
    },
    {
      "cell_type": "code",
      "execution_count": 49,
      "metadata": {
        "id": "he3ZK9iz55OY",
        "colab": {
          "base_uri": "https://localhost:8080/",
          "height": 327
        },
        "outputId": "f2a12be4-d055-4184-a8a9-57e3226af6c2"
      },
      "outputs": [
        {
          "output_type": "stream",
          "name": "stdout",
          "text": [
            "['nominating', 'tomorrow', 'on', 'M P', 'a', 'and']\n"
          ]
        },
        {
          "output_type": "display_data",
          "data": {
            "text/plain": [
              "<Figure size 1000x500 with 1 Axes>"
            ],
            "image/svg+xml": "<?xml version=\"1.0\" encoding=\"utf-8\" standalone=\"no\"?>\n<!DOCTYPE svg PUBLIC \"-//W3C//DTD SVG 1.1//EN\"\n  \"http://www.w3.org/Graphics/SVG/1.1/DTD/svg11.dtd\">\n<svg xmlns:xlink=\"http://www.w3.org/1999/xlink\" width=\"572.4pt\" height=\"216.469532pt\" viewBox=\"0 0 572.4 216.469532\" xmlns=\"http://www.w3.org/2000/svg\" version=\"1.1\">\n <metadata>\n  <rdf:RDF xmlns:dc=\"http://purl.org/dc/elements/1.1/\" xmlns:cc=\"http://creativecommons.org/ns#\" xmlns:rdf=\"http://www.w3.org/1999/02/22-rdf-syntax-ns#\">\n   <cc:Work>\n    <dc:type rdf:resource=\"http://purl.org/dc/dcmitype/StillImage\"/>\n    <dc:date>2023-05-13T08:20:50.404814</dc:date>\n    <dc:format>image/svg+xml</dc:format>\n    <dc:creator>\n     <cc:Agent>\n      <dc:title>Matplotlib v3.7.1, https://matplotlib.org/</dc:title>\n     </cc:Agent>\n    </dc:creator>\n   </cc:Work>\n  </rdf:RDF>\n </metadata>\n <defs>\n  <style type=\"text/css\">*{stroke-linejoin: round; stroke-linecap: butt}</style>\n </defs>\n <g id=\"figure_1\">\n  <g id=\"patch_1\">\n   <path d=\"M 0 216.469532 \nL 572.4 216.469532 \nL 572.4 0 \nL 0 0 \nz\n\" style=\"fill: #ffffff\"/>\n  </g>\n  <g id=\"axes_1\">\n   <g clip-path=\"url(#pcd66346095)\">\n    <image xlink:href=\"data:image/png;base64,\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\" id=\"image194fb43a2c\" transform=\"scale(1 -1) translate(0 -187.2)\" x=\"7.2\" y=\"-22.069532\" width=\"558\" height=\"187.2\"/>\n   </g>\n   <g id=\"text_1\">\n    <!-- Augmented image examples of the IAM HW dataset -->\n    <g style=\"fill: #262626\" transform=\"translate(130.491562 16.318125) scale(0.12 -0.12)\">\n     <defs>\n      <path id=\"DejaVuSans-41\" d=\"M 2188 4044 \nL 1331 1722 \nL 3047 1722 \nL 2188 4044 \nz\nM 1831 4666 \nL 2547 4666 \nL 4325 0 \nL 3669 0 \nL 3244 1197 \nL 1141 1197 \nL 716 0 \nL 50 0 \nL 1831 4666 \nz\n\" transform=\"scale(0.015625)\"/>\n      <path id=\"DejaVuSans-75\" d=\"M 544 1381 \nL 544 3500 \nL 1119 3500 \nL 1119 1403 \nQ 1119 906 1312 657 \nQ 1506 409 1894 409 \nQ 2359 409 2629 706 \nQ 2900 1003 2900 1516 \nL 2900 3500 \nL 3475 3500 \nL 3475 0 \nL 2900 0 \nL 2900 538 \nQ 2691 219 2414 64 \nQ 2138 -91 1772 -91 \nQ 1169 -91 856 284 \nQ 544 659 544 1381 \nz\nM 1991 3584 \nL 1991 3584 \nz\n\" transform=\"scale(0.015625)\"/>\n      <path id=\"DejaVuSans-67\" d=\"M 2906 1791 \nQ 2906 2416 2648 2759 \nQ 2391 3103 1925 3103 \nQ 1463 3103 1205 2759 \nQ 947 2416 947 1791 \nQ 947 1169 1205 825 \nQ 1463 481 1925 481 \nQ 2391 481 2648 825 \nQ 2906 1169 2906 1791 \nz\nM 3481 434 \nQ 3481 -459 3084 -895 \nQ 2688 -1331 1869 -1331 \nQ 1566 -1331 1297 -1286 \nQ 1028 -1241 775 -1147 \nL 775 -588 \nQ 1028 -725 1275 -790 \nQ 1522 -856 1778 -856 \nQ 2344 -856 2625 -561 \nQ 2906 -266 2906 331 \nL 2906 616 \nQ 2728 306 2450 153 \nQ 2172 0 1784 0 \nQ 1141 0 747 490 \nQ 353 981 353 1791 \nQ 353 2603 747 3093 \nQ 1141 3584 1784 3584 \nQ 2172 3584 2450 3431 \nQ 2728 3278 2906 2969 \nL 2906 3500 \nL 3481 3500 \nL 3481 434 \nz\n\" transform=\"scale(0.015625)\"/>\n      <path id=\"DejaVuSans-6d\" d=\"M 3328 2828 \nQ 3544 3216 3844 3400 \nQ 4144 3584 4550 3584 \nQ 5097 3584 5394 3201 \nQ 5691 2819 5691 2113 \nL 5691 0 \nL 5113 0 \nL 5113 2094 \nQ 5113 2597 4934 2840 \nQ 4756 3084 4391 3084 \nQ 3944 3084 3684 2787 \nQ 3425 2491 3425 1978 \nL 3425 0 \nL 2847 0 \nL 2847 2094 \nQ 2847 2600 2669 2842 \nQ 2491 3084 2119 3084 \nQ 1678 3084 1418 2786 \nQ 1159 2488 1159 1978 \nL 1159 0 \nL 581 0 \nL 581 3500 \nL 1159 3500 \nL 1159 2956 \nQ 1356 3278 1631 3431 \nQ 1906 3584 2284 3584 \nQ 2666 3584 2933 3390 \nQ 3200 3197 3328 2828 \nz\n\" transform=\"scale(0.015625)\"/>\n      <path id=\"DejaVuSans-65\" d=\"M 3597 1894 \nL 3597 1613 \nL 953 1613 \nQ 991 1019 1311 708 \nQ 1631 397 2203 397 \nQ 2534 397 2845 478 \nQ 3156 559 3463 722 \nL 3463 178 \nQ 3153 47 2828 -22 \nQ 2503 -91 2169 -91 \nQ 1331 -91 842 396 \nQ 353 884 353 1716 \nQ 353 2575 817 3079 \nQ 1281 3584 2069 3584 \nQ 2775 3584 3186 3129 \nQ 3597 2675 3597 1894 \nz\nM 3022 2063 \nQ 3016 2534 2758 2815 \nQ 2500 3097 2075 3097 \nQ 1594 3097 1305 2825 \nQ 1016 2553 972 2059 \nL 3022 2063 \nz\n\" transform=\"scale(0.015625)\"/>\n      <path id=\"DejaVuSans-6e\" d=\"M 3513 2113 \nL 3513 0 \nL 2938 0 \nL 2938 2094 \nQ 2938 2591 2744 2837 \nQ 2550 3084 2163 3084 \nQ 1697 3084 1428 2787 \nQ 1159 2491 1159 1978 \nL 1159 0 \nL 581 0 \nL 581 3500 \nL 1159 3500 \nL 1159 2956 \nQ 1366 3272 1645 3428 \nQ 1925 3584 2291 3584 \nQ 2894 3584 3203 3211 \nQ 3513 2838 3513 2113 \nz\n\" transform=\"scale(0.015625)\"/>\n      <path id=\"DejaVuSans-74\" d=\"M 1172 4494 \nL 1172 3500 \nL 2356 3500 \nL 2356 3053 \nL 1172 3053 \nL 1172 1153 \nQ 1172 725 1289 603 \nQ 1406 481 1766 481 \nL 2356 481 \nL 2356 0 \nL 1766 0 \nQ 1100 0 847 248 \nQ 594 497 594 1153 \nL 594 3053 \nL 172 3053 \nL 172 3500 \nL 594 3500 \nL 594 4494 \nL 1172 4494 \nz\n\" transform=\"scale(0.015625)\"/>\n      <path id=\"DejaVuSans-64\" d=\"M 2906 2969 \nL 2906 4863 \nL 3481 4863 \nL 3481 0 \nL 2906 0 \nL 2906 525 \nQ 2725 213 2448 61 \nQ 2172 -91 1784 -91 \nQ 1150 -91 751 415 \nQ 353 922 353 1747 \nQ 353 2572 751 3078 \nQ 1150 3584 1784 3584 \nQ 2172 3584 2448 3432 \nQ 2725 3281 2906 2969 \nz\nM 947 1747 \nQ 947 1113 1208 752 \nQ 1469 391 1925 391 \nQ 2381 391 2643 752 \nQ 2906 1113 2906 1747 \nQ 2906 2381 2643 2742 \nQ 2381 3103 1925 3103 \nQ 1469 3103 1208 2742 \nQ 947 2381 947 1747 \nz\n\" transform=\"scale(0.015625)\"/>\n      <path id=\"DejaVuSans-20\" transform=\"scale(0.015625)\"/>\n      <path id=\"DejaVuSans-69\" d=\"M 603 3500 \nL 1178 3500 \nL 1178 0 \nL 603 0 \nL 603 3500 \nz\nM 603 4863 \nL 1178 4863 \nL 1178 4134 \nL 603 4134 \nL 603 4863 \nz\n\" transform=\"scale(0.015625)\"/>\n      <path id=\"DejaVuSans-61\" d=\"M 2194 1759 \nQ 1497 1759 1228 1600 \nQ 959 1441 959 1056 \nQ 959 750 1161 570 \nQ 1363 391 1709 391 \nQ 2188 391 2477 730 \nQ 2766 1069 2766 1631 \nL 2766 1759 \nL 2194 1759 \nz\nM 3341 1997 \nL 3341 0 \nL 2766 0 \nL 2766 531 \nQ 2569 213 2275 61 \nQ 1981 -91 1556 -91 \nQ 1019 -91 701 211 \nQ 384 513 384 1019 \nQ 384 1609 779 1909 \nQ 1175 2209 1959 2209 \nL 2766 2209 \nL 2766 2266 \nQ 2766 2663 2505 2880 \nQ 2244 3097 1772 3097 \nQ 1472 3097 1187 3025 \nQ 903 2953 641 2809 \nL 641 3341 \nQ 956 3463 1253 3523 \nQ 1550 3584 1831 3584 \nQ 2591 3584 2966 3190 \nQ 3341 2797 3341 1997 \nz\n\" transform=\"scale(0.015625)\"/>\n      <path id=\"DejaVuSans-78\" d=\"M 3513 3500 \nL 2247 1797 \nL 3578 0 \nL 2900 0 \nL 1881 1375 \nL 863 0 \nL 184 0 \nL 1544 1831 \nL 300 3500 \nL 978 3500 \nL 1906 2253 \nL 2834 3500 \nL 3513 3500 \nz\n\" transform=\"scale(0.015625)\"/>\n      <path id=\"DejaVuSans-70\" d=\"M 1159 525 \nL 1159 -1331 \nL 581 -1331 \nL 581 3500 \nL 1159 3500 \nL 1159 2969 \nQ 1341 3281 1617 3432 \nQ 1894 3584 2278 3584 \nQ 2916 3584 3314 3078 \nQ 3713 2572 3713 1747 \nQ 3713 922 3314 415 \nQ 2916 -91 2278 -91 \nQ 1894 -91 1617 61 \nQ 1341 213 1159 525 \nz\nM 3116 1747 \nQ 3116 2381 2855 2742 \nQ 2594 3103 2138 3103 \nQ 1681 3103 1420 2742 \nQ 1159 2381 1159 1747 \nQ 1159 1113 1420 752 \nQ 1681 391 2138 391 \nQ 2594 391 2855 752 \nQ 3116 1113 3116 1747 \nz\n\" transform=\"scale(0.015625)\"/>\n      <path id=\"DejaVuSans-6c\" d=\"M 603 4863 \nL 1178 4863 \nL 1178 0 \nL 603 0 \nL 603 4863 \nz\n\" transform=\"scale(0.015625)\"/>\n      <path id=\"DejaVuSans-73\" d=\"M 2834 3397 \nL 2834 2853 \nQ 2591 2978 2328 3040 \nQ 2066 3103 1784 3103 \nQ 1356 3103 1142 2972 \nQ 928 2841 928 2578 \nQ 928 2378 1081 2264 \nQ 1234 2150 1697 2047 \nL 1894 2003 \nQ 2506 1872 2764 1633 \nQ 3022 1394 3022 966 \nQ 3022 478 2636 193 \nQ 2250 -91 1575 -91 \nQ 1294 -91 989 -36 \nQ 684 19 347 128 \nL 347 722 \nQ 666 556 975 473 \nQ 1284 391 1588 391 \nQ 1994 391 2212 530 \nQ 2431 669 2431 922 \nQ 2431 1156 2273 1281 \nQ 2116 1406 1581 1522 \nL 1381 1569 \nQ 847 1681 609 1914 \nQ 372 2147 372 2553 \nQ 372 3047 722 3315 \nQ 1072 3584 1716 3584 \nQ 2034 3584 2315 3537 \nQ 2597 3491 2834 3397 \nz\n\" transform=\"scale(0.015625)\"/>\n      <path id=\"DejaVuSans-6f\" d=\"M 1959 3097 \nQ 1497 3097 1228 2736 \nQ 959 2375 959 1747 \nQ 959 1119 1226 758 \nQ 1494 397 1959 397 \nQ 2419 397 2687 759 \nQ 2956 1122 2956 1747 \nQ 2956 2369 2687 2733 \nQ 2419 3097 1959 3097 \nz\nM 1959 3584 \nQ 2709 3584 3137 3096 \nQ 3566 2609 3566 1747 \nQ 3566 888 3137 398 \nQ 2709 -91 1959 -91 \nQ 1206 -91 779 398 \nQ 353 888 353 1747 \nQ 353 2609 779 3096 \nQ 1206 3584 1959 3584 \nz\n\" transform=\"scale(0.015625)\"/>\n      <path id=\"DejaVuSans-66\" d=\"M 2375 4863 \nL 2375 4384 \nL 1825 4384 \nQ 1516 4384 1395 4259 \nQ 1275 4134 1275 3809 \nL 1275 3500 \nL 2222 3500 \nL 2222 3053 \nL 1275 3053 \nL 1275 0 \nL 697 0 \nL 697 3053 \nL 147 3053 \nL 147 3500 \nL 697 3500 \nL 697 3744 \nQ 697 4328 969 4595 \nQ 1241 4863 1831 4863 \nL 2375 4863 \nz\n\" transform=\"scale(0.015625)\"/>\n      <path id=\"DejaVuSans-68\" d=\"M 3513 2113 \nL 3513 0 \nL 2938 0 \nL 2938 2094 \nQ 2938 2591 2744 2837 \nQ 2550 3084 2163 3084 \nQ 1697 3084 1428 2787 \nQ 1159 2491 1159 1978 \nL 1159 0 \nL 581 0 \nL 581 4863 \nL 1159 4863 \nL 1159 2956 \nQ 1366 3272 1645 3428 \nQ 1925 3584 2291 3584 \nQ 2894 3584 3203 3211 \nQ 3513 2838 3513 2113 \nz\n\" transform=\"scale(0.015625)\"/>\n      <path id=\"DejaVuSans-49\" d=\"M 628 4666 \nL 1259 4666 \nL 1259 0 \nL 628 0 \nL 628 4666 \nz\n\" transform=\"scale(0.015625)\"/>\n      <path id=\"DejaVuSans-4d\" d=\"M 628 4666 \nL 1569 4666 \nL 2759 1491 \nL 3956 4666 \nL 4897 4666 \nL 4897 0 \nL 4281 0 \nL 4281 4097 \nL 3078 897 \nL 2444 897 \nL 1241 4097 \nL 1241 0 \nL 628 0 \nL 628 4666 \nz\n\" transform=\"scale(0.015625)\"/>\n      <path id=\"DejaVuSans-48\" d=\"M 628 4666 \nL 1259 4666 \nL 1259 2753 \nL 3553 2753 \nL 3553 4666 \nL 4184 4666 \nL 4184 0 \nL 3553 0 \nL 3553 2222 \nL 1259 2222 \nL 1259 0 \nL 628 0 \nL 628 4666 \nz\n\" transform=\"scale(0.015625)\"/>\n      <path id=\"DejaVuSans-57\" d=\"M 213 4666 \nL 850 4666 \nL 1831 722 \nL 2809 4666 \nL 3519 4666 \nL 4500 722 \nL 5478 4666 \nL 6119 4666 \nL 4947 0 \nL 4153 0 \nL 3169 4050 \nL 2175 0 \nL 1381 0 \nL 213 4666 \nz\n\" transform=\"scale(0.015625)\"/>\n     </defs>\n     <use xlink:href=\"#DejaVuSans-41\"/>\n     <use xlink:href=\"#DejaVuSans-75\" x=\"68.408203\"/>\n     <use xlink:href=\"#DejaVuSans-67\" x=\"131.787109\"/>\n     <use xlink:href=\"#DejaVuSans-6d\" x=\"195.263672\"/>\n     <use xlink:href=\"#DejaVuSans-65\" x=\"292.675781\"/>\n     <use xlink:href=\"#DejaVuSans-6e\" x=\"354.199219\"/>\n     <use xlink:href=\"#DejaVuSans-74\" x=\"417.578125\"/>\n     <use xlink:href=\"#DejaVuSans-65\" x=\"456.787109\"/>\n     <use xlink:href=\"#DejaVuSans-64\" x=\"518.310547\"/>\n     <use xlink:href=\"#DejaVuSans-20\" x=\"581.787109\"/>\n     <use xlink:href=\"#DejaVuSans-69\" x=\"613.574219\"/>\n     <use xlink:href=\"#DejaVuSans-6d\" x=\"641.357422\"/>\n     <use xlink:href=\"#DejaVuSans-61\" x=\"738.769531\"/>\n     <use xlink:href=\"#DejaVuSans-67\" x=\"800.048828\"/>\n     <use xlink:href=\"#DejaVuSans-65\" x=\"863.525391\"/>\n     <use xlink:href=\"#DejaVuSans-20\" x=\"925.048828\"/>\n     <use xlink:href=\"#DejaVuSans-65\" x=\"956.835938\"/>\n     <use xlink:href=\"#DejaVuSans-78\" x=\"1016.609375\"/>\n     <use xlink:href=\"#DejaVuSans-61\" x=\"1075.789062\"/>\n     <use xlink:href=\"#DejaVuSans-6d\" x=\"1137.068359\"/>\n     <use xlink:href=\"#DejaVuSans-70\" x=\"1234.480469\"/>\n     <use xlink:href=\"#DejaVuSans-6c\" x=\"1297.957031\"/>\n     <use xlink:href=\"#DejaVuSans-65\" x=\"1325.740234\"/>\n     <use xlink:href=\"#DejaVuSans-73\" x=\"1387.263672\"/>\n     <use xlink:href=\"#DejaVuSans-20\" x=\"1439.363281\"/>\n     <use xlink:href=\"#DejaVuSans-6f\" x=\"1471.150391\"/>\n     <use xlink:href=\"#DejaVuSans-66\" x=\"1532.332031\"/>\n     <use xlink:href=\"#DejaVuSans-20\" x=\"1567.537109\"/>\n     <use xlink:href=\"#DejaVuSans-74\" x=\"1599.324219\"/>\n     <use xlink:href=\"#DejaVuSans-68\" x=\"1638.533203\"/>\n     <use xlink:href=\"#DejaVuSans-65\" x=\"1701.912109\"/>\n     <use xlink:href=\"#DejaVuSans-20\" x=\"1763.435547\"/>\n     <use xlink:href=\"#DejaVuSans-49\" x=\"1795.222656\"/>\n     <use xlink:href=\"#DejaVuSans-41\" x=\"1824.714844\"/>\n     <use xlink:href=\"#DejaVuSans-4d\" x=\"1893.123047\"/>\n     <use xlink:href=\"#DejaVuSans-20\" x=\"1979.402344\"/>\n     <use xlink:href=\"#DejaVuSans-48\" x=\"2011.189453\"/>\n     <use xlink:href=\"#DejaVuSans-57\" x=\"2086.384766\"/>\n     <use xlink:href=\"#DejaVuSans-20\" x=\"2185.261719\"/>\n     <use xlink:href=\"#DejaVuSans-64\" x=\"2217.048828\"/>\n     <use xlink:href=\"#DejaVuSans-61\" x=\"2280.525391\"/>\n     <use xlink:href=\"#DejaVuSans-74\" x=\"2341.804688\"/>\n     <use xlink:href=\"#DejaVuSans-61\" x=\"2381.013672\"/>\n     <use xlink:href=\"#DejaVuSans-73\" x=\"2442.292969\"/>\n     <use xlink:href=\"#DejaVuSans-65\" x=\"2494.392578\"/>\n     <use xlink:href=\"#DejaVuSans-74\" x=\"2555.916016\"/>\n    </g>\n   </g>\n  </g>\n </g>\n <defs>\n  <clipPath id=\"pcd66346095\">\n   <rect x=\"7.2\" y=\"22.318125\" width=\"558\" height=\"186.951407\"/>\n  </clipPath>\n </defs>\n</svg>\n",
            "application/pdf": "[encoded data removed]"
          },
          "metadata": {}
        }
      ],
      "source": [
        "# Visualize some examples\n",
        "# pl.seed_everything(42)\n",
        "NUM_IMAGES = 6\n",
        "imgs = [img for idx in range(NUM_IMAGES) for img in subset_iam_train_dataset[idx][1]]\n",
        "labels = [subset_iam_train_dataset[idx][2] for idx in range(NUM_IMAGES)]\n",
        "print(labels)\n",
        "img_grid = torchvision.utils.make_grid(imgs, nrow=6, normalize=True, pad_value=0.9)\n",
        "img_grid = img_grid.permute(1, 2, 0)\n",
        "\n",
        "plt.figure(figsize=(10,5))\n",
        "plt.title('Augmented image examples of the IAM HW dataset')\n",
        "plt.imshow(img_grid)\n",
        "plt.axis('off')\n",
        "plt.show()\n",
        "plt.close()"
      ]
    },
    {
      "cell_type": "code",
      "source": [
        "imgs[0].shape"
      ],
      "metadata": {
        "id": "mCcPVFaA0eFP"
      },
      "execution_count": null,
      "outputs": []
    },
    {
      "cell_type": "code",
      "source": [
        "subset_iam_train_dataset[1][1].shape"
      ],
      "metadata": {
        "id": "enAifD94v--7"
      },
      "execution_count": null,
      "outputs": []
    },
    {
      "cell_type": "markdown",
      "metadata": {
        "id": "dbuiwO4155Ob"
      },
      "source": [
        "We see the wide variety of our data augmentation, including randomly cropping, grayscaling, gaussian blur, and color distortion. Thus, it remains a challenging task for the model to match two, independently augmented patches of the same image."
      ]
    },
    {
      "cell_type": "markdown",
      "metadata": {
        "id": "AnVVibpS55Oc"
      },
      "source": [
        "### SimCLR implementation\n",
        "\n",
        "Using the data loader pipeline above, we can now implement SimCLR. At each iteration, we get for every image $x$ two differently augmented versions, which we refer to as $\\tilde{x}_i$ and $\\tilde{x}_j$. Both of these images are encoded into a one-dimensional feature vector, between which we want to maximize similarity which minimizes it to all other images in the batch. The encoder network is split into two parts: a base encoder network $f(\\cdot)$, and a projection head $g(\\cdot)$. The base network is usually a deep CNN as we have seen in e.g. [Tutorial 5](https://uvadlc-notebooks.readthedocs.io/en/latest/tutorial_notebooks/tutorial5/Inception_ResNet_DenseNet.html) before, and is responsible for extracting a representation vector from the augmented data examples. In our experiments, we will use the common ResNet-18 architecture as $f(\\cdot)$, and refer to the output as $f(\\tilde{x}_i)=h_i$. The projection head $g(\\cdot)$ maps the representation $h$ into a space where we apply the contrastive loss, i.e., compare similarities between vectors. It is often chosen to be a small MLP with non-linearities, and for simplicity, we follow the original SimCLR paper setup by defining it as a two-layer MLP with ReLU activation in the hidden layer. Note that in the follow-up paper, [SimCLRv2](https://arxiv.org/abs/2006.10029), the authors mention that larger/wider MLPs can boost the performance considerably. This is why we apply an MLP with four times larger hidden dimensions, but deeper MLPs showed to overfit on the given dataset. The general setup is visualized below (figure credit - [Ting Chen et al.](https://arxiv.org/abs/2006.10029)):\n",
        "\n",
        "<center width=\"100%\"><img src=\"https://github.com/phlippe/uvadlc_notebooks/blob/master/docs/tutorial_notebooks/tutorial17/simclr_network_setup.svg?raw=1\" width=\"350px\"></center>\n",
        "\n",
        "After finishing the training with contrastive learning, we will remove the projection head $g(\\cdot)$, and use $f(\\cdot)$ as a pretrained feature extractor. The representations $z$ that come out of the projection head $g(\\cdot)$ have been shown to perform worse than those of the base network $f(\\cdot)$ when finetuning the network for a new task. This is likely because the representations $z$ are trained to become invariant to many features like the color that can be important for downstream tasks. Thus, $g(\\cdot)$ is only needed for the contrastive learning stage.\n",
        "\n",
        "Now that the architecture is described, let's take a closer look at how we train the model. As mentioned before, we want to maximize the similarity between the representations of the two augmented versions of the same image, i.e., $z_i$ and $z_j$ in the figure above, while minimizing it to all other examples in the batch. SimCLR thereby applies the InfoNCE loss, originally proposed by [Aaron van den Oord et al.](https://arxiv.org/abs/1807.03748) for contrastive learning. In short, the InfoNCE loss compares the similarity of $z_i$ and $z_j$ to the similarity of $z_i$ to any other representation in the batch by performing a softmax over the similarity values. The loss can be formally written as:\n",
        "\n",
        "$$\n",
        "\\ell_{i,j}=-\\log \\frac{\\exp(\\text{sim}(z_i,z_j)/\\tau)}{\\sum_{k=1}^{2N}\\mathbb{1}_{[k\\neq i]}\\exp(\\text{sim}(z_i,z_k)/\\tau)}=-\\text{sim}(z_i,z_j)/\\tau+\\log\\left[\\sum_{k=1}^{2N}\\mathbb{1}_{[k\\neq i]}\\exp(\\text{sim}(z_i,z_k)/\\tau)\\right]\n",
        "$$\n",
        "\n",
        "The function $\\text{sim}$ is a similarity metric, and the hyperparameter $\\tau$ is called temperature determining how peaked the distribution is. Since many similarity metrics are bounded, the temperature parameter allows us to balance the influence of many dissimilar image patches versus one similar patch. The similarity metric that is used in SimCLR is cosine similarity, as defined below:\n",
        "\n",
        "$$\n",
        "\\text{sim}(z_i,z_j) = \\frac{z_i^\\top \\cdot z_j}{||z_i||\\cdot||z_j||}\n",
        "$$\n",
        "\n",
        "The maximum cosine similarity possible is $1$, while the minimum is $-1$. In general, we will see that the features of two different images will converge to a cosine similarity around zero since the minimum, $-1$, would require $z_i$ and $z_j$ to be in the exact opposite direction in all feature dimensions, which does not allow for great flexibility.\n",
        "\n",
        "Finally, now that we have discussed all details, let's implement SimCLR below as a PyTorch Lightning module:"
      ]
    },
    {
      "cell_type": "code",
      "execution_count": 50,
      "metadata": {
        "id": "1lUujOnP55Oe"
      },
      "outputs": [],
      "source": [
        "class SimCLR(pl.LightningModule):\n",
        "    \n",
        "    def __init__(self, hidden_dim, lr, temperature, weight_decay, max_epochs=500):\n",
        "        super().__init__()\n",
        "        self.save_hyperparameters()\n",
        "        assert self.hparams.temperature > 0.0, 'The temperature must be a positive float!'\n",
        "        # Base model f(.)\n",
        "        self.convnet = torchvision.models.resnet18(num_classes=4*hidden_dim)  # Output of last linear layer\n",
        "        # The MLP for g(.) consists of Linear->ReLU->Linear \n",
        "        self.convnet.fc = nn.Sequential(\n",
        "            self.convnet.fc,  # Linear(ResNet output, 4*hidden_dim)\n",
        "            nn.ReLU(inplace=True),\n",
        "            nn.Linear(4*hidden_dim, hidden_dim)\n",
        "        )\n",
        "\n",
        "    def configure_optimizers(self):\n",
        "        optimizer = optim.AdamW(self.parameters(), \n",
        "                                lr=self.hparams.lr, \n",
        "                                weight_decay=self.hparams.weight_decay)\n",
        "        lr_scheduler = optim.lr_scheduler.CosineAnnealingLR(optimizer,\n",
        "                                                            T_max=self.hparams.max_epochs,\n",
        "                                                            eta_min=self.hparams.lr/50)\n",
        "        return [optimizer], [lr_scheduler]\n",
        "        \n",
        "    def info_nce_loss(self, batch, mode='train'):\n",
        "        imgs, _ = batch\n",
        "        imgs = torch.cat(imgs, dim=0)\n",
        "        \n",
        "        # Encode all images\n",
        "        feats = self.convnet(imgs)\n",
        "        # Calculate cosine similarity\n",
        "        cos_sim = F.cosine_similarity(feats[:,None,:], feats[None,:,:], dim=-1)\n",
        "        # Mask out cosine similarity to itself\n",
        "        self_mask = torch.eye(cos_sim.shape[0], dtype=torch.bool, device=cos_sim.device)\n",
        "        cos_sim.masked_fill_(self_mask, -9e15)\n",
        "        # Find positive example -> batch_size//2 away from the original example\n",
        "        pos_mask = self_mask.roll(shifts=cos_sim.shape[0]//2, dims=0)\n",
        "        # InfoNCE loss\n",
        "        cos_sim = cos_sim / self.hparams.temperature\n",
        "        nll = -cos_sim[pos_mask] + torch.logsumexp(cos_sim, dim=-1)\n",
        "        nll = nll.mean()\n",
        "        \n",
        "        # Logging loss\n",
        "        self.log(mode+'_loss', nll)\n",
        "        # Get ranking position of positive example\n",
        "        comb_sim = torch.cat([cos_sim[pos_mask][:,None],  # First position positive example\n",
        "                              cos_sim.masked_fill(pos_mask, -9e15)], \n",
        "                             dim=-1)\n",
        "        sim_argsort = comb_sim.argsort(dim=-1, descending=True).argmin(dim=-1)\n",
        "        # Logging ranking metrics\n",
        "        self.log(mode+'_acc_top1', (sim_argsort == 0).float().mean())\n",
        "        self.log(mode+'_acc_top5', (sim_argsort < 5).float().mean())\n",
        "        self.log(mode+'_acc_mean_pos', 1+sim_argsort.float().mean())\n",
        "        \n",
        "        return nll\n",
        "        \n",
        "    def training_step(self, batch, batch_idx):\n",
        "        return self.info_nce_loss(batch, mode='train')\n",
        "        \n",
        "    def validation_step(self, batch, batch_idx):\n",
        "        self.info_nce_loss(batch, mode='val')"
      ]
    },
    {
      "cell_type": "markdown",
      "metadata": {
        "id": "BH3BGC_M55Og"
      },
      "source": [
        "Alternatively to performing the validation on the contrastive learning loss as well, we could also take a simple, small downstream task, and track the performance of the base network $f(\\cdot)$ on that. However, in this tutorial, we will restrict ourselves to the STL10 dataset where we use the task of image classification on STL10 as our test task."
      ]
    },
    {
      "cell_type": "markdown",
      "metadata": {
        "id": "cByagHHS55Oh"
      },
      "source": [
        "### Training\n",
        "\n",
        "Now that we have implemented SimCLR and the data loading pipeline, we are ready to train the model. We will use the same training function setup as usual. For saving the best model checkpoint, we track the metric `val_acc_top5`, which describes how often the correct image patch is within the top-5 most similar examples in the batch. This is usually less noisy than the top-1 metric, making it a better metric to choose the best model from."
      ]
    },
    {
      "cell_type": "code",
      "execution_count": 53,
      "metadata": {
        "id": "8waehX2h55Oh"
      },
      "outputs": [],
      "source": [
        "def train_simclr(batch_size, max_epochs=500, **kwargs):\n",
        "    trainer = pl.Trainer(default_root_dir=os.path.join(CHECKPOINT_PATH, 'SimCLR'),\n",
        "                         accelerator=\"gpu\" if str(device).startswith(\"cuda\") else \"cpu\",\n",
        "                         devices=1,\n",
        "                         max_epochs=max_epochs,\n",
        "                         callbacks=[ModelCheckpoint(save_weights_only=True, mode='max', monitor='val_acc_top5'),\n",
        "                                    LearningRateMonitor('epoch')])\n",
        "    trainer.logger._default_hp_metric = None # Optional logging argument that we don't need\n",
        "\n",
        "    # Check whether pretrained model exists. If yes, load it and skip training\n",
        "    pretrained_filename = os.path.join(CHECKPOINT_PATH, 'SimCLR.ckpt')\n",
        "    if os.path.isfile(pretrained_filename):\n",
        "        print(f'Found pretrained model at {pretrained_filename}, loading...')\n",
        "        model = SimCLR.load_from_checkpoint(pretrained_filename) # Automatically loads the model with the saved hyperparameters\n",
        "    else:\n",
        "        # train_loader = data.DataLoader(unlabeled_data, batch_size=batch_size, shuffle=True, \n",
        "        #                                drop_last=True, pin_memory=True, num_workers=NUM_WORKERS)\n",
        "        train_loader = data.DataLoader(subset_iam_train_dataset, batch_size=batch_size, shuffle=True, \n",
        "                                       drop_last=True, pin_memory=True, num_workers=NUM_WORKERS)\n",
        "        # val_loader = data.DataLoader(train_data_contrast, batch_size=batch_size, shuffle=False, \n",
        "        #                              drop_last=False, pin_memory=True, num_workers=NUM_WORKERS)\n",
        "        val_loader = data.DataLoader(subset_iam_test_dataset, batch_size=batch_size, shuffle=False, \n",
        "                                     drop_last=False, pin_memory=True, num_workers=NUM_WORKERS)\n",
        "        pl.seed_everything(42) # To be reproducable\n",
        "        model = SimCLR(max_epochs=max_epochs, **kwargs)\n",
        "        trainer.fit(model, train_loader, val_loader)\n",
        "        model = SimCLR.load_from_checkpoint(trainer.checkpoint_callback.best_model_path) # Load best checkpoint after training\n",
        "\n",
        "    return model"
      ]
    },
    {
      "cell_type": "markdown",
      "metadata": {
        "id": "3X5quTQg55Oi"
      },
      "source": [
        "A common observation in contrastive learning is that the larger the batch size, the better the models perform. A larger batch size allows us to compare each image to more negative examples, leading to overall smoother loss gradients. However, in our case, we experienced that a batch size of 256 was sufficient to get good results."
      ]
    },
    {
      "cell_type": "code",
      "execution_count": 52,
      "metadata": {
        "id": "J8AuCME955Oj",
        "colab": {
          "base_uri": "https://localhost:8080/",
          "height": 479
        },
        "outputId": "2eef5c89-34a5-41f4-8cd7-039f331f1631"
      },
      "outputs": [
        {
          "output_type": "stream",
          "name": "stderr",
          "text": [
            "INFO:pytorch_lightning.utilities.rank_zero:GPU available: False, used: False\n",
            "INFO:pytorch_lightning.utilities.rank_zero:TPU available: False, using: 0 TPU cores\n",
            "INFO:pytorch_lightning.utilities.rank_zero:IPU available: False, using: 0 IPUs\n",
            "INFO:pytorch_lightning.utilities.rank_zero:HPU available: False, using: 0 HPUs\n"
          ]
        },
        {
          "output_type": "stream",
          "name": "stdout",
          "text": [
            "Found pretrained model at ../saved_models/tutorial17/SimCLR.ckpt, loading...\n"
          ]
        },
        {
          "output_type": "error",
          "ename": "RuntimeError",
          "evalue": "ignored",
          "traceback": [
            "\u001b[0;31m---------------------------------------------------------------------------\u001b[0m",
            "\u001b[0;31mRuntimeError\u001b[0m                              Traceback (most recent call last)",
            "\u001b[0;32m<ipython-input-52-86f8c8aff12c>\u001b[0m in \u001b[0;36m<cell line: 1>\u001b[0;34m()\u001b[0m\n\u001b[0;32m----> 1\u001b[0;31m simclr_model = train_simclr(batch_size=256, \n\u001b[0m\u001b[1;32m      2\u001b[0m                             \u001b[0mhidden_dim\u001b[0m\u001b[0;34m=\u001b[0m\u001b[0;36m128\u001b[0m\u001b[0;34m,\u001b[0m\u001b[0;34m\u001b[0m\u001b[0;34m\u001b[0m\u001b[0m\n\u001b[1;32m      3\u001b[0m                             \u001b[0mlr\u001b[0m\u001b[0;34m=\u001b[0m\u001b[0;36m5e-4\u001b[0m\u001b[0;34m,\u001b[0m\u001b[0;34m\u001b[0m\u001b[0;34m\u001b[0m\u001b[0m\n\u001b[1;32m      4\u001b[0m                             \u001b[0mtemperature\u001b[0m\u001b[0;34m=\u001b[0m\u001b[0;36m0.07\u001b[0m\u001b[0;34m,\u001b[0m\u001b[0;34m\u001b[0m\u001b[0;34m\u001b[0m\u001b[0m\n\u001b[1;32m      5\u001b[0m                             \u001b[0mweight_decay\u001b[0m\u001b[0;34m=\u001b[0m\u001b[0;36m1e-4\u001b[0m\u001b[0;34m,\u001b[0m\u001b[0;34m\u001b[0m\u001b[0;34m\u001b[0m\u001b[0m\n",
            "\u001b[0;32m<ipython-input-51-657e3b18f2e5>\u001b[0m in \u001b[0;36mtrain_simclr\u001b[0;34m(batch_size, max_epochs, **kwargs)\u001b[0m\n\u001b[1;32m     12\u001b[0m     \u001b[0;32mif\u001b[0m \u001b[0mos\u001b[0m\u001b[0;34m.\u001b[0m\u001b[0mpath\u001b[0m\u001b[0;34m.\u001b[0m\u001b[0misfile\u001b[0m\u001b[0;34m(\u001b[0m\u001b[0mpretrained_filename\u001b[0m\u001b[0;34m)\u001b[0m\u001b[0;34m:\u001b[0m\u001b[0;34m\u001b[0m\u001b[0;34m\u001b[0m\u001b[0m\n\u001b[1;32m     13\u001b[0m         \u001b[0mprint\u001b[0m\u001b[0;34m(\u001b[0m\u001b[0;34mf'Found pretrained model at {pretrained_filename}, loading...'\u001b[0m\u001b[0;34m)\u001b[0m\u001b[0;34m\u001b[0m\u001b[0;34m\u001b[0m\u001b[0m\n\u001b[0;32m---> 14\u001b[0;31m         \u001b[0mmodel\u001b[0m \u001b[0;34m=\u001b[0m \u001b[0mSimCLR\u001b[0m\u001b[0;34m.\u001b[0m\u001b[0mload_from_checkpoint\u001b[0m\u001b[0;34m(\u001b[0m\u001b[0mpretrained_filename\u001b[0m\u001b[0;34m)\u001b[0m \u001b[0;31m# Automatically loads the model with the saved hyperparameters\u001b[0m\u001b[0;34m\u001b[0m\u001b[0;34m\u001b[0m\u001b[0m\n\u001b[0m\u001b[1;32m     15\u001b[0m     \u001b[0;32melse\u001b[0m\u001b[0;34m:\u001b[0m\u001b[0;34m\u001b[0m\u001b[0;34m\u001b[0m\u001b[0m\n\u001b[1;32m     16\u001b[0m         train_loader = data.DataLoader(unlabeled_data, batch_size=batch_size, shuffle=True, \n",
            "\u001b[0;32m/usr/local/lib/python3.10/dist-packages/pytorch_lightning/core/module.py\u001b[0m in \u001b[0;36mload_from_checkpoint\u001b[0;34m(cls, checkpoint_path, map_location, hparams_file, strict, **kwargs)\u001b[0m\n\u001b[1;32m   1529\u001b[0m             \u001b[0my_hat\u001b[0m \u001b[0;34m=\u001b[0m \u001b[0mpretrained_model\u001b[0m\u001b[0;34m(\u001b[0m\u001b[0mx\u001b[0m\u001b[0;34m)\u001b[0m\u001b[0;34m\u001b[0m\u001b[0;34m\u001b[0m\u001b[0m\n\u001b[1;32m   1530\u001b[0m         \"\"\"\n\u001b[0;32m-> 1531\u001b[0;31m         loaded = _load_from_checkpoint(\n\u001b[0m\u001b[1;32m   1532\u001b[0m             \u001b[0mcls\u001b[0m\u001b[0;34m,\u001b[0m\u001b[0;34m\u001b[0m\u001b[0;34m\u001b[0m\u001b[0m\n\u001b[1;32m   1533\u001b[0m             \u001b[0mcheckpoint_path\u001b[0m\u001b[0;34m,\u001b[0m\u001b[0;34m\u001b[0m\u001b[0;34m\u001b[0m\u001b[0m\n",
            "\u001b[0;32m/usr/local/lib/python3.10/dist-packages/pytorch_lightning/core/saving.py\u001b[0m in \u001b[0;36m_load_from_checkpoint\u001b[0;34m(cls, checkpoint_path, map_location, hparams_file, strict, **kwargs)\u001b[0m\n\u001b[1;32m     58\u001b[0m ) -> Union[\"pl.LightningModule\", \"pl.LightningDataModule\"]:\n\u001b[1;32m     59\u001b[0m     \u001b[0;32mwith\u001b[0m \u001b[0mpl_legacy_patch\u001b[0m\u001b[0;34m(\u001b[0m\u001b[0;34m)\u001b[0m\u001b[0;34m:\u001b[0m\u001b[0;34m\u001b[0m\u001b[0;34m\u001b[0m\u001b[0m\n\u001b[0;32m---> 60\u001b[0;31m         \u001b[0mcheckpoint\u001b[0m \u001b[0;34m=\u001b[0m \u001b[0mpl_load\u001b[0m\u001b[0;34m(\u001b[0m\u001b[0mcheckpoint_path\u001b[0m\u001b[0;34m,\u001b[0m \u001b[0mmap_location\u001b[0m\u001b[0;34m=\u001b[0m\u001b[0mmap_location\u001b[0m\u001b[0;34m)\u001b[0m\u001b[0;34m\u001b[0m\u001b[0;34m\u001b[0m\u001b[0m\n\u001b[0m\u001b[1;32m     61\u001b[0m \u001b[0;34m\u001b[0m\u001b[0m\n\u001b[1;32m     62\u001b[0m     \u001b[0;31m# convert legacy checkpoints to the new format\u001b[0m\u001b[0;34m\u001b[0m\u001b[0;34m\u001b[0m\u001b[0m\n",
            "\u001b[0;32m/usr/local/lib/python3.10/dist-packages/lightning_fabric/utilities/cloud_io.py\u001b[0m in \u001b[0;36m_load\u001b[0;34m(path_or_url, map_location)\u001b[0m\n\u001b[1;32m     49\u001b[0m     \u001b[0mfs\u001b[0m \u001b[0;34m=\u001b[0m \u001b[0mget_filesystem\u001b[0m\u001b[0;34m(\u001b[0m\u001b[0mpath_or_url\u001b[0m\u001b[0;34m)\u001b[0m\u001b[0;34m\u001b[0m\u001b[0;34m\u001b[0m\u001b[0m\n\u001b[1;32m     50\u001b[0m     \u001b[0;32mwith\u001b[0m \u001b[0mfs\u001b[0m\u001b[0;34m.\u001b[0m\u001b[0mopen\u001b[0m\u001b[0;34m(\u001b[0m\u001b[0mpath_or_url\u001b[0m\u001b[0;34m,\u001b[0m \u001b[0;34m\"rb\"\u001b[0m\u001b[0;34m)\u001b[0m \u001b[0;32mas\u001b[0m \u001b[0mf\u001b[0m\u001b[0;34m:\u001b[0m\u001b[0;34m\u001b[0m\u001b[0;34m\u001b[0m\u001b[0m\n\u001b[0;32m---> 51\u001b[0;31m         \u001b[0;32mreturn\u001b[0m \u001b[0mtorch\u001b[0m\u001b[0;34m.\u001b[0m\u001b[0mload\u001b[0m\u001b[0;34m(\u001b[0m\u001b[0mf\u001b[0m\u001b[0;34m,\u001b[0m \u001b[0mmap_location\u001b[0m\u001b[0;34m=\u001b[0m\u001b[0mmap_location\u001b[0m\u001b[0;34m)\u001b[0m  \u001b[0;31m# type: ignore[arg-type]\u001b[0m\u001b[0;34m\u001b[0m\u001b[0;34m\u001b[0m\u001b[0m\n\u001b[0m\u001b[1;32m     52\u001b[0m \u001b[0;34m\u001b[0m\u001b[0m\n\u001b[1;32m     53\u001b[0m \u001b[0;34m\u001b[0m\u001b[0m\n",
            "\u001b[0;32m/usr/local/lib/python3.10/dist-packages/torch/serialization.py\u001b[0m in \u001b[0;36mload\u001b[0;34m(f, map_location, pickle_module, weights_only, **pickle_load_args)\u001b[0m\n\u001b[1;32m    807\u001b[0m                     \u001b[0;32mexcept\u001b[0m \u001b[0mRuntimeError\u001b[0m \u001b[0;32mas\u001b[0m \u001b[0me\u001b[0m\u001b[0;34m:\u001b[0m\u001b[0;34m\u001b[0m\u001b[0;34m\u001b[0m\u001b[0m\n\u001b[1;32m    808\u001b[0m                         \u001b[0;32mraise\u001b[0m \u001b[0mpickle\u001b[0m\u001b[0;34m.\u001b[0m\u001b[0mUnpicklingError\u001b[0m\u001b[0;34m(\u001b[0m\u001b[0mUNSAFE_MESSAGE\u001b[0m \u001b[0;34m+\u001b[0m \u001b[0mstr\u001b[0m\u001b[0;34m(\u001b[0m\u001b[0me\u001b[0m\u001b[0;34m)\u001b[0m\u001b[0;34m)\u001b[0m \u001b[0;32mfrom\u001b[0m \u001b[0;32mNone\u001b[0m\u001b[0;34m\u001b[0m\u001b[0;34m\u001b[0m\u001b[0m\n\u001b[0;32m--> 809\u001b[0;31m                 \u001b[0;32mreturn\u001b[0m \u001b[0m_load\u001b[0m\u001b[0;34m(\u001b[0m\u001b[0mopened_zipfile\u001b[0m\u001b[0;34m,\u001b[0m \u001b[0mmap_location\u001b[0m\u001b[0;34m,\u001b[0m \u001b[0mpickle_module\u001b[0m\u001b[0;34m,\u001b[0m \u001b[0;34m**\u001b[0m\u001b[0mpickle_load_args\u001b[0m\u001b[0;34m)\u001b[0m\u001b[0;34m\u001b[0m\u001b[0;34m\u001b[0m\u001b[0m\n\u001b[0m\u001b[1;32m    810\u001b[0m         \u001b[0;32mif\u001b[0m \u001b[0mweights_only\u001b[0m\u001b[0;34m:\u001b[0m\u001b[0;34m\u001b[0m\u001b[0;34m\u001b[0m\u001b[0m\n\u001b[1;32m    811\u001b[0m             \u001b[0;32mtry\u001b[0m\u001b[0;34m:\u001b[0m\u001b[0;34m\u001b[0m\u001b[0;34m\u001b[0m\u001b[0m\n",
            "\u001b[0;32m/usr/local/lib/python3.10/dist-packages/torch/serialization.py\u001b[0m in \u001b[0;36m_load\u001b[0;34m(zip_file, map_location, pickle_module, pickle_file, **pickle_load_args)\u001b[0m\n\u001b[1;32m   1170\u001b[0m     \u001b[0munpickler\u001b[0m \u001b[0;34m=\u001b[0m \u001b[0mUnpicklerWrapper\u001b[0m\u001b[0;34m(\u001b[0m\u001b[0mdata_file\u001b[0m\u001b[0;34m,\u001b[0m \u001b[0;34m**\u001b[0m\u001b[0mpickle_load_args\u001b[0m\u001b[0;34m)\u001b[0m\u001b[0;34m\u001b[0m\u001b[0;34m\u001b[0m\u001b[0m\n\u001b[1;32m   1171\u001b[0m     \u001b[0munpickler\u001b[0m\u001b[0;34m.\u001b[0m\u001b[0mpersistent_load\u001b[0m \u001b[0;34m=\u001b[0m \u001b[0mpersistent_load\u001b[0m\u001b[0;34m\u001b[0m\u001b[0;34m\u001b[0m\u001b[0m\n\u001b[0;32m-> 1172\u001b[0;31m     \u001b[0mresult\u001b[0m \u001b[0;34m=\u001b[0m \u001b[0munpickler\u001b[0m\u001b[0;34m.\u001b[0m\u001b[0mload\u001b[0m\u001b[0;34m(\u001b[0m\u001b[0;34m)\u001b[0m\u001b[0;34m\u001b[0m\u001b[0;34m\u001b[0m\u001b[0m\n\u001b[0m\u001b[1;32m   1173\u001b[0m \u001b[0;34m\u001b[0m\u001b[0m\n\u001b[1;32m   1174\u001b[0m     \u001b[0mtorch\u001b[0m\u001b[0;34m.\u001b[0m\u001b[0m_utils\u001b[0m\u001b[0;34m.\u001b[0m\u001b[0m_validate_loaded_sparse_tensors\u001b[0m\u001b[0;34m(\u001b[0m\u001b[0;34m)\u001b[0m\u001b[0;34m\u001b[0m\u001b[0;34m\u001b[0m\u001b[0m\n",
            "\u001b[0;32m/usr/lib/python3.10/pickle.py\u001b[0m in \u001b[0;36mload\u001b[0;34m(self)\u001b[0m\n\u001b[1;32m   1211\u001b[0m                     \u001b[0;32mraise\u001b[0m \u001b[0mEOFError\u001b[0m\u001b[0;34m\u001b[0m\u001b[0;34m\u001b[0m\u001b[0m\n\u001b[1;32m   1212\u001b[0m                 \u001b[0;32massert\u001b[0m \u001b[0misinstance\u001b[0m\u001b[0;34m(\u001b[0m\u001b[0mkey\u001b[0m\u001b[0;34m,\u001b[0m \u001b[0mbytes_types\u001b[0m\u001b[0;34m)\u001b[0m\u001b[0;34m\u001b[0m\u001b[0;34m\u001b[0m\u001b[0m\n\u001b[0;32m-> 1213\u001b[0;31m                 \u001b[0mdispatch\u001b[0m\u001b[0;34m[\u001b[0m\u001b[0mkey\u001b[0m\u001b[0;34m[\u001b[0m\u001b[0;36m0\u001b[0m\u001b[0;34m]\u001b[0m\u001b[0;34m]\u001b[0m\u001b[0;34m(\u001b[0m\u001b[0mself\u001b[0m\u001b[0;34m)\u001b[0m\u001b[0;34m\u001b[0m\u001b[0;34m\u001b[0m\u001b[0m\n\u001b[0m\u001b[1;32m   1214\u001b[0m         \u001b[0;32mexcept\u001b[0m \u001b[0m_Stop\u001b[0m \u001b[0;32mas\u001b[0m \u001b[0mstopinst\u001b[0m\u001b[0;34m:\u001b[0m\u001b[0;34m\u001b[0m\u001b[0;34m\u001b[0m\u001b[0m\n\u001b[1;32m   1215\u001b[0m             \u001b[0;32mreturn\u001b[0m \u001b[0mstopinst\u001b[0m\u001b[0;34m.\u001b[0m\u001b[0mvalue\u001b[0m\u001b[0;34m\u001b[0m\u001b[0;34m\u001b[0m\u001b[0m\n",
            "\u001b[0;32m/usr/lib/python3.10/pickle.py\u001b[0m in \u001b[0;36mload_binpersid\u001b[0;34m(self)\u001b[0m\n\u001b[1;32m   1252\u001b[0m     \u001b[0;32mdef\u001b[0m \u001b[0mload_binpersid\u001b[0m\u001b[0;34m(\u001b[0m\u001b[0mself\u001b[0m\u001b[0;34m)\u001b[0m\u001b[0;34m:\u001b[0m\u001b[0;34m\u001b[0m\u001b[0;34m\u001b[0m\u001b[0m\n\u001b[1;32m   1253\u001b[0m         \u001b[0mpid\u001b[0m \u001b[0;34m=\u001b[0m \u001b[0mself\u001b[0m\u001b[0;34m.\u001b[0m\u001b[0mstack\u001b[0m\u001b[0;34m.\u001b[0m\u001b[0mpop\u001b[0m\u001b[0;34m(\u001b[0m\u001b[0;34m)\u001b[0m\u001b[0;34m\u001b[0m\u001b[0;34m\u001b[0m\u001b[0m\n\u001b[0;32m-> 1254\u001b[0;31m         \u001b[0mself\u001b[0m\u001b[0;34m.\u001b[0m\u001b[0mappend\u001b[0m\u001b[0;34m(\u001b[0m\u001b[0mself\u001b[0m\u001b[0;34m.\u001b[0m\u001b[0mpersistent_load\u001b[0m\u001b[0;34m(\u001b[0m\u001b[0mpid\u001b[0m\u001b[0;34m)\u001b[0m\u001b[0;34m)\u001b[0m\u001b[0;34m\u001b[0m\u001b[0;34m\u001b[0m\u001b[0m\n\u001b[0m\u001b[1;32m   1255\u001b[0m     \u001b[0mdispatch\u001b[0m\u001b[0;34m[\u001b[0m\u001b[0mBINPERSID\u001b[0m\u001b[0;34m[\u001b[0m\u001b[0;36m0\u001b[0m\u001b[0;34m]\u001b[0m\u001b[0;34m]\u001b[0m \u001b[0;34m=\u001b[0m \u001b[0mload_binpersid\u001b[0m\u001b[0;34m\u001b[0m\u001b[0;34m\u001b[0m\u001b[0m\n\u001b[1;32m   1256\u001b[0m \u001b[0;34m\u001b[0m\u001b[0m\n",
            "\u001b[0;32m/usr/local/lib/python3.10/dist-packages/torch/serialization.py\u001b[0m in \u001b[0;36mpersistent_load\u001b[0;34m(saved_id)\u001b[0m\n\u001b[1;32m   1140\u001b[0m         \u001b[0;32melse\u001b[0m\u001b[0;34m:\u001b[0m\u001b[0;34m\u001b[0m\u001b[0;34m\u001b[0m\u001b[0m\n\u001b[1;32m   1141\u001b[0m             \u001b[0mnbytes\u001b[0m \u001b[0;34m=\u001b[0m \u001b[0mnumel\u001b[0m \u001b[0;34m*\u001b[0m \u001b[0mtorch\u001b[0m\u001b[0;34m.\u001b[0m\u001b[0m_utils\u001b[0m\u001b[0;34m.\u001b[0m\u001b[0m_element_size\u001b[0m\u001b[0;34m(\u001b[0m\u001b[0mdtype\u001b[0m\u001b[0;34m)\u001b[0m\u001b[0;34m\u001b[0m\u001b[0;34m\u001b[0m\u001b[0m\n\u001b[0;32m-> 1142\u001b[0;31m             \u001b[0mtyped_storage\u001b[0m \u001b[0;34m=\u001b[0m \u001b[0mload_tensor\u001b[0m\u001b[0;34m(\u001b[0m\u001b[0mdtype\u001b[0m\u001b[0;34m,\u001b[0m \u001b[0mnbytes\u001b[0m\u001b[0;34m,\u001b[0m \u001b[0mkey\u001b[0m\u001b[0;34m,\u001b[0m \u001b[0m_maybe_decode_ascii\u001b[0m\u001b[0;34m(\u001b[0m\u001b[0mlocation\u001b[0m\u001b[0;34m)\u001b[0m\u001b[0;34m)\u001b[0m\u001b[0;34m\u001b[0m\u001b[0;34m\u001b[0m\u001b[0m\n\u001b[0m\u001b[1;32m   1143\u001b[0m \u001b[0;34m\u001b[0m\u001b[0m\n\u001b[1;32m   1144\u001b[0m         \u001b[0;32mreturn\u001b[0m \u001b[0mtyped_storage\u001b[0m\u001b[0;34m\u001b[0m\u001b[0;34m\u001b[0m\u001b[0m\n",
            "\u001b[0;32m/usr/local/lib/python3.10/dist-packages/torch/serialization.py\u001b[0m in \u001b[0;36mload_tensor\u001b[0;34m(dtype, numel, key, location)\u001b[0m\n\u001b[1;32m   1114\u001b[0m         \u001b[0;31m# stop wrapping with TypedStorage\u001b[0m\u001b[0;34m\u001b[0m\u001b[0;34m\u001b[0m\u001b[0m\n\u001b[1;32m   1115\u001b[0m         typed_storage = torch.storage.TypedStorage(\n\u001b[0;32m-> 1116\u001b[0;31m             \u001b[0mwrap_storage\u001b[0m\u001b[0;34m=\u001b[0m\u001b[0mrestore_location\u001b[0m\u001b[0;34m(\u001b[0m\u001b[0mstorage\u001b[0m\u001b[0;34m,\u001b[0m \u001b[0mlocation\u001b[0m\u001b[0;34m)\u001b[0m\u001b[0;34m,\u001b[0m\u001b[0;34m\u001b[0m\u001b[0;34m\u001b[0m\u001b[0m\n\u001b[0m\u001b[1;32m   1117\u001b[0m             \u001b[0mdtype\u001b[0m\u001b[0;34m=\u001b[0m\u001b[0mdtype\u001b[0m\u001b[0;34m,\u001b[0m\u001b[0;34m\u001b[0m\u001b[0;34m\u001b[0m\u001b[0m\n\u001b[1;32m   1118\u001b[0m             _internal=True)\n",
            "\u001b[0;32m/usr/local/lib/python3.10/dist-packages/torch/serialization.py\u001b[0m in \u001b[0;36mdefault_restore_location\u001b[0;34m(storage, location)\u001b[0m\n\u001b[1;32m    215\u001b[0m \u001b[0;32mdef\u001b[0m \u001b[0mdefault_restore_location\u001b[0m\u001b[0;34m(\u001b[0m\u001b[0mstorage\u001b[0m\u001b[0;34m,\u001b[0m \u001b[0mlocation\u001b[0m\u001b[0;34m)\u001b[0m\u001b[0;34m:\u001b[0m\u001b[0;34m\u001b[0m\u001b[0;34m\u001b[0m\u001b[0m\n\u001b[1;32m    216\u001b[0m     \u001b[0;32mfor\u001b[0m \u001b[0m_\u001b[0m\u001b[0;34m,\u001b[0m \u001b[0m_\u001b[0m\u001b[0;34m,\u001b[0m \u001b[0mfn\u001b[0m \u001b[0;32min\u001b[0m \u001b[0m_package_registry\u001b[0m\u001b[0;34m:\u001b[0m\u001b[0;34m\u001b[0m\u001b[0;34m\u001b[0m\u001b[0m\n\u001b[0;32m--> 217\u001b[0;31m         \u001b[0mresult\u001b[0m \u001b[0;34m=\u001b[0m \u001b[0mfn\u001b[0m\u001b[0;34m(\u001b[0m\u001b[0mstorage\u001b[0m\u001b[0;34m,\u001b[0m \u001b[0mlocation\u001b[0m\u001b[0;34m)\u001b[0m\u001b[0;34m\u001b[0m\u001b[0;34m\u001b[0m\u001b[0m\n\u001b[0m\u001b[1;32m    218\u001b[0m         \u001b[0;32mif\u001b[0m \u001b[0mresult\u001b[0m \u001b[0;32mis\u001b[0m \u001b[0;32mnot\u001b[0m \u001b[0;32mNone\u001b[0m\u001b[0;34m:\u001b[0m\u001b[0;34m\u001b[0m\u001b[0;34m\u001b[0m\u001b[0m\n\u001b[1;32m    219\u001b[0m             \u001b[0;32mreturn\u001b[0m \u001b[0mresult\u001b[0m\u001b[0;34m\u001b[0m\u001b[0;34m\u001b[0m\u001b[0m\n",
            "\u001b[0;32m/usr/local/lib/python3.10/dist-packages/torch/serialization.py\u001b[0m in \u001b[0;36m_cuda_deserialize\u001b[0;34m(obj, location)\u001b[0m\n\u001b[1;32m    180\u001b[0m \u001b[0;32mdef\u001b[0m \u001b[0m_cuda_deserialize\u001b[0m\u001b[0;34m(\u001b[0m\u001b[0mobj\u001b[0m\u001b[0;34m,\u001b[0m \u001b[0mlocation\u001b[0m\u001b[0;34m)\u001b[0m\u001b[0;34m:\u001b[0m\u001b[0;34m\u001b[0m\u001b[0;34m\u001b[0m\u001b[0m\n\u001b[1;32m    181\u001b[0m     \u001b[0;32mif\u001b[0m \u001b[0mlocation\u001b[0m\u001b[0;34m.\u001b[0m\u001b[0mstartswith\u001b[0m\u001b[0;34m(\u001b[0m\u001b[0;34m'cuda'\u001b[0m\u001b[0;34m)\u001b[0m\u001b[0;34m:\u001b[0m\u001b[0;34m\u001b[0m\u001b[0;34m\u001b[0m\u001b[0m\n\u001b[0;32m--> 182\u001b[0;31m         \u001b[0mdevice\u001b[0m \u001b[0;34m=\u001b[0m \u001b[0mvalidate_cuda_device\u001b[0m\u001b[0;34m(\u001b[0m\u001b[0mlocation\u001b[0m\u001b[0;34m)\u001b[0m\u001b[0;34m\u001b[0m\u001b[0;34m\u001b[0m\u001b[0m\n\u001b[0m\u001b[1;32m    183\u001b[0m         \u001b[0;32mif\u001b[0m \u001b[0mgetattr\u001b[0m\u001b[0;34m(\u001b[0m\u001b[0mobj\u001b[0m\u001b[0;34m,\u001b[0m \u001b[0;34m\"_torch_load_uninitialized\"\u001b[0m\u001b[0;34m,\u001b[0m \u001b[0;32mFalse\u001b[0m\u001b[0;34m)\u001b[0m\u001b[0;34m:\u001b[0m\u001b[0;34m\u001b[0m\u001b[0;34m\u001b[0m\u001b[0m\n\u001b[1;32m    184\u001b[0m             \u001b[0;32mwith\u001b[0m \u001b[0mtorch\u001b[0m\u001b[0;34m.\u001b[0m\u001b[0mcuda\u001b[0m\u001b[0;34m.\u001b[0m\u001b[0mdevice\u001b[0m\u001b[0;34m(\u001b[0m\u001b[0mdevice\u001b[0m\u001b[0;34m)\u001b[0m\u001b[0;34m:\u001b[0m\u001b[0;34m\u001b[0m\u001b[0;34m\u001b[0m\u001b[0m\n",
            "\u001b[0;32m/usr/local/lib/python3.10/dist-packages/torch/serialization.py\u001b[0m in \u001b[0;36mvalidate_cuda_device\u001b[0;34m(location)\u001b[0m\n\u001b[1;32m    164\u001b[0m \u001b[0;34m\u001b[0m\u001b[0m\n\u001b[1;32m    165\u001b[0m     \u001b[0;32mif\u001b[0m \u001b[0;32mnot\u001b[0m \u001b[0mtorch\u001b[0m\u001b[0;34m.\u001b[0m\u001b[0mcuda\u001b[0m\u001b[0;34m.\u001b[0m\u001b[0mis_available\u001b[0m\u001b[0;34m(\u001b[0m\u001b[0;34m)\u001b[0m\u001b[0;34m:\u001b[0m\u001b[0;34m\u001b[0m\u001b[0;34m\u001b[0m\u001b[0m\n\u001b[0;32m--> 166\u001b[0;31m         raise RuntimeError('Attempting to deserialize object on a CUDA '\n\u001b[0m\u001b[1;32m    167\u001b[0m                            \u001b[0;34m'device but torch.cuda.is_available() is False. '\u001b[0m\u001b[0;34m\u001b[0m\u001b[0;34m\u001b[0m\u001b[0m\n\u001b[1;32m    168\u001b[0m                            \u001b[0;34m'If you are running on a CPU-only machine, '\u001b[0m\u001b[0;34m\u001b[0m\u001b[0;34m\u001b[0m\u001b[0m\n",
            "\u001b[0;31mRuntimeError\u001b[0m: Attempting to deserialize object on a CUDA device but torch.cuda.is_available() is False. If you are running on a CPU-only machine, please use torch.load with map_location=torch.device('cpu') to map your storages to the CPU."
          ]
        }
      ],
      "source": [
        "simclr_model = train_simclr(batch_size=256, \n",
        "                            hidden_dim=128, \n",
        "                            lr=5e-4, \n",
        "                            temperature=0.07, \n",
        "                            weight_decay=1e-4, \n",
        "                            max_epochs=500)"
      ]
    },
    {
      "cell_type": "markdown",
      "metadata": {
        "id": "anVTSutX55Ok"
      },
      "source": [
        "To get an intuition of how training with contrastive learning behaves, we can take a look at the TensorBoard below:"
      ]
    },
    {
      "cell_type": "code",
      "execution_count": null,
      "metadata": {
        "id": "s6nQSnqJ55Ok"
      },
      "outputs": [],
      "source": [
        "%tensorboard --logdir ../saved_models/tutorial17/tensorboards/SimCLR/"
      ]
    },
    {
      "cell_type": "markdown",
      "metadata": {
        "id": "GqrB0McU55Ol"
      },
      "source": [
        "<center width=\"100%\"><img src=\"https://github.com/phlippe/uvadlc_notebooks/blob/master/docs/tutorial_notebooks/tutorial17/tensorboard_simclr.png?raw=1\" width=\"1200px\"></center>\n",
        "\n",
        "One thing to note is that contrastive learning benefits a lot from long training. The shown plot above is from a training that took approx. 1 day on a NVIDIA TitanRTX. Training the model for even longer might reduce its loss further, but we did not experience any gains from it for the downstream task on image classification. In general, contrastive learning can also benefit from using larger models, if sufficient unlabeled data is available."
      ]
    },
    {
      "cell_type": "markdown",
      "metadata": {
        "id": "ypN-sT-w55Ol"
      },
      "source": [
        "## Logistic Regression\n",
        "\n",
        "After we have trained our model via contrastive learning, we can deploy it on downstream tasks and see how well it performs with little data. A common setup, which also verifies whether the model has learned generalized representations, is to perform Logistic Regression on the features. In other words, we learn a single, linear layer that maps the representations to a class prediction. Since the base network $f(\\cdot)$ is not changed during the training process, the model can only perform well if the representations of $h$ describe all features that might be necessary for the task. Further, we do not have to worry too much about overfitting since we have very few parameters that are trained. Hence, we might expect that the model can perform well even with very little data.\n",
        "\n",
        "First, let's implement a simple Logistic Regression setup for which we assume that the images already have been encoded in their feature vectors. If very little data is available, it might be beneficial to dynamically encode the images during training so that we can also apply data augmentations. However, the way we implement it here is much more efficient and can be trained within a few seconds. Further, using data augmentations did not show any significant gain in this simple setup."
      ]
    },
    {
      "cell_type": "code",
      "execution_count": null,
      "metadata": {
        "id": "VffV8KPX55Om"
      },
      "outputs": [],
      "source": [
        "class LogisticRegression(pl.LightningModule):\n",
        "    \n",
        "    def __init__(self, feature_dim, num_classes, lr, weight_decay, max_epochs=100):\n",
        "        super().__init__()\n",
        "        self.save_hyperparameters()\n",
        "        # Mapping from representation h to classes\n",
        "        self.model = nn.Linear(feature_dim, num_classes)\n",
        "\n",
        "    def configure_optimizers(self):\n",
        "        optimizer = optim.AdamW(self.parameters(), \n",
        "                                lr=self.hparams.lr, \n",
        "                                weight_decay=self.hparams.weight_decay)\n",
        "        lr_scheduler = optim.lr_scheduler.MultiStepLR(optimizer, \n",
        "                                                      milestones=[int(self.hparams.max_epochs*0.6), \n",
        "                                                                  int(self.hparams.max_epochs*0.8)], \n",
        "                                                      gamma=0.1)\n",
        "        return [optimizer], [lr_scheduler]\n",
        "        \n",
        "    def _calculate_loss(self, batch, mode='train'):\n",
        "        feats, labels = batch\n",
        "        preds = self.model(feats)\n",
        "        loss = F.cross_entropy(preds, labels)\n",
        "        acc = (preds.argmax(dim=-1) == labels).float().mean()\n",
        "\n",
        "        self.log(mode + '_loss', loss)\n",
        "        self.log(mode + '_acc', acc)\n",
        "        return loss        \n",
        "        \n",
        "    def training_step(self, batch, batch_idx):\n",
        "        return self._calculate_loss(batch, mode='train')\n",
        "        \n",
        "    def validation_step(self, batch, batch_idx):\n",
        "        self._calculate_loss(batch, mode='val')\n",
        "        \n",
        "    def test_step(self, batch, batch_idx):\n",
        "        self._calculate_loss(batch, mode='test')"
      ]
    },
    {
      "cell_type": "markdown",
      "metadata": {
        "id": "AoQ3otao55On"
      },
      "source": [
        "The data we use is the training and test set of STL10. The training contains 500 images per class, while the test set has 800 images per class."
      ]
    },
    {
      "cell_type": "code",
      "execution_count": null,
      "metadata": {
        "id": "D7_Pumn055Oo"
      },
      "outputs": [],
      "source": [
        "img_transforms = transforms.Compose([transforms.ToTensor(),\n",
        "                                     transforms.Normalize((0.5,), (0.5,))])\n",
        "\n",
        "train_img_data = STL10(root=DATASET_PATH, split='train', download=True,\n",
        "                       transform=img_transforms)\n",
        "test_img_data = STL10(root=DATASET_PATH, split='test', download=True,\n",
        "                      transform=img_transforms)\n",
        "\n",
        "print(\"Number of training examples:\", len(train_img_data))\n",
        "print(\"Number of test examples:\", len(test_img_data))"
      ]
    },
    {
      "cell_type": "markdown",
      "metadata": {
        "id": "B5DtBiYD55Op"
      },
      "source": [
        "Next, we implement a small function to encode all images in our datasets. The output representations are then used as inputs to the Logistic Regression model."
      ]
    },
    {
      "cell_type": "code",
      "execution_count": null,
      "metadata": {
        "id": "dipETlA955Op"
      },
      "outputs": [],
      "source": [
        "@torch.no_grad()\n",
        "def prepare_data_features(model, dataset):\n",
        "    # Prepare model\n",
        "    network = deepcopy(model.convnet)\n",
        "    network.fc = nn.Identity()  # Removing projection head g(.)\n",
        "    network.eval()\n",
        "    network.to(device)\n",
        "    \n",
        "    # Encode all images\n",
        "    data_loader = data.DataLoader(dataset, batch_size=64, num_workers=NUM_WORKERS, shuffle=False, drop_last=False)\n",
        "    feats, labels = [], []\n",
        "    for batch_imgs, batch_labels in tqdm(data_loader):\n",
        "        batch_imgs = batch_imgs.to(device)\n",
        "        batch_feats = network(batch_imgs)\n",
        "        feats.append(batch_feats.detach().cpu())\n",
        "        labels.append(batch_labels)\n",
        "    \n",
        "    feats = torch.cat(feats, dim=0)\n",
        "    labels = torch.cat(labels, dim=0)\n",
        "    \n",
        "    # Sort images by labels\n",
        "    labels, idxs = labels.sort()\n",
        "    feats = feats[idxs]\n",
        "    \n",
        "    return data.TensorDataset(feats, labels)"
      ]
    },
    {
      "cell_type": "code",
      "source": [],
      "metadata": {
        "id": "OEjFd45KX1NU"
      },
      "execution_count": null,
      "outputs": []
    },
    {
      "cell_type": "markdown",
      "metadata": {
        "id": "hRhkvc3Z55Oq"
      },
      "source": [
        "Let's apply the function to both training and test set below."
      ]
    },
    {
      "cell_type": "code",
      "execution_count": null,
      "metadata": {
        "id": "G4loxBPr55Oq"
      },
      "outputs": [],
      "source": [
        "train_feats_simclr = prepare_data_features(simclr_model, train_img_data)\n",
        "test_feats_simclr = prepare_data_features(simclr_model, test_img_data)"
      ]
    },
    {
      "cell_type": "markdown",
      "metadata": {
        "id": "ZrdJEYYf55Or"
      },
      "source": [
        "Finally, we can write a training function as usual. We evaluate the model on the test set every 10 epochs to allow early stopping, but the low frequency of the validation ensures that we do not overfit too much on the test set."
      ]
    },
    {
      "cell_type": "code",
      "execution_count": null,
      "metadata": {
        "id": "KVhKPpu155Os"
      },
      "outputs": [],
      "source": [
        "def train_logreg(batch_size, train_feats_data, test_feats_data, model_suffix, max_epochs=100, **kwargs):\n",
        "    trainer = pl.Trainer(default_root_dir=os.path.join(CHECKPOINT_PATH, \"LogisticRegression\"),\n",
        "                         accelerator=\"gpu\" if str(device).startswith(\"cuda\") else \"cpu\",\n",
        "                         devices=1,\n",
        "                         max_epochs=max_epochs,\n",
        "                         callbacks=[ModelCheckpoint(save_weights_only=True, mode='max', monitor='val_acc'),\n",
        "                                    LearningRateMonitor(\"epoch\")],\n",
        "                         enable_progress_bar=False,\n",
        "                         check_val_every_n_epoch=10)\n",
        "    trainer.logger._default_hp_metric = None\n",
        "    \n",
        "    # Data loaders\n",
        "    train_loader = data.DataLoader(train_feats_data, batch_size=batch_size, shuffle=True, \n",
        "                                   drop_last=False, pin_memory=True, num_workers=0)\n",
        "    test_loader = data.DataLoader(test_feats_data, batch_size=batch_size, shuffle=False, \n",
        "                                  drop_last=False, pin_memory=True, num_workers=0)\n",
        "\n",
        "    # Check whether pretrained model exists. If yes, load it and skip training\n",
        "    pretrained_filename = os.path.join(CHECKPOINT_PATH, f\"LogisticRegression_{model_suffix}.ckpt\")\n",
        "    if os.path.isfile(pretrained_filename):\n",
        "        print(f\"Found pretrained model at {pretrained_filename}, loading...\")\n",
        "        model = LogisticRegression.load_from_checkpoint(pretrained_filename)\n",
        "    else:\n",
        "        pl.seed_everything(42)  # To be reproducable\n",
        "        model = LogisticRegression(**kwargs)\n",
        "        trainer.fit(model, train_loader, test_loader)\n",
        "        model = LogisticRegression.load_from_checkpoint(trainer.checkpoint_callback.best_model_path)\n",
        "\n",
        "    # Test best model on train and validation set\n",
        "    train_result = trainer.test(model, train_loader, verbose=False)\n",
        "    test_result = trainer.test(model, test_loader, verbose=False)\n",
        "    result = {\"train\": train_result[0][\"test_acc\"], \"test\": test_result[0][\"test_acc\"]}\n",
        "        \n",
        "    return model, result"
      ]
    },
    {
      "cell_type": "markdown",
      "metadata": {
        "id": "jTUlXnBH55Os"
      },
      "source": [
        "Despite the training dataset of STL10 already only having 500 labeled images per class, we will perform experiments with even smaller datasets. Specifically, we train a Logistic Regression model for datasets with only 10, 20, 50, 100, 200, and all 500 examples per class. This gives us an intuition on how well the representations learned by contrastive learning can be transfered to a image recognition task like this classification. First, let's define a function to create the intended sub-datasets from the full training set:"
      ]
    },
    {
      "cell_type": "code",
      "execution_count": null,
      "metadata": {
        "id": "hbcMKwQG55Ot"
      },
      "outputs": [],
      "source": [
        "def get_smaller_dataset(original_dataset, num_imgs_per_label):\n",
        "    new_dataset = data.TensorDataset(\n",
        "        *[t.unflatten(0, (10, -1))[:,:num_imgs_per_label].flatten(0, 1) for t in original_dataset.tensors]\n",
        "    )\n",
        "    return new_dataset"
      ]
    },
    {
      "cell_type": "markdown",
      "metadata": {
        "id": "pJQzyzC955Ou"
      },
      "source": [
        "Next, let's run all models. Despite us training 6 models, this cell could be run within a minute or two without the pretrained models. "
      ]
    },
    {
      "cell_type": "code",
      "execution_count": null,
      "metadata": {
        "scrolled": true,
        "id": "GKJaKgUe55Ou"
      },
      "outputs": [],
      "source": [
        "results = {}\n",
        "for num_imgs_per_label in [10, 20, 50, 100, 200, 500]:\n",
        "    sub_train_set = get_smaller_dataset(train_feats_simclr, num_imgs_per_label)\n",
        "    _, small_set_results = train_logreg(batch_size=64,\n",
        "                                        train_feats_data=sub_train_set,\n",
        "                                        test_feats_data=test_feats_simclr,\n",
        "                                        model_suffix=num_imgs_per_label,\n",
        "                                        feature_dim=train_feats_simclr.tensors[0].shape[1],\n",
        "                                        num_classes=10,\n",
        "                                        lr=1e-3,\n",
        "                                        weight_decay=1e-3)\n",
        "    results[num_imgs_per_label] = small_set_results"
      ]
    },
    {
      "cell_type": "markdown",
      "metadata": {
        "id": "0gTjbTGv55Ov"
      },
      "source": [
        "Finally, let's plot the results."
      ]
    },
    {
      "cell_type": "code",
      "execution_count": null,
      "metadata": {
        "id": "uy0Czg4n55Ox"
      },
      "outputs": [],
      "source": [
        "dataset_sizes = sorted([k for k in results])\n",
        "test_scores = [results[k][\"test\"] for k in dataset_sizes]\n",
        "\n",
        "fig = plt.figure(figsize=(6,4))\n",
        "plt.plot(dataset_sizes, test_scores, '--', color=\"#000\", marker=\"*\", markeredgecolor=\"#000\", markerfacecolor=\"y\", markersize=16)\n",
        "plt.xscale(\"log\")\n",
        "plt.xticks(dataset_sizes, labels=dataset_sizes)\n",
        "plt.title(\"STL10 classification over dataset size\", fontsize=14)\n",
        "plt.xlabel(\"Number of images per class\")\n",
        "plt.ylabel(\"Test accuracy\")\n",
        "plt.minorticks_off()\n",
        "plt.show()\n",
        "\n",
        "for k, score in zip(dataset_sizes, test_scores):\n",
        "    print(f'Test accuracy for {k:3d} images per label: {100*score:4.2f}%')"
      ]
    },
    {
      "cell_type": "markdown",
      "metadata": {
        "id": "oe5Ywt4L55Oy"
      },
      "source": [
        "As one would expect, the classification performance improves the more data we have. However, with only 10 images per class, we can already classify more than 60% of the images correctly. This is quite impressive, considering that the images are also higher dimensional than e.g. CIFAR10. With the full dataset, we achieve an accuracy of 81%. The increase between 50 to 500 images per class might suggest a linear increase in performance with an exponentially larger dataset. However, with even more data, we could also finetune $f(\\cdot)$ in the training process, allowing for the representations to adapt more to the specific classification task given.\n",
        "\n",
        "To set the results above into perspective, we will train the base network, a ResNet-18, on the classification task from scratch."
      ]
    },
    {
      "cell_type": "markdown",
      "metadata": {
        "id": "6dWTOPGT55Oz"
      },
      "source": [
        "## Baseline\n",
        "\n",
        "As a baseline to our results above, we will train a standard ResNet-18 with random initialization on the labeled training set of STL10. The results will give us an indication of the advantages that contrastive learning on unlabeled data has compared to using only supervised training. The implementation of the model is straightforward since the ResNet architecture is provided in the torchvision library."
      ]
    },
    {
      "cell_type": "code",
      "execution_count": null,
      "metadata": {
        "id": "-zg-gpCa55Oz"
      },
      "outputs": [],
      "source": [
        "class ResNet(pl.LightningModule):\n",
        "\n",
        "    def __init__(self, num_classes, lr, weight_decay, max_epochs=100):\n",
        "        super().__init__()\n",
        "        self.save_hyperparameters()\n",
        "        self.model = torchvision.models.resnet18(num_classes=num_classes)\n",
        "\n",
        "    def configure_optimizers(self):\n",
        "        optimizer = optim.AdamW(self.parameters(), \n",
        "                                lr=self.hparams.lr, \n",
        "                                weight_decay=self.hparams.weight_decay)\n",
        "        lr_scheduler = optim.lr_scheduler.MultiStepLR(optimizer, \n",
        "                                                      milestones=[int(self.hparams.max_epochs*0.7), \n",
        "                                                                  int(self.hparams.max_epochs*0.9)], \n",
        "                                                      gamma=0.1)\n",
        "        return [optimizer], [lr_scheduler]\n",
        "\n",
        "    def _calculate_loss(self, batch, mode='train'):\n",
        "        imgs, labels = batch\n",
        "        preds = self.model(imgs)\n",
        "        loss = F.cross_entropy(preds, labels)\n",
        "        acc = (preds.argmax(dim=-1) == labels).float().mean()\n",
        "\n",
        "        self.log(mode + '_loss', loss)\n",
        "        self.log(mode + '_acc', acc)\n",
        "        return loss\n",
        "\n",
        "    def training_step(self, batch, batch_idx):\n",
        "        return self._calculate_loss(batch, mode='train')\n",
        "\n",
        "    def validation_step(self, batch, batch_idx):\n",
        "        self._calculate_loss(batch, mode='val')\n",
        "\n",
        "    def test_step(self, batch, batch_idx):\n",
        "        self._calculate_loss(batch, mode='test')"
      ]
    },
    {
      "cell_type": "markdown",
      "metadata": {
        "id": "18SCIdUW55O0"
      },
      "source": [
        "It is clear that the ResNet easily overfits on the training data since its parameter count is more than 1000 times larger than the dataset size. To make the comparison to the contrastive learning models fair, we apply data augmentations similar to the ones we used before: horizontal flip, crop-and-resize, grayscale, and gaussian blur. Color distortions as before are not used because the color distribution of an image showed to be an important feature for the classification. Hence, we observed no noticeable performance gains when adding color distortions to the set of augmentations. Similarly, we restrict the resizing operation before cropping to the max. 125% of its original resolution, instead of 1250% as done in SimCLR. This is because, for classification, the model needs to recognize the full object, while in contrastive learning, we only want to check whether two patches belong to the same image/object. Hence, the chosen augmentations below are overall weaker than in the contrastive learning case."
      ]
    },
    {
      "cell_type": "code",
      "execution_count": null,
      "metadata": {
        "id": "d_JQDg6r55O1"
      },
      "outputs": [],
      "source": [
        "train_transforms = transforms.Compose([transforms.RandomHorizontalFlip(),\n",
        "                                       transforms.RandomResizedCrop(size=96, scale=(0.8, 1.0)),\n",
        "                                       transforms.RandomGrayscale(p=0.2),\n",
        "                                       transforms.GaussianBlur(kernel_size=9, sigma=(0.1, 0.5)),\n",
        "                                       transforms.ToTensor(),\n",
        "                                       transforms.Normalize((0.5,), (0.5,))\n",
        "                                       ])\n",
        "\n",
        "train_img_aug_data = STL10(root=DATASET_PATH, split='train', download=True,\n",
        "                           transform=train_transforms)"
      ]
    },
    {
      "cell_type": "markdown",
      "metadata": {
        "id": "2EWKFREZ55O3"
      },
      "source": [
        "The training function for the ResNet is almost identical to the Logistic Regression setup. Note that we allow the ResNet to perform validation every 2 epochs to also check whether the model overfits strongly in the first iterations or not."
      ]
    },
    {
      "cell_type": "code",
      "execution_count": null,
      "metadata": {
        "id": "-ylIYSaE55O3"
      },
      "outputs": [],
      "source": [
        "def train_resnet(batch_size, max_epochs=100, **kwargs):\n",
        "    trainer = pl.Trainer(default_root_dir=os.path.join(CHECKPOINT_PATH, \"ResNet\"),\n",
        "                         accelerator=\"gpu\" if str(device).startswith(\"cuda\") else \"cpu\",\n",
        "                         devices=1,\n",
        "                         max_epochs=max_epochs,\n",
        "                         callbacks=[ModelCheckpoint(save_weights_only=True, mode=\"max\", monitor=\"val_acc\"),\n",
        "                                    LearningRateMonitor(\"epoch\")],\n",
        "                         check_val_every_n_epoch=2)\n",
        "    trainer.logger._default_hp_metric = None\n",
        "    \n",
        "    # Data loaders\n",
        "    train_loader = data.DataLoader(train_img_aug_data, batch_size=batch_size, shuffle=True, \n",
        "                                   drop_last=True, pin_memory=True, num_workers=NUM_WORKERS)\n",
        "    test_loader = data.DataLoader(test_img_data, batch_size=batch_size, shuffle=False, \n",
        "                                  drop_last=False, pin_memory=True, num_workers=NUM_WORKERS)\n",
        "\n",
        "    # Check whether pretrained model exists. If yes, load it and skip training\n",
        "    pretrained_filename = os.path.join(CHECKPOINT_PATH, \"ResNet.ckpt\")\n",
        "    if os.path.isfile(pretrained_filename):\n",
        "        print(\"Found pretrained model at %s, loading...\" % pretrained_filename)\n",
        "        model = ResNet.load_from_checkpoint(pretrained_filename)\n",
        "    else:\n",
        "        pl.seed_everything(42) # To be reproducable\n",
        "        model = ResNet(**kwargs)\n",
        "        trainer.fit(model, train_loader, test_loader)\n",
        "        model = ResNet.load_from_checkpoint(trainer.checkpoint_callback.best_model_path)\n",
        "\n",
        "    # Test best model on validation set\n",
        "    train_result = trainer.test(model, train_loader, verbose=False)\n",
        "    val_result = trainer.test(model, test_loader, verbose=False)\n",
        "    result = {\"train\": train_result[0][\"test_acc\"], \"test\": val_result[0][\"test_acc\"]}\n",
        "        \n",
        "    return model, result"
      ]
    },
    {
      "cell_type": "markdown",
      "metadata": {
        "id": "EPcStcVt55O5"
      },
      "source": [
        "Finally, let's train the model and check its results:"
      ]
    },
    {
      "cell_type": "code",
      "execution_count": null,
      "metadata": {
        "id": "HI4q2zIR55O6"
      },
      "outputs": [],
      "source": [
        "resnet_model, resnet_result = train_resnet(batch_size=64,\n",
        "                                           num_classes=10,\n",
        "                                           lr=1e-3,\n",
        "                                           weight_decay=2e-4,\n",
        "                                           max_epochs=100)\n",
        "print(f\"Accuracy on training set: {100*resnet_result['train']:4.2f}%\")\n",
        "print(f\"Accuracy on test set: {100*resnet_result['test']:4.2f}%\")"
      ]
    },
    {
      "cell_type": "markdown",
      "metadata": {
        "id": "Xc6c36RZ55O7"
      },
      "source": [
        "The ResNet trained from scratch achieves 73.31% on the test set. This is almost 8% less than the contrastive learning model, and even slightly less than SimCLR achieves with 1/10 of the data. This shows that self-supervised, contrastive learning provides considerable performance gains by leveraging large amounts of unlabeled data when little labeled data is available."
      ]
    },
    {
      "cell_type": "markdown",
      "metadata": {
        "id": "Six3Kwsm55O8"
      },
      "source": [
        "## Conclusion\n",
        "\n",
        "In this tutorial, we have discussed self-supervised contrastive learning and implemented SimCLR as an example method. We have applied it to the STL10 dataset and showed that it can learn generalizable representations that we can use to train simple classification models. With 500 images per label, it achieved an 8% higher accuracy than a similar model solely trained from supervision and performs on par with it when only using a tenth of the labeled data. Our experimental results are limited to a single dataset, but recent works such as [Ting Chen et al.](https://arxiv.org/abs/2006.10029) showed similar trends for larger datasets like ImageNet. Besides the discussed hyperparameters, the size of the model seems to be important in contrastive learning as well. If a lot of unlabeled data is available, larger models can achieve much stronger results and come close to their supervised baselines. Further, there are also approaches for combining contrastive and supervised learning, leading to performance gains beyond supervision (see [Khosla et al.](https://arxiv.org/abs/2004.11362)). Moreover, contrastive learning is not the only approach to self-supervised learning that has come up in the last two years and showed great results. Other methods include distillation-based methods like [BYOL](https://arxiv.org/abs/2006.07733) and redundancy reduction techniques like [Barlow Twins](https://arxiv.org/abs/2103.03230). There is a lot more to explore in the self-supervised domain, and more, impressive steps ahead are to be expected.\n",
        "\n",
        "### References\n",
        "\n",
        "[1] Chen, T., Kornblith, S., Norouzi, M., and Hinton, G. (2020). A simple framework for contrastive learning of visual representations. In International Conference on Machine Learning (ICML 2020). PMLR. ([link](https://arxiv.org/abs/2002.05709))\n",
        "\n",
        "[2] Chen, T., Kornblith, S., Swersky, K., Norouzi, M., and Hinton, G. (2020). Big self-supervised models are strong semi-supervised learners. NeurIPS 2021 ([link](https://arxiv.org/abs/2006.10029)).\n",
        "\n",
        "[3] Oord, A. V. D., Li, Y., and Vinyals, O. (2018). Representation learning with contrastive predictive coding. arXiv preprint arXiv:1807.03748. ([link](https://arxiv.org/abs/1807.03748))\n",
        "\n",
        "[4] Grill, J.B., Strub, F., Altché, F., Tallec, C., Richemond, P.H., Buchatskaya, E., Doersch, C., Pires, B.A., Guo, Z.D., Azar, M.G. and Piot, B. (2020). Bootstrap your own latent: A new approach to self-supervised learning. NeurIPS 2020 ([link](https://arxiv.org/abs/2006.07733))\n",
        "\n",
        "[5] Khosla, P., Teterwak, P., Wang, C., Sarna, A., Tian, Y., Isola, P., Maschinot, A., Liu, C. and Krishnan, D. (2020). Supervised contrastive learning. NeurIPS 2020 ([link](https://arxiv.org/abs/2004.11362))\n",
        "\n",
        "[6] Zbontar, J., Jing, L., Misra, I., LeCun, Y. and Deny, S. (2021). Barlow twins: Self-supervised learning via redundancy reduction. In International Conference on Machine Learning (ICML 2021). ([link](https://arxiv.org/abs/2103.03230))"
      ]
    },
    {
      "cell_type": "markdown",
      "metadata": {
        "id": "Q9eDeTDf55O9"
      },
      "source": [
        "---\n",
        "\n",
        "[![Star our repository](https://img.shields.io/static/v1.svg?logo=star&label=⭐&message=Star%20Our%20Repository&color=yellow)](https://github.com/phlippe/uvadlc_notebooks/)  If you found this tutorial helpful, consider ⭐-ing our repository.    \n",
        "[![Ask questions](https://img.shields.io/static/v1.svg?logo=star&label=❔&message=Ask%20Questions&color=9cf)](https://github.com/phlippe/uvadlc_notebooks/issues)  For any questions, typos, or bugs that you found, please raise an issue on GitHub. \n",
        "\n",
        "---"
      ]
    },
    {
      "cell_type": "code",
      "source": [
        "start = 1100\n",
        "end = 1110\n",
        "for i in range(start,end+1):\n",
        "    print(i)\n",
        "    print('')"
      ],
      "metadata": {
        "id": "Xa5C5HT0uU5i"
      },
      "execution_count": null,
      "outputs": []
    },
    {
      "cell_type": "code",
      "source": [
        "!pip install torchmetrics"
      ],
      "metadata": {
        "id": "whzdBJ7xX8JT",
        "outputId": "35b32958-743d-4074-d406-a24ee0abdb0c",
        "colab": {
          "base_uri": "https://localhost:8080/"
        }
      },
      "execution_count": 1,
      "outputs": [
        {
          "output_type": "stream",
          "name": "stdout",
          "text": [
            "Looking in indexes: https://pypi.org/simple, https://us-python.pkg.dev/colab-wheels/public/simple/\n",
            "Collecting torchmetrics\n",
            "  Downloading torchmetrics-0.11.4-py3-none-any.whl (519 kB)\n",
            "\u001b[2K     \u001b[90m━━━━━━━━━━━━━━━━━━━━━━━━━━━━━━━━━━━━━━━\u001b[0m \u001b[32m519.2/519.2 kB\u001b[0m \u001b[31m6.7 MB/s\u001b[0m eta \u001b[36m0:00:00\u001b[0m\n",
            "\u001b[?25hRequirement already satisfied: numpy>=1.17.2 in /usr/local/lib/python3.10/dist-packages (from torchmetrics) (1.22.4)\n",
            "Requirement already satisfied: torch>=1.8.1 in /usr/local/lib/python3.10/dist-packages (from torchmetrics) (2.0.0+cu118)\n",
            "Requirement already satisfied: packaging in /usr/local/lib/python3.10/dist-packages (from torchmetrics) (23.1)\n",
            "Requirement already satisfied: filelock in /usr/local/lib/python3.10/dist-packages (from torch>=1.8.1->torchmetrics) (3.12.0)\n",
            "Requirement already satisfied: typing-extensions in /usr/local/lib/python3.10/dist-packages (from torch>=1.8.1->torchmetrics) (4.5.0)\n",
            "Requirement already satisfied: sympy in /usr/local/lib/python3.10/dist-packages (from torch>=1.8.1->torchmetrics) (1.11.1)\n",
            "Requirement already satisfied: networkx in /usr/local/lib/python3.10/dist-packages (from torch>=1.8.1->torchmetrics) (3.1)\n",
            "Requirement already satisfied: jinja2 in /usr/local/lib/python3.10/dist-packages (from torch>=1.8.1->torchmetrics) (3.1.2)\n",
            "Requirement already satisfied: triton==2.0.0 in /usr/local/lib/python3.10/dist-packages (from torch>=1.8.1->torchmetrics) (2.0.0)\n",
            "Requirement already satisfied: cmake in /usr/local/lib/python3.10/dist-packages (from triton==2.0.0->torch>=1.8.1->torchmetrics) (3.25.2)\n",
            "Requirement already satisfied: lit in /usr/local/lib/python3.10/dist-packages (from triton==2.0.0->torch>=1.8.1->torchmetrics) (16.0.3)\n",
            "Requirement already satisfied: MarkupSafe>=2.0 in /usr/local/lib/python3.10/dist-packages (from jinja2->torch>=1.8.1->torchmetrics) (2.1.2)\n",
            "Requirement already satisfied: mpmath>=0.19 in /usr/local/lib/python3.10/dist-packages (from sympy->torch>=1.8.1->torchmetrics) (1.3.0)\n",
            "Installing collected packages: torchmetrics\n",
            "Successfully installed torchmetrics-0.11.4\n"
          ]
        }
      ]
    },
    {
      "cell_type": "code",
      "source": [
        "from torchmetrics import RetrievalMAP\n",
        "import torch\n",
        "indexes = torch.Tensor([1, 1, 1, 1, 1, 1, 1])\n",
        "preds = torch.Tensor([0.2, 0.3, 0.5, 0.1, 0.3, 0.5, 0.2])\n",
        "target = torch.Tensor([False, False, True, False, True, False, True])\n",
        "rmap = RetrievalMAP(ignore_index=True)\n",
        "rmap(preds, target)"
      ],
      "metadata": {
        "id": "rW4Le5DPuaOn",
        "colab": {
          "base_uri": "https://localhost:8080/",
          "height": 354
        },
        "outputId": "81cb3865-3ed7-4b5f-8d19-4826a9927602"
      },
      "execution_count": 2,
      "outputs": [
        {
          "output_type": "error",
          "ename": "TypeError",
          "evalue": "ignored",
          "traceback": [
            "\u001b[0;31m---------------------------------------------------------------------------\u001b[0m",
            "\u001b[0;31mTypeError\u001b[0m                                 Traceback (most recent call last)",
            "\u001b[0;32m<ipython-input-2-2094e7faba00>\u001b[0m in \u001b[0;36m<cell line: 7>\u001b[0;34m()\u001b[0m\n\u001b[1;32m      5\u001b[0m \u001b[0mtarget\u001b[0m \u001b[0;34m=\u001b[0m \u001b[0mtorch\u001b[0m\u001b[0;34m.\u001b[0m\u001b[0mTensor\u001b[0m\u001b[0;34m(\u001b[0m\u001b[0;34m[\u001b[0m\u001b[0;32mFalse\u001b[0m\u001b[0;34m,\u001b[0m \u001b[0;32mFalse\u001b[0m\u001b[0;34m,\u001b[0m \u001b[0;32mTrue\u001b[0m\u001b[0;34m,\u001b[0m \u001b[0;32mFalse\u001b[0m\u001b[0;34m,\u001b[0m \u001b[0;32mTrue\u001b[0m\u001b[0;34m,\u001b[0m \u001b[0;32mFalse\u001b[0m\u001b[0;34m,\u001b[0m \u001b[0;32mTrue\u001b[0m\u001b[0;34m]\u001b[0m\u001b[0;34m)\u001b[0m\u001b[0;34m\u001b[0m\u001b[0;34m\u001b[0m\u001b[0m\n\u001b[1;32m      6\u001b[0m \u001b[0mrmap\u001b[0m \u001b[0;34m=\u001b[0m \u001b[0mRetrievalMAP\u001b[0m\u001b[0;34m(\u001b[0m\u001b[0mignore_index\u001b[0m\u001b[0;34m=\u001b[0m\u001b[0;32mTrue\u001b[0m\u001b[0;34m)\u001b[0m\u001b[0;34m\u001b[0m\u001b[0;34m\u001b[0m\u001b[0m\n\u001b[0;32m----> 7\u001b[0;31m \u001b[0mrmap\u001b[0m\u001b[0;34m(\u001b[0m\u001b[0mpreds\u001b[0m\u001b[0;34m,\u001b[0m \u001b[0mtarget\u001b[0m\u001b[0;34m)\u001b[0m\u001b[0;34m\u001b[0m\u001b[0;34m\u001b[0m\u001b[0m\n\u001b[0m",
            "\u001b[0;32m/usr/local/lib/python3.10/dist-packages/torch/nn/modules/module.py\u001b[0m in \u001b[0;36m_call_impl\u001b[0;34m(self, *args, **kwargs)\u001b[0m\n\u001b[1;32m   1499\u001b[0m                 \u001b[0;32mor\u001b[0m \u001b[0m_global_backward_pre_hooks\u001b[0m \u001b[0;32mor\u001b[0m \u001b[0m_global_backward_hooks\u001b[0m\u001b[0;34m\u001b[0m\u001b[0;34m\u001b[0m\u001b[0m\n\u001b[1;32m   1500\u001b[0m                 or _global_forward_hooks or _global_forward_pre_hooks):\n\u001b[0;32m-> 1501\u001b[0;31m             \u001b[0;32mreturn\u001b[0m \u001b[0mforward_call\u001b[0m\u001b[0;34m(\u001b[0m\u001b[0;34m*\u001b[0m\u001b[0margs\u001b[0m\u001b[0;34m,\u001b[0m \u001b[0;34m**\u001b[0m\u001b[0mkwargs\u001b[0m\u001b[0;34m)\u001b[0m\u001b[0;34m\u001b[0m\u001b[0;34m\u001b[0m\u001b[0m\n\u001b[0m\u001b[1;32m   1502\u001b[0m         \u001b[0;31m# Do not call functions when jit is used\u001b[0m\u001b[0;34m\u001b[0m\u001b[0;34m\u001b[0m\u001b[0m\n\u001b[1;32m   1503\u001b[0m         \u001b[0mfull_backward_hooks\u001b[0m\u001b[0;34m,\u001b[0m \u001b[0mnon_full_backward_hooks\u001b[0m \u001b[0;34m=\u001b[0m \u001b[0;34m[\u001b[0m\u001b[0;34m]\u001b[0m\u001b[0;34m,\u001b[0m \u001b[0;34m[\u001b[0m\u001b[0;34m]\u001b[0m\u001b[0;34m\u001b[0m\u001b[0;34m\u001b[0m\u001b[0m\n",
            "\u001b[0;32m/usr/local/lib/python3.10/dist-packages/torchmetrics/metric.py\u001b[0m in \u001b[0;36mforward\u001b[0;34m(self, *args, **kwargs)\u001b[0m\n\u001b[1;32m    234\u001b[0m             \u001b[0mself\u001b[0m\u001b[0;34m.\u001b[0m\u001b[0m_forward_cache\u001b[0m \u001b[0;34m=\u001b[0m \u001b[0mself\u001b[0m\u001b[0;34m.\u001b[0m\u001b[0m_forward_full_state_update\u001b[0m\u001b[0;34m(\u001b[0m\u001b[0;34m*\u001b[0m\u001b[0margs\u001b[0m\u001b[0;34m,\u001b[0m \u001b[0;34m**\u001b[0m\u001b[0mkwargs\u001b[0m\u001b[0;34m)\u001b[0m\u001b[0;34m\u001b[0m\u001b[0;34m\u001b[0m\u001b[0m\n\u001b[1;32m    235\u001b[0m         \u001b[0;32melse\u001b[0m\u001b[0;34m:\u001b[0m\u001b[0;34m\u001b[0m\u001b[0;34m\u001b[0m\u001b[0m\n\u001b[0;32m--> 236\u001b[0;31m             \u001b[0mself\u001b[0m\u001b[0;34m.\u001b[0m\u001b[0m_forward_cache\u001b[0m \u001b[0;34m=\u001b[0m \u001b[0mself\u001b[0m\u001b[0;34m.\u001b[0m\u001b[0m_forward_reduce_state_update\u001b[0m\u001b[0;34m(\u001b[0m\u001b[0;34m*\u001b[0m\u001b[0margs\u001b[0m\u001b[0;34m,\u001b[0m \u001b[0;34m**\u001b[0m\u001b[0mkwargs\u001b[0m\u001b[0;34m)\u001b[0m\u001b[0;34m\u001b[0m\u001b[0;34m\u001b[0m\u001b[0m\n\u001b[0m\u001b[1;32m    237\u001b[0m \u001b[0;34m\u001b[0m\u001b[0m\n\u001b[1;32m    238\u001b[0m         \u001b[0;32mreturn\u001b[0m \u001b[0mself\u001b[0m\u001b[0;34m.\u001b[0m\u001b[0m_forward_cache\u001b[0m\u001b[0;34m\u001b[0m\u001b[0;34m\u001b[0m\u001b[0m\n",
            "\u001b[0;32m/usr/local/lib/python3.10/dist-packages/torchmetrics/metric.py\u001b[0m in \u001b[0;36m_forward_reduce_state_update\u001b[0;34m(self, *args, **kwargs)\u001b[0m\n\u001b[1;32m    300\u001b[0m \u001b[0;34m\u001b[0m\u001b[0m\n\u001b[1;32m    301\u001b[0m         \u001b[0;31m# calculate batch state and compute batch value\u001b[0m\u001b[0;34m\u001b[0m\u001b[0;34m\u001b[0m\u001b[0m\n\u001b[0;32m--> 302\u001b[0;31m         \u001b[0mself\u001b[0m\u001b[0;34m.\u001b[0m\u001b[0mupdate\u001b[0m\u001b[0;34m(\u001b[0m\u001b[0;34m*\u001b[0m\u001b[0margs\u001b[0m\u001b[0;34m,\u001b[0m \u001b[0;34m**\u001b[0m\u001b[0mkwargs\u001b[0m\u001b[0;34m)\u001b[0m\u001b[0;34m\u001b[0m\u001b[0;34m\u001b[0m\u001b[0m\n\u001b[0m\u001b[1;32m    303\u001b[0m         \u001b[0mbatch_val\u001b[0m \u001b[0;34m=\u001b[0m \u001b[0mself\u001b[0m\u001b[0;34m.\u001b[0m\u001b[0mcompute\u001b[0m\u001b[0;34m(\u001b[0m\u001b[0;34m)\u001b[0m\u001b[0;34m\u001b[0m\u001b[0;34m\u001b[0m\u001b[0m\n\u001b[1;32m    304\u001b[0m \u001b[0;34m\u001b[0m\u001b[0m\n",
            "\u001b[0;32m/usr/local/lib/python3.10/dist-packages/torchmetrics/metric.py\u001b[0m in \u001b[0;36mwrapped_func\u001b[0;34m(*args, **kwargs)\u001b[0m\n\u001b[1;32m    388\u001b[0m             \u001b[0;32mwith\u001b[0m \u001b[0mtorch\u001b[0m\u001b[0;34m.\u001b[0m\u001b[0mset_grad_enabled\u001b[0m\u001b[0;34m(\u001b[0m\u001b[0mself\u001b[0m\u001b[0;34m.\u001b[0m\u001b[0m_enable_grad\u001b[0m\u001b[0;34m)\u001b[0m\u001b[0;34m:\u001b[0m\u001b[0;34m\u001b[0m\u001b[0;34m\u001b[0m\u001b[0m\n\u001b[1;32m    389\u001b[0m                 \u001b[0;32mtry\u001b[0m\u001b[0;34m:\u001b[0m\u001b[0;34m\u001b[0m\u001b[0;34m\u001b[0m\u001b[0m\n\u001b[0;32m--> 390\u001b[0;31m                     \u001b[0mupdate\u001b[0m\u001b[0;34m(\u001b[0m\u001b[0;34m*\u001b[0m\u001b[0margs\u001b[0m\u001b[0;34m,\u001b[0m \u001b[0;34m**\u001b[0m\u001b[0mkwargs\u001b[0m\u001b[0;34m)\u001b[0m\u001b[0;34m\u001b[0m\u001b[0;34m\u001b[0m\u001b[0m\n\u001b[0m\u001b[1;32m    391\u001b[0m                 \u001b[0;32mexcept\u001b[0m \u001b[0mRuntimeError\u001b[0m \u001b[0;32mas\u001b[0m \u001b[0merr\u001b[0m\u001b[0;34m:\u001b[0m\u001b[0;34m\u001b[0m\u001b[0;34m\u001b[0m\u001b[0m\n\u001b[1;32m    392\u001b[0m                     \u001b[0;32mif\u001b[0m \u001b[0;34m\"Expected all tensors to be on\"\u001b[0m \u001b[0;32min\u001b[0m \u001b[0mstr\u001b[0m\u001b[0;34m(\u001b[0m\u001b[0merr\u001b[0m\u001b[0;34m)\u001b[0m\u001b[0;34m:\u001b[0m\u001b[0;34m\u001b[0m\u001b[0;34m\u001b[0m\u001b[0m\n",
            "\u001b[0;31mTypeError\u001b[0m: RetrievalMetric.update() missing 1 required positional argument: 'indexes'"
          ]
        }
      ]
    },
    {
      "cell_type": "code",
      "source": [
        "from sklearn.neighbors import NearestNeighbors\n",
        "import numpy as np\n",
        "X = np.array([[-1, -1], [-2, -1], [-3, -2], [1, 1], [2, 1], [3, 2]])\n",
        "labels = np.array(['a','a','b','c','a','c'])\n",
        "nbrs = NearestNeighbors(n_neighbors=6, algorithm='brute').fit(X)\n",
        "distances, indices = nbrs.kneighbors(X)"
      ],
      "metadata": {
        "id": "ZQI6JVzVZNXd"
      },
      "execution_count": 32,
      "outputs": []
    },
    {
      "cell_type": "code",
      "source": [
        "print(distances)"
      ],
      "metadata": {
        "id": "6rAcqZFYcpwG",
        "outputId": "0d6c3750-65be-4a14-c33d-980fda9d7d4d",
        "colab": {
          "base_uri": "https://localhost:8080/"
        }
      },
      "execution_count": 33,
      "outputs": [
        {
          "output_type": "stream",
          "name": "stdout",
          "text": [
            "[[0.         1.         2.23606798 2.82842712 3.60555128 5.        ]\n",
            " [0.         1.         1.41421356 3.60555128 4.47213595 5.83095189]\n",
            " [0.         1.41421356 2.23606798 5.         5.83095189 7.21110255]\n",
            " [0.         1.         2.23606798 2.82842712 3.60555128 5.        ]\n",
            " [0.         1.         1.41421356 3.60555128 4.47213595 5.83095189]\n",
            " [0.         1.41421356 2.23606798 5.         5.83095189 7.21110255]]\n"
          ]
        }
      ]
    },
    {
      "cell_type": "code",
      "source": [
        "indices"
      ],
      "metadata": {
        "id": "kWS6xYvKctz9",
        "outputId": "9255266a-cd61-4c9a-c63d-c85341f7cb3d",
        "colab": {
          "base_uri": "https://localhost:8080/"
        }
      },
      "execution_count": 34,
      "outputs": [
        {
          "output_type": "execute_result",
          "data": {
            "text/plain": [
              "array([[0, 1, 2, 3, 4, 5],\n",
              "       [1, 0, 2, 3, 4, 5],\n",
              "       [2, 1, 0, 3, 4, 5],\n",
              "       [3, 4, 5, 0, 1, 2],\n",
              "       [4, 3, 5, 0, 1, 2],\n",
              "       [5, 4, 3, 0, 1, 2]])"
            ]
          },
          "metadata": {},
          "execution_count": 34
        }
      ]
    },
    {
      "cell_type": "code",
      "source": [
        "from scipy.spatial.distance import pdist, squareform, cdist"
      ],
      "metadata": {
        "id": "szIqI0s2dOdc"
      },
      "execution_count": 35,
      "outputs": []
    },
    {
      "cell_type": "code",
      "source": [
        "Y = pdist(X, 'euclidean')\n",
        "print(Y)\n",
        "print(Y.shape)"
      ],
      "metadata": {
        "id": "XToz_MZfeXjF",
        "outputId": "ffc0071a-68bf-4636-f7cc-af44b29b6b3e",
        "colab": {
          "base_uri": "https://localhost:8080/"
        }
      },
      "execution_count": 36,
      "outputs": [
        {
          "output_type": "stream",
          "name": "stdout",
          "text": [
            "[1.         2.23606798 2.82842712 3.60555128 5.         1.41421356\n",
            " 3.60555128 4.47213595 5.83095189 5.         5.83095189 7.21110255\n",
            " 1.         2.23606798 1.41421356]\n",
            "(15,)\n"
          ]
        }
      ]
    },
    {
      "cell_type": "code",
      "source": [
        "dists  = squareform(Y)\n",
        "print(dists)"
      ],
      "metadata": {
        "id": "x96Pchflefb_",
        "outputId": "9e2b807f-371a-49c9-f1e8-af0e9ad0d2a3",
        "colab": {
          "base_uri": "https://localhost:8080/"
        }
      },
      "execution_count": 37,
      "outputs": [
        {
          "output_type": "stream",
          "name": "stdout",
          "text": [
            "[[0.         1.         2.23606798 2.82842712 3.60555128 5.        ]\n",
            " [1.         0.         1.41421356 3.60555128 4.47213595 5.83095189]\n",
            " [2.23606798 1.41421356 0.         5.         5.83095189 7.21110255]\n",
            " [2.82842712 3.60555128 5.         0.         1.         2.23606798]\n",
            " [3.60555128 4.47213595 5.83095189 1.         0.         1.41421356]\n",
            " [5.         5.83095189 7.21110255 2.23606798 1.41421356 0.        ]]\n"
          ]
        }
      ]
    },
    {
      "cell_type": "code",
      "source": [
        "inds = np.argsort(dists, axis=1)\n",
        "print(inds)"
      ],
      "metadata": {
        "id": "YrO49M20egPk",
        "outputId": "81d89fe3-6804-4496-e9cc-e11b90069378",
        "colab": {
          "base_uri": "https://localhost:8080/"
        }
      },
      "execution_count": 38,
      "outputs": [
        {
          "output_type": "stream",
          "name": "stdout",
          "text": [
            "[[0 1 2 3 4 5]\n",
            " [1 0 2 3 4 5]\n",
            " [2 1 0 3 4 5]\n",
            " [3 4 5 0 1 2]\n",
            " [4 3 5 0 1 2]\n",
            " [5 4 3 0 1 2]]\n"
          ]
        }
      ]
    },
    {
      "cell_type": "code",
      "source": [
        "retr_mat = np.tile(labels, (X.shape[0],1))\n",
        "print(retr_mat)"
      ],
      "metadata": {
        "id": "QahteqMMlegF",
        "outputId": "4a84d4bc-c0e2-4bcc-91a6-922ae75ba1ba",
        "colab": {
          "base_uri": "https://localhost:8080/"
        }
      },
      "execution_count": 39,
      "outputs": [
        {
          "output_type": "stream",
          "name": "stdout",
          "text": [
            "[['a' 'a' 'b' 'c' 'a' 'c']\n",
            " ['a' 'a' 'b' 'c' 'a' 'c']\n",
            " ['a' 'a' 'b' 'c' 'a' 'c']\n",
            " ['a' 'a' 'b' 'c' 'a' 'c']\n",
            " ['a' 'a' 'b' 'c' 'a' 'c']\n",
            " ['a' 'a' 'b' 'c' 'a' 'c']]\n"
          ]
        }
      ]
    },
    {
      "cell_type": "code",
      "source": [
        "row_selector = np.transpose(np.tile(np.arange(X.shape[0]), (X.shape[0],1)))\n",
        "print(row_selector)"
      ],
      "metadata": {
        "id": "HbPczpUXpaud",
        "outputId": "658e0f93-2531-44fe-f973-69a090017e17",
        "colab": {
          "base_uri": "https://localhost:8080/"
        }
      },
      "execution_count": 40,
      "outputs": [
        {
          "output_type": "stream",
          "name": "stdout",
          "text": [
            "[[0 0 0 0 0 0]\n",
            " [1 1 1 1 1 1]\n",
            " [2 2 2 2 2 2]\n",
            " [3 3 3 3 3 3]\n",
            " [4 4 4 4 4 4]\n",
            " [5 5 5 5 5 5]]\n"
          ]
        }
      ]
    },
    {
      "cell_type": "code",
      "source": [
        "retr_mat = retr_mat[row_selector, inds]\n",
        "print(retr_mat)"
      ],
      "metadata": {
        "id": "TmC-j2XLpi0l",
        "outputId": "8d7c1b96-ae23-4536-89b7-f88c3b70aa4d",
        "colab": {
          "base_uri": "https://localhost:8080/"
        }
      },
      "execution_count": 41,
      "outputs": [
        {
          "output_type": "stream",
          "name": "stdout",
          "text": [
            "[['a' 'a' 'b' 'c' 'a' 'c']\n",
            " ['a' 'a' 'b' 'c' 'a' 'c']\n",
            " ['b' 'a' 'a' 'c' 'a' 'c']\n",
            " ['c' 'a' 'c' 'a' 'a' 'b']\n",
            " ['a' 'c' 'c' 'a' 'a' 'b']\n",
            " ['c' 'a' 'c' 'a' 'a' 'b']]\n"
          ]
        }
      ]
    },
    {
      "cell_type": "code",
      "source": [],
      "metadata": {
        "id": "wvorwntO0rr6"
      },
      "execution_count": null,
      "outputs": []
    },
    {
      "cell_type": "code",
      "source": [],
      "metadata": {
        "id": "Jc8Odh5j0sRf"
      },
      "execution_count": null,
      "outputs": []
    },
    {
      "cell_type": "code",
      "source": [],
      "metadata": {
        "id": "jqJ8JUes0syN"
      },
      "execution_count": null,
      "outputs": []
    },
    {
      "cell_type": "code",
      "source": [
        "rel_matrix = retr_mat == np.atleast_2d(labels).T\n",
        "print(rel_matrix)"
      ],
      "metadata": {
        "id": "gMcbvj4bpoiN",
        "outputId": "e0cb6beb-b029-47fd-df69-4d9cdca5095c",
        "colab": {
          "base_uri": "https://localhost:8080/"
        }
      },
      "execution_count": 42,
      "outputs": [
        {
          "output_type": "stream",
          "name": "stdout",
          "text": [
            "[[ True  True False False  True False]\n",
            " [ True  True False False  True False]\n",
            " [ True False False False False False]\n",
            " [ True False  True False False False]\n",
            " [ True False False  True  True False]\n",
            " [ True False  True False False False]]\n"
          ]
        }
      ]
    },
    {
      "cell_type": "code",
      "source": [
        "class IterativeMean(object):\n",
        "    '''\n",
        "    Class for iteratively computing a mean. With every new value (@see: _add_value)\n",
        "    the mean will be updated \n",
        "    '''\n",
        "    \n",
        "    def __init__(self, mean_init=0.0):\n",
        "        self.__mean = mean_init\n",
        "        self.__N = 0.0\n",
        "        \n",
        "    def add_value(self, value):\n",
        "        '''\n",
        "        Updates the mean with respect to value\n",
        "        \n",
        "        Args:\n",
        "            value (float): The value that will be incorporated in the mean\n",
        "        '''  \n",
        "        self.__mean = (self.__N / (self.__N + 1)) * self.__mean + (1.0 / (self.__N + 1)) * value\n",
        "        self.__N += 1\n",
        "        \n",
        "    def get_mean(self):\n",
        "        return self.__mean\n",
        "    \n",
        "    def reset(self):\n",
        "        self.__mean = 0.0\n",
        "        self.__N = 0.0\n",
        "         \n",
        "\n",
        "class MeanAveragePrecision(IterativeMean):\n",
        "    '''\n",
        "    Computes average precision values and iteratively updates their mean\n",
        "    '''\n",
        "    def __init__(self):\n",
        "        super(MeanAveragePrecision, self).__init__()        \n",
        "        \n",
        "    def average_precision(self, ret_vec_relevance, gt_relevance_num=None):\n",
        "        '''\n",
        "        Computes the average precision and updates the mean average precision\n",
        "        \n",
        "        Args:\n",
        "            ret_vec_relevance (1d-ndarray): array containing ground truth (gt) relevance values\n",
        "            gt_relevance_num (int): The number of relevant samples in retrieval. If None the sum\n",
        "                                    over the retrieval gt list is used.\n",
        "        '''\n",
        "        ret_vec_cumsum = np.cumsum(ret_vec_relevance, dtype=float)\n",
        "        ret_vec_range = np.arange(1, ret_vec_relevance.size + 1)\n",
        "        ret_vec_precision = ret_vec_cumsum / ret_vec_range\n",
        "        \n",
        "        if gt_relevance_num is None:\n",
        "            n_relevance = ret_vec_relevance.sum()\n",
        "        else:\n",
        "            n_relevance = gt_relevance_num\n",
        "\n",
        "        if n_relevance > 0:\n",
        "            ret_vec_ap = (ret_vec_precision * ret_vec_relevance).sum() / n_relevance\n",
        "        else:\n",
        "            ret_vec_ap = 0.0\n",
        "        \n",
        "        super(MeanAveragePrecision, self).add_value(ret_vec_ap)\n",
        "        \n",
        "        return ret_vec_ap"
      ],
      "metadata": {
        "id": "-oCr3THzpzMW"
      },
      "execution_count": 43,
      "outputs": []
    },
    {
      "cell_type": "code",
      "source": [
        "map_calc = MeanAveragePrecision()\n",
        "avg_precs = np.array([map_calc.average_precision(row) for row in rel_matrix])\n",
        "mAP = np.mean(avg_precs)"
      ],
      "metadata": {
        "id": "E2qyRG8Rp-OM"
      },
      "execution_count": 44,
      "outputs": []
    },
    {
      "cell_type": "code",
      "source": [
        "mAP"
      ],
      "metadata": {
        "id": "Eno5u7sUqHec",
        "outputId": "c52e4208-afe9-4245-c26c-e6cdfd33cad6",
        "colab": {
          "base_uri": "https://localhost:8080/"
        }
      },
      "execution_count": 45,
      "outputs": [
        {
          "output_type": "execute_result",
          "data": {
            "text/plain": [
              "0.85"
            ]
          },
          "metadata": {},
          "execution_count": 45
        }
      ]
    },
    {
      "cell_type": "code",
      "source": [
        "avg_precs"
      ],
      "metadata": {
        "id": "AU5beX_dqJm0",
        "outputId": "a478c5ba-cfb2-4c15-fb9e-7fb5aa5ff879",
        "colab": {
          "base_uri": "https://localhost:8080/"
        }
      },
      "execution_count": 46,
      "outputs": [
        {
          "output_type": "execute_result",
          "data": {
            "text/plain": [
              "array([0.86666667, 0.86666667, 1.        , 0.83333333, 0.7       ,\n",
              "       0.83333333])"
            ]
          },
          "metadata": {},
          "execution_count": 46
        }
      ]
    },
    {
      "cell_type": "code",
      "source": [
        "import torchvision.models as models\n",
        "resnet18 = models.resnet18(pretrained=True)\n",
        "print(resnet18)"
      ],
      "metadata": {
        "id": "pnUzO695qL8l",
        "outputId": "a98a85e0-37d0-4baf-fe1e-96b867b445a0",
        "colab": {
          "base_uri": "https://localhost:8080/"
        }
      },
      "execution_count": 47,
      "outputs": [
        {
          "output_type": "stream",
          "name": "stderr",
          "text": [
            "/usr/local/lib/python3.10/dist-packages/torchvision/models/_utils.py:208: UserWarning: The parameter 'pretrained' is deprecated since 0.13 and may be removed in the future, please use 'weights' instead.\n",
            "  warnings.warn(\n",
            "/usr/local/lib/python3.10/dist-packages/torchvision/models/_utils.py:223: UserWarning: Arguments other than a weight enum or `None` for 'weights' are deprecated since 0.13 and may be removed in the future. The current behavior is equivalent to passing `weights=ResNet18_Weights.IMAGENET1K_V1`. You can also use `weights=ResNet18_Weights.DEFAULT` to get the most up-to-date weights.\n",
            "  warnings.warn(msg)\n",
            "Downloading: \"https://download.pytorch.org/models/resnet18-f37072fd.pth\" to /root/.cache/torch/hub/checkpoints/resnet18-f37072fd.pth\n",
            "100%|██████████| 44.7M/44.7M [00:00<00:00, 88.3MB/s]\n"
          ]
        },
        {
          "output_type": "stream",
          "name": "stdout",
          "text": [
            "ResNet(\n",
            "  (conv1): Conv2d(3, 64, kernel_size=(7, 7), stride=(2, 2), padding=(3, 3), bias=False)\n",
            "  (bn1): BatchNorm2d(64, eps=1e-05, momentum=0.1, affine=True, track_running_stats=True)\n",
            "  (relu): ReLU(inplace=True)\n",
            "  (maxpool): MaxPool2d(kernel_size=3, stride=2, padding=1, dilation=1, ceil_mode=False)\n",
            "  (layer1): Sequential(\n",
            "    (0): BasicBlock(\n",
            "      (conv1): Conv2d(64, 64, kernel_size=(3, 3), stride=(1, 1), padding=(1, 1), bias=False)\n",
            "      (bn1): BatchNorm2d(64, eps=1e-05, momentum=0.1, affine=True, track_running_stats=True)\n",
            "      (relu): ReLU(inplace=True)\n",
            "      (conv2): Conv2d(64, 64, kernel_size=(3, 3), stride=(1, 1), padding=(1, 1), bias=False)\n",
            "      (bn2): BatchNorm2d(64, eps=1e-05, momentum=0.1, affine=True, track_running_stats=True)\n",
            "    )\n",
            "    (1): BasicBlock(\n",
            "      (conv1): Conv2d(64, 64, kernel_size=(3, 3), stride=(1, 1), padding=(1, 1), bias=False)\n",
            "      (bn1): BatchNorm2d(64, eps=1e-05, momentum=0.1, affine=True, track_running_stats=True)\n",
            "      (relu): ReLU(inplace=True)\n",
            "      (conv2): Conv2d(64, 64, kernel_size=(3, 3), stride=(1, 1), padding=(1, 1), bias=False)\n",
            "      (bn2): BatchNorm2d(64, eps=1e-05, momentum=0.1, affine=True, track_running_stats=True)\n",
            "    )\n",
            "  )\n",
            "  (layer2): Sequential(\n",
            "    (0): BasicBlock(\n",
            "      (conv1): Conv2d(64, 128, kernel_size=(3, 3), stride=(2, 2), padding=(1, 1), bias=False)\n",
            "      (bn1): BatchNorm2d(128, eps=1e-05, momentum=0.1, affine=True, track_running_stats=True)\n",
            "      (relu): ReLU(inplace=True)\n",
            "      (conv2): Conv2d(128, 128, kernel_size=(3, 3), stride=(1, 1), padding=(1, 1), bias=False)\n",
            "      (bn2): BatchNorm2d(128, eps=1e-05, momentum=0.1, affine=True, track_running_stats=True)\n",
            "      (downsample): Sequential(\n",
            "        (0): Conv2d(64, 128, kernel_size=(1, 1), stride=(2, 2), bias=False)\n",
            "        (1): BatchNorm2d(128, eps=1e-05, momentum=0.1, affine=True, track_running_stats=True)\n",
            "      )\n",
            "    )\n",
            "    (1): BasicBlock(\n",
            "      (conv1): Conv2d(128, 128, kernel_size=(3, 3), stride=(1, 1), padding=(1, 1), bias=False)\n",
            "      (bn1): BatchNorm2d(128, eps=1e-05, momentum=0.1, affine=True, track_running_stats=True)\n",
            "      (relu): ReLU(inplace=True)\n",
            "      (conv2): Conv2d(128, 128, kernel_size=(3, 3), stride=(1, 1), padding=(1, 1), bias=False)\n",
            "      (bn2): BatchNorm2d(128, eps=1e-05, momentum=0.1, affine=True, track_running_stats=True)\n",
            "    )\n",
            "  )\n",
            "  (layer3): Sequential(\n",
            "    (0): BasicBlock(\n",
            "      (conv1): Conv2d(128, 256, kernel_size=(3, 3), stride=(2, 2), padding=(1, 1), bias=False)\n",
            "      (bn1): BatchNorm2d(256, eps=1e-05, momentum=0.1, affine=True, track_running_stats=True)\n",
            "      (relu): ReLU(inplace=True)\n",
            "      (conv2): Conv2d(256, 256, kernel_size=(3, 3), stride=(1, 1), padding=(1, 1), bias=False)\n",
            "      (bn2): BatchNorm2d(256, eps=1e-05, momentum=0.1, affine=True, track_running_stats=True)\n",
            "      (downsample): Sequential(\n",
            "        (0): Conv2d(128, 256, kernel_size=(1, 1), stride=(2, 2), bias=False)\n",
            "        (1): BatchNorm2d(256, eps=1e-05, momentum=0.1, affine=True, track_running_stats=True)\n",
            "      )\n",
            "    )\n",
            "    (1): BasicBlock(\n",
            "      (conv1): Conv2d(256, 256, kernel_size=(3, 3), stride=(1, 1), padding=(1, 1), bias=False)\n",
            "      (bn1): BatchNorm2d(256, eps=1e-05, momentum=0.1, affine=True, track_running_stats=True)\n",
            "      (relu): ReLU(inplace=True)\n",
            "      (conv2): Conv2d(256, 256, kernel_size=(3, 3), stride=(1, 1), padding=(1, 1), bias=False)\n",
            "      (bn2): BatchNorm2d(256, eps=1e-05, momentum=0.1, affine=True, track_running_stats=True)\n",
            "    )\n",
            "  )\n",
            "  (layer4): Sequential(\n",
            "    (0): BasicBlock(\n",
            "      (conv1): Conv2d(256, 512, kernel_size=(3, 3), stride=(2, 2), padding=(1, 1), bias=False)\n",
            "      (bn1): BatchNorm2d(512, eps=1e-05, momentum=0.1, affine=True, track_running_stats=True)\n",
            "      (relu): ReLU(inplace=True)\n",
            "      (conv2): Conv2d(512, 512, kernel_size=(3, 3), stride=(1, 1), padding=(1, 1), bias=False)\n",
            "      (bn2): BatchNorm2d(512, eps=1e-05, momentum=0.1, affine=True, track_running_stats=True)\n",
            "      (downsample): Sequential(\n",
            "        (0): Conv2d(256, 512, kernel_size=(1, 1), stride=(2, 2), bias=False)\n",
            "        (1): BatchNorm2d(512, eps=1e-05, momentum=0.1, affine=True, track_running_stats=True)\n",
            "      )\n",
            "    )\n",
            "    (1): BasicBlock(\n",
            "      (conv1): Conv2d(512, 512, kernel_size=(3, 3), stride=(1, 1), padding=(1, 1), bias=False)\n",
            "      (bn1): BatchNorm2d(512, eps=1e-05, momentum=0.1, affine=True, track_running_stats=True)\n",
            "      (relu): ReLU(inplace=True)\n",
            "      (conv2): Conv2d(512, 512, kernel_size=(3, 3), stride=(1, 1), padding=(1, 1), bias=False)\n",
            "      (bn2): BatchNorm2d(512, eps=1e-05, momentum=0.1, affine=True, track_running_stats=True)\n",
            "    )\n",
            "  )\n",
            "  (avgpool): AdaptiveAvgPool2d(output_size=(1, 1))\n",
            "  (fc): Linear(in_features=512, out_features=1000, bias=True)\n",
            ")\n"
          ]
        }
      ]
    },
    {
      "cell_type": "code",
      "source": [
        "class Img2VecResnet18():\n",
        "    def __init__(self):\n",
        "        self.device = torch.device(\"cpu\")\n",
        "        self.numberFeatures = 512        \n",
        "        self.model, self.featureLayer = self.feature_layer()\n",
        "        self.model = self.model.to(self.device)\n",
        "        self.model.eval()\n",
        "        self.toTensor = transforms.ToTensor()\n",
        "        self.normalize = transforms.Normalize(mean=[0.485, 0.456, 0.406], std=[0.229, 0.224, 0.225])\n",
        "    def feature_layer(self):\n",
        "        model = models.resnet18(pretrained=True)\n",
        "        layer = model._modules.get('avgpool')\n",
        "        self.layer_output_size = 512\n",
        "    \n",
        "        return model, layer\n",
        "    def getVec(self, img):\n",
        "        image = self.normalize(self.toTensor(img)).unsqueeze(0).to(self.device)\n",
        "        embedding = torch.zeros(1, self.numberFeatures, 1, 1)\n",
        "        def copyData(m, i, o): embedding.copy_(o.data)\n",
        "        h = self.featureLayer.register_forward_hook(copyData)\n",
        "        self.model(image)\n",
        "        h.remove()\n",
        "        return embedding.numpy()[0, :, 0, 0]"
      ],
      "metadata": {
        "id": "Z09PRYm-1YVl"
      },
      "execution_count": 49,
      "outputs": []
    },
    {
      "cell_type": "code",
      "source": [],
      "metadata": {
        "id": "bTguiZTcpFl3"
      },
      "execution_count": null,
      "outputs": []
    }
  ],
  "metadata": {
    "kernelspec": {
      "display_name": "Python 3",
      "language": "python",
      "name": "python3"
    },
    "language_info": {
      "codemirror_mode": {
        "name": "ipython",
        "version": 3
      },
      "file_extension": ".py",
      "mimetype": "text/x-python",
      "name": "python",
      "nbconvert_exporter": "python",
      "pygments_lexer": "ipython3",
      "version": "3.7.9"
    },
    "colab": {
      "provenance": [],
      "gpuType": "T4"
    },
    "gpuClass": "standard"
  },
  "nbformat": 4,
  "nbformat_minor": 0
}